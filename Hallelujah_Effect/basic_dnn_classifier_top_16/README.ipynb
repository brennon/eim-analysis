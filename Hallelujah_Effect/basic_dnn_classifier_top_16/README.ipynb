{
 "cells": [
  {
   "cell_type": "markdown",
   "metadata": {
    "deletable": true,
    "editable": true
   },
   "source": [
    "This set of notebooks trains a deep classifier (`DNNClassifier`) on the following features:\n",
    "\n",
    "1. music_pref_none\n",
    "2. nationality_indicator\n",
    "3. thorough\n",
    "4. stress\n",
    "5. nervous\n",
    "6. music_pref_rock\n",
    "7. musical_expertise\n",
    "8. fault\n",
    "9. activity\n",
    "10. trusting\n",
    "11. lazy\n",
    "12. tension\n",
    "13. hearing_impairments\n",
    "14. familiarity\n",
    "15. music_pref_world\n",
    "16. imagination\n",
    "\n",
    "These are the top sixteen most heavily weighted features identified by LASSO regression.\n",
    "\n",
    "The following values for configuring the `DNNClassifer` were used:\n",
    "\n",
    "    hidden_units=\"128 32 4\",\n",
    "    model_dir=None,\n",
    "    n_classes=2,\n",
    "    weight_column=None,\n",
    "    label_vocabulary=None,\n",
    "    optimizer='Adagrad',\n",
    "    activation_fn=tf.nn.relu,\n",
    "    dropout=None,\n",
    "    input_layer_partitioner=None,\n",
    "    loss_reduction=losses.Reduction.SUM\n",
    "\n",
    "Batch training was performed (n = 303) for 25,000 epochs. Evaluation results from this training were:\n",
    "\n",
    "- accuracy = 0.55737704\n",
    "- accuracy baseline = 0.6721312\n",
    "- auc = 0.4548781\n",
    "- auc precision recall = 0.32017106\n",
    "- average loss = 9.507423\n",
    "- f1 score = 0.12903225\n",
    "- false negatives = 18.0\n",
    "- false positives = 9.0\n",
    "- global step = 25004\n",
    "- label/mean = 0.32786885\n",
    "- loss = 579.9528\n",
    "- precision = 0.18181819\n",
    "- prediction/mean = 0.17733473\n",
    "- recall = 0.1\n",
    "- true negatives = 32.0\n",
    "- true positives = 2.0\n",
    "\n",
    "The model is located at `gs://eim-muse/analysis/hallelujah-effect/models/basic_dnn_classifier_top_16`"
   ]
  },
  {
   "cell_type": "code",
   "execution_count": null,
   "metadata": {
    "collapsed": true,
    "deletable": true,
    "editable": true
   },
   "outputs": [],
   "source": []
  }
 ],
 "metadata": {
  "kernelspec": {
   "display_name": "Python 2",
   "language": "python",
   "name": "python2"
  },
  "language_info": {
   "codemirror_mode": {
    "name": "ipython",
    "version": 2
   },
   "file_extension": ".py",
   "mimetype": "text/x-python",
   "name": "python",
   "nbconvert_exporter": "python",
   "pygments_lexer": "ipython2",
   "version": "2.7.15"
  }
 },
 "nbformat": 4,
 "nbformat_minor": 2
}
