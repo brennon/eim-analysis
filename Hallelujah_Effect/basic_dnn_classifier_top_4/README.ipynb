{
 "cells": [
  {
   "cell_type": "markdown",
   "metadata": {
    "deletable": true,
    "editable": true
   },
   "source": [
    "This set of notebooks trains a deep classifier (`DNNClassifier`) on the following features:\n",
    "\n",
    "- stress\n",
    "- thorough\n",
    "- music_pref_none\n",
    "- nationality\n",
    "\n",
    "These are the top four most heavily weighted features identified by LASSO regression.\n",
    "\n",
    "The following values for configuring the `DNNClassifer` were used:\n",
    "\n",
    "    hidden_units=\"128 32 4\",\n",
    "    model_dir=None,\n",
    "    n_classes=2,\n",
    "    weight_column=None,\n",
    "    label_vocabulary=None,\n",
    "    optimizer='Adagrad',\n",
    "    activation_fn=tf.nn.relu,\n",
    "    dropout=None,\n",
    "    input_layer_partitioner=None,\n",
    "    loss_reduction=losses.Reduction.SUM\n",
    "\n",
    "Batch training was performed (n = 303) for 25,000 epochs. Evaluation results from this training were:\n",
    "\n",
    "- Accuracy = 0.704918 \n",
    "- Accuracy baseline = 0.6721312 \n",
    "- AUC = 0.41768298 \n",
    "- AUC-PR = 0.38113213 \n",
    "- Average loss = 3.2270088 \n",
    "- F1 score = 0.18181819 \n",
    "- False negatives = 18.0 \n",
    "- False positives = 0.0 \n",
    "- Label/mean = 0.32786885 \n",
    "- Loss = 196.84753 \n",
    "- Precision = 1.0 \n",
    "- Prediction/mean = 0.2266898 \n",
    "- Recall = 0.1 \n",
    "- True negatives = 41.0 \n",
    "- True positives = 2.0\n",
    "\n",
    "The model is located at `gs://eim-muse/analysis/hallelujah-effect/models/basic_dnn_classifier_top_4`"
   ]
  },
  {
   "cell_type": "code",
   "execution_count": null,
   "metadata": {
    "collapsed": true,
    "deletable": true,
    "editable": true
   },
   "outputs": [],
   "source": []
  }
 ],
 "metadata": {
  "kernelspec": {
   "display_name": "Python 2",
   "language": "python",
   "name": "python2"
  },
  "language_info": {
   "codemirror_mode": {
    "name": "ipython",
    "version": 2
   },
   "file_extension": ".py",
   "mimetype": "text/x-python",
   "name": "python",
   "nbconvert_exporter": "python",
   "pygments_lexer": "ipython2",
   "version": "2.7.15"
  }
 },
 "nbformat": 4,
 "nbformat_minor": 2
}
