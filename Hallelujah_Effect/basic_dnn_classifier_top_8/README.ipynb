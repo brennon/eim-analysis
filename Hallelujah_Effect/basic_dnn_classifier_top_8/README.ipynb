{
 "cells": [
  {
   "cell_type": "markdown",
   "metadata": {
    "deletable": true,
    "editable": true
   },
   "source": [
    "This set of notebooks trains a deep classifier (`DNNClassifier`) on the following features:\n",
    "\n",
    "1. music_pref_none\n",
    "2. nationality\n",
    "3. thorough\n",
    "4. stress\n",
    "5. nervous\n",
    "6. music_pref_rock\n",
    "7. musical_expertise\n",
    "8. fault\n",
    "\n",
    "These are the top eight most heavily weighted features identified by LASSO regression.\n",
    "\n",
    "The following values for configuring the `DNNClassifer` were used:\n",
    "\n",
    "    hidden_units=\"128 32 4\",\n",
    "    model_dir=None,\n",
    "    n_classes=2,\n",
    "    weight_column=None,\n",
    "    label_vocabulary=None,\n",
    "    optimizer='Adagrad',\n",
    "    activation_fn=tf.nn.relu,\n",
    "    dropout=None,\n",
    "    input_layer_partitioner=None,\n",
    "    loss_reduction=losses.Reduction.SUM\n",
    "\n",
    "Batch training was performed (n = 303) for 25,000 epochs. Evaluation results from this training were:\n",
    "\n",
    "- Accuracy = 0.57377046\n",
    "- Accuracy baseline = 0.6721312\n",
    "- AUC = 0.48536584\n",
    "- AUC-PR = 0.3244816\n",
    "- Average loss = 4.636056\n",
    "- F1 score = 0.071428575\n",
    "- False negatives = 19.0\n",
    "- False positives = 7.0\n",
    "- Label/mean = 0.32786885\n",
    "- Loss = 282.7994\n",
    "- Precision = 0.125\n",
    "- Prediction/mean = 0.20698781\n",
    "- Recall = 0.05\n",
    "- True negatives = 34.0\n",
    "- True positives = 1.0\n",
    "\n",
    "The model is located at `gs://eim-muse/analysis/hallelujah-effect/models/basic_dnn_classifier_top_8`"
   ]
  },
  {
   "cell_type": "code",
   "execution_count": null,
   "metadata": {
    "collapsed": true,
    "deletable": true,
    "editable": true
   },
   "outputs": [],
   "source": []
  }
 ],
 "metadata": {
  "kernelspec": {
   "display_name": "Python 2",
   "language": "python",
   "name": "python2"
  },
  "language_info": {
   "codemirror_mode": {
    "name": "ipython",
    "version": 2
   },
   "file_extension": ".py",
   "mimetype": "text/x-python",
   "name": "python",
   "nbconvert_exporter": "python",
   "pygments_lexer": "ipython2",
   "version": "2.7.15"
  }
 },
 "nbformat": 4,
 "nbformat_minor": 2
}
