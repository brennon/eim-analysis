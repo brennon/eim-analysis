{
 "cells": [
  {
   "cell_type": "markdown",
   "metadata": {
    "deletable": true,
    "editable": true
   },
   "source": [
    "This set of notebooks trains a deep classifier (`DNNClassifier`) on the following features:\n",
    "\n",
    " 1. music_pref_none\n",
    " 2. nationality_indicator\n",
    " 3. thorough\n",
    " 4. stress\n",
    " 5. nervous\n",
    " 6. music_pref_rock\n",
    " 7. musical_expertise\n",
    " 8. fault\n",
    " 9. activity\n",
    " 10. trusting\n",
    " 11. lazy\n",
    " 12. tension\n",
    " 13. hearing_impairments\n",
    " 14. familiarity\n",
    " 15. music_pref_world\n",
    " 16. imagination\n",
    " 17. music_pref_hiphop\n",
    " 18. like_dislike\n",
    " 19. bias_weights (unused)\n",
    " 20. outgoing\n",
    " 21. location_indicator\n",
    " 22. music_pref_folk\n",
    " 23. music_pref_traditional_irish\n",
    " 24. positivity\n",
    " 25. sex_indicator\n",
    "\n",
    "These are the top twenty-four most heavily weighted features identified by LASSO regression.\n",
    "\n",
    "The following values for configuring the `DNNClassifer` were used:\n",
    "\n",
    "    hidden_units=\"128 32 4\",\n",
    "    model_dir=None,\n",
    "    n_classes=2,\n",
    "    weight_column=None,\n",
    "    label_vocabulary=None,\n",
    "    optimizer='Adagrad',\n",
    "    activation_fn=tf.nn.relu,\n",
    "    dropout=None,\n",
    "    input_layer_partitioner=None,\n",
    "    loss_reduction=losses.Reduction.SUM\n",
    "\n",
    "Batch training was performed (n = 303) for 25,000 epochs. Evaluation results from this training were:\n",
    "\n",
    "- accuracy = 0.5409836\n",
    "- accuracy baseline = 0.6721312\n",
    "- auc = 0.4347561\n",
    "- auc precision recall = 0.28552037\n",
    "- average loss = 9.090888\n",
    "- f1 score = 0.06666667\n",
    "- false negatives = 19.0\n",
    "- false positives = 9.0\n",
    "- global step = 25006\n",
    "- label/mean = 0.32786885\n",
    "- loss = 554.5442\n",
    "- precision = 0.1\n",
    "- prediction/mean = 0.14751263\n",
    "- recall = 0.05\n",
    "- true negatives = 32.0\n",
    "- true positives = 1.0\n",
    "\n",
    "The model is located at `gs://eim-muse/analysis/hallelujah-effect/models/basic_dnn_classifier_top_4`"
   ]
  },
  {
   "cell_type": "code",
   "execution_count": null,
   "metadata": {
    "collapsed": true,
    "deletable": true,
    "editable": true
   },
   "outputs": [],
   "source": []
  }
 ],
 "metadata": {
  "kernelspec": {
   "display_name": "Python 2",
   "language": "python",
   "name": "python2"
  },
  "language_info": {
   "codemirror_mode": {
    "name": "ipython",
    "version": 2
   },
   "file_extension": ".py",
   "mimetype": "text/x-python",
   "name": "python",
   "nbconvert_exporter": "python",
   "pygments_lexer": "ipython2",
   "version": "2.7.15"
  }
 },
 "nbformat": 4,
 "nbformat_minor": 2
}
