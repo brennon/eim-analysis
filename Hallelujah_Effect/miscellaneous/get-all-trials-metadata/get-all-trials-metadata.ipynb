{
 "cells": [
  {
   "cell_type": "code",
   "execution_count": 42,
   "metadata": {},
   "outputs": [],
   "source": [
    "# import os.path\n",
    "# import re\n",
    "# import pprint as pp\n",
    "import yaml\n",
    "import pathlib\n",
    "\n",
    "import bson\n",
    "# import seaborn\n",
    "import pandas as pd\n",
    "# import numpy as np\n",
    "# import matplotlib.pyplot as plt\n",
    "# import matplotlib.patches as patches\n",
    "# from matplotlib.backends.backend_pdf import PdfPages\n",
    "# import scipy.signal\n",
    "from pymongo import MongoClient\n",
    "# from gridfs import GridFS\n",
    "\n",
    "# import eim\n",
    "\n",
    "# %matplotlib inline\n",
    "# %load_ext autoreload\n",
    "# %autoreload 2"
   ]
  },
  {
   "cell_type": "markdown",
   "metadata": {},
   "source": [
    "# Setup connection to the database"
   ]
  },
  {
   "cell_type": "code",
   "execution_count": 6,
   "metadata": {},
   "outputs": [],
   "source": [
    "creds_path = pathlib.Path('/home/paperspace/eim-creds.yml')\n",
    "with open(creds_path, 'r') as stream:\n",
    "    try:\n",
    "        creds = yaml.load(stream)\n",
    "    except yaml.YAMLError as exc:\n",
    "        print(exc)"
   ]
  },
  {
   "cell_type": "code",
   "execution_count": 7,
   "metadata": {},
   "outputs": [],
   "source": [
    "client = MongoClient()\n",
    "client = MongoClient(host='eim-data.musicsensorsemotion.com', \n",
    "                     port=27017, \n",
    "                     username=creds['username'], \n",
    "                     password=creds['password'], \n",
    "                     authSource='admin', \n",
    "                     ssl=True)\n",
    "db = client.eim"
   ]
  },
  {
   "cell_type": "code",
   "execution_count": 69,
   "metadata": {},
   "outputs": [],
   "source": [
    "all_trials = db.trials.find()"
   ]
  },
  {
   "cell_type": "code",
   "execution_count": 70,
   "metadata": {},
   "outputs": [],
   "source": [
    "def get_trial_dict(trial, media_idx):\n",
    "    media = db.media.find_one({'_id': bson.ObjectId(trial['media'][media_idx])})\n",
    "    metadata = trial['metadata']\n",
    "    return {\n",
    "        'location': metadata['location'],\n",
    "        'date': trial['date'].strftime('%d-%b-%Y'),\n",
    "        'terminal': metadata['terminal'],\n",
    "        'session': metadata['session_number'],\n",
    "        'media_label': media['label'],\n",
    "        'trial_id': str(trial['_id']),\n",
    "        'signal_id': str(trial['signals'][media_idx])\n",
    "    }"
   ]
  },
  {
   "cell_type": "code",
   "execution_count": 71,
   "metadata": {},
   "outputs": [],
   "source": [
    "trial_dicts = []\n",
    "\n",
    "for t in all_trials:\n",
    "    for i in range(len(t['media'])):\n",
    "        try:\n",
    "            trial_dicts.append(get_trial_dict(t, i))\n",
    "        except:\n",
    "            pass"
   ]
  },
  {
   "cell_type": "code",
   "execution_count": 72,
   "metadata": {},
   "outputs": [],
   "source": [
    "trials_df = pd.DataFrame(trial_dicts)"
   ]
  },
  {
   "cell_type": "code",
   "execution_count": 73,
   "metadata": {},
   "outputs": [
    {
     "data": {
      "text/plain": [
       "(57446, 7)"
      ]
     },
     "execution_count": 73,
     "metadata": {},
     "output_type": "execute_result"
    }
   ],
   "source": [
    "trials_df.shape"
   ]
  },
  {
   "cell_type": "code",
   "execution_count": 74,
   "metadata": {},
   "outputs": [],
   "source": [
    "trials_df.to_csv('./all_trials_metadata.csv')"
   ]
  }
 ],
 "metadata": {
  "kernelspec": {
   "display_name": "Python 3",
   "language": "python",
   "name": "python3"
  },
  "language_info": {
   "codemirror_mode": {
    "name": "ipython",
    "version": 3
   },
   "file_extension": ".py",
   "mimetype": "text/x-python",
   "name": "python",
   "nbconvert_exporter": "python",
   "pygments_lexer": "ipython3",
   "version": "3.7.1"
  }
 },
 "nbformat": 4,
 "nbformat_minor": 2
}
