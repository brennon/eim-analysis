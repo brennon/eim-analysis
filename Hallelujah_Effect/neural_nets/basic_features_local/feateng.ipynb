{
 "cells": [
  {
   "cell_type": "markdown",
   "metadata": {},
   "source": [
    "<h1> Feature Engineering </h1>\n",
    "\n",
    "In this notebook, you will learn how to incorporate feature engineering into your pipeline.\n",
    "<ul>\n",
    "<li> Working with feature columns </li>\n",
    "<li> Adding feature crosses in TensorFlow </li>\n",
    "<li> Reading data from BigQuery </li>\n",
    "<li> Creating datasets using Dataflow </li>\n",
    "<li> Using a wide-and-deep model </li>\n",
    "</ul>"
   ]
  },
  {
   "cell_type": "code",
   "execution_count": 2,
   "metadata": {},
   "outputs": [
    {
     "ename": "ModuleNotFoundError",
     "evalue": "No module named 'apache_beam'",
     "output_type": "error",
     "traceback": [
      "\u001b[0;31m---------------------------------------------------------------------------\u001b[0m",
      "\u001b[0;31mModuleNotFoundError\u001b[0m                       Traceback (most recent call last)",
      "\u001b[0;32m<ipython-input-2-cddf6aa4a3ab>\u001b[0m in \u001b[0;36m<module>\u001b[0;34m()\u001b[0m\n\u001b[1;32m      1\u001b[0m \u001b[0;32mimport\u001b[0m \u001b[0mtensorflow\u001b[0m \u001b[0;32mas\u001b[0m \u001b[0mtf\u001b[0m\u001b[0;34m\u001b[0m\u001b[0m\n\u001b[0;32m----> 2\u001b[0;31m \u001b[0;32mimport\u001b[0m \u001b[0mapache_beam\u001b[0m \u001b[0;32mas\u001b[0m \u001b[0mbeam\u001b[0m\u001b[0;34m\u001b[0m\u001b[0m\n\u001b[0m\u001b[1;32m      3\u001b[0m \u001b[0;32mimport\u001b[0m \u001b[0mshutil\u001b[0m\u001b[0;34m\u001b[0m\u001b[0m\n\u001b[1;32m      4\u001b[0m \u001b[0mprint\u001b[0m\u001b[0;34m(\u001b[0m\u001b[0mtf\u001b[0m\u001b[0;34m.\u001b[0m\u001b[0m__version__\u001b[0m\u001b[0;34m)\u001b[0m\u001b[0;34m\u001b[0m\u001b[0m\n",
      "\u001b[0;31mModuleNotFoundError\u001b[0m: No module named 'apache_beam'"
     ]
    }
   ],
   "source": [
    "import tensorflow as tf\n",
    "import apache_beam as beam\n",
    "import shutil\n",
    "print(tf.__version__)"
   ]
  },
  {
   "cell_type": "markdown",
   "metadata": {},
   "source": [
    "<h2> 1. Environment variables for project and bucket </h2>\n",
    "\n",
    "<li> Your project id is the *unique* string that identifies your project (not the project name). You can find this from the GCP Console dashboard's Home page.  My dashboard reads:  <b>Project ID:</b> cloud-training-demos </li>\n",
    "<li> Cloud training often involves saving and restoring model files. Therefore, we should <b>create a single-region bucket</b>. If you don't have a bucket already, I suggest that you create one from the GCP console (because it will dynamically check whether the bucket name you want is available) </li>\n",
    "</ol>\n",
    "<b>Change the cell below</b> to reflect your Project ID and bucket name.\n"
   ]
  },
  {
   "cell_type": "code",
   "execution_count": 1,
   "metadata": {},
   "outputs": [],
   "source": [
    "import os\n",
    "REGION = 'us-central1' # Choose an available region for Cloud MLE from https://cloud.google.com/ml-engine/docs/regions.\n",
    "BUCKET = 'eim-muse' # REPLACE WITH YOUR BUCKET NAME. Use a regional bucket in the region you selected.\n",
    "PROJECT = 'eim-muse'    # CHANGE THIS"
   ]
  },
  {
   "cell_type": "code",
   "execution_count": 2,
   "metadata": {},
   "outputs": [],
   "source": [
    "# for bash\n",
    "os.environ['PROJECT'] = PROJECT\n",
    "os.environ['BUCKET'] = BUCKET\n",
    "os.environ['REGION'] = REGION"
   ]
  },
  {
   "cell_type": "code",
   "execution_count": 3,
   "metadata": {},
   "outputs": [
    {
     "name": "stderr",
     "output_type": "stream",
     "text": [
      "Updated property [core/project].\n",
      "Updated property [compute/region].\n"
     ]
    }
   ],
   "source": [
    "%bash\n",
    "gcloud config set project $PROJECT\n",
    "gcloud config set compute/region $REGION"
   ]
  },
  {
   "cell_type": "markdown",
   "metadata": {},
   "source": [
    "<h2> 2. Specifying query to pull the data </h2>\n",
    "\n",
    "Let's pull out a few extra columns from the timestamp."
   ]
  },
  {
   "cell_type": "code",
   "execution_count": 12,
   "metadata": {},
   "outputs": [
    {
     "name": "stdout",
     "output_type": "stream",
     "text": [
      "\n",
      "SELECT *\n",
      "FROM\n",
      "  [eim-muse:hallelujah_effect.full_hallelujah_trials_cleaned]\n",
      "   WHERE ABS(HASH(id)) % 10 >= 8\n"
     ]
    }
   ],
   "source": [
    "def create_query(phase, EVERY_N):\n",
    "  \"\"\"\n",
    "  phase: 1 = train 2 = valid\n",
    "  \"\"\"\n",
    "  base_query = \"\"\"\n",
    "SELECT *\n",
    "FROM\n",
    "  [eim-muse:hallelujah_effect.full_hallelujah_trials_cleaned_imputed]\n",
    "  \"\"\"\n",
    "\n",
    "  if EVERY_N == None:\n",
    "    if phase < 2:\n",
    "      # Training\n",
    "      query = \"{0} WHERE ABS(HASH(id)) % 10 < 7\".format(base_query)\n",
    "    else:\n",
    "      # Validation\n",
    "      query = \"{0} WHERE ABS(HASH(id)) % 10 >= 8\".format(base_query)\n",
    "  else:\n",
    "      query = \"{0} WHERE ABS(HASH(id)) % {1} == {2}\".format(base_query, EVERY_N, phase)\n",
    "    \n",
    "  return query\n",
    "    \n",
    "print create_query(2, None)"
   ]
  },
  {
   "cell_type": "markdown",
   "metadata": {},
   "source": [
    "Try the query above in https://bigquery.cloud.google.com/table/nyc-tlc:yellow.trips if you want to see what it does (ADD LIMIT 10 to the query!)"
   ]
  },
  {
   "cell_type": "markdown",
   "metadata": {},
   "source": [
    "<h2> 3. Preprocessing Dataflow job from BigQuery </h2>\n",
    "\n",
    "This code reads from BigQuery and saves the data as-is on Google Cloud Storage.  We can do additional preprocessing and cleanup inside Dataflow, but then we'll have to remember to repeat that prepreprocessing during inference. It is better to use tf.transform which will do this book-keeping for you, or to do preprocessing within your TensorFlow model. We will look at this in future notebooks. For now, we are simply moving data from BigQuery to CSV using Dataflow.\n",
    "\n",
    "While we could read from BQ directly from TensorFlow (See: https://www.tensorflow.org/api_docs/python/tf/contrib/cloud/BigQueryReader), it is quite convenient to export to CSV and do the training off CSV.  Let's use Dataflow to do this at scale.\n",
    "\n",
    "Because we are running this on the Cloud, you should go to the GCP Console (https://console.cloud.google.com/dataflow) to look at the status of the job. It will take several minutes for the preprocessing job to launch."
   ]
  },
  {
   "cell_type": "code",
   "execution_count": 13,
   "metadata": {},
   "outputs": [
    {
     "name": "stderr",
     "output_type": "stream",
     "text": [
      "CommandException: 1 files/objects could not be removed.\n"
     ]
    }
   ],
   "source": [
    "%bash\n",
    "gsutil -m rm -rf gs://$BUCKET/analysis/hallelujah-effect/samples/"
   ]
  },
  {
   "cell_type": "code",
   "execution_count": 15,
   "metadata": {},
   "outputs": [],
   "source": [
    "import datetime\n",
    "\n",
    "def to_csv(rowdict):\n",
    "  import copy\n",
    "  days = ['null', 'Sun', 'Mon', 'Tue', 'Wed', 'Thu', 'Fri', 'Sat']\n",
    "  CSV_COLUMNS = 'fare_amount,dayofweek,hourofday,pickuplon,pickuplat,dropofflon,dropofflat,passengers,key'.split(',')\n",
    "  result = copy.deepcopy(rowdict)\n",
    "  result['dayofweek'] = days[result['dayofweek']]\n",
    "  return ','.join([str(result[k]) for k in CSV_COLUMNS])\n",
    "\n",
    "def preprocess(EVERY_N, RUNNER):\n",
    "  job_name = 'preprocess-halellujah-effect' + '-' + datetime.datetime.now().strftime('%y%m%d-%H%M%S')\n",
    "  print 'Launching Dataflow job {} ... hang on'.format(job_name)\n",
    "  OUTPUT_DIR = 'gs://{0}/analysis/hallelujah-effect/samples/'.format(BUCKET)\n",
    "  options = {\n",
    "    'staging_location': os.path.join(OUTPUT_DIR, 'tmp', 'staging'),\n",
    "    'temp_location': os.path.join(OUTPUT_DIR, 'tmp'),\n",
    "    'job_name': 'preprocess-hallelujah-effect' + '-' + datetime.datetime.now().strftime('%y%m%d-%H%M%S'),\n",
    "    'project': PROJECT,\n",
    "    'teardown_policy': 'TEARDOWN_ALWAYS',\n",
    "    'no_save_main_session': True\n",
    "  }\n",
    "  opts = beam.pipeline.PipelineOptions(flags=[], **options)\n",
    "  p = beam.Pipeline(RUNNER, options=opts)\n",
    "  for n, step in enumerate(['train', 'valid']):\n",
    "    query = create_query(n+1, EVERY_N)\n",
    "    outfile = os.path.join(OUTPUT_DIR, '{}.csv'.format(step))\n",
    "    (\n",
    "      p | 'read_{}'.format(step) >> beam.io.Read(beam.io.BigQuerySource(query=query))\n",
    "        | 'tocsv_{}'.format(step) >> beam.Map(to_csv)\n",
    "        | 'write_{}'.format(step) >> beam.io.Write(beam.io.WriteToText(outfile))\n",
    "    )\n",
    "\n",
    "  p.run()"
   ]
  },
  {
   "cell_type": "code",
   "execution_count": 20,
   "metadata": {},
   "outputs": [
    {
     "name": "stdout",
     "output_type": "stream",
     "text": [
      "Launching Dataflow job preprocess-halellujah-effect-180613-043459 ... hang on\n"
     ]
    },
    {
     "name": "stderr",
     "output_type": "stream",
     "text": [
      "/usr/local/envs/py2env/lib/python2.7/site-packages/simplejson/encoder.py:286: DeprecationWarning: Interpreting naive datetime as local 2018-06-13 04:34:59.935640. Please add timezone info to timestamps.\n",
      "  chunks = self.iterencode(o, _one_shot=True)\n"
     ]
    }
   ],
   "source": [
    "# Change as needed\n",
    "# preprocess(50*100000, 'DirectRunner')  # runs locally\n",
    "preprocess(None, 'DataflowRunner') # runs on cloud; change first arg to None to preprocess full dataset\n",
    "# preprocess(50*100000) -> create_query(1, 5000000), create_query(2, 5000000) "
   ]
  },
  {
   "cell_type": "code",
   "execution_count": 23,
   "metadata": {},
   "outputs": [
    {
     "name": "stdout",
     "output_type": "stream",
     "text": [
      "     17081  2018-06-13T04:41:57Z  gs://eim-muse/analysis/hallelujah-effect/samples/train.csv-00000-of-00002\n",
      "    152586  2018-06-13T04:41:57Z  gs://eim-muse/analysis/hallelujah-effect/samples/train.csv-00001-of-00002\n",
      "     50281  2018-06-13T04:41:44Z  gs://eim-muse/analysis/hallelujah-effect/samples/valid.csv-00000-of-00001\n",
      "                                 gs://eim-muse/analysis/hallelujah-effect/samples/tmp/\n",
      "TOTAL: 3 objects, 219948 bytes (214.79 KiB)\n"
     ]
    },
    {
     "name": "stderr",
     "output_type": "stream",
     "text": [
      "/usr/local/envs/py2env/lib/python2.7/site-packages/simplejson/encoder.py:286: DeprecationWarning: Interpreting naive datetime as local 2018-06-13 04:48:22.038624. Please add timezone info to timestamps.\n",
      "  chunks = self.iterencode(o, _one_shot=True)\n"
     ]
    }
   ],
   "source": [
    "%bash\n",
    "gsutil ls -l gs://$BUCKET/analysis/hallelujah-effect/samples/"
   ]
  },
  {
   "cell_type": "code",
   "execution_count": 24,
   "metadata": {},
   "outputs": [
    {
     "name": "stdout",
     "output_type": "stream",
     "text": [
      "{u'reserved': 4, u'musical_background': None, u'trusting': 4, u'outgoing': 2, u'sex': u'female', u'imagination': 4, u'concentration': u'4', u'id': u'570eb73383a73509d0e02231', u'hearing_impairments': False, u'hallelujah_reaction': True, u'nervous': 5, u'positivity': 4, u'engagement': 4, u'familiarity': 1, u'thorough': 4, u'terminal': 3, u'location': u'taipei_city', u'tension': 4, u'lazy': 4, u'music_styles': u'[\"hiphop\",\"pop\"]', u'date': u'2015-03-03T00:00:00', u'nationality': u'taiwanese', u'stress': 2, u'like_dislike': 4, u'language': u'en', u'most_engaged': None, u'fault': 4, u'age': 20, u'artistic': 1, u'most_enjoyed': None, u'activity': 3}\n",
      "{u'reserved': 4, u'musical_background': None, u'trusting': 5, u'outgoing': 3, u'sex': u'female', u'imagination': 4, u'concentration': u'5', u'id': u'570eb75983a73509d0e02f0b', u'hearing_impairments': False, u'hallelujah_reaction': True, u'nervous': 5, u'positivity': 4, u'engagement': 5, u'familiarity': 1, u'thorough': 4, u'terminal': 3, u'location': u'taipei_city', u'tension': 4, u'lazy': 4, u'music_styles': u'[\"pop\"]', u'date': u'2015-03-14T00:00:00', u'nationality': u'taiwanese', u'stress': 4, u'like_dislike': 3, u'language': u'en', u'most_engaged': None, u'fault': 4, u'age': 12, u'artistic': 2, u'most_enjoyed': None, u'activity': 3}\n",
      "{u'reserved': 4, u'musical_background': None, u'trusting': 2, u'outgoing': 2, u'sex': u'male', u'imagination': 4, u'concentration': u'4', u'id': u'570eb7b683a73509d0e04c65', u'hearing_impairments': False, u'hallelujah_reaction': False, u'nervous': 5, u'positivity': 4, u'engagement': 4, u'familiarity': 4, u'thorough': 4, u'terminal': 2, u'location': u'taipei_city', u'tension': 4, u'lazy': 4, u'music_styles': u'[\"dance\",\"folk\",\"hiphop\",\"pop\",\"rock\"]', u'date': u'2015-04-06T00:00:00', u'nationality': u'taiwanese', u'stress': 2, u'like_dislike': 4, u'language': u'en', u'most_engaged': None, u'fault': 4, u'age': 26, u'artistic': 2, u'most_enjoyed': None, u'activity': 4}\n",
      "{u'reserved': 4, u'musical_background': None, u'trusting': 4, u'outgoing': 2, u'sex': u'male', u'imagination': 5, u'concentration': u'3', u'id': u'570eb78483a73509d0e03cf3', u'hearing_impairments': False, u'hallelujah_reaction': False, u'nervous': 4, u'positivity': 3, u'engagement': 3, u'familiarity': 3, u'thorough': 4, u'terminal': 2, u'location': u'taipei_city', u'tension': 4, u'lazy': 4, u'music_styles': u'[\"classical\"]', u'date': u'2015-03-01T00:00:00', u'nationality': u'taiwanese', u'stress': 2, u'like_dislike': 3, u'language': u'en', u'most_engaged': None, u'fault': 4, u'age': 43, u'artistic': 2, u'most_enjoyed': None, u'activity': 3}\n",
      "{u'reserved': 4, u'musical_background': None, u'trusting': 2, u'outgoing': 2, u'sex': u'male', u'imagination': 4, u'concentration': u'4', u'id': u'570eb74b83a73509d0e02a09', u'hearing_impairments': False, u'hallelujah_reaction': False, u'nervous': 4, u'positivity': 4, u'engagement': 4, u'familiarity': 1, u'thorough': 4, u'terminal': 4, u'location': u'taipei_city', u'tension': 4, u'lazy': 4, u'music_styles': u'[\"pop\"]', u'date': u'2015-02-24T00:00:00', u'nationality': u'taiwanese', u'stress': 2, u'like_dislike': 4, u'language': u'zh_TW', u'most_engaged': None, u'fault': 4, u'age': 51, u'artistic': 2, u'most_enjoyed': None, u'activity': 4}\n",
      "{u'reserved': 4, u'musical_background': None, u'trusting': 4, u'outgoing': 2, u'sex': u'female', u'imagination': 2, u'concentration': u'4', u'id': u'570eb75b83a73509d0e02f6a', u'hearing_impairments': False, u'hallelujah_reaction': True, u'nervous': 4, u'positivity': 3, u'engagement': 4, u'familiarity': 1, u'thorough': 2, u'terminal': 3, u'location': u'taipei_city', u'tension': 5, u'lazy': 5, u'music_styles': u'[\"dance\",\"folk\",\"hiphop\",\"pop\",\"rock\"]', u'date': u'2015-01-17T00:00:00', u'nationality': u'taiwanese', u'stress': 2, u'like_dislike': 4, u'language': u'en', u'most_engaged': None, u'fault': 2, u'age': 25, u'artistic': 2, u'most_enjoyed': None, u'activity': 2}\n",
      "{u'reserved': 4, u'musical_background': None, u'trusting': 4, u'outgoing': 2, u'sex': u'male', u'imagination': 4, u'concentration': u'4', u'id': u'570eb73483a73509d0e0227d', u'hearing_impairments': False, u'hallelujah_reaction': False, u'nervous': 5, u'positivity': 5, u'engagement': 4, u'familiarity': 1, u'thorough': 2, u'terminal': 1, u'location': u'taipei_city', u'tension': 4, u'lazy': 5, u'music_styles': u'[\"jazz\",\"rock\"]', u'date': u'2015-05-27T00:00:00', u'nationality': u'taiwanese', u'stress': 4, u'like_dislike': 5, u'language': u'en', u'most_engaged': None, u'fault': 3, u'age': 20, u'artistic': 1, u'most_enjoyed': None, u'activity': 4}\n",
      "{u'reserved': 4, u'musical_background': None, u'trusting': 5, u'outgoing': 3, u'sex': u'female', u'imagination': 4, u'concentration': u'3', u'id': u'570eb72683a73509d0e01df0', u'hearing_impairments': False, u'hallelujah_reaction': False, u'nervous': 4, u'positivity': 4, u'engagement': 4, u'familiarity': 5, u'thorough': 5, u'terminal': 2, u'location': u'taipei_city', u'tension': 5, u'lazy': 5, u'music_styles': u'[\"pop\"]', u'date': u'2015-05-21T00:00:00', u'nationality': u'taiwanese', u'stress': 5, u'like_dislike': 5, u'language': u'en', u'most_engaged': None, u'fault': 4, u'age': 21, u'artistic': 2, u'most_enjoyed': None, u'activity': 4}\n",
      "{u'reserved': 4, u'musical_background': None, u'trusting': 4, u'outgoing': 1, u'sex': u'female', u'imagination': 4, u'concentration': u'4', u'id': u'570eb79b83a73509d0e04409', u'hearing_impairments': False, u'hallelujah_reaction': False, u'nervous': 4, u'positivity': 4, u'engagement': 5, u'familiarity': 1, u'thorough': 2, u'terminal': 4, u'location': u'taipei_city', u'tension': 5, u'lazy': 5, u'music_styles': u'[\"jazz\",\"pop\"]', u'date': u'2015-05-15T00:00:00', u'nationality': u'taiwanese', u'stress': 4, u'like_dislike': 4, u'language': u'en', u'most_engaged': None, u'fault': 2, u'age': 17, u'artistic': 2, u'most_enjoyed': None, u'activity': 4}\n",
      "{u'reserved': 4, u'musical_background': None, u'trusting': 5, u'outgoing': 5, u'sex': u'female', u'imagination': 5, u'concentration': u'5', u'id': u'570eb73183a73509d0e021c7', u'hearing_impairments': False, u'hallelujah_reaction': False, u'nervous': 3, u'positivity': 3, u'engagement': 2, u'familiarity': 1, u'thorough': 4, u'terminal': 2, u'location': u'taipei_city', u'tension': 4, u'lazy': 5, u'music_styles': u'[\"pop\",\"world\"]', u'date': u'2015-04-25T00:00:00', u'nationality': u'taiwanese', u'stress': 5, u'like_dislike': 3, u'language': u'en', u'most_engaged': None, u'fault': 4, u'age': 30, u'artistic': 5, u'most_enjoyed': None, u'activity': 1}\n"
     ]
    },
    {
     "name": "stderr",
     "output_type": "stream",
     "text": [
      "/usr/local/envs/py2env/lib/python2.7/site-packages/simplejson/encoder.py:286: DeprecationWarning: Interpreting naive datetime as local 2018-06-13 04:49:08.657654. Please add timezone info to timestamps.\n",
      "  chunks = self.iterencode(o, _one_shot=True)\n"
     ]
    }
   ],
   "source": [
    "%bash\n",
    "gsutil cat \"gs://$BUCKET/analysis/hallelujah-effect/samples/train.csv-00000-of-*\" | head"
   ]
  },
  {
   "cell_type": "markdown",
   "metadata": {},
   "source": [
    "<h2> 4. Develop model with new inputs </h2>\n",
    "\n",
    "Download a fraction of the preprocessed data to enable local development."
   ]
  },
  {
   "cell_type": "code",
   "execution_count": null,
   "metadata": {},
   "outputs": [],
   "source": [
    "%bash\n",
    "mkdir sample\n",
    "gsutil cp \"gs://$BUCKET/taxifare/ch4/taxi_preproc/train.csv-00000-of-*\" sample/train.csv\n",
    "gsutil cp \"gs://$BUCKET/taxifare/ch4/taxi_preproc/valid.csv-00000-of-*\" sample/valid.csv"
   ]
  },
  {
   "cell_type": "markdown",
   "metadata": {},
   "source": [
    "We have two new inputs in the INPUT_COLUMNS, three engineered features, and the estimator involves bucketization and feature crosses."
   ]
  },
  {
   "cell_type": "code",
   "execution_count": null,
   "metadata": {},
   "outputs": [],
   "source": [
    "!grep -A 20 \"INPUT_COLUMNS =\" taxifare/trainer/model.py"
   ]
  },
  {
   "cell_type": "code",
   "execution_count": null,
   "metadata": {},
   "outputs": [],
   "source": [
    "!grep -A 50 \"build_estimator\" taxifare/trainer/model.py"
   ]
  },
  {
   "cell_type": "code",
   "execution_count": null,
   "metadata": {},
   "outputs": [],
   "source": [
    "!grep -A 15 \"add_engineered(\" taxifare/trainer/model.py"
   ]
  },
  {
   "cell_type": "markdown",
   "metadata": {},
   "source": [
    "Try out the new model on the local sample to make sure it works fine."
   ]
  },
  {
   "cell_type": "code",
   "execution_count": null,
   "metadata": {},
   "outputs": [],
   "source": [
    "%bash\n",
    "rm -rf taxifare.tar.gz taxi_trained\n",
    "export PYTHONPATH=${PYTHONPATH}:${PWD}/taxifare\n",
    "python -m trainer.task \\\n",
    "  --train_data_paths=\"${PWD}/sample/train*\" \\\n",
    "  --eval_data_paths=${PWD}/sample/valid.csv  \\\n",
    "  --output_dir=${PWD}/taxi_trained \\\n",
    "  --train_steps=1000 \\\n",
    "  --job-dir=/tmp"
   ]
  },
  {
   "cell_type": "code",
   "execution_count": null,
   "metadata": {},
   "outputs": [],
   "source": [
    "!ls taxi_trained/export/exporter/"
   ]
  },
  {
   "cell_type": "code",
   "execution_count": null,
   "metadata": {},
   "outputs": [],
   "source": [
    "%writefile /tmp/test.json\n",
    "{\"dayofweek\": \"Sun\", \"hourofday\": 17, \"pickuplon\": -73.885262, \"pickuplat\": 40.773008, \"dropofflon\": -73.987232, \"dropofflat\": 40.732403, \"passengers\": 2}"
   ]
  },
  {
   "cell_type": "code",
   "execution_count": null,
   "metadata": {},
   "outputs": [],
   "source": [
    "%bash\n",
    "model_dir=$(ls ${PWD}/taxi_trained/export/exporter)\n",
    "gcloud ml-engine local predict \\\n",
    "  --model-dir=${PWD}/taxi_trained/export/exporter/${model_dir} \\\n",
    "  --json-instances=/tmp/test.json"
   ]
  },
  {
   "cell_type": "markdown",
   "metadata": {},
   "source": [
    "<h2> 5. Train on cloud </h2>\n"
   ]
  },
  {
   "cell_type": "code",
   "execution_count": null,
   "metadata": {},
   "outputs": [],
   "source": [
    "# might need this ...\n",
    "# !gcloud --quiet components update"
   ]
  },
  {
   "cell_type": "code",
   "execution_count": null,
   "metadata": {},
   "outputs": [],
   "source": [
    "%%bash\n",
    "OUTDIR=gs://${BUCKET}/taxifare/ch4/taxi_trained\n",
    "JOBNAME=lab4a_$(date -u +%y%m%d_%H%M%S)\n",
    "echo $OUTDIR $REGION $JOBNAME\n",
    "gsutil -m rm -rf $OUTDIR\n",
    "gcloud ml-engine jobs submit training $JOBNAME \\\n",
    "  --region=$REGION \\\n",
    "  --module-name=trainer.task \\\n",
    "  --package-path=${PWD}/taxifare/trainer \\\n",
    "  --job-dir=$OUTDIR \\\n",
    "  --staging-bucket=gs://$BUCKET \\\n",
    "  --scale-tier=BASIC \\\n",
    "  --runtime-version=1.4 \\\n",
    "  -- \\\n",
    "  --train_data_paths=\"gs://$BUCKET/taxifare/ch4/taxi_preproc/train*\" \\\n",
    "  --eval_data_paths=\"gs://${BUCKET}/taxifare/ch4/taxi_preproc/valid*\"  \\\n",
    "  --train_steps=5000 \\\n",
    "  --output_dir=$OUTDIR"
   ]
  },
  {
   "cell_type": "markdown",
   "metadata": {},
   "source": [
    "The RMSE is now 8.33249, an improvement over the 9.3 that we were getting ... of course, we won't know until we train/validate on a larger dataset. Still, this is promising. But before we do that, let's do hyper-parameter tuning."
   ]
  },
  {
   "cell_type": "markdown",
   "metadata": {},
   "source": [
    "<h2> 6. Hyper-parameter tune </h2>\n",
    "\n",
    "Look at <a href=\"hyperparam.ipynb\">hyper-parameter tuning notebook</a> to decide what parameters to use for model. Based on that run, I ended up choosing:\n",
    "<ol>\n",
    "<li> train_batch_size: 512 </li>\n",
    "<li> nbuckets: 16 </li>\n",
    "<li> hidden_units: \"64 64 64 8\" </li>    \n",
    "</ol>\n",
    "\n",
    "This gives an RMSE of 5, a considerable improvement from the 8.3 we were getting earlier ... Let's try this over a larger dataset."
   ]
  },
  {
   "cell_type": "markdown",
   "metadata": {},
   "source": [
    "<h1> Run Cloud training on 2 million row dataset </h1>\n",
    "\n",
    "This run uses as input 2 million rows and takes ~20 minutes with 10 workers (STANDARD_1 pricing tier). The model is exactly the same as above. The only changes are to the input (to use the larger dataset) and to the Cloud MLE tier (to use STANDARD_1 instead of BASIC -- STANDARD_1 is approximately 10x more powerful than BASIC). Because the Dataflow preprocessing takes about 15 minutes, we train here using CSV files in a public bucket.\n",
    "\n",
    "When doing distributed training, use train_steps instead of num_epochs. The distributed workers don't know how many rows there are, but we can calculate train_steps = num_rows \\* num_epochs / train_batch_size. In this case, we have 2141023 * 100 / 512 = 418168 train steps."
   ]
  },
  {
   "cell_type": "code",
   "execution_count": null,
   "metadata": {},
   "outputs": [],
   "source": [
    "%%bash\n",
    "\n",
    "WARNING -- this uses significant resources and is optional. Remove this line to run the block.\n",
    "\n",
    "OUTDIR=gs://${BUCKET}/taxifare/feateng2m\n",
    "JOBNAME=lab4a_$(date -u +%y%m%d_%H%M%S)\n",
    "TIER=STANDARD_1 \n",
    "echo $OUTDIR $REGION $JOBNAME\n",
    "gsutil -m rm -rf $OUTDIR\n",
    "gcloud ml-engine jobs submit training $JOBNAME \\\n",
    "   --region=$REGION \\\n",
    "   --module-name=trainer.task \\\n",
    "   --package-path=${PWD}/taxifare/trainer \\\n",
    "   --job-dir=$OUTDIR \\\n",
    "   --staging-bucket=gs://$BUCKET \\\n",
    "   --scale-tier=$TIER \\\n",
    "   --runtime-version=1.4 \\\n",
    "   -- \\\n",
    "   --train_data_paths=\"gs://cloud-training-demos/taxifare/train*\" \\\n",
    "   --eval_data_paths=\"gs://cloud-training-demos/taxifare/valid*\"  \\\n",
    "   --output_dir=$OUTDIR \\\n",
    "   --train_steps=418168 \\\n",
    "   --train_batch_size=512 --nbuckets=16 --hidden_units=\"64 64 64 8\""
   ]
  },
  {
   "cell_type": "code",
   "execution_count": null,
   "metadata": {
    "collapsed": true
   },
   "outputs": [],
   "source": [
    "from google.datalab.ml import TensorBoard\n",
    "OUTDIR='gs://{0}/taxifare/feateng2m'.format(BUCKET)\n",
    "print OUTDIR\n",
    "TensorBoard().start(OUTDIR)"
   ]
  },
  {
   "cell_type": "markdown",
   "metadata": {},
   "source": [
    "The RMSE after training on the 2-million-row dataset is \\$3.03.  This graph shows the improvements so far ..."
   ]
  },
  {
   "cell_type": "code",
   "execution_count": null,
   "metadata": {},
   "outputs": [],
   "source": [
    "import pandas as pd\n",
    "import seaborn as sns\n",
    "import numpy as np\n",
    "import matplotlib.pyplot as plt\n",
    "\n",
    "df = pd.DataFrame({'Lab' : pd.Series(['1a', '2-3', '4a', '4b', '4c']),\n",
    "              'Method' : pd.Series(['Heuristic Benchmark', 'tf.learn', '+Feature Eng.', '+ Hyperparam', '+ 2m rows']),\n",
    "              'RMSE': pd.Series([8.026, 9.4, 8.3, 5.0, 3.03]) })\n",
    "\n",
    "ax = sns.barplot(data = df, x = 'Method', y = 'RMSE')\n",
    "ax.set_ylabel('RMSE (dollars)')\n",
    "ax.set_xlabel('Labs/Methods')\n",
    "plt.plot(np.linspace(-20, 120, 1000), [5] * 1000, 'b');"
   ]
  },
  {
   "cell_type": "code",
   "execution_count": null,
   "metadata": {
    "collapsed": true
   },
   "outputs": [],
   "source": [
    "%bash\n",
    "gsutil -m mv gs://${BUCKET}/taxifare/ch4/  gs://${BUCKET}/taxifare/ch4_1m/"
   ]
  },
  {
   "cell_type": "markdown",
   "metadata": {},
   "source": [
    "Copyright 2016 Google Inc. Licensed under the Apache License, Version 2.0 (the \"License\"); you may not use this file except in compliance with the License. You may obtain a copy of the License at http://www.apache.org/licenses/LICENSE-2.0 Unless required by applicable law or agreed to in writing, software distributed under the License is distributed on an \"AS IS\" BASIS, WITHOUT WARRANTIES OR CONDITIONS OF ANY KIND, either express or implied. See the License for the specific language governing permissions and limitations under the License"
   ]
  }
 ],
 "metadata": {
  "kernelspec": {
   "display_name": "Python 3",
   "language": "python",
   "name": "python3"
  },
  "language_info": {
   "codemirror_mode": {
    "name": "ipython",
    "version": 3
   },
   "file_extension": ".py",
   "mimetype": "text/x-python",
   "name": "python",
   "nbconvert_exporter": "python",
   "pygments_lexer": "ipython3",
   "version": "3.6.3"
  }
 },
 "nbformat": 4,
 "nbformat_minor": 1
}
