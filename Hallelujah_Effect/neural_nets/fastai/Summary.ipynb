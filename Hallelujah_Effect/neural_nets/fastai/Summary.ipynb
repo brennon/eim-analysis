{
 "cells": [
  {
   "cell_type": "markdown",
   "metadata": {},
   "source": [
    "# Work completed in this folder\n",
    "\n",
    "- Retooled entire training/inference pipeline to PyTorch/fast.ai\n",
    "- Ran multiple experiments:\n",
    "  - Training on *Hallelujah* and predicting reactions in other stimuli\n",
    "  - Training/predicting taking all simuli together\n",
    "  - Training on *Into Dust* and predicting on *Into Dust*\n",
    "  - Training on *Raining Blood* and predicting on *Raining Blood*\n",
    "  - Pairwise training/predicting between individual stimuli\n",
    "  - Training on *Hallelujah* and predicting reactions in other stimuli after \"categorifying\" LIkert-type item responses\n",
    "\n",
    "# Notes\n",
    "\n",
    "- Take model that uses only features already presented and use for prediction on other stimuli (with same features, locations, etc.)\n",
    "- Calculate weighted F-beta for models (for comparison with previous results)\n",
    "- Incorporate baseline classifier and corresponding PR curve / F-beta plots\n",
    "- Unique locations (at least for first model) in test dataset that are not in training dataset\n",
    "- Check with Graduate School on defense deadline ahead of graduation"
   ]
  },
  {
   "cell_type": "code",
   "execution_count": null,
   "metadata": {},
   "outputs": [],
   "source": []
  }
 ],
 "metadata": {
  "kernelspec": {
   "display_name": "Python 3",
   "language": "python",
   "name": "python3"
  },
  "language_info": {
   "codemirror_mode": {
    "name": "ipython",
    "version": 3
   },
   "file_extension": ".py",
   "mimetype": "text/x-python",
   "name": "python",
   "nbconvert_exporter": "python",
   "pygments_lexer": "ipython3",
   "version": "3.7.1"
  }
 },
 "nbformat": 4,
 "nbformat_minor": 2
}
