{
 "cells": [
  {
   "cell_type": "markdown",
   "metadata": {},
   "source": [
    "https://www.kaggle.com/keremt/pytorch-entity-embeddings was super helpful with this."
   ]
  },
  {
   "cell_type": "code",
   "execution_count": 10,
   "metadata": {},
   "outputs": [],
   "source": [
    "import gc\n",
    "import os\n",
    "import random\n",
    "from pathlib import Path\n",
    "from typing import Union, List, Tuple\n",
    "\n",
    "import torch\n",
    "import torch.nn as nn\n",
    "import torch.nn.functional as F\n",
    "from torch.utils.data import DataLoader, Dataset, SubsetRandomSampler\n",
    "from torch.optim import SGD\n",
    "\n",
    "import numpy as np\n",
    "import pandas as pd\n",
    "import skopt\n",
    "\n",
    "import matplotlib.pyplot as plt\n",
    "%matplotlib inline"
   ]
  },
  {
   "cell_type": "markdown",
   "metadata": {},
   "source": [
    "Seed random number generators for reproducibility."
   ]
  },
  {
   "cell_type": "code",
   "execution_count": 11,
   "metadata": {},
   "outputs": [],
   "source": [
    "random_seed = 42\n",
    "\n",
    "def seed_everything(seed=42):\n",
    "    random.seed(seed)\n",
    "    torch.manual_seed(seed)\n",
    "    torch.cuda.manual_seed_all(seed)\n",
    "    np.random.seed(seed)\n",
    "    os.environ['PYTHONHASHSEED'] = str(seed)\n",
    "\n",
    "seed_everything(random_seed)"
   ]
  },
  {
   "cell_type": "code",
   "execution_count": 12,
   "metadata": {},
   "outputs": [],
   "source": [
    "use_cuda = torch.cuda.is_available()\n",
    "device = torch.device(\"cuda:0\" if use_cuda else \"cpu\")"
   ]
  },
  {
   "cell_type": "code",
   "execution_count": 50,
   "metadata": {},
   "outputs": [],
   "source": [
    "def preprocess(data: pd.DataFrame, cats: List[str]) -> pd.DataFrame:\n",
    "    data.fillna('missing', inplace=True)\n",
    "    for c in cats:\n",
    "        data[c] = data[c].astype('category').cat.codes\n",
    "    return data\n",
    "\n",
    "def EimDataPreprocess(data, cats, inplace=True):\n",
    "    ### Each categorical column should have indices as values \n",
    "    ### Which will be looked up at embedding matrix and used in modeling\n",
    "    ### Make changes inplace\n",
    "    if inplace:\n",
    "        for c in cats:\n",
    "            data[c].replace({val:i  for i, val in enumerate(data[c].unique())}, inplace=True)\n",
    "        return data\n",
    "    else:\n",
    "        data_copy = data.copy()\n",
    "        for c in cats:\n",
    "            data_copy[c].replace({val:i  for i, val in enumerate(data_copy[c].unique())}, inplace=True)\n",
    "        return data_copy\n",
    "        \n",
    "def get_embs_dims(data, cats, minimum=2):\n",
    "    cat_sz = [len(data[c].unique()) for c in cats]\n",
    "    return [(c, max(min(50, (c+1)//2 + 1), minimum)) for c in cat_sz]\n",
    "    \n",
    "def emb_init(x):\n",
    "    x = x.weight.data\n",
    "    sc = 2/(x.size(1)+1)\n",
    "    x.uniform_(-sc,sc)"
   ]
  },
  {
   "cell_type": "markdown",
   "metadata": {},
   "source": [
    "# Data processing"
   ]
  },
  {
   "cell_type": "code",
   "execution_count": 51,
   "metadata": {},
   "outputs": [
    {
     "data": {
      "text/html": [
       "<div>\n",
       "<style scoped>\n",
       "    .dataframe tbody tr th:only-of-type {\n",
       "        vertical-align: middle;\n",
       "    }\n",
       "\n",
       "    .dataframe tbody tr th {\n",
       "        vertical-align: top;\n",
       "    }\n",
       "\n",
       "    .dataframe thead th {\n",
       "        text-align: right;\n",
       "    }\n",
       "</style>\n",
       "<table border=\"1\" class=\"dataframe\">\n",
       "  <thead>\n",
       "    <tr style=\"text-align: right;\">\n",
       "      <th></th>\n",
       "      <th>_id</th>\n",
       "      <th>location</th>\n",
       "      <th>sex</th>\n",
       "      <th>musical_background</th>\n",
       "      <th>nationality</th>\n",
       "      <th>visual_impairments</th>\n",
       "      <th>musical_expertise</th>\n",
       "      <th>hearing_impairments</th>\n",
       "      <th>age</th>\n",
       "      <th>critical_reaction</th>\n",
       "      <th>...</th>\n",
       "      <th>musicpref_jazz</th>\n",
       "      <th>musicpref_folk</th>\n",
       "      <th>musicpref_hiphop</th>\n",
       "      <th>musicpref_classical</th>\n",
       "      <th>musicpref_none</th>\n",
       "      <th>musicpref_rock</th>\n",
       "      <th>musicpref_hip_hop</th>\n",
       "      <th>musicpref_world</th>\n",
       "      <th>musicpref_pop</th>\n",
       "      <th>musicpref_dance</th>\n",
       "    </tr>\n",
       "  </thead>\n",
       "  <tbody>\n",
       "    <tr>\n",
       "      <th>0</th>\n",
       "      <td>5410f69308ad6ee3090e387a</td>\n",
       "      <td>dublin</td>\n",
       "      <td>female</td>\n",
       "      <td>0</td>\n",
       "      <td>other</td>\n",
       "      <td>0</td>\n",
       "      <td>0</td>\n",
       "      <td>0</td>\n",
       "      <td>41.0</td>\n",
       "      <td>False</td>\n",
       "      <td>...</td>\n",
       "      <td>1</td>\n",
       "      <td>0</td>\n",
       "      <td>0</td>\n",
       "      <td>0</td>\n",
       "      <td>0</td>\n",
       "      <td>0</td>\n",
       "      <td>0</td>\n",
       "      <td>0</td>\n",
       "      <td>0</td>\n",
       "      <td>0</td>\n",
       "    </tr>\n",
       "    <tr>\n",
       "      <th>1</th>\n",
       "      <td>5410f69508ad6ee3090e3892</td>\n",
       "      <td>dublin</td>\n",
       "      <td>male</td>\n",
       "      <td>0</td>\n",
       "      <td>irish</td>\n",
       "      <td>0</td>\n",
       "      <td>0</td>\n",
       "      <td>0</td>\n",
       "      <td>41.0</td>\n",
       "      <td>False</td>\n",
       "      <td>...</td>\n",
       "      <td>0</td>\n",
       "      <td>0</td>\n",
       "      <td>0</td>\n",
       "      <td>0</td>\n",
       "      <td>0</td>\n",
       "      <td>1</td>\n",
       "      <td>0</td>\n",
       "      <td>0</td>\n",
       "      <td>1</td>\n",
       "      <td>1</td>\n",
       "    </tr>\n",
       "    <tr>\n",
       "      <th>2</th>\n",
       "      <td>5410f6d008ad6ee3090e3994</td>\n",
       "      <td>dublin</td>\n",
       "      <td>male</td>\n",
       "      <td>0</td>\n",
       "      <td>other</td>\n",
       "      <td>0</td>\n",
       "      <td>0</td>\n",
       "      <td>0</td>\n",
       "      <td>25.0</td>\n",
       "      <td>False</td>\n",
       "      <td>...</td>\n",
       "      <td>0</td>\n",
       "      <td>0</td>\n",
       "      <td>0</td>\n",
       "      <td>0</td>\n",
       "      <td>0</td>\n",
       "      <td>1</td>\n",
       "      <td>0</td>\n",
       "      <td>1</td>\n",
       "      <td>1</td>\n",
       "      <td>0</td>\n",
       "    </tr>\n",
       "    <tr>\n",
       "      <th>3</th>\n",
       "      <td>5410f6d008ad6ee3090e3998</td>\n",
       "      <td>dublin</td>\n",
       "      <td>female</td>\n",
       "      <td>0</td>\n",
       "      <td>irish</td>\n",
       "      <td>0</td>\n",
       "      <td>0</td>\n",
       "      <td>0</td>\n",
       "      <td>21.0</td>\n",
       "      <td>True</td>\n",
       "      <td>...</td>\n",
       "      <td>0</td>\n",
       "      <td>0</td>\n",
       "      <td>0</td>\n",
       "      <td>0</td>\n",
       "      <td>0</td>\n",
       "      <td>1</td>\n",
       "      <td>0</td>\n",
       "      <td>0</td>\n",
       "      <td>1</td>\n",
       "      <td>1</td>\n",
       "    </tr>\n",
       "    <tr>\n",
       "      <th>4</th>\n",
       "      <td>5410f6d008ad6ee3090e399c</td>\n",
       "      <td>dublin</td>\n",
       "      <td>male</td>\n",
       "      <td>0</td>\n",
       "      <td>irish</td>\n",
       "      <td>0</td>\n",
       "      <td>0</td>\n",
       "      <td>0</td>\n",
       "      <td>20.0</td>\n",
       "      <td>False</td>\n",
       "      <td>...</td>\n",
       "      <td>1</td>\n",
       "      <td>0</td>\n",
       "      <td>0</td>\n",
       "      <td>0</td>\n",
       "      <td>0</td>\n",
       "      <td>1</td>\n",
       "      <td>0</td>\n",
       "      <td>0</td>\n",
       "      <td>1</td>\n",
       "      <td>1</td>\n",
       "    </tr>\n",
       "  </tbody>\n",
       "</table>\n",
       "<p>5 rows × 62 columns</p>\n",
       "</div>"
      ],
      "text/plain": [
       "                        _id location     sex  musical_background nationality  \\\n",
       "0  5410f69308ad6ee3090e387a   dublin  female                   0       other   \n",
       "1  5410f69508ad6ee3090e3892   dublin    male                   0       irish   \n",
       "2  5410f6d008ad6ee3090e3994   dublin    male                   0       other   \n",
       "3  5410f6d008ad6ee3090e3998   dublin  female                   0       irish   \n",
       "4  5410f6d008ad6ee3090e399c   dublin    male                   0       irish   \n",
       "\n",
       "   visual_impairments  musical_expertise  hearing_impairments   age  \\\n",
       "0                   0                  0                    0  41.0   \n",
       "1                   0                  0                    0  41.0   \n",
       "2                   0                  0                    0  25.0   \n",
       "3                   0                  0                    0  21.0   \n",
       "4                   0                  0                    0  20.0   \n",
       "\n",
       "   critical_reaction       ...         musicpref_jazz  musicpref_folk  \\\n",
       "0              False       ...                      1               0   \n",
       "1              False       ...                      0               0   \n",
       "2              False       ...                      0               0   \n",
       "3               True       ...                      0               0   \n",
       "4              False       ...                      1               0   \n",
       "\n",
       "   musicpref_hiphop  musicpref_classical  musicpref_none  musicpref_rock  \\\n",
       "0                 0                    0               0               0   \n",
       "1                 0                    0               0               1   \n",
       "2                 0                    0               0               1   \n",
       "3                 0                    0               0               1   \n",
       "4                 0                    0               0               1   \n",
       "\n",
       "   musicpref_hip_hop  musicpref_world  musicpref_pop  musicpref_dance  \n",
       "0                  0                0              0                0  \n",
       "1                  0                0              1                1  \n",
       "2                  0                1              1                0  \n",
       "3                  0                0              1                1  \n",
       "4                  0                0              1                1  \n",
       "\n",
       "[5 rows x 62 columns]"
      ]
     },
     "execution_count": 51,
     "metadata": {},
     "output_type": "execute_result"
    }
   ],
   "source": [
    "eim_csv = Path('..', '..', 'fastai', 'data', 'good_reaction_trials_categorified.csv')\n",
    "eim_df = pd.read_csv(eim_csv)\n",
    "eim_df.head()"
   ]
  },
  {
   "cell_type": "code",
   "execution_count": 52,
   "metadata": {},
   "outputs": [],
   "source": [
    "cats = ['location', 'sex', 'musical_background', 'nationality', 'visual_impairments', 'hearing_impairments', \n",
    "        'musicpref_traditional_irish', 'musicpref_jazz', 'musicpref_folk', 'musicpref_hiphop', 'musicpref_classical', \n",
    "        'musicpref_none', 'musicpref_rock', 'musicpref_hip_hop', 'musicpref_world', 'musicpref_pop', 'musicpref_dance',\n",
    "        'language']\n",
    "\n",
    "conts = ['musical_expertise', 'age', 'control_activity', 'control_tension', 'control_engagement', \n",
    "         'control_positivity', 'control_like_dislike', 'song_chillsshiversthrills', 'song_activity', 'song_tension', \n",
    "         'song_familiarity', 'song_engagement', 'song_positivity', 'song_like_dislike', 'song_inspired', 'song_wonder', \n",
    "         'song_spirituality', 'song_thrills', 'song_chills', 'song_tenderness', 'song_nostalgia', 'song_goosebumps', \n",
    "         'song_overwhelmed', 'song_shivers', 'control_power', 'song_transcendence', 'song_sadness', 'song_joyfulactivation', \n",
    "         'song_peacefulness', 'song_power', 'personality_trusting', 'personality_artistic', 'personality_imagination', \n",
    "         'personality_reserved', 'personality_outgoing', 'personality_lazy', 'personality_stress', 'personality_nervous', \n",
    "         'personality_fault', 'personality_thorough', 'concentration']"
   ]
  },
  {
   "cell_type": "code",
   "execution_count": 53,
   "metadata": {},
   "outputs": [],
   "source": [
    "# Remove id, name, and item_description columns\n",
    "eim_df = eim_df.drop(['_id'], axis=1)"
   ]
  },
  {
   "cell_type": "code",
   "execution_count": 54,
   "metadata": {},
   "outputs": [],
   "source": [
    "eim_df.loc[eim_df.critical_reaction == False, 'critical_reaction'] = 0\n",
    "eim_df.loc[eim_df.critical_reaction == True, 'critical_reaction'] = 1"
   ]
  },
  {
   "cell_type": "code",
   "execution_count": 55,
   "metadata": {},
   "outputs": [],
   "source": [
    "# Replace missing values and convert cats columns to categories\n",
    "eim_df = preprocess(eim_df, cats)"
   ]
  },
  {
   "cell_type": "code",
   "execution_count": 56,
   "metadata": {},
   "outputs": [],
   "source": [
    "eim_df = eim_df.reset_index(drop=True)"
   ]
  },
  {
   "cell_type": "code",
   "execution_count": 57,
   "metadata": {},
   "outputs": [],
   "source": [
    "# Convert values in categorical columns to 0, 1, 2, 3, ... from the top of the DataFrame down\n",
    "eim_df = EimDataPreprocess(eim_df, cats, inplace=True)"
   ]
  },
  {
   "cell_type": "code",
   "execution_count": 58,
   "metadata": {},
   "outputs": [],
   "source": [
    "# Split combined DataFrame back out into train and test DataFrames\n",
    "# train_df = train_test_df.iloc[range(len(train_df))]\n",
    "# test_df = train_test_df.iloc[range(len(train_df),len(train_test_df))]"
   ]
  },
  {
   "cell_type": "code",
   "execution_count": 59,
   "metadata": {},
   "outputs": [],
   "source": [
    "train_pct, valid_pct, test_pct = .7, .15, .15\n",
    "idxs = eim_df.index.values\n",
    "np.random.shuffle(idxs)\n",
    "train_valid_split = int(np.floor(train_pct * len(eim_df)))\n",
    "valid_test_split = int(np.floor((train_pct + valid_pct) * len(eim_df)))\n",
    "train_idxs, valid_idxs, test_idxs = idxs[:train_valid_split], idxs[train_valid_split:valid_test_split], idxs[valid_test_split:]"
   ]
  },
  {
   "cell_type": "code",
   "execution_count": 60,
   "metadata": {},
   "outputs": [
    {
     "data": {
      "text/html": [
       "<div>\n",
       "<style scoped>\n",
       "    .dataframe tbody tr th:only-of-type {\n",
       "        vertical-align: middle;\n",
       "    }\n",
       "\n",
       "    .dataframe tbody tr th {\n",
       "        vertical-align: top;\n",
       "    }\n",
       "\n",
       "    .dataframe thead th {\n",
       "        text-align: right;\n",
       "    }\n",
       "</style>\n",
       "<table border=\"1\" class=\"dataframe\">\n",
       "  <thead>\n",
       "    <tr style=\"text-align: right;\">\n",
       "      <th></th>\n",
       "      <th>location</th>\n",
       "      <th>sex</th>\n",
       "      <th>musical_background</th>\n",
       "      <th>nationality</th>\n",
       "      <th>visual_impairments</th>\n",
       "      <th>musical_expertise</th>\n",
       "      <th>hearing_impairments</th>\n",
       "      <th>age</th>\n",
       "      <th>critical_reaction</th>\n",
       "      <th>control_activity</th>\n",
       "      <th>...</th>\n",
       "      <th>musicpref_jazz</th>\n",
       "      <th>musicpref_folk</th>\n",
       "      <th>musicpref_hiphop</th>\n",
       "      <th>musicpref_classical</th>\n",
       "      <th>musicpref_none</th>\n",
       "      <th>musicpref_rock</th>\n",
       "      <th>musicpref_hip_hop</th>\n",
       "      <th>musicpref_world</th>\n",
       "      <th>musicpref_pop</th>\n",
       "      <th>musicpref_dance</th>\n",
       "    </tr>\n",
       "  </thead>\n",
       "  <tbody>\n",
       "    <tr>\n",
       "      <th>0</th>\n",
       "      <td>0</td>\n",
       "      <td>0</td>\n",
       "      <td>0</td>\n",
       "      <td>0</td>\n",
       "      <td>0</td>\n",
       "      <td>0</td>\n",
       "      <td>0</td>\n",
       "      <td>41.0</td>\n",
       "      <td>0</td>\n",
       "      <td>0</td>\n",
       "      <td>...</td>\n",
       "      <td>0</td>\n",
       "      <td>0</td>\n",
       "      <td>0</td>\n",
       "      <td>0</td>\n",
       "      <td>0</td>\n",
       "      <td>0</td>\n",
       "      <td>0</td>\n",
       "      <td>0</td>\n",
       "      <td>0</td>\n",
       "      <td>0</td>\n",
       "    </tr>\n",
       "    <tr>\n",
       "      <th>1</th>\n",
       "      <td>0</td>\n",
       "      <td>1</td>\n",
       "      <td>0</td>\n",
       "      <td>1</td>\n",
       "      <td>0</td>\n",
       "      <td>0</td>\n",
       "      <td>0</td>\n",
       "      <td>41.0</td>\n",
       "      <td>0</td>\n",
       "      <td>0</td>\n",
       "      <td>...</td>\n",
       "      <td>1</td>\n",
       "      <td>0</td>\n",
       "      <td>0</td>\n",
       "      <td>0</td>\n",
       "      <td>0</td>\n",
       "      <td>1</td>\n",
       "      <td>0</td>\n",
       "      <td>0</td>\n",
       "      <td>1</td>\n",
       "      <td>1</td>\n",
       "    </tr>\n",
       "    <tr>\n",
       "      <th>2</th>\n",
       "      <td>0</td>\n",
       "      <td>1</td>\n",
       "      <td>0</td>\n",
       "      <td>0</td>\n",
       "      <td>0</td>\n",
       "      <td>0</td>\n",
       "      <td>0</td>\n",
       "      <td>25.0</td>\n",
       "      <td>0</td>\n",
       "      <td>0</td>\n",
       "      <td>...</td>\n",
       "      <td>1</td>\n",
       "      <td>0</td>\n",
       "      <td>0</td>\n",
       "      <td>0</td>\n",
       "      <td>0</td>\n",
       "      <td>1</td>\n",
       "      <td>0</td>\n",
       "      <td>1</td>\n",
       "      <td>1</td>\n",
       "      <td>0</td>\n",
       "    </tr>\n",
       "    <tr>\n",
       "      <th>3</th>\n",
       "      <td>0</td>\n",
       "      <td>0</td>\n",
       "      <td>0</td>\n",
       "      <td>1</td>\n",
       "      <td>0</td>\n",
       "      <td>0</td>\n",
       "      <td>0</td>\n",
       "      <td>21.0</td>\n",
       "      <td>1</td>\n",
       "      <td>0</td>\n",
       "      <td>...</td>\n",
       "      <td>1</td>\n",
       "      <td>0</td>\n",
       "      <td>0</td>\n",
       "      <td>0</td>\n",
       "      <td>0</td>\n",
       "      <td>1</td>\n",
       "      <td>0</td>\n",
       "      <td>0</td>\n",
       "      <td>1</td>\n",
       "      <td>1</td>\n",
       "    </tr>\n",
       "    <tr>\n",
       "      <th>4</th>\n",
       "      <td>0</td>\n",
       "      <td>1</td>\n",
       "      <td>0</td>\n",
       "      <td>1</td>\n",
       "      <td>0</td>\n",
       "      <td>0</td>\n",
       "      <td>0</td>\n",
       "      <td>20.0</td>\n",
       "      <td>0</td>\n",
       "      <td>0</td>\n",
       "      <td>...</td>\n",
       "      <td>0</td>\n",
       "      <td>0</td>\n",
       "      <td>0</td>\n",
       "      <td>0</td>\n",
       "      <td>0</td>\n",
       "      <td>1</td>\n",
       "      <td>0</td>\n",
       "      <td>0</td>\n",
       "      <td>1</td>\n",
       "      <td>1</td>\n",
       "    </tr>\n",
       "  </tbody>\n",
       "</table>\n",
       "<p>5 rows × 61 columns</p>\n",
       "</div>"
      ],
      "text/plain": [
       "   location  sex  musical_background  nationality  visual_impairments  \\\n",
       "0         0    0                   0            0                   0   \n",
       "1         0    1                   0            1                   0   \n",
       "2         0    1                   0            0                   0   \n",
       "3         0    0                   0            1                   0   \n",
       "4         0    1                   0            1                   0   \n",
       "\n",
       "   musical_expertise  hearing_impairments   age  critical_reaction  \\\n",
       "0                  0                    0  41.0                  0   \n",
       "1                  0                    0  41.0                  0   \n",
       "2                  0                    0  25.0                  0   \n",
       "3                  0                    0  21.0                  1   \n",
       "4                  0                    0  20.0                  0   \n",
       "\n",
       "   control_activity       ...         musicpref_jazz  musicpref_folk  \\\n",
       "0                 0       ...                      0               0   \n",
       "1                 0       ...                      1               0   \n",
       "2                 0       ...                      1               0   \n",
       "3                 0       ...                      1               0   \n",
       "4                 0       ...                      0               0   \n",
       "\n",
       "   musicpref_hiphop  musicpref_classical  musicpref_none  musicpref_rock  \\\n",
       "0                 0                    0               0               0   \n",
       "1                 0                    0               0               1   \n",
       "2                 0                    0               0               1   \n",
       "3                 0                    0               0               1   \n",
       "4                 0                    0               0               1   \n",
       "\n",
       "   musicpref_hip_hop  musicpref_world  musicpref_pop  musicpref_dance  \n",
       "0                  0                0              0                0  \n",
       "1                  0                0              1                1  \n",
       "2                  0                1              1                0  \n",
       "3                  0                0              1                1  \n",
       "4                  0                0              1                1  \n",
       "\n",
       "[5 rows x 61 columns]"
      ]
     },
     "execution_count": 60,
     "metadata": {},
     "output_type": "execute_result"
    }
   ],
   "source": [
    "eim_df.head()"
   ]
  },
  {
   "cell_type": "code",
   "execution_count": 61,
   "metadata": {},
   "outputs": [],
   "source": [
    "# train_valid_df = train_df.copy()\n",
    "train_df = eim_df.iloc[train_idxs, :]\n",
    "valid_df = eim_df.iloc[valid_idxs, :]\n",
    "test_df = eim_df.iloc[test_idxs, :]"
   ]
  },
  {
   "cell_type": "code",
   "execution_count": 62,
   "metadata": {},
   "outputs": [],
   "source": [
    "train_df.reset_index(drop=True, inplace=True)\n",
    "valid_df.reset_index(drop=True, inplace=True)\n",
    "test_df.reset_index(drop=True, inplace=True)"
   ]
  },
  {
   "cell_type": "code",
   "execution_count": 63,
   "metadata": {},
   "outputs": [
    {
     "data": {
      "text/html": [
       "<div>\n",
       "<style scoped>\n",
       "    .dataframe tbody tr th:only-of-type {\n",
       "        vertical-align: middle;\n",
       "    }\n",
       "\n",
       "    .dataframe tbody tr th {\n",
       "        vertical-align: top;\n",
       "    }\n",
       "\n",
       "    .dataframe thead th {\n",
       "        text-align: right;\n",
       "    }\n",
       "</style>\n",
       "<table border=\"1\" class=\"dataframe\">\n",
       "  <thead>\n",
       "    <tr style=\"text-align: right;\">\n",
       "      <th></th>\n",
       "      <th>location</th>\n",
       "      <th>sex</th>\n",
       "      <th>musical_background</th>\n",
       "      <th>nationality</th>\n",
       "      <th>visual_impairments</th>\n",
       "      <th>musical_expertise</th>\n",
       "      <th>hearing_impairments</th>\n",
       "      <th>age</th>\n",
       "      <th>critical_reaction</th>\n",
       "      <th>control_activity</th>\n",
       "      <th>...</th>\n",
       "      <th>musicpref_jazz</th>\n",
       "      <th>musicpref_folk</th>\n",
       "      <th>musicpref_hiphop</th>\n",
       "      <th>musicpref_classical</th>\n",
       "      <th>musicpref_none</th>\n",
       "      <th>musicpref_rock</th>\n",
       "      <th>musicpref_hip_hop</th>\n",
       "      <th>musicpref_world</th>\n",
       "      <th>musicpref_pop</th>\n",
       "      <th>musicpref_dance</th>\n",
       "    </tr>\n",
       "  </thead>\n",
       "  <tbody>\n",
       "    <tr>\n",
       "      <th>0</th>\n",
       "      <td>0</td>\n",
       "      <td>1</td>\n",
       "      <td>0</td>\n",
       "      <td>0</td>\n",
       "      <td>0</td>\n",
       "      <td>0</td>\n",
       "      <td>0</td>\n",
       "      <td>21.0</td>\n",
       "      <td>0</td>\n",
       "      <td>0</td>\n",
       "      <td>...</td>\n",
       "      <td>1</td>\n",
       "      <td>0</td>\n",
       "      <td>0</td>\n",
       "      <td>0</td>\n",
       "      <td>0</td>\n",
       "      <td>1</td>\n",
       "      <td>0</td>\n",
       "      <td>0</td>\n",
       "      <td>0</td>\n",
       "      <td>1</td>\n",
       "    </tr>\n",
       "    <tr>\n",
       "      <th>1</th>\n",
       "      <td>2</td>\n",
       "      <td>1</td>\n",
       "      <td>0</td>\n",
       "      <td>3</td>\n",
       "      <td>0</td>\n",
       "      <td>4</td>\n",
       "      <td>0</td>\n",
       "      <td>12.0</td>\n",
       "      <td>0</td>\n",
       "      <td>4</td>\n",
       "      <td>...</td>\n",
       "      <td>1</td>\n",
       "      <td>0</td>\n",
       "      <td>0</td>\n",
       "      <td>1</td>\n",
       "      <td>0</td>\n",
       "      <td>0</td>\n",
       "      <td>0</td>\n",
       "      <td>0</td>\n",
       "      <td>0</td>\n",
       "      <td>0</td>\n",
       "    </tr>\n",
       "    <tr>\n",
       "      <th>2</th>\n",
       "      <td>0</td>\n",
       "      <td>0</td>\n",
       "      <td>0</td>\n",
       "      <td>0</td>\n",
       "      <td>0</td>\n",
       "      <td>0</td>\n",
       "      <td>0</td>\n",
       "      <td>31.0</td>\n",
       "      <td>0</td>\n",
       "      <td>0</td>\n",
       "      <td>...</td>\n",
       "      <td>0</td>\n",
       "      <td>0</td>\n",
       "      <td>0</td>\n",
       "      <td>0</td>\n",
       "      <td>0</td>\n",
       "      <td>1</td>\n",
       "      <td>1</td>\n",
       "      <td>1</td>\n",
       "      <td>1</td>\n",
       "      <td>0</td>\n",
       "    </tr>\n",
       "    <tr>\n",
       "      <th>3</th>\n",
       "      <td>0</td>\n",
       "      <td>0</td>\n",
       "      <td>1</td>\n",
       "      <td>1</td>\n",
       "      <td>0</td>\n",
       "      <td>3</td>\n",
       "      <td>0</td>\n",
       "      <td>14.0</td>\n",
       "      <td>0</td>\n",
       "      <td>0</td>\n",
       "      <td>...</td>\n",
       "      <td>1</td>\n",
       "      <td>0</td>\n",
       "      <td>0</td>\n",
       "      <td>0</td>\n",
       "      <td>0</td>\n",
       "      <td>0</td>\n",
       "      <td>1</td>\n",
       "      <td>0</td>\n",
       "      <td>1</td>\n",
       "      <td>1</td>\n",
       "    </tr>\n",
       "    <tr>\n",
       "      <th>4</th>\n",
       "      <td>0</td>\n",
       "      <td>1</td>\n",
       "      <td>0</td>\n",
       "      <td>1</td>\n",
       "      <td>0</td>\n",
       "      <td>0</td>\n",
       "      <td>1</td>\n",
       "      <td>12.0</td>\n",
       "      <td>0</td>\n",
       "      <td>0</td>\n",
       "      <td>...</td>\n",
       "      <td>1</td>\n",
       "      <td>0</td>\n",
       "      <td>0</td>\n",
       "      <td>0</td>\n",
       "      <td>0</td>\n",
       "      <td>0</td>\n",
       "      <td>0</td>\n",
       "      <td>0</td>\n",
       "      <td>1</td>\n",
       "      <td>0</td>\n",
       "    </tr>\n",
       "  </tbody>\n",
       "</table>\n",
       "<p>5 rows × 61 columns</p>\n",
       "</div>"
      ],
      "text/plain": [
       "   location  sex  musical_background  nationality  visual_impairments  \\\n",
       "0         0    1                   0            0                   0   \n",
       "1         2    1                   0            3                   0   \n",
       "2         0    0                   0            0                   0   \n",
       "3         0    0                   1            1                   0   \n",
       "4         0    1                   0            1                   0   \n",
       "\n",
       "   musical_expertise  hearing_impairments   age  critical_reaction  \\\n",
       "0                  0                    0  21.0                  0   \n",
       "1                  4                    0  12.0                  0   \n",
       "2                  0                    0  31.0                  0   \n",
       "3                  3                    0  14.0                  0   \n",
       "4                  0                    1  12.0                  0   \n",
       "\n",
       "   control_activity       ...         musicpref_jazz  musicpref_folk  \\\n",
       "0                 0       ...                      1               0   \n",
       "1                 4       ...                      1               0   \n",
       "2                 0       ...                      0               0   \n",
       "3                 0       ...                      1               0   \n",
       "4                 0       ...                      1               0   \n",
       "\n",
       "   musicpref_hiphop  musicpref_classical  musicpref_none  musicpref_rock  \\\n",
       "0                 0                    0               0               1   \n",
       "1                 0                    1               0               0   \n",
       "2                 0                    0               0               1   \n",
       "3                 0                    0               0               0   \n",
       "4                 0                    0               0               0   \n",
       "\n",
       "   musicpref_hip_hop  musicpref_world  musicpref_pop  musicpref_dance  \n",
       "0                  0                0              0                1  \n",
       "1                  0                0              0                0  \n",
       "2                  1                1              1                0  \n",
       "3                  1                0              1                1  \n",
       "4                  0                0              1                0  \n",
       "\n",
       "[5 rows x 61 columns]"
      ]
     },
     "execution_count": 63,
     "metadata": {},
     "output_type": "execute_result"
    }
   ],
   "source": [
    "train_df.head()"
   ]
  },
  {
   "cell_type": "code",
   "execution_count": 68,
   "metadata": {},
   "outputs": [
    {
     "data": {
      "text/plain": [
       "1.552593131223876"
      ]
     },
     "execution_count": 68,
     "metadata": {},
     "output_type": "execute_result"
    }
   ],
   "source": []
  },
  {
   "cell_type": "code",
   "execution_count": 70,
   "metadata": {},
   "outputs": [],
   "source": [
    "def std_median(df, conts):\n",
    "    return df[conts].std().median()"
   ]
  },
  {
   "cell_type": "code",
   "execution_count": 138,
   "metadata": {},
   "outputs": [
    {
     "data": {
      "text/html": [
       "<div>\n",
       "<style scoped>\n",
       "    .dataframe tbody tr th:only-of-type {\n",
       "        vertical-align: middle;\n",
       "    }\n",
       "\n",
       "    .dataframe tbody tr th {\n",
       "        vertical-align: top;\n",
       "    }\n",
       "\n",
       "    .dataframe thead th {\n",
       "        text-align: right;\n",
       "    }\n",
       "</style>\n",
       "<table border=\"1\" class=\"dataframe\">\n",
       "  <thead>\n",
       "    <tr style=\"text-align: right;\">\n",
       "      <th></th>\n",
       "      <th>foo</th>\n",
       "      <th>bar</th>\n",
       "      <th>baz</th>\n",
       "      <th>bat</th>\n",
       "      <th>qux</th>\n",
       "    </tr>\n",
       "  </thead>\n",
       "  <tbody>\n",
       "    <tr>\n",
       "      <th>0</th>\n",
       "      <td>1</td>\n",
       "      <td>2</td>\n",
       "      <td>1</td>\n",
       "      <td>1</td>\n",
       "      <td>0</td>\n",
       "    </tr>\n",
       "    <tr>\n",
       "      <th>1</th>\n",
       "      <td>2</td>\n",
       "      <td>6</td>\n",
       "      <td>1</td>\n",
       "      <td>0</td>\n",
       "      <td>1</td>\n",
       "    </tr>\n",
       "    <tr>\n",
       "      <th>2</th>\n",
       "      <td>1</td>\n",
       "      <td>7</td>\n",
       "      <td>1</td>\n",
       "      <td>0</td>\n",
       "      <td>0</td>\n",
       "    </tr>\n",
       "  </tbody>\n",
       "</table>\n",
       "</div>"
      ],
      "text/plain": [
       "   foo  bar  baz  bat  qux\n",
       "0    1    2    1    1    0\n",
       "1    2    6    1    0    1\n",
       "2    1    7    1    0    0"
      ]
     },
     "execution_count": 138,
     "metadata": {},
     "output_type": "execute_result"
    }
   ],
   "source": [
    "dummy_df = pd.DataFrame({'foo': [1, 2, 1], 'bar': [2, 6, 7], 'baz': [1, 1, 1], 'bat': [1, 0, 0], 'qux': [0, 1, 0]})\n",
    "dummy_df"
   ]
  },
  {
   "cell_type": "code",
   "execution_count": 139,
   "metadata": {},
   "outputs": [],
   "source": [
    "dist_mat = np.zeros((len(dummy_df), len(dummy_df)))"
   ]
  },
  {
   "cell_type": "code",
   "execution_count": 144,
   "metadata": {},
   "outputs": [
    {
     "data": {
      "text/plain": [
       "1.6115507901271082"
      ]
     },
     "execution_count": 144,
     "metadata": {},
     "output_type": "execute_result"
    }
   ],
   "source": [
    "dummy_stds = std_median(dummy_df, dummy_conts)\n",
    "dummy_stds"
   ]
  },
  {
   "cell_type": "code",
   "execution_count": 145,
   "metadata": {},
   "outputs": [],
   "source": [
    "for i in range(len(dummy_df)):\n",
    "    a = dummy_df.iloc[i]\n",
    "    \n",
    "    for j in range(len(dummy_df)):\n",
    "        b = dummy_df.iloc[j]\n",
    "        dist = nc_distance(a, b, dummy_cats, dummy_conts, dummy_stds)\n",
    "        dist_mat[i][j] = dist"
   ]
  },
  {
   "cell_type": "code",
   "execution_count": 151,
   "metadata": {},
   "outputs": [
    {
     "data": {
      "text/plain": [
       "array([4.49701029, 0.        , 2.28541059])"
      ]
     },
     "execution_count": 151,
     "metadata": {},
     "output_type": "execute_result"
    }
   ],
   "source": [
    "dist_mat[1]"
   ]
  },
  {
   "cell_type": "code",
   "execution_count": 154,
   "metadata": {},
   "outputs": [
    {
     "data": {
      "text/plain": [
       "array([1, 2, 0])"
      ]
     },
     "execution_count": 154,
     "metadata": {},
     "output_type": "execute_result"
    }
   ],
   "source": [
    "np.argsort(dist_mat[1])"
   ]
  },
  {
   "cell_type": "code",
   "execution_count": 156,
   "metadata": {},
   "outputs": [
    {
     "data": {
      "text/plain": [
       "array([0, 2, 1])"
      ]
     },
     "execution_count": 156,
     "metadata": {},
     "output_type": "execute_result"
    }
   ],
   "source": [
    "np.argsort(dist_mat[1])[::-1]"
   ]
  },
  {
   "cell_type": "code",
   "execution_count": 120,
   "metadata": {},
   "outputs": [],
   "source": [
    "def nc_distance(a, b, cats, conts, std_med):\n",
    "    a_cats = a[cats]\n",
    "    a_conts = a[conts]\n",
    "    b_cats = b[cats]\n",
    "    b_conts = b[conts]\n",
    "    \n",
    "    cont_diff = a_conts - b_conts\n",
    "    cont_distance = np.dot(cont_diff, cont_diff)\n",
    "    \n",
    "    cat_diff = np.sum(a_conts != b_conts)\n",
    "    \n",
    "    return np.sqrt(cont_distance + cat_diff * std_med)"
   ]
  },
  {
   "cell_type": "code",
   "execution_count": 21,
   "metadata": {},
   "outputs": [],
   "source": [
    "# Segment train and test DataFrames into input and output DataFrames\n",
    "train_input, train_y = train_df.drop('critical_reaction', 1), train_df.critical_reaction\n",
    "valid_input, valid_y = valid_df.drop('critical_reaction', 1), valid_df.critical_reaction\n",
    "test_input, test_y = test_df.drop('critical_reaction', 1), test_df.critical_reaction"
   ]
  },
  {
   "cell_type": "code",
   "execution_count": 22,
   "metadata": {},
   "outputs": [
    {
     "data": {
      "text/plain": [
       "(0, 1)"
      ]
     },
     "execution_count": 22,
     "metadata": {},
     "output_type": "execute_result"
    }
   ],
   "source": [
    "# Determine the range of output values\n",
    "y_range = (train_y.min(), train_y.max())\n",
    "y_range"
   ]
  },
  {
   "cell_type": "code",
   "execution_count": 23,
   "metadata": {},
   "outputs": [
    {
     "data": {
      "text/plain": [
       "[(7, 5),\n",
       " (2, 2),\n",
       " (2, 2),\n",
       " (16, 9),\n",
       " (2, 2),\n",
       " (2, 2),\n",
       " (2, 2),\n",
       " (2, 2),\n",
       " (2, 2),\n",
       " (2, 2),\n",
       " (2, 2),\n",
       " (2, 2),\n",
       " (2, 2),\n",
       " (2, 2),\n",
       " (2, 2),\n",
       " (2, 2),\n",
       " (2, 2),\n",
       " (4, 3)]"
      ]
     },
     "execution_count": 23,
     "metadata": {},
     "output_type": "execute_result"
    }
   ],
   "source": [
    "# Get a list of tuples of embedding dimensions\n",
    "# Tuples are (category_size, embedding_size), where embedding_size is the smaller of 50 and half the number of unique values in that category\n",
    "emb_szs = get_embs_dims(eim_df, cats)\n",
    "emb_szs"
   ]
  },
  {
   "cell_type": "code",
   "execution_count": 24,
   "metadata": {},
   "outputs": [
    {
     "data": {
      "text/plain": [
       "25"
      ]
     },
     "execution_count": 24,
     "metadata": {},
     "output_type": "execute_result"
    }
   ],
   "source": [
    "# Delete temporary DataFrames to free up memory\n",
    "del eim_df\n",
    "gc.collect()"
   ]
  },
  {
   "cell_type": "markdown",
   "metadata": {},
   "source": [
    "# Model construction"
   ]
  },
  {
   "cell_type": "code",
   "execution_count": 25,
   "metadata": {},
   "outputs": [
    {
     "name": "stdout",
     "output_type": "stream",
     "text": [
      "EimModel(\n",
      "  (embs): ModuleList(\n",
      "    (0): Embedding(7, 5)\n",
      "    (1): Embedding(2, 2)\n",
      "    (2): Embedding(2, 2)\n",
      "    (3): Embedding(16, 9)\n",
      "    (4): Embedding(2, 2)\n",
      "    (5): Embedding(2, 2)\n",
      "    (6): Embedding(2, 2)\n",
      "    (7): Embedding(2, 2)\n",
      "    (8): Embedding(2, 2)\n",
      "    (9): Embedding(2, 2)\n",
      "    (10): Embedding(2, 2)\n",
      "    (11): Embedding(2, 2)\n",
      "    (12): Embedding(2, 2)\n",
      "    (13): Embedding(2, 2)\n",
      "    (14): Embedding(2, 2)\n",
      "    (15): Embedding(2, 2)\n",
      "    (16): Embedding(2, 2)\n",
      "    (17): Embedding(4, 3)\n",
      "  )\n",
      "  (lins): ModuleList(\n",
      "    (0): Linear(in_features=88, out_features=1000, bias=True)\n",
      "    (1): Linear(in_features=1000, out_features=500, bias=True)\n",
      "  )\n",
      "  (bns): ModuleList(\n",
      "    (0): BatchNorm1d(1000, eps=1e-05, momentum=0.1, affine=True, track_running_stats=True)\n",
      "    (1): BatchNorm1d(500, eps=1e-05, momentum=0.1, affine=True, track_running_stats=True)\n",
      "  )\n",
      "  (outp): Linear(in_features=500, out_features=1, bias=True)\n",
      "  (emb_drop): Dropout(p=0.04)\n",
      "  (drops): ModuleList(\n",
      "    (0): Dropout(p=0.01)\n",
      "    (1): Dropout(p=0.01)\n",
      "  )\n",
      "  (bn): BatchNorm1d(41, eps=1e-05, momentum=0.1, affine=True, track_running_stats=True)\n",
      ")\n"
     ]
    }
   ],
   "source": [
    "# EmbeddingModelData exposes path, trn_dl, val_dl, and test_dl as attributes on the object. On creation, it:\n",
    "# - Takes the train_input, train_y, and cats and creates an EmbeddingDataset\n",
    "# - Takes the test_input, test_y, and cats and creates an EmbeddingDataset\n",
    "# - Wraps these EmbeddingDatasets in DataLoaders, passing on bs to the DataLoader\n",
    "# - Stories these DataLoaders and path as attributes on the created object\n",
    "\n",
    "# EmbeddingDataset:\n",
    "# - Used here, the entire input DataFrame, a list of categories, and an output DataFrame are provided\n",
    "# - The input DataFrame is split into a categorical and a continuous DataFrame\n",
    "# - The 'cats' DataFrame is converted to an int64 NumPy ndarray and stored on the EmbeddingDataset object as the cats attribute\n",
    "# - The 'conts' DataFrame is converted to a float32 NumPy ndarray and stored on the EmbeddingDataset object as the conts attribute\n",
    "# - The 'y' DataFrame is converted to a float32 NumPy array and stored on the EmbeddingDataset object as the y attribute\n",
    "# - If no cats are provided, the cats attribute is an array of zeros the length of the conts list, this is similar for conts\n",
    "# - When asked for an item, returns: [cats, conts, y] for that particular item\n",
    "\n",
    "model_data = EimModelData.from_data_frames('./tmp', train_input, valid_input, train_y, valid_y, \n",
    "                                           cats, conts, bs=len(train_input), test_df=test_df)\n",
    "emb_model = EimModel(emb_szs, len(conts), 0.04, 1, [1000, 500], 0.01, y_range=y_range, classify=True, use_bn=False)\n",
    "emb_model.to(device)\n",
    "print(emb_model)"
   ]
  },
  {
   "cell_type": "markdown",
   "metadata": {},
   "source": [
    "# Training loop definition"
   ]
  },
  {
   "cell_type": "code",
   "execution_count": 26,
   "metadata": {},
   "outputs": [],
   "source": [
    "from torch import Tensor\n",
    "from IPython.display import clear_output, display\n",
    "\n",
    "# Validation\n",
    "def eim_validate(model, model_data, criterion, epochs):\n",
    "    model.eval()\n",
    "    running_loss = []\n",
    "    for data in iter(model_data.val_dl):\n",
    "        # get inputs\n",
    "        x_cats, x_conts, y = data\n",
    "\n",
    "        # wrap with variable\n",
    "        x_cats = torch.LongTensor(x_cats).to(device)\n",
    "        x_conts = torch.FloatTensor(x_conts).to(device)\n",
    "        y = torch.FloatTensor(y).to(device)\n",
    "        x_cats.requires_grad = False\n",
    "        x_conts.requires_grad = False\n",
    "        y.requires_grad = False\n",
    "        \n",
    "        outputs = model(x_cats, x_conts)\n",
    "        loss = criterion(outputs, y)\n",
    "        running_loss.append(loss.cpu().detach().data)    \n",
    "    return np.mean(running_loss)\n",
    "    \n",
    "\n",
    "# Training:\n",
    "# - Gets next batch from DataLoader\n",
    "# - Breaks batch into cats, conts, and output\n",
    "# - Converts these into tensors\n",
    "# - Specifies that gradients for cats and conts should not be computed\n",
    "# - Performs forward/backward pass\n",
    "\n",
    "def eim_train(model, model_data, optimizer, criterion, epochs, patience=50, print_output=True, save_best=False, save_path=Path('.', 'best_model.pkl')):\n",
    "    model.train()\n",
    "    \n",
    "    running_losses = {'train': [], 'validation': []}\n",
    "    \n",
    "    best_loss = float('inf')\n",
    "    es_patience = patience\n",
    "    es_counter = 0\n",
    "    \n",
    "    epoch_counter = 0\n",
    "    for epoch in range(epochs):\n",
    "        epoch_counter += 1\n",
    "        \n",
    "        for data in iter(model_data.trn_dl):            \n",
    "            \n",
    "            # Get inputs\n",
    "            x_cats, x_conts, y = data\n",
    "\n",
    "            # Wrap with variables\n",
    "            x_cats = torch.LongTensor(x_cats).to(device)\n",
    "            x_conts = torch.FloatTensor(x_conts).to(device)\n",
    "            y = torch.FloatTensor(y).to(device)\n",
    "            x_cats.requires_grad = False\n",
    "            x_conts.requires_grad = False\n",
    "            y.requires_grad = False\n",
    "\n",
    "            # Zero the parameter gradients\n",
    "            optimizer.zero_grad()\n",
    "            \n",
    "            # Forward pass + backward pass + optimization\n",
    "            outputs = model(x_cats, x_conts)\n",
    "            train_loss = criterion(outputs, y)\n",
    "            \n",
    "            running_losses['train'].append(train_loss.cpu().detach().numpy())\n",
    "            \n",
    "            train_loss.backward()\n",
    "            optimizer.step()\n",
    "        \n",
    "        # Validate after each epoch\n",
    "        validation_loss = eim_validate(model, model_data, criterion, epochs)\n",
    "        running_losses['validation'].append(validation_loss)\n",
    "        \n",
    "        # Track best loss\n",
    "        if validation_loss < best_loss:\n",
    "            best_loss = validation_loss\n",
    "            loss_improved = True\n",
    "            if save_best:\n",
    "                torch.save(model.state_dict(), save_path)\n",
    "        else:\n",
    "            loss_improved = False\n",
    "        \n",
    "        # Simple early stopping\n",
    "        if loss_improved:\n",
    "            es_counter = 0\n",
    "        else:\n",
    "            es_counter += 1\n",
    "            if es_counter >= patience:\n",
    "                print(\"Early stopping\")\n",
    "                break\n",
    "        \n",
    "        # Print progress\n",
    "        if print_output:\n",
    "            print(\"\\rEpoch: {}/{}, Train Loss: {}, Validation Loss: {}\\r\"\n",
    "                  .format(epoch_counter, epochs, train_loss, validation_loss))\n",
    "            \n",
    "    return running_losses"
   ]
  },
  {
   "cell_type": "markdown",
   "metadata": {},
   "source": [
    "# Training dry-run"
   ]
  },
  {
   "cell_type": "code",
   "execution_count": 27,
   "metadata": {},
   "outputs": [
    {
     "name": "stdout",
     "output_type": "stream",
     "text": [
      "Epoch: 1/10, Train Loss: 0.8886274695396423, Validation Loss: 0.7806016206741333\n",
      "Epoch: 2/10, Train Loss: 0.7578296065330505, Validation Loss: 0.7529048919677734\n",
      "Epoch: 3/10, Train Loss: 0.6817914247512817, Validation Loss: 0.6903565526008606\n",
      "Epoch: 4/10, Train Loss: 0.6414613723754883, Validation Loss: 0.687322735786438\n",
      "Epoch: 5/10, Train Loss: 0.6359045505523682, Validation Loss: 0.6801895499229431\n",
      "Epoch: 6/10, Train Loss: 0.6318729519844055, Validation Loss: 0.6767841577529907\n",
      "Epoch: 7/10, Train Loss: 0.6286596059799194, Validation Loss: 0.6729975938796997\n",
      "Epoch: 8/10, Train Loss: 0.6259714365005493, Validation Loss: 0.6702465415000916\n",
      "Epoch: 9/10, Train Loss: 0.6236695051193237, Validation Loss: 0.6676816940307617\n",
      "Epoch: 10/10, Train Loss: 0.6216478943824768, Validation Loss: 0.6655073761940002\n"
     ]
    }
   ],
   "source": [
    "opt = SGD(emb_model.parameters(), lr = 1e-2, weight_decay=1e-4)\n",
    "crit = F.binary_cross_entropy\n",
    "\n",
    "epochs = 10\n",
    "losses = eim_train(emb_model, model_data, opt, crit, epochs, patience=25)"
   ]
  },
  {
   "cell_type": "code",
   "execution_count": 28,
   "metadata": {},
   "outputs": [
    {
     "data": {
      "image/png": "[encoded data removed]",
      "text/plain": [
       "<Figure size 432x288 with 1 Axes>"
      ]
     },
     "metadata": {
      "needs_background": "light"
     },
     "output_type": "display_data"
    }
   ],
   "source": [
    "plt.plot(losses['train'], label='Training Loss (Cross-Entropy)')\n",
    "plt.plot(losses['validation'], label='Validation Loss (Cross-Entropy)')\n",
    "plt.legend();"
   ]
  },
  {
   "cell_type": "markdown",
   "metadata": {},
   "source": [
    "# Hyperparameter optimization"
   ]
  },
  {
   "cell_type": "code",
   "execution_count": 29,
   "metadata": {},
   "outputs": [],
   "source": [
    "from skopt.space import Real, Integer, Categorical\n",
    "from IPython.display import clear_output, display\n",
    "\n",
    "n_calls, n_called = 2000, 0\n",
    "\n",
    "param_order = [\n",
    "    'learning_rate',\n",
    "    'weight_decay',\n",
    "    'epochs',\n",
    "    'layers',\n",
    "    'dropouts',\n",
    "    'embedding_dropout',\n",
    "    'use_batch_norm'\n",
    "]\n",
    "\n",
    "dimensions = [\n",
    "    Real(1e-8, 1, name='learning_rate'),\n",
    "    Real(1e-5, 1e-1, name='weight_decay'),\n",
    "    Integer(5, 2500, name='epochs'),\n",
    "    Categorical([(60, 60), (60, 30, 15, 10, 5), (60, 30), (60, 30, 15), (30, 15)], name='layers'),\n",
    "    Real(0., 0.75, name='dropouts'),\n",
    "    Real(0., 0.75, name='embedding_dropout'),\n",
    "    Categorical([True, False], name='use_batch_norm')\n",
    "]\n",
    "\n",
    "@skopt.utils.use_named_args(dimensions=dimensions)\n",
    "def objective(learning_rate=1e-4, weight_decay=0.04, epochs=10, layers=[10, 10], dropouts=[0.2, 0.2], \n",
    "              embedding_dropout=0.2, use_batch_norm=True):\n",
    "    \n",
    "    # Reset as much as possible\n",
    "    torch.cuda.empty_cache()\n",
    "    seed_everything(random_seed)\n",
    "\n",
    "    layers = list(layers)\n",
    "    \n",
    "    # Build model\n",
    "    emb_model = EimModel(emb_szs, len(conts), embedding_dropout, 1, layers, dropouts, y_range=y_range, \n",
    "                         classify=True, use_bn=use_batch_norm)\n",
    "    emb_model.to(device)\n",
    "    \n",
    "    opt = SGD(emb_model.parameters(), lr=learning_rate, weight_decay=weight_decay)\n",
    "    crit = F.binary_cross_entropy\n",
    "    losses = eim_train(emb_model, model_data, opt, crit, epochs, patience=25, print_output=False, save_best=False)\n",
    "    \n",
    "    return(min(losses['validation']))"
   ]
  },
  {
   "cell_type": "code",
   "execution_count": 30,
   "metadata": {},
   "outputs": [],
   "source": [
    "class ProgressCallback():\n",
    "    def __init__(self):\n",
    "        pass\n",
    "\n",
    "    def __call__(self, res):\n",
    "        calls = len(res['func_vals'])\n",
    "        clear_output()\n",
    "        print('\\rCompleted trial {}/{}'.format(calls, n_calls))"
   ]
  },
  {
   "cell_type": "code",
   "execution_count": 31,
   "metadata": {},
   "outputs": [],
   "source": [
    "class CheckpointSaver(object):\n",
    "    def __init__(self, checkpoint_path, **dump_options):\n",
    "        self.checkpoint_path = checkpoint_path\n",
    "        self.dump_options = dump_options\n",
    "\n",
    "    def __call__(self, res):\n",
    "        from skopt import dump\n",
    "        dump(res, self.checkpoint_path, **self.dump_options)"
   ]
  },
  {
   "cell_type": "code",
   "execution_count": 32,
   "metadata": {},
   "outputs": [],
   "source": [
    "checkpoint_callback = CheckpointSaver(Path('.', 'opt_checkpoint.pkl'))\n",
    "progress_callback = ProgressCallback()\n",
    "\n",
    "opt_checkpoint_path = Path('.', 'opt_checkpoint.pkl')"
   ]
  },
  {
   "cell_type": "code",
   "execution_count": 54,
   "metadata": {},
   "outputs": [],
   "source": [
    "import pathlib\n",
    "\n",
    "resume_optimization = True\n",
    "previous_x0, previous_y0 = None, None\n",
    "\n",
    "if resume_optimization:\n",
    "    from skopt import load\n",
    "    \n",
    "    if opt_checkpoint_path.exists:\n",
    "        previous_res = load(opt_checkpoint_path)\n",
    "        previous_x0 = previous_res.x_iters\n",
    "        previous_y0 = previous_res.func_vals\n",
    "        n_called = len(previous_x0)"
   ]
  },
  {
   "cell_type": "code",
   "execution_count": 55,
   "metadata": {},
   "outputs": [
    {
     "data": {
      "text/plain": [
       "148"
      ]
     },
     "execution_count": 55,
     "metadata": {},
     "output_type": "execute_result"
    }
   ],
   "source": [
    "n_called"
   ]
  },
  {
   "cell_type": "code",
   "execution_count": 56,
   "metadata": {},
   "outputs": [
    {
     "data": {
      "text/plain": [
       "1852"
      ]
     },
     "execution_count": 56,
     "metadata": {},
     "output_type": "execute_result"
    }
   ],
   "source": [
    "n_calls - n_called"
   ]
  },
  {
   "cell_type": "code",
   "execution_count": null,
   "metadata": {},
   "outputs": [
    {
     "name": "stdout",
     "output_type": "stream",
     "text": [
      "Completed trial 150/2000\n"
     ]
    }
   ],
   "source": [
    "opt_results = skopt.gp_minimize(objective,\n",
    "                                dimensions,\n",
    "                                n_calls=n_calls - n_called,\n",
    "                                random_state=random_seed,\n",
    "                                x0=previous_x0,\n",
    "                                y0=previous_y0,\n",
    "                                callback=[progress_callback, checkpoint_callback])"
   ]
  },
  {
   "cell_type": "markdown",
   "metadata": {},
   "source": [
    "# Train tuned model"
   ]
  },
  {
   "cell_type": "markdown",
   "metadata": {},
   "source": [
    "## Get best parameters"
   ]
  },
  {
   "cell_type": "code",
   "execution_count": 36,
   "metadata": {},
   "outputs": [],
   "source": [
    "from skopt import load\n",
    "opt_results = load(opt_checkpoint_path)"
   ]
  },
  {
   "cell_type": "code",
   "execution_count": 37,
   "metadata": {},
   "outputs": [
    {
     "name": "stdout",
     "output_type": "stream",
     "text": [
      "Best loss: 0.5955487489700317\n"
     ]
    }
   ],
   "source": [
    "print('Best loss: {}'.format(opt_results.fun))"
   ]
  },
  {
   "cell_type": "code",
   "execution_count": 38,
   "metadata": {},
   "outputs": [
    {
     "name": "stdout",
     "output_type": "stream",
     "text": [
      "Parameters:\n"
     ]
    },
    {
     "data": {
      "text/plain": [
       "{'learning_rate': 0.5409990228324164,\n",
       " 'weight_decay': 1e-05,\n",
       " 'epochs': 2500,\n",
       " 'layers': (60, 30, 15),\n",
       " 'dropouts': 0.6276112488574774,\n",
       " 'embedding_dropout': 0.0,\n",
       " 'use_batch_norm': True}"
      ]
     },
     "execution_count": 38,
     "metadata": {},
     "output_type": "execute_result"
    }
   ],
   "source": [
    "print('Parameters:')\n",
    "opt_params = dict(zip(param_order, opt_results.x))\n",
    "opt_params"
   ]
  },
  {
   "cell_type": "markdown",
   "metadata": {},
   "source": [
    "Train model with these parameters until we start to diverge"
   ]
  },
  {
   "cell_type": "code",
   "execution_count": 39,
   "metadata": {},
   "outputs": [
    {
     "name": "stdout",
     "output_type": "stream",
     "text": [
      "Epoch: 1/5000, Train Loss: 0.8946560621261597, Validation Loss: 0.6876766681671143\n",
      "Epoch: 2/5000, Train Loss: 0.6857378482818604, Validation Loss: 0.6387289762496948\n",
      "Epoch: 3/5000, Train Loss: 0.6321710348129272, Validation Loss: 0.6254568696022034\n",
      "Epoch: 4/5000, Train Loss: 0.6169031262397766, Validation Loss: 0.6206015348434448\n",
      "Epoch: 5/5000, Train Loss: 0.6107935905456543, Validation Loss: 0.6189981698989868\n",
      "Epoch: 6/5000, Train Loss: 0.6083681583404541, Validation Loss: 0.6185595989227295\n",
      "Epoch: 7/5000, Train Loss: 0.6073877215385437, Validation Loss: 0.6183799505233765\n",
      "Epoch: 8/5000, Train Loss: 0.6068851947784424, Validation Loss: 0.6182711720466614\n",
      "Epoch: 9/5000, Train Loss: 0.60654616355896, Validation Loss: 0.6181579828262329\n",
      "Epoch: 10/5000, Train Loss: 0.6062456369400024, Validation Loss: 0.6179386377334595\n",
      "Epoch: 11/5000, Train Loss: 0.6059613227844238, Validation Loss: 0.617594838142395\n",
      "Epoch: 12/5000, Train Loss: 0.6056894063949585, Validation Loss: 0.6172212958335876\n",
      "Epoch: 13/5000, Train Loss: 0.6054335236549377, Validation Loss: 0.6168881058692932\n",
      "Epoch: 14/5000, Train Loss: 0.605193018913269, Validation Loss: 0.6164671182632446\n",
      "Epoch: 15/5000, Train Loss: 0.6049215197563171, Validation Loss: 0.6160897016525269\n",
      "Epoch: 16/5000, Train Loss: 0.6046616435050964, Validation Loss: 0.6157404184341431\n",
      "Epoch: 17/5000, Train Loss: 0.604396641254425, Validation Loss: 0.615229606628418\n",
      "Epoch: 18/5000, Train Loss: 0.6041186451911926, Validation Loss: 0.614891529083252\n",
      "Epoch: 19/5000, Train Loss: 0.6038578152656555, Validation Loss: 0.6144928336143494\n",
      "Epoch: 20/5000, Train Loss: 0.6035699844360352, Validation Loss: 0.6139838099479675\n",
      "Epoch: 21/5000, Train Loss: 0.6032310724258423, Validation Loss: 0.61348956823349\n",
      "Epoch: 22/5000, Train Loss: 0.6028997302055359, Validation Loss: 0.6129710674285889\n",
      "Epoch: 23/5000, Train Loss: 0.6024675369262695, Validation Loss: 0.612446129322052\n",
      "Epoch: 24/5000, Train Loss: 0.6020851731300354, Validation Loss: 0.6119836568832397\n",
      "Epoch: 25/5000, Train Loss: 0.6016843318939209, Validation Loss: 0.6115788221359253\n",
      "Epoch: 26/5000, Train Loss: 0.6012799739837646, Validation Loss: 0.6112626791000366\n",
      "Epoch: 27/5000, Train Loss: 0.6009365320205688, Validation Loss: 0.6109769344329834\n",
      "Epoch: 28/5000, Train Loss: 0.6006060242652893, Validation Loss: 0.6106316447257996\n",
      "Epoch: 29/5000, Train Loss: 0.6002618670463562, Validation Loss: 0.6102787256240845\n",
      "Epoch: 30/5000, Train Loss: 0.5999071002006531, Validation Loss: 0.609961986541748\n",
      "Epoch: 31/5000, Train Loss: 0.5995423793792725, Validation Loss: 0.6095138788223267\n",
      "Epoch: 32/5000, Train Loss: 0.599175214767456, Validation Loss: 0.6091150641441345\n",
      "Epoch: 33/5000, Train Loss: 0.5988062024116516, Validation Loss: 0.6087446212768555\n",
      "Epoch: 34/5000, Train Loss: 0.5984370708465576, Validation Loss: 0.6083239316940308\n",
      "Epoch: 35/5000, Train Loss: 0.5980561375617981, Validation Loss: 0.6080965399742126\n",
      "Epoch: 36/5000, Train Loss: 0.5976811051368713, Validation Loss: 0.6074596643447876\n",
      "Epoch: 37/5000, Train Loss: 0.597301185131073, Validation Loss: 0.6074363589286804\n",
      "Epoch: 38/5000, Train Loss: 0.5969492197036743, Validation Loss: 0.6065279245376587\n",
      "Epoch: 39/5000, Train Loss: 0.5965630412101746, Validation Loss: 0.606816291809082\n",
      "Epoch: 40/5000, Train Loss: 0.5961958765983582, Validation Loss: 0.6056212186813354\n",
      "Epoch: 41/5000, Train Loss: 0.595797598361969, Validation Loss: 0.6061093807220459\n",
      "Epoch: 42/5000, Train Loss: 0.5954262614250183, Validation Loss: 0.6048111319541931\n",
      "Epoch: 43/5000, Train Loss: 0.595043420791626, Validation Loss: 0.6054118275642395\n",
      "Epoch: 44/5000, Train Loss: 0.5946046113967896, Validation Loss: 0.6041951775550842\n",
      "Epoch: 45/5000, Train Loss: 0.5942475199699402, Validation Loss: 0.6048609614372253\n",
      "Epoch: 46/5000, Train Loss: 0.5937737822532654, Validation Loss: 0.6036337614059448\n",
      "Epoch: 47/5000, Train Loss: 0.5934173464775085, Validation Loss: 0.6043303608894348\n",
      "Epoch: 48/5000, Train Loss: 0.5929794907569885, Validation Loss: 0.6030900478363037\n",
      "Epoch: 49/5000, Train Loss: 0.5925871133804321, Validation Loss: 0.6036812663078308\n",
      "Epoch: 50/5000, Train Loss: 0.5921996235847473, Validation Loss: 0.6022190451622009\n",
      "Epoch: 51/5000, Train Loss: 0.5919163823127747, Validation Loss: 0.6035878658294678\n",
      "Epoch: 52/5000, Train Loss: 0.5916481614112854, Validation Loss: 0.6012803912162781\n",
      "Epoch: 53/5000, Train Loss: 0.5915780663490295, Validation Loss: 0.6044945120811462\n",
      "Epoch: 54/5000, Train Loss: 0.5921265482902527, Validation Loss: 0.6006393432617188\n",
      "Epoch: 55/5000, Train Loss: 0.5920510292053223, Validation Loss: 0.6058498024940491\n",
      "Epoch: 56/5000, Train Loss: 0.5929126143455505, Validation Loss: 0.6002790927886963\n",
      "Epoch: 57/5000, Train Loss: 0.5915685296058655, Validation Loss: 0.6058448553085327\n",
      "Epoch: 58/5000, Train Loss: 0.5925682187080383, Validation Loss: 0.6000091433525085\n",
      "Epoch: 59/5000, Train Loss: 0.5909423828125, Validation Loss: 0.606094241142273\n",
      "Epoch: 60/5000, Train Loss: 0.5924373269081116, Validation Loss: 0.5999069213867188\n",
      "Epoch: 61/5000, Train Loss: 0.5908318758010864, Validation Loss: 0.6079375147819519\n",
      "Epoch: 62/5000, Train Loss: 0.5932345390319824, Validation Loss: 0.5998268723487854\n",
      "Epoch: 63/5000, Train Loss: 0.5907934904098511, Validation Loss: 0.6094421744346619\n",
      "Epoch: 64/5000, Train Loss: 0.5938513875007629, Validation Loss: 0.5995500087738037\n",
      "Epoch: 65/5000, Train Loss: 0.5893033146858215, Validation Loss: 0.6057392954826355\n",
      "Epoch: 66/5000, Train Loss: 0.5911219716072083, Validation Loss: 0.5993901491165161\n",
      "Epoch: 67/5000, Train Loss: 0.5897054672241211, Validation Loss: 0.6117174625396729\n",
      "Epoch: 68/5000, Train Loss: 0.5941570401191711, Validation Loss: 0.5992074608802795\n",
      "Epoch: 69/5000, Train Loss: 0.5880715847015381, Validation Loss: 0.6049838662147522\n",
      "Epoch: 70/5000, Train Loss: 0.5896467566490173, Validation Loss: 0.5993193984031677\n",
      "Epoch: 71/5000, Train Loss: 0.5892484784126282, Validation Loss: 0.6152574419975281\n",
      "Epoch: 72/5000, Train Loss: 0.5955333113670349, Validation Loss: 0.5989941358566284\n",
      "Epoch: 73/5000, Train Loss: 0.5876097679138184, Validation Loss: 0.6066211462020874\n",
      "Epoch: 74/5000, Train Loss: 0.5897069573402405, Validation Loss: 0.5990634560585022\n",
      "Epoch: 75/5000, Train Loss: 0.5880216956138611, Validation Loss: 0.6126359701156616\n",
      "Epoch: 76/5000, Train Loss: 0.5926681160926819, Validation Loss: 0.5990736484527588\n",
      "Epoch: 77/5000, Train Loss: 0.587705671787262, Validation Loss: 0.6116750240325928\n",
      "Epoch: 78/5000, Train Loss: 0.591654360294342, Validation Loss: 0.5985027551651001\n",
      "Epoch: 79/5000, Train Loss: 0.5864713191986084, Validation Loss: 0.6078656911849976\n",
      "Epoch: 80/5000, Train Loss: 0.5889262557029724, Validation Loss: 0.5981566309928894\n",
      "Epoch: 81/5000, Train Loss: 0.5869755148887634, Validation Loss: 0.6162681579589844\n",
      "Epoch: 82/5000, Train Loss: 0.593880832195282, Validation Loss: 0.5982347726821899\n",
      "Epoch: 83/5000, Train Loss: 0.5861133337020874, Validation Loss: 0.6092509627342224\n",
      "Epoch: 84/5000, Train Loss: 0.5886315703392029, Validation Loss: 0.5976118445396423\n",
      "Epoch: 85/5000, Train Loss: 0.584344208240509, Validation Loss: 0.6071519255638123\n",
      "Epoch: 86/5000, Train Loss: 0.5867435932159424, Validation Loss: 0.5983064770698547\n",
      "Epoch: 87/5000, Train Loss: 0.5865334868431091, Validation Loss: 0.6227912306785583\n",
      "Epoch: 88/5000, Train Loss: 0.5968539118766785, Validation Loss: 0.5975838303565979\n",
      "Epoch: 89/5000, Train Loss: 0.5839513540267944, Validation Loss: 0.6035409569740295\n",
      "Epoch: 90/5000, Train Loss: 0.5835713148117065, Validation Loss: 0.5974304676055908\n",
      "Epoch: 91/5000, Train Loss: 0.5841823220252991, Validation Loss: 0.6189285516738892\n",
      "Epoch: 92/5000, Train Loss: 0.5927867889404297, Validation Loss: 0.5986261963844299\n",
      "Epoch: 93/5000, Train Loss: 0.5852510929107666, Validation Loss: 0.6158477067947388\n",
      "Epoch: 94/5000, Train Loss: 0.5900294184684753, Validation Loss: 0.598848819732666\n",
      "Epoch: 95/5000, Train Loss: 0.5858802199363708, Validation Loss: 0.6217417120933533\n",
      "Epoch: 96/5000, Train Loss: 0.5942713618278503, Validation Loss: 0.5967792272567749\n",
      "Epoch: 97/5000, Train Loss: 0.5816414952278137, Validation Loss: 0.6018574237823486\n",
      "Epoch: 98/5000, Train Loss: 0.5805649757385254, Validation Loss: 0.5966267585754395\n",
      "Epoch: 99/5000, Train Loss: 0.5817721486091614, Validation Loss: 0.6190122961997986\n",
      "Epoch: 100/5000, Train Loss: 0.5900991559028625, Validation Loss: 0.6009756326675415\n",
      "Epoch: 101/5000, Train Loss: 0.5892200469970703, Validation Loss: 0.636788010597229\n",
      "Epoch: 102/5000, Train Loss: 0.6033764481544495, Validation Loss: 0.602543294429779\n",
      "Epoch: 103/5000, Train Loss: 0.5817314982414246, Validation Loss: 0.5960394740104675\n",
      "Epoch: 104/5000, Train Loss: 0.5791221857070923, Validation Loss: 0.6002376675605774\n",
      "Epoch: 105/5000, Train Loss: 0.5779518485069275, Validation Loss: 0.5955487489700317\n",
      "Epoch: 106/5000, Train Loss: 0.57810378074646, Validation Loss: 0.6084021329879761\n",
      "Epoch: 107/5000, Train Loss: 0.5810052752494812, Validation Loss: 0.6017911434173584\n",
      "Epoch: 108/5000, Train Loss: 0.5880321860313416, Validation Loss: 0.6514301300048828\n",
      "Epoch: 109/5000, Train Loss: 0.6123700141906738, Validation Loss: 0.605896532535553\n",
      "Epoch: 110/5000, Train Loss: 0.5834137201309204, Validation Loss: 0.5982530117034912\n",
      "Epoch: 111/5000, Train Loss: 0.578356921672821, Validation Loss: 0.59773850440979\n",
      "Epoch: 112/5000, Train Loss: 0.5756176710128784, Validation Loss: 0.5956978797912598\n",
      "Epoch: 113/5000, Train Loss: 0.5743451118469238, Validation Loss: 0.599453330039978\n",
      "Epoch: 114/5000, Train Loss: 0.5738667249679565, Validation Loss: 0.5967487096786499\n",
      "Epoch: 115/5000, Train Loss: 0.5752061009407043, Validation Loss: 0.6183446049690247\n",
      "Epoch: 116/5000, Train Loss: 0.5833414793014526, Validation Loss: 0.6121104955673218\n",
      "Epoch: 117/5000, Train Loss: 0.5973619222640991, Validation Loss: 0.6643241047859192\n",
      "Epoch: 118/5000, Train Loss: 0.623910129070282, Validation Loss: 0.6236273050308228\n",
      "Epoch: 119/5000, Train Loss: 0.5941585302352905, Validation Loss: 0.6185117959976196\n",
      "Epoch: 120/5000, Train Loss: 0.5888650417327881, Validation Loss: 0.6108076572418213\n",
      "Epoch: 121/5000, Train Loss: 0.5840294361114502, Validation Loss: 0.6043524146080017\n",
      "Epoch: 122/5000, Train Loss: 0.5784780383110046, Validation Loss: 0.5991150140762329\n",
      "Epoch: 123/5000, Train Loss: 0.574532687664032, Validation Loss: 0.5983590483665466\n",
      "Epoch: 124/5000, Train Loss: 0.5727447867393494, Validation Loss: 0.5975019931793213\n",
      "Epoch: 125/5000, Train Loss: 0.5715413689613342, Validation Loss: 0.5984427332878113\n",
      "Epoch: 126/5000, Train Loss: 0.5702105164527893, Validation Loss: 0.5972716212272644\n",
      "Epoch: 127/5000, Train Loss: 0.5695028305053711, Validation Loss: 0.6083197593688965\n",
      "Epoch: 128/5000, Train Loss: 0.5721801519393921, Validation Loss: 0.6099745035171509\n",
      "Epoch: 129/5000, Train Loss: 0.5889484882354736, Validation Loss: 0.6790093183517456\n",
      "Epoch: 130/5000, Train Loss: 0.6298800706863403, Validation Loss: 0.6227362751960754\n",
      "Epoch: 131/5000, Train Loss: 0.5911308526992798, Validation Loss: 0.6171348094940186\n",
      "Epoch: 132/5000, Train Loss: 0.5855979323387146, Validation Loss: 0.6098623275756836\n",
      "Epoch: 133/5000, Train Loss: 0.5811005234718323, Validation Loss: 0.6051291227340698\n",
      "Epoch: 134/5000, Train Loss: 0.5760546326637268, Validation Loss: 0.6001633405685425\n",
      "Epoch: 135/5000, Train Loss: 0.5713984966278076, Validation Loss: 0.6011954545974731\n",
      "Epoch: 136/5000, Train Loss: 0.569766640663147, Validation Loss: 0.5971569418907166\n",
      "Epoch: 137/5000, Train Loss: 0.5691048502922058, Validation Loss: 0.607772171497345\n",
      "Epoch: 138/5000, Train Loss: 0.5702254772186279, Validation Loss: 0.6054337620735168\n",
      "Epoch: 139/5000, Train Loss: 0.5791177153587341, Validation Loss: 0.6662170886993408\n",
      "Epoch: 140/5000, Train Loss: 0.611543595790863, Validation Loss: 0.6066461801528931\n",
      "Epoch: 141/5000, Train Loss: 0.5761477947235107, Validation Loss: 0.6055151224136353\n",
      "Epoch: 142/5000, Train Loss: 0.570043683052063, Validation Loss: 0.6001401543617249\n",
      "Epoch: 143/5000, Train Loss: 0.5672100186347961, Validation Loss: 0.6053640246391296\n",
      "Epoch: 144/5000, Train Loss: 0.5667123198509216, Validation Loss: 0.6021521091461182\n",
      "Epoch: 145/5000, Train Loss: 0.5706245303153992, Validation Loss: 0.6502615213394165\n",
      "Epoch: 146/5000, Train Loss: 0.5949960947036743, Validation Loss: 0.6106447577476501\n",
      "Epoch: 147/5000, Train Loss: 0.5827690362930298, Validation Loss: 0.6465131044387817\n",
      "Epoch: 148/5000, Train Loss: 0.5942082405090332, Validation Loss: 0.6070083379745483\n",
      "Epoch: 149/5000, Train Loss: 0.5699659585952759, Validation Loss: 0.6029235124588013\n",
      "Epoch: 150/5000, Train Loss: 0.5651798844337463, Validation Loss: 0.6024872660636902\n",
      "Epoch: 151/5000, Train Loss: 0.5633774399757385, Validation Loss: 0.6031414270401001\n",
      "Epoch: 152/5000, Train Loss: 0.5622116327285767, Validation Loss: 0.6039884090423584\n",
      "Epoch: 153/5000, Train Loss: 0.561190664768219, Validation Loss: 0.6056146025657654\n",
      "Epoch: 154/5000, Train Loss: 0.5604044198989868, Validation Loss: 0.6054438352584839\n",
      "Early stopping\n"
     ]
    }
   ],
   "source": [
    "seed_everything(random_seed)\n",
    "epochs = 5000\n",
    "emb_model = EimModel(emb_szs, len(conts), opt_params['embedding_dropout'], 1, list(opt_params['layers']), \n",
    "                     opt_params['dropouts'], y_range=y_range, classify=True, \n",
    "                     use_bn=opt_params['use_batch_norm'])\n",
    "emb_model.to(device)\n",
    "opt = SGD(emb_model.parameters(), lr=opt_params['learning_rate'], weight_decay=opt_params['weight_decay'])\n",
    "losses = eim_train(emb_model, model_data, opt, crit, epochs, save_best=True)"
   ]
  },
  {
   "cell_type": "markdown",
   "metadata": {},
   "source": [
    "## Plot training results"
   ]
  },
  {
   "cell_type": "code",
   "execution_count": 40,
   "metadata": {},
   "outputs": [
    {
     "data": {
      "image/png": "[encoded data removed]",
      "text/plain": [
       "<Figure size 432x288 with 1 Axes>"
      ]
     },
     "metadata": {
      "needs_background": "light"
     },
     "output_type": "display_data"
    }
   ],
   "source": [
    "plt.plot(losses['train'], label='Training Loss (Cross-Entropy)')\n",
    "plt.plot(losses['validation'], label='Validation Loss (Cross-Entropy)')\n",
    "plt.legend();"
   ]
  },
  {
   "cell_type": "markdown",
   "metadata": {},
   "source": [
    "## Load best model"
   ]
  },
  {
   "cell_type": "code",
   "execution_count": 41,
   "metadata": {},
   "outputs": [],
   "source": [
    "emb_model = EimModel(emb_szs, len(conts), opt_params['embedding_dropout'], 1, list(opt_params['layers']), \n",
    "                     opt_params['dropouts'], y_range=y_range, classify=True, \n",
    "                     use_bn=opt_params['use_batch_norm'])\n",
    "emb_model.to(device)\n",
    "emb_model.load_state_dict(torch.load(Path('.', 'best_model.pkl')))"
   ]
  },
  {
   "cell_type": "markdown",
   "metadata": {},
   "source": [
    "## Evaluate validation set against model"
   ]
  },
  {
   "cell_type": "code",
   "execution_count": 42,
   "metadata": {},
   "outputs": [],
   "source": [
    "data = next(iter(model_data.val_dl))\n",
    "\n",
    "emb_model.eval()\n",
    "\n",
    "# get inputs\n",
    "x_cats, x_conts, y = data\n",
    "\n",
    "# wrap with variable\n",
    "x_cats = torch.LongTensor(x_cats).to(device)\n",
    "x_conts = torch.FloatTensor(x_conts).to(device)\n",
    "y = torch.FloatTensor(y).to(device)\n",
    "x_cats.requires_grad = False\n",
    "x_conts.requires_grad = False\n",
    "y.requires_grad = False\n",
    "\n",
    "val_outputs = emb_model(x_cats, x_conts).cpu().detach().numpy()\n",
    "val_y = y.cpu().detach().numpy()"
   ]
  },
  {
   "cell_type": "markdown",
   "metadata": {},
   "source": [
    "### Plot validation AUC-PR"
   ]
  },
  {
   "cell_type": "code",
   "execution_count": 43,
   "metadata": {},
   "outputs": [
    {
     "name": "stdout",
     "output_type": "stream",
     "text": [
      "Average precision-recall score: 0.44\n"
     ]
    },
    {
     "data": {
      "text/plain": [
       "Text(0.5, 1.0, '2-class Precision-Recall curve: AP=0.44')"
      ]
     },
     "execution_count": 43,
     "metadata": {},
     "output_type": "execute_result"
    },
    {
     "data": {
      "image/png": "[encoded data removed]",
      "text/plain": [
       "<Figure size 432x288 with 1 Axes>"
      ]
     },
     "metadata": {
      "needs_background": "light"
     },
     "output_type": "display_data"
    }
   ],
   "source": [
    "from sklearn.metrics import average_precision_score\n",
    "from sklearn.metrics import precision_recall_curve\n",
    "import matplotlib.pyplot as plt\n",
    "from sklearn.utils.fixes import signature\n",
    "\n",
    "average_precision = average_precision_score(val_y, val_outputs)\n",
    "\n",
    "print('Average precision-recall score: {0:0.2f}'.format(\n",
    "      average_precision))\n",
    "\n",
    "precision, recall, thresholds = precision_recall_curve(val_y, val_outputs)\n",
    "\n",
    "# In matplotlib < 1.5, plt.fill_between does not have a 'step' argument\n",
    "step_kwargs = ({'step': 'post'}\n",
    "               if 'step' in signature(plt.fill_between).parameters\n",
    "               else {})\n",
    "plt.step(recall, precision, color='b', alpha=0.2,\n",
    "         where='post')\n",
    "plt.fill_between(recall, precision, alpha=0.2, color='b', **step_kwargs)\n",
    "\n",
    "plt.xlabel('Recall')\n",
    "plt.ylabel('Precision')\n",
    "plt.ylim([0.0, 1.05])\n",
    "plt.xlim([0.0, 1.0])\n",
    "plt.title('2-class Precision-Recall curve: AP={0:0.2f}'.format(\n",
    "          average_precision))"
   ]
  },
  {
   "cell_type": "markdown",
   "metadata": {},
   "source": [
    "### Determine threshold for optimum F-beta / Calculate F-beta score for validation set"
   ]
  },
  {
   "cell_type": "code",
   "execution_count": 44,
   "metadata": {},
   "outputs": [],
   "source": [
    "def threshold_array(threshold, array):\n",
    "    array = array.copy()\n",
    "    array[array >= threshold] = 1.\n",
    "    array[array < threshold] = 0.\n",
    "    return array"
   ]
  },
  {
   "cell_type": "code",
   "execution_count": 45,
   "metadata": {},
   "outputs": [],
   "source": [
    "from sklearn.metrics import confusion_matrix, fbeta_score"
   ]
  },
  {
   "cell_type": "code",
   "execution_count": 46,
   "metadata": {},
   "outputs": [
    {
     "name": "stdout",
     "output_type": "stream",
     "text": [
      "Best F_0.5 0.680473372781065 (at threshold 0.35040584206581116)\n"
     ]
    }
   ],
   "source": [
    "best_fbeta = 0.0\n",
    "best_fbeta_thresh = 0.0\n",
    "for thresh in thresholds:\n",
    "    val_outputs_thresh = threshold_array(thresh, val_outputs)\n",
    "    fb = fbeta_score(val_y, val_outputs_thresh, 0.5, average='weighted')\n",
    "    if fb >= best_fbeta:\n",
    "        best_fbeta = fb\n",
    "        best_fbeta_thresh = thresh\n",
    "\n",
    "print('Best F_0.5 {} (at threshold {})'.format(best_fbeta, best_fbeta_thresh))"
   ]
  },
  {
   "cell_type": "markdown",
   "metadata": {},
   "source": [
    "## Evaluate test set against model"
   ]
  },
  {
   "cell_type": "code",
   "execution_count": 47,
   "metadata": {},
   "outputs": [],
   "source": [
    "test_outputs = None\n",
    "for data in iter(model_data.test_dl):\n",
    "\n",
    "    emb_model.eval()\n",
    "\n",
    "    # get inputs\n",
    "    x_cats, x_conts, y = data\n",
    "\n",
    "    # wrap with variable\n",
    "    x_cats = torch.LongTensor(x_cats).to(device)\n",
    "    x_conts = torch.FloatTensor(x_conts).to(device)\n",
    "    x_cats.requires_grad = False\n",
    "    x_conts.requires_grad = False\n",
    "\n",
    "    outputs = emb_model(x_cats, x_conts).cpu().detach().numpy()\n",
    "    if test_outputs is not None:\n",
    "        test_outputs = np.concatenate((test_outputs, outputs))\n",
    "    else:\n",
    "        test_outputs = outputs"
   ]
  },
  {
   "cell_type": "markdown",
   "metadata": {},
   "source": [
    "### Plot test AUC-PR"
   ]
  },
  {
   "cell_type": "code",
   "execution_count": 48,
   "metadata": {},
   "outputs": [
    {
     "data": {
      "image/png": "[encoded data removed]",
      "text/plain": [
       "<Figure size 432x288 with 1 Axes>"
      ]
     },
     "metadata": {
      "needs_background": "light"
     },
     "output_type": "display_data"
    }
   ],
   "source": [
    "average_precision = average_precision_score(test_y, test_outputs)\n",
    "\n",
    "# print('Average precision-recall score: {0:0.2f}'.format(\n",
    "#       average_precision))\n",
    "\n",
    "precision, recall, thresholds = precision_recall_curve(test_y, test_outputs)\n",
    "\n",
    "# In matplotlib < 1.5, plt.fill_between does not have a 'step' argument\n",
    "step_kwargs = ({'step': 'post'}\n",
    "               if 'step' in signature(plt.fill_between).parameters\n",
    "               else {})\n",
    "plt.step(recall, precision, color='b', alpha=0.2,\n",
    "         where='post')\n",
    "plt.fill_between(recall, precision, alpha=0.2, color='b', **step_kwargs)\n",
    "\n",
    "plt.xlabel('Recall')\n",
    "plt.ylabel('Precision')\n",
    "plt.ylim([0.0, 1.05])\n",
    "plt.xlim([0.0, 1.0])\n",
    "plt.title('2-class Precision-Recall curve: AP={0:0.2f}'.format(\n",
    "          average_precision));"
   ]
  },
  {
   "cell_type": "markdown",
   "metadata": {},
   "source": [
    "### Determine threshold for optimum F-beta / Calculate F-beta score for test set"
   ]
  },
  {
   "cell_type": "code",
   "execution_count": 49,
   "metadata": {},
   "outputs": [
    {
     "name": "stdout",
     "output_type": "stream",
     "text": [
      "Best F_0.5 0.6123766778168269 (at threshold 0.302116721868515)\n"
     ]
    }
   ],
   "source": [
    "best_fbeta = 0.0\n",
    "best_fbeta_thresh = 0.0\n",
    "for thresh in thresholds:\n",
    "    test_outputs_thresh = threshold_array(thresh, test_outputs)\n",
    "    fb = fbeta_score(test_y, test_outputs_thresh, 0.5, average='weighted')\n",
    "    if fb >= best_fbeta:\n",
    "        best_fbeta = fb\n",
    "        best_fbeta_thresh = thresh\n",
    "\n",
    "print('Best F_0.5 {} (at threshold {})'.format(best_fbeta, best_fbeta_thresh))"
   ]
  },
  {
   "cell_type": "markdown",
   "metadata": {},
   "source": [
    "## Collect CV results from multiple runs against validation and test sets"
   ]
  },
  {
   "cell_type": "markdown",
   "metadata": {},
   "source": [
    "## Test results against baseline classifier"
   ]
  },
  {
   "cell_type": "code",
   "execution_count": 50,
   "metadata": {},
   "outputs": [],
   "source": [
    "from sklearn.metrics import precision_recall_curve\n",
    "\n",
    "class CustomEstimator():\n",
    "    def __init__(self, cats, conts, emb_szs, embedding_dropout, layers, dropouts, y_range, use_batch_norm, lr, wd, epochs):\n",
    "        self.cats = cats\n",
    "        self.conts = conts\n",
    "        self.emb_szs = emb_szs\n",
    "        self.embedding_dropout = embedding_dropout\n",
    "        self.layers = list(layers)\n",
    "        self.dropouts = dropouts\n",
    "        self.y_range = y_range\n",
    "        self.use_batch_norm = use_batch_norm\n",
    "        self.lr = lr\n",
    "        self.wd = wd\n",
    "        \n",
    "    def fit(self, train_input, valid_input, train_y, valid_y):\n",
    "        self.model = EimModel(self.emb_szs, len(self.conts), self.embedding_dropout, 1, self.layers, \n",
    "                              self.dropouts, y_range=self.y_range, classify=True, use_bn=self.use_batch_norm)\n",
    "        self.model.to(device)\n",
    "        self.opt = SGD(self.model.parameters(), lr=self.lr, weight_decay=self.wd)\n",
    "        self.crit = F.binary_cross_entropy                \n",
    "        self.epochs = epochs\n",
    "        self.model_data = EimModelData.from_data_frames('./tmp', train_input, valid_input, \n",
    "                                                train_y, valid_y, cats, conts, bs=len(train_input))\n",
    "        self.model.train()\n",
    "        self.losses = eim_train(self.model, self.model_data, self.opt, self.crit, self.epochs, print_output=False, save_best=True, save_path='tmp_model.pkl')\n",
    "        self.model.load_state_dict(torch.load(Path('.', 'tmp_model.pkl')))\n",
    "    \n",
    "    def score(self):\n",
    "        self.model.eval()\n",
    "        y, y_hat = self._get_test_outputs()\n",
    "        precision, recall, thresholds = precision_recall_curve(y, y_hat)\n",
    "        fbeta = self._get_best_fbeta(precision, recall, thresholds, y, y_hat)\n",
    "        \n",
    "        return fbeta\n",
    "        \n",
    "    \n",
    "    def _get_test_outputs(self):\n",
    "        self.model.eval()\n",
    "        val_outputs = None\n",
    "        ys = None\n",
    "        for data in iter(self.model_data.val_dl):\n",
    "            \n",
    "            # get inputs\n",
    "            x_cats, x_conts, y = data\n",
    "\n",
    "            # wrap with variable\n",
    "            x_cats = torch.LongTensor(x_cats).to(device)\n",
    "            x_conts = torch.FloatTensor(x_conts).to(device)\n",
    "            y = torch.FloatTensor(y).to(device)\n",
    "            x_cats.requires_grad = False\n",
    "            x_conts.requires_grad = False\n",
    "            y.requires_grad = False\n",
    "\n",
    "            outputs = self.model(x_cats, x_conts).cpu().detach().numpy()\n",
    "            y = y.cpu().detach().numpy()\n",
    "\n",
    "            if val_outputs is not None:\n",
    "                val_outputs = np.concatenate((val_outputs, outputs))\n",
    "                ys = np.concatenate((ys, y))\n",
    "            else:\n",
    "                val_outputs = outputs\n",
    "                ys = y\n",
    "        return (ys, val_outputs)\n",
    "    \n",
    "    def _get_best_fbeta(self, precision, recall, thresholds, y, y_hat):\n",
    "        best_fbeta = 0.0\n",
    "        best_fbeta_thresh = 0.0\n",
    "        for thresh in thresholds:\n",
    "            y_hat_thresh = threshold_array(thresh, y_hat)\n",
    "            fb = fbeta_score(y, y_hat_thresh, 0.5, average='weighted')\n",
    "            if fb >= best_fbeta:\n",
    "                best_fbeta = fb\n",
    "                best_fbeta_thresh = thresh\n",
    "        return best_fbeta\n",
    "\n",
    "custom_estimator = CustomEstimator(cats, conts, emb_szs, opt_params['embedding_dropout'], \n",
    "                                   opt_params['layers'], opt_params['dropouts'], y_range, \n",
    "                                   opt_params['use_batch_norm'], opt_params['learning_rate'], \n",
    "                                   opt_params['weight_decay'], opt_params['epochs'])"
   ]
  },
  {
   "cell_type": "code",
   "execution_count": 51,
   "metadata": {},
   "outputs": [],
   "source": [
    "class BaselineEstimator():\n",
    "    def __init__(self):\n",
    "        pass\n",
    "    \n",
    "    def fit(self, train_input, valid_input, train_y, valid_y):\n",
    "        self.valid_y = np.array(valid_y)\n",
    "    \n",
    "    def score(self):\n",
    "        y = self.valid_y\n",
    "        y_hat = np.zeros(y.shape)\n",
    "        \n",
    "        precision, recall, thresholds = precision_recall_curve(y, y_hat)\n",
    "        fbeta = self._get_best_fbeta(precision, recall, [0.5], y, y_hat)\n",
    "        \n",
    "        return fbeta        \n",
    "    \n",
    "    def _get_best_fbeta(self, precision, recall, thresholds, y, y_hat):\n",
    "        best_fbeta = 0.0\n",
    "        best_fbeta_thresh = 0.0\n",
    "        for thresh in thresholds:\n",
    "            y_hat_thresh = threshold_array(thresh, y_hat)\n",
    "            fb = fbeta_score(y, y_hat_thresh, 0.5, average='weighted')\n",
    "            if fb >= best_fbeta:\n",
    "                best_fbeta = fb\n",
    "                best_fbeta_thresh = thresh\n",
    "        return best_fbeta\n",
    "    \n",
    "baseline_estimator = BaselineEstimator()"
   ]
  },
  {
   "cell_type": "code",
   "execution_count": 52,
   "metadata": {},
   "outputs": [],
   "source": [
    "def paired_ttest_5x2cv(estimator1, estimator2, X_train, \n",
    "                       X_valid,\n",
    "                       y_train,\n",
    "                       y_valid):\n",
    "    \"\"\"\n",
    "    Adapted from http://rasbt.github.io/mlxtend/user_guide/evaluate/paired_ttest_5x2cv/\n",
    "    \"\"\"\n",
    "    \n",
    "    from scipy import stats\n",
    "    \n",
    "    variance_sum = 0.\n",
    "    first_diff = None\n",
    "\n",
    "    def score_diff(X_1, X_2, y_1, y_2):\n",
    "\n",
    "        estimator1.fit(X_1, X_2, y_1, y_2)\n",
    "        estimator2.fit(X_1, X_2, y_1, y_2)\n",
    "        est1_score = estimator1.score()\n",
    "        est2_score = estimator2.score()\n",
    "        score_diff = est1_score - est2_score\n",
    "        return {\n",
    "            'custom': est1_score,\n",
    "            'baseline': est2_score,\n",
    "            'score_diff': score_diff\n",
    "        }\n",
    "    \n",
    "    scores = {\n",
    "        'custom': [],\n",
    "        'baseline': []\n",
    "    }\n",
    "\n",
    "    for i in range(5):\n",
    "        \n",
    "        train_idxs = np.random.choice(np.array(y_train.index), len(y_train.index)//2)\n",
    "        valid_idxs = np.random.choice(np.array(y_valid.index), len(y_valid.index)//2)\n",
    "        \n",
    "        X_1, X_2  = X_train.iloc[train_idxs], X_valid.iloc[valid_idxs]\n",
    "        y_1, y_2  = y_train.iloc[train_idxs], y_valid.iloc[valid_idxs]\n",
    "\n",
    "        print('Iteration {}'.format(i+1))\n",
    "\n",
    "        score_diff_1 = score_diff(X_1, X_2, y_1, y_2)\n",
    "        score_diff_2 = score_diff(X_2, X_1, y_2, y_1)\n",
    "        score_mean = (score_diff_1['score_diff'] + score_diff_2['score_diff']) / 2.\n",
    "        score_var = ((score_diff_1['score_diff'] - score_mean)**2 +\n",
    "                     (score_diff_2['score_diff'] - score_mean)**2)\n",
    "        variance_sum += score_var\n",
    "        if first_diff is None:\n",
    "            first_diff = score_diff_1['score_diff']\n",
    "        \n",
    "        scores['custom'].append(score_diff_1['custom'])\n",
    "        scores['custom'].append(score_diff_2['custom'])\n",
    "        scores['baseline'].append(score_diff_1['baseline'])\n",
    "        scores['baseline'].append(score_diff_2['baseline'])\n",
    "\n",
    "    scores['means'] = {\n",
    "       'custom': np.mean(scores['custom']),\n",
    "       'baseline': np.mean(scores['baseline'])\n",
    "    }\n",
    "    \n",
    "    numerator = first_diff\n",
    "    denominator = np.sqrt(1/5. * variance_sum)\n",
    "    t_stat = numerator / denominator\n",
    "\n",
    "    pvalue = stats.t.sf(np.abs(t_stat), 5)*2.\n",
    "    return {\n",
    "        't_stat': float(t_stat),\n",
    "        'pvalue': float(pvalue),\n",
    "        'scores': scores\n",
    "    }"
   ]
  },
  {
   "cell_type": "code",
   "execution_count": 53,
   "metadata": {},
   "outputs": [
    {
     "name": "stdout",
     "output_type": "stream",
     "text": [
      "Iteration 1\n",
      "Early stopping\n"
     ]
    },
    {
     "name": "stderr",
     "output_type": "stream",
     "text": [
      "/home/paperspace/anaconda3/envs/fastai/lib/python3.7/site-packages/sklearn/metrics/classification.py:1143: UndefinedMetricWarning: F-score is ill-defined and being set to 0.0 in labels with no predicted samples.\n",
      "  'precision', 'predicted', average, warn_for)\n"
     ]
    },
    {
     "name": "stdout",
     "output_type": "stream",
     "text": [
      "Early stopping\n",
      "Iteration 2\n",
      "Early stopping\n",
      "Early stopping\n",
      "Iteration 3\n",
      "Early stopping\n",
      "Early stopping\n",
      "Iteration 4\n",
      "Early stopping\n",
      "Early stopping\n",
      "Iteration 5\n",
      "Early stopping\n",
      "Early stopping\n"
     ]
    },
    {
     "data": {
      "text/plain": [
       "{'t_stat': 2.6648521975552217,\n",
       " 'pvalue': 0.044623241242343896,\n",
       " 'scores': {'custom': [0.5966987301637414,\n",
       "   0.6083828493537157,\n",
       "   0.597775147095474,\n",
       "   0.6050862824392079,\n",
       "   0.7366071428571429,\n",
       "   0.5993825968546549,\n",
       "   0.6872272950480998,\n",
       "   0.6032319953018437,\n",
       "   0.6705500189803656,\n",
       "   0.6213827328466185],\n",
       "  'baseline': [0.44682672400063705,\n",
       "   0.527611650866144,\n",
       "   0.48472617917062366,\n",
       "   0.5346884666372073,\n",
       "   0.510718789407314,\n",
       "   0.5135777377293785,\n",
       "   0.5507794140686199,\n",
       "   0.5066209004326236,\n",
       "   0.48472617917062366,\n",
       "   0.4974077571528297],\n",
       "  'means': {'custom': 0.6326324790940865, 'baseline': 0.5057683798636001}}}"
      ]
     },
     "execution_count": 53,
     "metadata": {},
     "output_type": "execute_result"
    }
   ],
   "source": [
    "paired_ttest_5x2cv(custom_estimator, \n",
    "                   baseline_estimator, \n",
    "                   pd.concat([train_input, valid_input], ignore_index=True), \n",
    "                   test_input, \n",
    "                   pd.concat([train_y, valid_y], ignore_index=True), \n",
    "                   valid_y)"
   ]
  },
  {
   "cell_type": "code",
   "execution_count": null,
   "metadata": {},
   "outputs": [],
   "source": []
  }
 ],
 "metadata": {
  "kernelspec": {
   "display_name": "Python 3",
   "language": "python",
   "name": "python3"
  },
  "language_info": {
   "codemirror_mode": {
    "name": "ipython",
    "version": 3
   },
   "file_extension": ".py",
   "mimetype": "text/x-python",
   "name": "python",
   "nbconvert_exporter": "python",
   "pygments_lexer": "ipython3",
   "version": "3.7.1"
  }
 },
 "nbformat": 4,
 "nbformat_minor": 2
}
