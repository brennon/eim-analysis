{
 "cells": [
  {
   "cell_type": "markdown",
   "metadata": {},
   "source": [
    "# Notebook Setup"
   ]
  },
  {
   "cell_type": "markdown",
   "metadata": {},
   "source": [
    "https://www.kaggle.com/keremt/pytorch-entity-embeddings was super helpful with this."
   ]
  },
  {
   "cell_type": "code",
   "execution_count": 1,
   "metadata": {},
   "outputs": [],
   "source": [
    "import os.path\n",
    "import random\n",
    "import sys\n",
    "import time\n",
    "\n",
    "import matplotlib.pyplot as plt\n",
    "import numpy as np\n",
    "import pandas as pd\n",
    "import seaborn as sns\n",
    "import skopt\n",
    "import torch\n",
    "import warnings\n",
    "\n",
    "from pathlib import Path"
   ]
  },
  {
   "cell_type": "code",
   "execution_count": 2,
   "metadata": {},
   "outputs": [],
   "source": [
    "sys.path.append(os.path.abspath('..'))"
   ]
  },
  {
   "cell_type": "code",
   "execution_count": 3,
   "metadata": {},
   "outputs": [],
   "source": [
    "# Functions\n",
    "from localhelpers import eim_train\n",
    "from localhelpers import eim_validate\n",
    "from localhelpers import emb_init\n",
    "from localhelpers import get_embs_dims\n",
    "from localhelpers import paired_ttest_5x2cv\n",
    "from localhelpers import plot_pr_curve\n",
    "from localhelpers import preprocess\n",
    "from localhelpers import seed_everything\n",
    "from localhelpers import threshold_array\n",
    "\n",
    "# Classes\n",
    "from localhelpers import BaselineEstimator\n",
    "from localhelpers import CheckpointSaver\n",
    "from localhelpers import CustomEstimator\n",
    "from localhelpers import EimDataPreprocess\n",
    "from localhelpers import EimDataset\n",
    "from localhelpers import EimModel\n",
    "from localhelpers import EimModelData\n",
    "from localhelpers import ProgressCallback"
   ]
  },
  {
   "cell_type": "markdown",
   "metadata": {},
   "source": [
    "Generate plots in notebook and suppress warnings"
   ]
  },
  {
   "cell_type": "code",
   "execution_count": 4,
   "metadata": {},
   "outputs": [],
   "source": [
    "%matplotlib inline\n",
    "warnings.filterwarnings('ignore')"
   ]
  },
  {
   "cell_type": "markdown",
   "metadata": {},
   "source": [
    "Seed random number generators for reproducibility."
   ]
  },
  {
   "cell_type": "code",
   "execution_count": 5,
   "metadata": {},
   "outputs": [
    {
     "name": "stdout",
     "output_type": "stream",
     "text": [
      "Using random seed 1552906628\n"
     ]
    }
   ],
   "source": [
    "random_seed = int(time.time())\n",
    "print(f'Using random seed {random_seed}')\n",
    "seed_everything(random_seed)"
   ]
  },
  {
   "cell_type": "markdown",
   "metadata": {},
   "source": [
    "# Data processing"
   ]
  },
  {
   "cell_type": "code",
   "execution_count": 6,
   "metadata": {},
   "outputs": [
    {
     "data": {
      "text/html": [
       "<div>\n",
       "<style scoped>\n",
       "    .dataframe tbody tr th:only-of-type {\n",
       "        vertical-align: middle;\n",
       "    }\n",
       "\n",
       "    .dataframe tbody tr th {\n",
       "        vertical-align: top;\n",
       "    }\n",
       "\n",
       "    .dataframe thead th {\n",
       "        text-align: right;\n",
       "    }\n",
       "</style>\n",
       "<table border=\"1\" class=\"dataframe\">\n",
       "  <thead>\n",
       "    <tr style=\"text-align: right;\">\n",
       "      <th></th>\n",
       "      <th>_id</th>\n",
       "      <th>location</th>\n",
       "      <th>language</th>\n",
       "      <th>nationality</th>\n",
       "      <th>age</th>\n",
       "      <th>sex</th>\n",
       "      <th>hearing_impairments</th>\n",
       "      <th>personality_trusting</th>\n",
       "      <th>personality_artistic</th>\n",
       "      <th>personality_imagination</th>\n",
       "      <th>...</th>\n",
       "      <th>musicpref_world</th>\n",
       "      <th>musicpref_dance</th>\n",
       "      <th>musicpref_rock</th>\n",
       "      <th>musicpref_jazz</th>\n",
       "      <th>musicpref_hip_hop</th>\n",
       "      <th>musicpref_none</th>\n",
       "      <th>musicpref_classical</th>\n",
       "      <th>musicpref_hiphop</th>\n",
       "      <th>musicpref_pop</th>\n",
       "      <th>musicpref_folk</th>\n",
       "    </tr>\n",
       "  </thead>\n",
       "  <tbody>\n",
       "    <tr>\n",
       "      <th>0</th>\n",
       "      <td>570eb7aa83a73509d0e0489f</td>\n",
       "      <td>taipei_city</td>\n",
       "      <td>en</td>\n",
       "      <td>taiwanese</td>\n",
       "      <td>34.0</td>\n",
       "      <td>female</td>\n",
       "      <td>0</td>\n",
       "      <td>5</td>\n",
       "      <td>1</td>\n",
       "      <td>4</td>\n",
       "      <td>...</td>\n",
       "      <td>0</td>\n",
       "      <td>0</td>\n",
       "      <td>0</td>\n",
       "      <td>0</td>\n",
       "      <td>0</td>\n",
       "      <td>0</td>\n",
       "      <td>1</td>\n",
       "      <td>0</td>\n",
       "      <td>1</td>\n",
       "      <td>0</td>\n",
       "    </tr>\n",
       "    <tr>\n",
       "      <th>1</th>\n",
       "      <td>570eb75c83a73509d0e03009</td>\n",
       "      <td>taipei_city</td>\n",
       "      <td>en</td>\n",
       "      <td>taiwanese</td>\n",
       "      <td>7.0</td>\n",
       "      <td>male</td>\n",
       "      <td>0</td>\n",
       "      <td>5</td>\n",
       "      <td>4</td>\n",
       "      <td>5</td>\n",
       "      <td>...</td>\n",
       "      <td>0</td>\n",
       "      <td>0</td>\n",
       "      <td>0</td>\n",
       "      <td>0</td>\n",
       "      <td>0</td>\n",
       "      <td>0</td>\n",
       "      <td>0</td>\n",
       "      <td>0</td>\n",
       "      <td>0</td>\n",
       "      <td>1</td>\n",
       "    </tr>\n",
       "    <tr>\n",
       "      <th>2</th>\n",
       "      <td>570eb79983a73509d0e04371</td>\n",
       "      <td>taipei_city</td>\n",
       "      <td>zh_TW</td>\n",
       "      <td>taiwanese</td>\n",
       "      <td>12.0</td>\n",
       "      <td>female</td>\n",
       "      <td>0</td>\n",
       "      <td>4</td>\n",
       "      <td>3</td>\n",
       "      <td>5</td>\n",
       "      <td>...</td>\n",
       "      <td>0</td>\n",
       "      <td>0</td>\n",
       "      <td>0</td>\n",
       "      <td>0</td>\n",
       "      <td>0</td>\n",
       "      <td>0</td>\n",
       "      <td>0</td>\n",
       "      <td>0</td>\n",
       "      <td>1</td>\n",
       "      <td>0</td>\n",
       "    </tr>\n",
       "    <tr>\n",
       "      <th>3</th>\n",
       "      <td>570eb7a183a73509d0e045d2</td>\n",
       "      <td>taipei_city</td>\n",
       "      <td>en</td>\n",
       "      <td>taiwanese</td>\n",
       "      <td>7.0</td>\n",
       "      <td>male</td>\n",
       "      <td>0</td>\n",
       "      <td>4</td>\n",
       "      <td>3</td>\n",
       "      <td>4</td>\n",
       "      <td>...</td>\n",
       "      <td>0</td>\n",
       "      <td>0</td>\n",
       "      <td>0</td>\n",
       "      <td>0</td>\n",
       "      <td>0</td>\n",
       "      <td>0</td>\n",
       "      <td>1</td>\n",
       "      <td>0</td>\n",
       "      <td>0</td>\n",
       "      <td>0</td>\n",
       "    </tr>\n",
       "    <tr>\n",
       "      <th>4</th>\n",
       "      <td>570eb78a83a73509d0e03e96</td>\n",
       "      <td>taipei_city</td>\n",
       "      <td>zh_TW</td>\n",
       "      <td>thai</td>\n",
       "      <td>9.0</td>\n",
       "      <td>male</td>\n",
       "      <td>0</td>\n",
       "      <td>4</td>\n",
       "      <td>1</td>\n",
       "      <td>5</td>\n",
       "      <td>...</td>\n",
       "      <td>0</td>\n",
       "      <td>0</td>\n",
       "      <td>0</td>\n",
       "      <td>0</td>\n",
       "      <td>0</td>\n",
       "      <td>0</td>\n",
       "      <td>0</td>\n",
       "      <td>0</td>\n",
       "      <td>1</td>\n",
       "      <td>0</td>\n",
       "    </tr>\n",
       "  </tbody>\n",
       "</table>\n",
       "<p>5 rows × 62 columns</p>\n",
       "</div>"
      ],
      "text/plain": [
       "                        _id     location language nationality   age     sex  \\\n",
       "0  570eb7aa83a73509d0e0489f  taipei_city       en   taiwanese  34.0  female   \n",
       "1  570eb75c83a73509d0e03009  taipei_city       en   taiwanese   7.0    male   \n",
       "2  570eb79983a73509d0e04371  taipei_city    zh_TW   taiwanese  12.0  female   \n",
       "3  570eb7a183a73509d0e045d2  taipei_city       en   taiwanese   7.0    male   \n",
       "4  570eb78a83a73509d0e03e96  taipei_city    zh_TW        thai   9.0    male   \n",
       "\n",
       "   hearing_impairments  personality_trusting  personality_artistic  \\\n",
       "0                    0                     5                     1   \n",
       "1                    0                     5                     4   \n",
       "2                    0                     4                     3   \n",
       "3                    0                     4                     3   \n",
       "4                    0                     4                     1   \n",
       "\n",
       "   personality_imagination       ...        musicpref_world  musicpref_dance  \\\n",
       "0                        4       ...                      0                0   \n",
       "1                        5       ...                      0                0   \n",
       "2                        5       ...                      0                0   \n",
       "3                        4       ...                      0                0   \n",
       "4                        5       ...                      0                0   \n",
       "\n",
       "   musicpref_rock  musicpref_jazz  musicpref_hip_hop  musicpref_none  \\\n",
       "0               0               0                  0               0   \n",
       "1               0               0                  0               0   \n",
       "2               0               0                  0               0   \n",
       "3               0               0                  0               0   \n",
       "4               0               0                  0               0   \n",
       "\n",
       "   musicpref_classical  musicpref_hiphop  musicpref_pop  musicpref_folk  \n",
       "0                    1                 0              1               0  \n",
       "1                    0                 0              0               1  \n",
       "2                    0                 0              1               0  \n",
       "3                    1                 0              0               0  \n",
       "4                    0                 0              1               0  \n",
       "\n",
       "[5 rows x 62 columns]"
      ]
     },
     "execution_count": 6,
     "metadata": {},
     "output_type": "execute_result"
    }
   ],
   "source": [
    "eim_csv = Path('../../fastai/combine-hallelujah-dust-new-split-no-nrs/data/good_reaction_trials_categorified_q90_javier_all_no_nrs.csv')\n",
    "\n",
    "eim_df = pd.read_csv(eim_csv)\n",
    "eim_df = eim_df[eim_df.song == 'hallelujah']\n",
    "\n",
    "eim_df.head()"
   ]
  },
  {
   "cell_type": "code",
   "execution_count": 7,
   "metadata": {},
   "outputs": [],
   "source": [
    "cats = ['location', 'sex', 'musical_background', 'nationality', 'visual_impairments', 'hearing_impairments', \n",
    "        'musicpref_traditional_irish', 'musicpref_jazz', 'musicpref_folk', 'musicpref_hiphop', 'musicpref_classical', \n",
    "        'musicpref_none', 'musicpref_rock', 'musicpref_hip_hop', 'musicpref_world', 'musicpref_pop', 'musicpref_dance',\n",
    "        'language']\n",
    "\n",
    "conts = ['musical_expertise', 'age', 'control_activity', 'control_tension', 'control_engagement', \n",
    "         'control_positivity', 'control_like_dislike', 'song_chillsshiversthrills', 'song_activity', 'song_tension', \n",
    "         'song_familiarity', 'song_engagement', 'song_positivity', 'song_like_dislike', 'song_inspired', 'song_wonder', \n",
    "         'song_spirituality', 'song_thrills', 'song_chills', 'song_tenderness', 'song_nostalgia', 'song_goosebumps', \n",
    "         'song_overwhelmed', 'song_shivers', 'control_power', 'song_transcendence', 'song_sadness', 'song_joyfulactivation', \n",
    "         'song_peacefulness', 'song_power', 'personality_trusting', 'personality_artistic', 'personality_imagination', \n",
    "         'personality_reserved', 'personality_outgoing', 'personality_lazy', 'personality_stress', 'personality_nervous', \n",
    "         'personality_fault', 'personality_thorough', 'concentration']"
   ]
  },
  {
   "cell_type": "code",
   "execution_count": 8,
   "metadata": {},
   "outputs": [],
   "source": [
    "# Remove id, name, and item_description columns\n",
    "eim_df = eim_df.drop(['_id'], axis=1)"
   ]
  },
  {
   "cell_type": "code",
   "execution_count": 9,
   "metadata": {},
   "outputs": [],
   "source": [
    "eim_df.loc[eim_df.critical_reaction == False, 'critical_reaction'] = 0\n",
    "eim_df.loc[eim_df.critical_reaction == True, 'critical_reaction'] = 1"
   ]
  },
  {
   "cell_type": "code",
   "execution_count": 10,
   "metadata": {},
   "outputs": [],
   "source": [
    "# Replace missing values and convert cats columns to categories\n",
    "eim_df = preprocess(eim_df, cats)"
   ]
  },
  {
   "cell_type": "code",
   "execution_count": 11,
   "metadata": {},
   "outputs": [],
   "source": [
    "eim_df = eim_df.reset_index(drop=True)"
   ]
  },
  {
   "cell_type": "code",
   "execution_count": 12,
   "metadata": {},
   "outputs": [],
   "source": [
    "# Convert values in categorical columns to 0, 1, 2, 3, ... from the top of the DataFrame down\n",
    "eim_df = EimDataPreprocess(eim_df, cats, inplace=True)"
   ]
  },
  {
   "cell_type": "code",
   "execution_count": 13,
   "metadata": {},
   "outputs": [],
   "source": [
    "# Split combined DataFrame back out into train and test DataFrames\n",
    "# train_df = train_test_df.iloc[range(len(train_df))]\n",
    "# test_df = train_test_df.iloc[range(len(train_df),len(train_test_df))]"
   ]
  },
  {
   "cell_type": "code",
   "execution_count": 14,
   "metadata": {},
   "outputs": [],
   "source": [
    "train_pct, valid_pct, test_pct = .7, .15, .15\n",
    "idxs = eim_df.index.values.copy()\n",
    "np.random.shuffle(idxs)\n",
    "train_valid_split = int(np.floor(train_pct * len(eim_df)))\n",
    "valid_test_split = int(np.floor((train_pct + valid_pct) * len(eim_df)))\n",
    "train_idxs, valid_idxs, test_idxs = idxs[:train_valid_split], idxs[train_valid_split:valid_test_split], idxs[valid_test_split:]"
   ]
  },
  {
   "cell_type": "code",
   "execution_count": 15,
   "metadata": {},
   "outputs": [],
   "source": [
    "train_df = eim_df.loc[train_idxs, :]\n",
    "valid_df = eim_df.loc[valid_idxs, :]\n",
    "test_df = eim_df.loc[test_idxs, :]"
   ]
  },
  {
   "cell_type": "code",
   "execution_count": 16,
   "metadata": {},
   "outputs": [],
   "source": [
    "train_df.reset_index(drop=True, inplace=True)\n",
    "valid_df.reset_index(drop=True, inplace=True)\n",
    "test_df.reset_index(drop=True, inplace=True)"
   ]
  },
  {
   "cell_type": "code",
   "execution_count": 17,
   "metadata": {},
   "outputs": [
    {
     "data": {
      "text/html": [
       "<div>\n",
       "<style scoped>\n",
       "    .dataframe tbody tr th:only-of-type {\n",
       "        vertical-align: middle;\n",
       "    }\n",
       "\n",
       "    .dataframe tbody tr th {\n",
       "        vertical-align: top;\n",
       "    }\n",
       "\n",
       "    .dataframe thead th {\n",
       "        text-align: right;\n",
       "    }\n",
       "</style>\n",
       "<table border=\"1\" class=\"dataframe\">\n",
       "  <thead>\n",
       "    <tr style=\"text-align: right;\">\n",
       "      <th></th>\n",
       "      <th>location</th>\n",
       "      <th>language</th>\n",
       "      <th>nationality</th>\n",
       "      <th>age</th>\n",
       "      <th>sex</th>\n",
       "      <th>hearing_impairments</th>\n",
       "      <th>personality_trusting</th>\n",
       "      <th>personality_artistic</th>\n",
       "      <th>personality_imagination</th>\n",
       "      <th>personality_reserved</th>\n",
       "      <th>...</th>\n",
       "      <th>musicpref_world</th>\n",
       "      <th>musicpref_dance</th>\n",
       "      <th>musicpref_rock</th>\n",
       "      <th>musicpref_jazz</th>\n",
       "      <th>musicpref_hip_hop</th>\n",
       "      <th>musicpref_none</th>\n",
       "      <th>musicpref_classical</th>\n",
       "      <th>musicpref_hiphop</th>\n",
       "      <th>musicpref_pop</th>\n",
       "      <th>musicpref_folk</th>\n",
       "    </tr>\n",
       "  </thead>\n",
       "  <tbody>\n",
       "    <tr>\n",
       "      <th>0</th>\n",
       "      <td>2</td>\n",
       "      <td>2</td>\n",
       "      <td>3</td>\n",
       "      <td>19.0</td>\n",
       "      <td>1</td>\n",
       "      <td>0</td>\n",
       "      <td>0</td>\n",
       "      <td>0</td>\n",
       "      <td>0</td>\n",
       "      <td>0</td>\n",
       "      <td>...</td>\n",
       "      <td>0</td>\n",
       "      <td>0</td>\n",
       "      <td>1</td>\n",
       "      <td>0</td>\n",
       "      <td>0</td>\n",
       "      <td>0</td>\n",
       "      <td>1</td>\n",
       "      <td>0</td>\n",
       "      <td>1</td>\n",
       "      <td>0</td>\n",
       "    </tr>\n",
       "    <tr>\n",
       "      <th>1</th>\n",
       "      <td>2</td>\n",
       "      <td>2</td>\n",
       "      <td>5</td>\n",
       "      <td>28.0</td>\n",
       "      <td>0</td>\n",
       "      <td>0</td>\n",
       "      <td>0</td>\n",
       "      <td>0</td>\n",
       "      <td>0</td>\n",
       "      <td>0</td>\n",
       "      <td>...</td>\n",
       "      <td>1</td>\n",
       "      <td>1</td>\n",
       "      <td>0</td>\n",
       "      <td>0</td>\n",
       "      <td>0</td>\n",
       "      <td>0</td>\n",
       "      <td>1</td>\n",
       "      <td>0</td>\n",
       "      <td>0</td>\n",
       "      <td>0</td>\n",
       "    </tr>\n",
       "    <tr>\n",
       "      <th>2</th>\n",
       "      <td>1</td>\n",
       "      <td>0</td>\n",
       "      <td>0</td>\n",
       "      <td>17.0</td>\n",
       "      <td>0</td>\n",
       "      <td>0</td>\n",
       "      <td>2</td>\n",
       "      <td>1</td>\n",
       "      <td>3</td>\n",
       "      <td>1</td>\n",
       "      <td>...</td>\n",
       "      <td>0</td>\n",
       "      <td>0</td>\n",
       "      <td>0</td>\n",
       "      <td>0</td>\n",
       "      <td>0</td>\n",
       "      <td>0</td>\n",
       "      <td>0</td>\n",
       "      <td>0</td>\n",
       "      <td>0</td>\n",
       "      <td>1</td>\n",
       "    </tr>\n",
       "    <tr>\n",
       "      <th>3</th>\n",
       "      <td>0</td>\n",
       "      <td>0</td>\n",
       "      <td>0</td>\n",
       "      <td>16.0</td>\n",
       "      <td>0</td>\n",
       "      <td>0</td>\n",
       "      <td>5</td>\n",
       "      <td>3</td>\n",
       "      <td>1</td>\n",
       "      <td>4</td>\n",
       "      <td>...</td>\n",
       "      <td>0</td>\n",
       "      <td>0</td>\n",
       "      <td>1</td>\n",
       "      <td>0</td>\n",
       "      <td>0</td>\n",
       "      <td>0</td>\n",
       "      <td>1</td>\n",
       "      <td>0</td>\n",
       "      <td>0</td>\n",
       "      <td>0</td>\n",
       "    </tr>\n",
       "    <tr>\n",
       "      <th>4</th>\n",
       "      <td>2</td>\n",
       "      <td>2</td>\n",
       "      <td>5</td>\n",
       "      <td>21.0</td>\n",
       "      <td>1</td>\n",
       "      <td>0</td>\n",
       "      <td>0</td>\n",
       "      <td>0</td>\n",
       "      <td>0</td>\n",
       "      <td>0</td>\n",
       "      <td>...</td>\n",
       "      <td>1</td>\n",
       "      <td>0</td>\n",
       "      <td>1</td>\n",
       "      <td>0</td>\n",
       "      <td>1</td>\n",
       "      <td>0</td>\n",
       "      <td>0</td>\n",
       "      <td>0</td>\n",
       "      <td>1</td>\n",
       "      <td>0</td>\n",
       "    </tr>\n",
       "  </tbody>\n",
       "</table>\n",
       "<p>5 rows × 61 columns</p>\n",
       "</div>"
      ],
      "text/plain": [
       "   location  language  nationality   age  sex  hearing_impairments  \\\n",
       "0         2         2            3  19.0    1                    0   \n",
       "1         2         2            5  28.0    0                    0   \n",
       "2         1         0            0  17.0    0                    0   \n",
       "3         0         0            0  16.0    0                    0   \n",
       "4         2         2            5  21.0    1                    0   \n",
       "\n",
       "   personality_trusting  personality_artistic  personality_imagination  \\\n",
       "0                     0                     0                        0   \n",
       "1                     0                     0                        0   \n",
       "2                     2                     1                        3   \n",
       "3                     5                     3                        1   \n",
       "4                     0                     0                        0   \n",
       "\n",
       "   personality_reserved       ...        musicpref_world  musicpref_dance  \\\n",
       "0                     0       ...                      0                0   \n",
       "1                     0       ...                      1                1   \n",
       "2                     1       ...                      0                0   \n",
       "3                     4       ...                      0                0   \n",
       "4                     0       ...                      1                0   \n",
       "\n",
       "   musicpref_rock  musicpref_jazz  musicpref_hip_hop  musicpref_none  \\\n",
       "0               1               0                  0               0   \n",
       "1               0               0                  0               0   \n",
       "2               0               0                  0               0   \n",
       "3               1               0                  0               0   \n",
       "4               1               0                  1               0   \n",
       "\n",
       "   musicpref_classical  musicpref_hiphop  musicpref_pop  musicpref_folk  \n",
       "0                    1                 0              1               0  \n",
       "1                    1                 0              0               0  \n",
       "2                    0                 0              0               1  \n",
       "3                    1                 0              0               0  \n",
       "4                    0                 0              1               0  \n",
       "\n",
       "[5 rows x 61 columns]"
      ]
     },
     "execution_count": 17,
     "metadata": {},
     "output_type": "execute_result"
    }
   ],
   "source": [
    "train_df.head()"
   ]
  },
  {
   "cell_type": "code",
   "execution_count": 18,
   "metadata": {},
   "outputs": [],
   "source": [
    "# Segment train and test DataFrames into input and output DataFrames\n",
    "train_input, train_y = train_df.drop('critical_reaction', 1), train_df.critical_reaction\n",
    "valid_input, valid_y = valid_df.drop('critical_reaction', 1), valid_df.critical_reaction\n",
    "test_input, test_y = test_df.drop('critical_reaction', 1), test_df.critical_reaction"
   ]
  },
  {
   "cell_type": "code",
   "execution_count": 19,
   "metadata": {},
   "outputs": [
    {
     "data": {
      "text/plain": [
       "(0, 1)"
      ]
     },
     "execution_count": 19,
     "metadata": {},
     "output_type": "execute_result"
    }
   ],
   "source": [
    "# Determine the range of output values\n",
    "y_range = (train_y.min(), train_y.max())\n",
    "y_range"
   ]
  },
  {
   "cell_type": "code",
   "execution_count": 20,
   "metadata": {},
   "outputs": [
    {
     "data": {
      "text/plain": [
       "[(3, 3),\n",
       " (2, 2),\n",
       " (2, 2),\n",
       " (6, 4),\n",
       " (1, 2),\n",
       " (2, 2),\n",
       " (2, 2),\n",
       " (2, 2),\n",
       " (2, 2),\n",
       " (2, 2),\n",
       " (2, 2),\n",
       " (2, 2),\n",
       " (2, 2),\n",
       " (2, 2),\n",
       " (2, 2),\n",
       " (2, 2),\n",
       " (2, 2),\n",
       " (3, 3)]"
      ]
     },
     "execution_count": 20,
     "metadata": {},
     "output_type": "execute_result"
    }
   ],
   "source": [
    "# Get a list of tuples of embedding dimensions\n",
    "# Tuples are (category_size, embedding_size), where embedding_size is the smaller of 50 and half the number of unique values in that category\n",
    "emb_szs = get_embs_dims(eim_df, cats)\n",
    "emb_szs"
   ]
  },
  {
   "cell_type": "markdown",
   "metadata": {},
   "source": [
    "# Initial model construction"
   ]
  },
  {
   "cell_type": "code",
   "execution_count": 21,
   "metadata": {},
   "outputs": [
    {
     "data": {
      "text/plain": [
       "EimModel(\n",
       "  (embs): ModuleList(\n",
       "    (0): Embedding(3, 3)\n",
       "    (1): Embedding(2, 2)\n",
       "    (2): Embedding(2, 2)\n",
       "    (3): Embedding(6, 4)\n",
       "    (4): Embedding(1, 2)\n",
       "    (5): Embedding(2, 2)\n",
       "    (6): Embedding(2, 2)\n",
       "    (7): Embedding(2, 2)\n",
       "    (8): Embedding(2, 2)\n",
       "    (9): Embedding(2, 2)\n",
       "    (10): Embedding(2, 2)\n",
       "    (11): Embedding(2, 2)\n",
       "    (12): Embedding(2, 2)\n",
       "    (13): Embedding(2, 2)\n",
       "    (14): Embedding(2, 2)\n",
       "    (15): Embedding(2, 2)\n",
       "    (16): Embedding(2, 2)\n",
       "    (17): Embedding(3, 3)\n",
       "  )\n",
       "  (lins): ModuleList(\n",
       "    (0): Linear(in_features=81, out_features=1000, bias=True)\n",
       "    (1): Linear(in_features=1000, out_features=500, bias=True)\n",
       "  )\n",
       "  (bns): ModuleList(\n",
       "    (0): BatchNorm1d(1000, eps=1e-05, momentum=0.1, affine=True, track_running_stats=True)\n",
       "    (1): BatchNorm1d(500, eps=1e-05, momentum=0.1, affine=True, track_running_stats=True)\n",
       "  )\n",
       "  (outp): Linear(in_features=500, out_features=1, bias=True)\n",
       "  (emb_drop): Dropout(p=0.04)\n",
       "  (drops): ModuleList(\n",
       "    (0): Dropout(p=0.01)\n",
       "    (1): Dropout(p=0.01)\n",
       "  )\n",
       "  (bn): BatchNorm1d(41, eps=1e-05, momentum=0.1, affine=True, track_running_stats=True)\n",
       ")"
      ]
     },
     "execution_count": 21,
     "metadata": {},
     "output_type": "execute_result"
    }
   ],
   "source": [
    "model_data = EimModelData.from_data_frames('./tmp', train_input, valid_input, train_y, valid_y, \n",
    "                                           cats, conts, bs=len(train_input), test_df=test_df)\n",
    "emb_model = EimModel(emb_szs, len(conts), 0.04, 1, [1000, 500], 0.01, y_range=y_range, classify=True, use_bn=False)\n",
    "device = torch.device(\"cuda:0\" if torch.cuda.is_available() else \"cpu\")\n",
    "emb_model.to(device)\n",
    "emb_model"
   ]
  },
  {
   "cell_type": "code",
   "execution_count": 22,
   "metadata": {},
   "outputs": [],
   "source": [
    "model_data_test = EimModelData.from_data_frames('./tmp', train_input, valid_input, train_y, valid_y, cats, conts, bs=len(train_input))"
   ]
  },
  {
   "cell_type": "markdown",
   "metadata": {},
   "source": [
    "# Hyperparameter optimization"
   ]
  },
  {
   "cell_type": "code",
   "execution_count": 23,
   "metadata": {},
   "outputs": [],
   "source": [
    "from skopt.space import Real, Integer, Categorical\n",
    "\n",
    "param_order = [\n",
    "    'learning_rate',\n",
    "    'weight_decay',\n",
    "    'layers',\n",
    "    'dropouts',\n",
    "    'embedding_dropout'\n",
    "]\n",
    "\n",
    "dimensions = [\n",
    "    Real(1e-8, 0.5, name='learning_rate'),\n",
    "    Real(1e-5, 1e-1, name='weight_decay'),\n",
    "    Categorical([(60, 60), (60, 30), (60, 30, 15), (30, 15)], name='layers'),\n",
    "    Real(0., 0.75, name='dropouts'),\n",
    "    Real(0., 0.75, name='embedding_dropout')\n",
    "]\n",
    "\n",
    "@skopt.utils.use_named_args(dimensions=dimensions)\n",
    "def objective(learning_rate=1e-4, weight_decay=0.04, epochs=10, layers=[10, 10], dropouts=[0.2, 0.2], \n",
    "              embedding_dropout=0.2, use_batch_norm=True):\n",
    "    \n",
    "    # Reset as much as possible\n",
    "    torch.cuda.empty_cache()\n",
    "    seed_everything(random_seed)\n",
    "\n",
    "    layers = list(layers)\n",
    "    \n",
    "    # Build model\n",
    "    emb_model = EimModel(emb_szs, len(conts), embedding_dropout, 1, layers, dropouts, y_range=y_range, \n",
    "                         classify=True, use_bn=use_batch_norm)\n",
    "    emb_model.to(device)\n",
    "    \n",
    "    opt = torch.optim.SGD(emb_model.parameters(), lr=learning_rate, weight_decay=weight_decay)\n",
    "    crit = torch.nn.functional.binary_cross_entropy\n",
    "    losses = eim_train(emb_model, model_data, opt, crit, epochs, patience=25, print_output=False, save_best=False)\n",
    "    \n",
    "    return(min(losses['validation']))"
   ]
  },
  {
   "cell_type": "code",
   "execution_count": 24,
   "metadata": {},
   "outputs": [],
   "source": [
    "import pathlib\n",
    "\n",
    "opt_checkpoint_path = Path('.', 'opt_checkpoint.pkl')\n",
    "\n",
    "resume_optimization = True\n",
    "previous_x0, previous_y0 = None, None\n",
    "n_calls, n_called = 250, 0\n",
    "\n",
    "if resume_optimization:\n",
    "    from skopt import load\n",
    "    \n",
    "    if opt_checkpoint_path.exists():\n",
    "        previous_res = load(opt_checkpoint_path)\n",
    "        previous_x0 = previous_res.x_iters\n",
    "        previous_y0 = previous_res.func_vals\n",
    "        n_called = len(previous_x0)"
   ]
  },
  {
   "cell_type": "code",
   "execution_count": 25,
   "metadata": {},
   "outputs": [
    {
     "data": {
      "text/plain": [
       "100"
      ]
     },
     "execution_count": 25,
     "metadata": {},
     "output_type": "execute_result"
    }
   ],
   "source": [
    "n_called"
   ]
  },
  {
   "cell_type": "code",
   "execution_count": 26,
   "metadata": {},
   "outputs": [
    {
     "data": {
      "text/plain": [
       "150"
      ]
     },
     "execution_count": 26,
     "metadata": {},
     "output_type": "execute_result"
    }
   ],
   "source": [
    "n_calls - n_called"
   ]
  },
  {
   "cell_type": "code",
   "execution_count": 27,
   "metadata": {},
   "outputs": [],
   "source": [
    "checkpoint_callback = CheckpointSaver(opt_checkpoint_path)\n",
    "progress_callback = ProgressCallback(n_calls)"
   ]
  },
  {
   "cell_type": "code",
   "execution_count": 28,
   "metadata": {},
   "outputs": [
    {
     "name": "stdout",
     "output_type": "stream",
     "text": [
      "Completed optimization trial 100/250. Best loss so far: 0.628306\n",
      "Completed optimization trial 101/250. Best loss so far: 0.628306\n",
      "Completed optimization trial 102/250. Best loss so far: 0.628306\n",
      "Completed optimization trial 103/250. Best loss so far: 0.628306\n",
      "Completed optimization trial 104/250. Best loss so far: 0.628306\n",
      "Completed optimization trial 105/250. Best loss so far: 0.628306\n",
      "Completed optimization trial 106/250. Best loss so far: 0.628306\n",
      "Completed optimization trial 107/250. Best loss so far: 0.628306\n",
      "Completed optimization trial 108/250. Best loss so far: 0.628306\n",
      "Completed optimization trial 109/250. Best loss so far: 0.628306\n",
      "Completed optimization trial 110/250. Best loss so far: 0.628306\n",
      "Completed optimization trial 111/250. Best loss so far: 0.628306\n",
      "Completed optimization trial 112/250. Best loss so far: 0.628306\n",
      "Completed optimization trial 113/250. Best loss so far: 0.628306\n",
      "Completed optimization trial 114/250. Best loss so far: 0.628306\n",
      "Completed optimization trial 115/250. Best loss so far: 0.628306\n",
      "Completed optimization trial 116/250. Best loss so far: 0.628306\n",
      "Completed optimization trial 117/250. Best loss so far: 0.628306\n",
      "Completed optimization trial 118/250. Best loss so far: 0.628306\n",
      "Completed optimization trial 119/250. Best loss so far: 0.628306\n",
      "Completed optimization trial 120/250. Best loss so far: 0.628306\n",
      "Completed optimization trial 121/250. Best loss so far: 0.628306\n",
      "Completed optimization trial 122/250. Best loss so far: 0.628306\n",
      "Completed optimization trial 123/250. Best loss so far: 0.628306\n",
      "Completed optimization trial 124/250. Best loss so far: 0.628306\n",
      "Completed optimization trial 125/250. Best loss so far: 0.628306\n",
      "Completed optimization trial 126/250. Best loss so far: 0.628306\n",
      "Completed optimization trial 127/250. Best loss so far: 0.628306\n",
      "Completed optimization trial 128/250. Best loss so far: 0.628306\n",
      "Completed optimization trial 129/250. Best loss so far: 0.628306\n",
      "Completed optimization trial 130/250. Best loss so far: 0.628306\n",
      "Completed optimization trial 131/250. Best loss so far: 0.628306\n",
      "Completed optimization trial 132/250. Best loss so far: 0.628306\n",
      "Completed optimization trial 133/250. Best loss so far: 0.628306\n",
      "Completed optimization trial 134/250. Best loss so far: 0.628306\n",
      "Completed optimization trial 135/250. Best loss so far: 0.628306\n",
      "Completed optimization trial 136/250. Best loss so far: 0.628306\n",
      "Completed optimization trial 137/250. Best loss so far: 0.628306\n",
      "Completed optimization trial 138/250. Best loss so far: 0.628306\n",
      "Completed optimization trial 139/250. Best loss so far: 0.628306\n",
      "Completed optimization trial 140/250. Best loss so far: 0.628306\n",
      "Completed optimization trial 141/250. Best loss so far: 0.628306\n",
      "Completed optimization trial 142/250. Best loss so far: 0.628306\n",
      "Completed optimization trial 143/250. Best loss so far: 0.628306\n",
      "Completed optimization trial 144/250. Best loss so far: 0.628306\n",
      "Completed optimization trial 145/250. Best loss so far: 0.628306\n",
      "Completed optimization trial 146/250. Best loss so far: 0.628306\n",
      "Completed optimization trial 147/250. Best loss so far: 0.628306\n",
      "Completed optimization trial 148/250. Best loss so far: 0.628306\n",
      "Completed optimization trial 149/250. Best loss so far: 0.628306\n",
      "Completed optimization trial 150/250. Best loss so far: 0.628306\n",
      "Completed optimization trial 151/250. Best loss so far: 0.628306\n",
      "Completed optimization trial 152/250. Best loss so far: 0.628306\n",
      "Completed optimization trial 153/250. Best loss so far: 0.628306\n",
      "Completed optimization trial 154/250. Best loss so far: 0.628306\n",
      "Completed optimization trial 155/250. Best loss so far: 0.628306\n",
      "Completed optimization trial 156/250. Best loss so far: 0.628306\n",
      "Completed optimization trial 157/250. Best loss so far: 0.628306\n",
      "Completed optimization trial 158/250. Best loss so far: 0.628306\n",
      "Completed optimization trial 159/250. Best loss so far: 0.628306\n",
      "Completed optimization trial 160/250. Best loss so far: 0.628306\n",
      "Completed optimization trial 161/250. Best loss so far: 0.628306\n",
      "Completed optimization trial 162/250. Best loss so far: 0.628306\n",
      "Completed optimization trial 163/250. Best loss so far: 0.628306\n",
      "Completed optimization trial 164/250. Best loss so far: 0.628306\n",
      "Completed optimization trial 165/250. Best loss so far: 0.628306\n",
      "Completed optimization trial 166/250. Best loss so far: 0.628306\n",
      "Completed optimization trial 167/250. Best loss so far: 0.628306\n",
      "Completed optimization trial 168/250. Best loss so far: 0.628306\n",
      "Completed optimization trial 169/250. Best loss so far: 0.628306\n",
      "Completed optimization trial 170/250. Best loss so far: 0.628306\n",
      "Completed optimization trial 171/250. Best loss so far: 0.628306\n",
      "Completed optimization trial 172/250. Best loss so far: 0.628306\n",
      "Completed optimization trial 173/250. Best loss so far: 0.628306\n",
      "Completed optimization trial 174/250. Best loss so far: 0.628306\n",
      "Completed optimization trial 175/250. Best loss so far: 0.628306\n",
      "Completed optimization trial 176/250. Best loss so far: 0.628306\n",
      "Completed optimization trial 177/250. Best loss so far: 0.628306\n",
      "Completed optimization trial 178/250. Best loss so far: 0.628306\n",
      "Completed optimization trial 179/250. Best loss so far: 0.628306\n",
      "Completed optimization trial 180/250. Best loss so far: 0.628306\n",
      "Completed optimization trial 181/250. Best loss so far: 0.628306\n",
      "Completed optimization trial 182/250. Best loss so far: 0.628306\n",
      "Completed optimization trial 183/250. Best loss so far: 0.628306\n",
      "Completed optimization trial 184/250. Best loss so far: 0.628306\n",
      "Completed optimization trial 185/250. Best loss so far: 0.628306\n",
      "Completed optimization trial 186/250. Best loss so far: 0.628306\n",
      "Completed optimization trial 187/250. Best loss so far: 0.628306\n",
      "Completed optimization trial 188/250. Best loss so far: 0.628306\n",
      "Completed optimization trial 189/250. Best loss so far: 0.628306\n",
      "Completed optimization trial 190/250. Best loss so far: 0.628306\n",
      "Completed optimization trial 191/250. Best loss so far: 0.628306\n",
      "Completed optimization trial 192/250. Best loss so far: 0.628306\n",
      "Completed optimization trial 193/250. Best loss so far: 0.628306\n",
      "Completed optimization trial 194/250. Best loss so far: 0.628306\n",
      "Completed optimization trial 195/250. Best loss so far: 0.628306\n",
      "Completed optimization trial 196/250. Best loss so far: 0.628306\n",
      "Completed optimization trial 197/250. Best loss so far: 0.628306\n",
      "Completed optimization trial 198/250. Best loss so far: 0.628306\n",
      "Completed optimization trial 199/250. Best loss so far: 0.628306\n",
      "Completed optimization trial 200/250. Best loss so far: 0.628306\n",
      "Completed optimization trial 201/250. Best loss so far: 0.628306\n",
      "Completed optimization trial 202/250. Best loss so far: 0.628306\n",
      "Completed optimization trial 203/250. Best loss so far: 0.628306\n",
      "Completed optimization trial 204/250. Best loss so far: 0.628306\n",
      "Completed optimization trial 205/250. Best loss so far: 0.628306\n",
      "Completed optimization trial 206/250. Best loss so far: 0.628306\n",
      "Completed optimization trial 207/250. Best loss so far: 0.628306\n",
      "Completed optimization trial 208/250. Best loss so far: 0.628306\n",
      "Completed optimization trial 209/250. Best loss so far: 0.628306\n",
      "Completed optimization trial 210/250. Best loss so far: 0.628306\n",
      "Completed optimization trial 211/250. Best loss so far: 0.628306\n",
      "Completed optimization trial 212/250. Best loss so far: 0.628306\n",
      "Completed optimization trial 213/250. Best loss so far: 0.628306\n",
      "Completed optimization trial 214/250. Best loss so far: 0.628306\n",
      "Completed optimization trial 215/250. Best loss so far: 0.628306\n",
      "Completed optimization trial 216/250. Best loss so far: 0.628306\n",
      "Completed optimization trial 217/250. Best loss so far: 0.628306\n",
      "Completed optimization trial 218/250. Best loss so far: 0.628306\n",
      "Completed optimization trial 219/250. Best loss so far: 0.628306\n",
      "Completed optimization trial 220/250. Best loss so far: 0.628306\n",
      "Completed optimization trial 221/250. Best loss so far: 0.628306\n",
      "Completed optimization trial 222/250. Best loss so far: 0.628306\n",
      "Completed optimization trial 223/250. Best loss so far: 0.628306\n",
      "Completed optimization trial 224/250. Best loss so far: 0.628306\n",
      "Completed optimization trial 225/250. Best loss so far: 0.628306\n",
      "Completed optimization trial 226/250. Best loss so far: 0.628306\n",
      "Completed optimization trial 227/250. Best loss so far: 0.628306\n",
      "Completed optimization trial 228/250. Best loss so far: 0.628306\n",
      "Completed optimization trial 229/250. Best loss so far: 0.628306\n",
      "Completed optimization trial 230/250. Best loss so far: 0.628306\n",
      "Completed optimization trial 231/250. Best loss so far: 0.628306\n",
      "Completed optimization trial 232/250. Best loss so far: 0.628306\n",
      "Completed optimization trial 233/250. Best loss so far: 0.628306\n",
      "Completed optimization trial 234/250. Best loss so far: 0.628306\n",
      "Completed optimization trial 235/250. Best loss so far: 0.628306\n",
      "Completed optimization trial 236/250. Best loss so far: 0.628306\n",
      "Completed optimization trial 237/250. Best loss so far: 0.628306\n",
      "Completed optimization trial 238/250. Best loss so far: 0.628306\n",
      "Completed optimization trial 239/250. Best loss so far: 0.628306\n",
      "Completed optimization trial 240/250. Best loss so far: 0.628306\n",
      "Completed optimization trial 241/250. Best loss so far: 0.628306\n",
      "Completed optimization trial 242/250. Best loss so far: 0.628306\n",
      "Completed optimization trial 243/250. Best loss so far: 0.628306\n",
      "Completed optimization trial 244/250. Best loss so far: 0.628306\n",
      "Completed optimization trial 245/250. Best loss so far: 0.628306\n",
      "Completed optimization trial 246/250. Best loss so far: 0.628306\n",
      "Completed optimization trial 247/250. Best loss so far: 0.628306\n",
      "Completed optimization trial 248/250. Best loss so far: 0.628306\n",
      "Completed optimization trial 249/250. Best loss so far: 0.628306\n",
      "Completed optimization trial 250/250. Best loss so far: 0.628306\n"
     ]
    }
   ],
   "source": [
    "opt_results = skopt.gp_minimize(objective,\n",
    "                                dimensions,\n",
    "                                n_calls=n_calls - n_called,\n",
    "                                random_state=random_seed,\n",
    "                                x0=previous_x0,\n",
    "                                y0=previous_y0,\n",
    "                                callback=[progress_callback, checkpoint_callback])"
   ]
  },
  {
   "cell_type": "markdown",
   "metadata": {},
   "source": [
    "## Save hyperparameter optimization results"
   ]
  },
  {
   "cell_type": "code",
   "execution_count": 29,
   "metadata": {},
   "outputs": [],
   "source": [
    "from skopt import dump\n",
    "dump(opt_results, opt_checkpoint_path)"
   ]
  },
  {
   "cell_type": "markdown",
   "metadata": {},
   "source": [
    "# Train tuned model"
   ]
  },
  {
   "cell_type": "markdown",
   "metadata": {},
   "source": [
    "## Get best parameters"
   ]
  },
  {
   "cell_type": "code",
   "execution_count": 30,
   "metadata": {},
   "outputs": [],
   "source": [
    "from skopt import load\n",
    "opt_results = load(opt_checkpoint_path)"
   ]
  },
  {
   "cell_type": "code",
   "execution_count": 31,
   "metadata": {},
   "outputs": [
    {
     "name": "stdout",
     "output_type": "stream",
     "text": [
      "Best loss: 0.6283064484596252\n"
     ]
    }
   ],
   "source": [
    "print('Best loss: {}'.format(opt_results.fun))"
   ]
  },
  {
   "cell_type": "code",
   "execution_count": 32,
   "metadata": {},
   "outputs": [
    {
     "name": "stdout",
     "output_type": "stream",
     "text": [
      "Parameters:\n"
     ]
    },
    {
     "data": {
      "text/plain": [
       "{'learning_rate': 0.5,\n",
       " 'weight_decay': 1e-05,\n",
       " 'layers': (60, 60),\n",
       " 'dropouts': 0.0,\n",
       " 'embedding_dropout': 0.75}"
      ]
     },
     "execution_count": 32,
     "metadata": {},
     "output_type": "execute_result"
    }
   ],
   "source": [
    "print('Parameters:')\n",
    "opt_params = dict(zip(param_order, opt_results.x))\n",
    "opt_params"
   ]
  },
  {
   "cell_type": "markdown",
   "metadata": {},
   "source": [
    "Train model with these parameters until we start to diverge"
   ]
  },
  {
   "cell_type": "code",
   "execution_count": 33,
   "metadata": {},
   "outputs": [],
   "source": [
    "opt = torch.optim.SGD(emb_model.parameters(), lr = 1e-2, weight_decay=1e-4)\n",
    "crit = torch.nn.functional.binary_cross_entropy\n",
    "\n",
    "seed_everything(random_seed)\n",
    "epochs = 5000\n",
    "emb_model = EimModel(emb_szs, len(conts), opt_params['embedding_dropout'], 1, list(opt_params['layers']), \n",
    "                     opt_params['dropouts'], y_range=y_range, classify=True, \n",
    "                     use_bn=True)\n",
    "emb_model.to(device)\n",
    "opt = torch.optim.SGD(emb_model.parameters(), lr=opt_params['learning_rate'], weight_decay=opt_params['weight_decay'])\n",
    "losses = eim_train(emb_model, model_data, opt, crit, epochs, save_best=True, print_output=False)"
   ]
  },
  {
   "cell_type": "markdown",
   "metadata": {},
   "source": [
    "## Plot training results"
   ]
  },
  {
   "cell_type": "code",
   "execution_count": 34,
   "metadata": {},
   "outputs": [
    {
     "data": {
      "image/png": "[encoded data removed]",
      "text/plain": [
       "<Figure size 432x288 with 1 Axes>"
      ]
     },
     "metadata": {
      "needs_background": "light"
     },
     "output_type": "display_data"
    }
   ],
   "source": [
    "plt.plot(losses['train'], label='Training Loss (Cross-Entropy)')\n",
    "plt.plot(losses['validation'], label='Validation Loss (Cross-Entropy)')\n",
    "plt.legend();"
   ]
  },
  {
   "cell_type": "markdown",
   "metadata": {},
   "source": [
    "## Load best model"
   ]
  },
  {
   "cell_type": "code",
   "execution_count": 35,
   "metadata": {},
   "outputs": [],
   "source": [
    "emb_model = EimModel(emb_szs, len(conts), opt_params['embedding_dropout'], 1, list(opt_params['layers']), \n",
    "                     opt_params['dropouts'], y_range=y_range, classify=True, \n",
    "                     use_bn=True)\n",
    "emb_model.to(device)\n",
    "emb_model.load_state_dict(torch.load(Path('.', 'best_model.pkl')))"
   ]
  },
  {
   "cell_type": "markdown",
   "metadata": {},
   "source": [
    "## Evaluate validation set against model"
   ]
  },
  {
   "cell_type": "code",
   "execution_count": 36,
   "metadata": {},
   "outputs": [],
   "source": [
    "data = next(iter(model_data.val_dl))\n",
    "\n",
    "emb_model.eval()\n",
    "\n",
    "# get inputs\n",
    "x_cats, x_conts, y = data\n",
    "\n",
    "# wrap with variable\n",
    "x_cats = torch.LongTensor(x_cats).to(device)\n",
    "x_conts = torch.FloatTensor(x_conts).to(device)\n",
    "y = torch.FloatTensor(y).to(device)\n",
    "x_cats.requires_grad = False\n",
    "x_conts.requires_grad = False\n",
    "y.requires_grad = False\n",
    "\n",
    "val_outputs = emb_model(x_cats, x_conts).cpu().detach().numpy()\n",
    "val_y = y.cpu().detach().numpy()"
   ]
  },
  {
   "cell_type": "markdown",
   "metadata": {},
   "source": [
    "### Plot validation AUC-PR"
   ]
  },
  {
   "cell_type": "code",
   "execution_count": 37,
   "metadata": {},
   "outputs": [
    {
     "data": {
      "image/png": "[encoded data removed]",
      "text/plain": [
       "<Figure size 1008x504 with 2 Axes>"
      ]
     },
     "metadata": {
      "needs_background": "light"
     },
     "output_type": "display_data"
    }
   ],
   "source": [
    "fig, ax = plt.subplots(1, 2, sharex=True, sharey=True, figsize=(14, 7))\n",
    "\n",
    "plt.sca(ax[0])\n",
    "plot_pr_curve(val_y, val_outputs, 'Custom Classifier')\n",
    "\n",
    "plt.sca(ax[1])\n",
    "plot_pr_curve(val_y, np.zeros(len(val_outputs)), 'Baseline Classifier')"
   ]
  },
  {
   "cell_type": "markdown",
   "metadata": {},
   "source": [
    "## Evaluate test set against model"
   ]
  },
  {
   "cell_type": "code",
   "execution_count": 38,
   "metadata": {},
   "outputs": [],
   "source": [
    "test_outputs = None\n",
    "for data in iter(model_data.test_dl):\n",
    "\n",
    "    emb_model.eval()\n",
    "\n",
    "    # get inputs\n",
    "    x_cats, x_conts, y = data\n",
    "\n",
    "    # wrap with variable\n",
    "    x_cats = torch.LongTensor(x_cats).to(device)\n",
    "    x_conts = torch.FloatTensor(x_conts).to(device)\n",
    "    x_cats.requires_grad = False\n",
    "    x_conts.requires_grad = False\n",
    "\n",
    "    outputs = emb_model(x_cats, x_conts).cpu().detach().numpy()\n",
    "    if test_outputs is not None:\n",
    "        test_outputs = np.concatenate((test_outputs, outputs))\n",
    "    else:\n",
    "        test_outputs = outputs"
   ]
  },
  {
   "cell_type": "markdown",
   "metadata": {},
   "source": [
    "### Plot test AUC-PR"
   ]
  },
  {
   "cell_type": "code",
   "execution_count": 39,
   "metadata": {},
   "outputs": [
    {
     "data": {
      "image/png": "[encoded data removed]",
      "text/plain": [
       "<Figure size 1008x504 with 2 Axes>"
      ]
     },
     "metadata": {
      "needs_background": "light"
     },
     "output_type": "display_data"
    }
   ],
   "source": [
    "fig, ax = plt.subplots(1, 2, sharex=True, sharey=True, figsize=(14, 7))\n",
    "\n",
    "plt.sca(ax[0])\n",
    "plot_pr_curve(test_y, test_outputs, 'Custom Classifier')\n",
    "\n",
    "plt.sca(ax[1])\n",
    "plot_pr_curve(test_y, np.zeros(len(test_outputs)), 'Baseline Classifier')"
   ]
  }
 ],
 "metadata": {
  "kernelspec": {
   "display_name": "Python 3",
   "language": "python",
   "name": "python3"
  },
  "language_info": {
   "codemirror_mode": {
    "name": "ipython",
    "version": 3
   },
   "file_extension": ".py",
   "mimetype": "text/x-python",
   "name": "python",
   "nbconvert_exporter": "python",
   "pygments_lexer": "ipython3",
   "version": "3.7.1"
  }
 },
 "nbformat": 4,
 "nbformat_minor": 2
}
