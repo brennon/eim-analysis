{
 "cells": [
  {
   "cell_type": "markdown",
   "metadata": {},
   "source": [
    "https://www.kaggle.com/keremt/pytorch-entity-embeddings was super helpful with this."
   ]
  },
  {
   "cell_type": "code",
   "execution_count": 1,
   "metadata": {},
   "outputs": [],
   "source": [
    "import os.path\n",
    "import random\n",
    "import sys\n",
    "import time\n",
    "\n",
    "import matplotlib.pyplot as plt\n",
    "import numpy as np\n",
    "import pandas as pd\n",
    "import skopt\n",
    "import torch\n",
    "import warnings\n",
    "\n",
    "from pathlib import Path"
   ]
  },
  {
   "cell_type": "code",
   "execution_count": 2,
   "metadata": {},
   "outputs": [],
   "source": [
    "sys.path.append(os.path.abspath('..'))"
   ]
  },
  {
   "cell_type": "code",
   "execution_count": 3,
   "metadata": {},
   "outputs": [],
   "source": [
    "# Functions\n",
    "from localhelpers import eim_train\n",
    "from localhelpers import eim_validate\n",
    "from localhelpers import emb_init\n",
    "from localhelpers import get_embs_dims\n",
    "from localhelpers import paired_ttest_5x2cv\n",
    "from localhelpers import preprocess\n",
    "from localhelpers import seed_everything\n",
    "from localhelpers import threshold_array\n",
    "\n",
    "# Classes\n",
    "from localhelpers import BaselineEstimator\n",
    "from localhelpers import CheckpointSaver\n",
    "from localhelpers import CustomEstimator\n",
    "from localhelpers import EimDataPreprocess\n",
    "from localhelpers import EimDataset\n",
    "from localhelpers import EimModel\n",
    "from localhelpers import EimModelData\n",
    "from localhelpers import ProgressCallback"
   ]
  },
  {
   "cell_type": "markdown",
   "metadata": {},
   "source": [
    "Generate plots in notebook and suppress warnings"
   ]
  },
  {
   "cell_type": "code",
   "execution_count": 4,
   "metadata": {},
   "outputs": [],
   "source": [
    "%matplotlib inline\n",
    "warnings.filterwarnings('ignore')"
   ]
  },
  {
   "cell_type": "markdown",
   "metadata": {},
   "source": [
    "Seed random number generators for reproducibility."
   ]
  },
  {
   "cell_type": "code",
   "execution_count": 5,
   "metadata": {},
   "outputs": [
    {
     "name": "stdout",
     "output_type": "stream",
     "text": [
      "Using random seed 1552765594\n"
     ]
    }
   ],
   "source": [
    "random_seed = int(time.time())\n",
    "print(f'Using random seed {random_seed}')\n",
    "seed_everything(random_seed)"
   ]
  },
  {
   "cell_type": "markdown",
   "metadata": {},
   "source": [
    "# Data processing"
   ]
  },
  {
   "cell_type": "code",
   "execution_count": 6,
   "metadata": {},
   "outputs": [
    {
     "data": {
      "text/html": [
       "<div>\n",
       "<style scoped>\n",
       "    .dataframe tbody tr th:only-of-type {\n",
       "        vertical-align: middle;\n",
       "    }\n",
       "\n",
       "    .dataframe tbody tr th {\n",
       "        vertical-align: top;\n",
       "    }\n",
       "\n",
       "    .dataframe thead th {\n",
       "        text-align: right;\n",
       "    }\n",
       "</style>\n",
       "<table border=\"1\" class=\"dataframe\">\n",
       "  <thead>\n",
       "    <tr style=\"text-align: right;\">\n",
       "      <th></th>\n",
       "      <th>_id</th>\n",
       "      <th>location</th>\n",
       "      <th>language</th>\n",
       "      <th>nationality</th>\n",
       "      <th>age</th>\n",
       "      <th>sex</th>\n",
       "      <th>hearing_impairments</th>\n",
       "      <th>personality_trusting</th>\n",
       "      <th>personality_artistic</th>\n",
       "      <th>personality_imagination</th>\n",
       "      <th>...</th>\n",
       "      <th>musicpref_traditional_irish</th>\n",
       "      <th>musicpref_hip_hop</th>\n",
       "      <th>musicpref_jazz</th>\n",
       "      <th>musicpref_pop</th>\n",
       "      <th>musicpref_hiphop</th>\n",
       "      <th>musicpref_world</th>\n",
       "      <th>musicpref_none</th>\n",
       "      <th>musicpref_classical</th>\n",
       "      <th>musicpref_folk</th>\n",
       "      <th>musicpref_dance</th>\n",
       "    </tr>\n",
       "  </thead>\n",
       "  <tbody>\n",
       "    <tr>\n",
       "      <th>0</th>\n",
       "      <td>570eb72383a73509d0e01cf8</td>\n",
       "      <td>taipei_city</td>\n",
       "      <td>en</td>\n",
       "      <td>taiwanese</td>\n",
       "      <td>11.0</td>\n",
       "      <td>male</td>\n",
       "      <td>0</td>\n",
       "      <td>1</td>\n",
       "      <td>5</td>\n",
       "      <td>5</td>\n",
       "      <td>...</td>\n",
       "      <td>0</td>\n",
       "      <td>0</td>\n",
       "      <td>0</td>\n",
       "      <td>0</td>\n",
       "      <td>0</td>\n",
       "      <td>0</td>\n",
       "      <td>0</td>\n",
       "      <td>0</td>\n",
       "      <td>0</td>\n",
       "      <td>0</td>\n",
       "    </tr>\n",
       "    <tr>\n",
       "      <th>1</th>\n",
       "      <td>570eb72b83a73509d0e01f76</td>\n",
       "      <td>taipei_city</td>\n",
       "      <td>en</td>\n",
       "      <td>indonesian</td>\n",
       "      <td>40.0</td>\n",
       "      <td>male</td>\n",
       "      <td>0</td>\n",
       "      <td>5</td>\n",
       "      <td>1</td>\n",
       "      <td>5</td>\n",
       "      <td>...</td>\n",
       "      <td>0</td>\n",
       "      <td>0</td>\n",
       "      <td>0</td>\n",
       "      <td>0</td>\n",
       "      <td>0</td>\n",
       "      <td>0</td>\n",
       "      <td>0</td>\n",
       "      <td>0</td>\n",
       "      <td>0</td>\n",
       "      <td>0</td>\n",
       "    </tr>\n",
       "    <tr>\n",
       "      <th>2</th>\n",
       "      <td>570eb72c83a73509d0e01ff0</td>\n",
       "      <td>taipei_city</td>\n",
       "      <td>zh_TW</td>\n",
       "      <td>taiwanese</td>\n",
       "      <td>8.0</td>\n",
       "      <td>male</td>\n",
       "      <td>0</td>\n",
       "      <td>5</td>\n",
       "      <td>4</td>\n",
       "      <td>4</td>\n",
       "      <td>...</td>\n",
       "      <td>0</td>\n",
       "      <td>0</td>\n",
       "      <td>0</td>\n",
       "      <td>1</td>\n",
       "      <td>0</td>\n",
       "      <td>0</td>\n",
       "      <td>0</td>\n",
       "      <td>0</td>\n",
       "      <td>0</td>\n",
       "      <td>0</td>\n",
       "    </tr>\n",
       "    <tr>\n",
       "      <th>3</th>\n",
       "      <td>570eb72f83a73509d0e02101</td>\n",
       "      <td>taichung_city</td>\n",
       "      <td>en</td>\n",
       "      <td>taiwanese</td>\n",
       "      <td>19.0</td>\n",
       "      <td>female</td>\n",
       "      <td>0</td>\n",
       "      <td>4</td>\n",
       "      <td>1</td>\n",
       "      <td>4</td>\n",
       "      <td>...</td>\n",
       "      <td>0</td>\n",
       "      <td>0</td>\n",
       "      <td>0</td>\n",
       "      <td>1</td>\n",
       "      <td>0</td>\n",
       "      <td>0</td>\n",
       "      <td>0</td>\n",
       "      <td>0</td>\n",
       "      <td>0</td>\n",
       "      <td>0</td>\n",
       "    </tr>\n",
       "    <tr>\n",
       "      <th>4</th>\n",
       "      <td>570eb73983a73509d0e02466</td>\n",
       "      <td>taichung_city</td>\n",
       "      <td>en</td>\n",
       "      <td>taiwanese</td>\n",
       "      <td>9.0</td>\n",
       "      <td>male</td>\n",
       "      <td>0</td>\n",
       "      <td>4</td>\n",
       "      <td>1</td>\n",
       "      <td>3</td>\n",
       "      <td>...</td>\n",
       "      <td>0</td>\n",
       "      <td>0</td>\n",
       "      <td>1</td>\n",
       "      <td>0</td>\n",
       "      <td>0</td>\n",
       "      <td>0</td>\n",
       "      <td>0</td>\n",
       "      <td>0</td>\n",
       "      <td>0</td>\n",
       "      <td>0</td>\n",
       "    </tr>\n",
       "  </tbody>\n",
       "</table>\n",
       "<p>5 rows × 62 columns</p>\n",
       "</div>"
      ],
      "text/plain": [
       "                        _id       location language nationality   age     sex  \\\n",
       "0  570eb72383a73509d0e01cf8    taipei_city       en   taiwanese  11.0    male   \n",
       "1  570eb72b83a73509d0e01f76    taipei_city       en  indonesian  40.0    male   \n",
       "2  570eb72c83a73509d0e01ff0    taipei_city    zh_TW   taiwanese   8.0    male   \n",
       "3  570eb72f83a73509d0e02101  taichung_city       en   taiwanese  19.0  female   \n",
       "4  570eb73983a73509d0e02466  taichung_city       en   taiwanese   9.0    male   \n",
       "\n",
       "   hearing_impairments  personality_trusting  personality_artistic  \\\n",
       "0                    0                     1                     5   \n",
       "1                    0                     5                     1   \n",
       "2                    0                     5                     4   \n",
       "3                    0                     4                     1   \n",
       "4                    0                     4                     1   \n",
       "\n",
       "   personality_imagination       ...         musicpref_traditional_irish  \\\n",
       "0                        5       ...                                   0   \n",
       "1                        5       ...                                   0   \n",
       "2                        4       ...                                   0   \n",
       "3                        4       ...                                   0   \n",
       "4                        3       ...                                   0   \n",
       "\n",
       "   musicpref_hip_hop  musicpref_jazz  musicpref_pop  musicpref_hiphop  \\\n",
       "0                  0               0              0                 0   \n",
       "1                  0               0              0                 0   \n",
       "2                  0               0              1                 0   \n",
       "3                  0               0              1                 0   \n",
       "4                  0               1              0                 0   \n",
       "\n",
       "   musicpref_world  musicpref_none  musicpref_classical  musicpref_folk  \\\n",
       "0                0               0                    0               0   \n",
       "1                0               0                    0               0   \n",
       "2                0               0                    0               0   \n",
       "3                0               0                    0               0   \n",
       "4                0               0                    0               0   \n",
       "\n",
       "   musicpref_dance  \n",
       "0                0  \n",
       "1                0  \n",
       "2                0  \n",
       "3                0  \n",
       "4                0  \n",
       "\n",
       "[5 rows x 62 columns]"
      ]
     },
     "execution_count": 6,
     "metadata": {},
     "output_type": "execute_result"
    }
   ],
   "source": [
    "eim_csv = Path('..', '..', 'fastai', 'data', 'good_reaction_trials_categorified_q90_javier_all.csv')\n",
    "\n",
    "eim_df = pd.read_csv(eim_csv)\n",
    "train_df = eim_df[eim_df.song == 'hallelujah'].copy()\n",
    "valid_test_df = eim_df[eim_df.song != 'hallelujah'].copy()\n",
    "\n",
    "del eim_df\n",
    "\n",
    "# train_df = train_df.iloc[0:128]\n",
    "train_df.head()"
   ]
  },
  {
   "cell_type": "code",
   "execution_count": 7,
   "metadata": {},
   "outputs": [],
   "source": [
    "cats = ['location', 'sex', 'musical_background', 'nationality', 'visual_impairments', 'hearing_impairments', \n",
    "        'musicpref_traditional_irish', 'musicpref_jazz', 'musicpref_folk', 'musicpref_hiphop', 'musicpref_classical', \n",
    "        'musicpref_none', 'musicpref_rock', 'musicpref_hip_hop', 'musicpref_world', 'musicpref_pop', 'musicpref_dance',\n",
    "        'language']\n",
    "\n",
    "conts = ['musical_expertise', 'age', 'control_activity', 'control_tension', 'control_engagement', \n",
    "         'control_positivity', 'control_like_dislike', 'song_chillsshiversthrills', 'song_activity', 'song_tension', \n",
    "         'song_familiarity', 'song_engagement', 'song_positivity', 'song_like_dislike', 'song_inspired', 'song_wonder', \n",
    "         'song_spirituality', 'song_thrills', 'song_chills', 'song_tenderness', 'song_nostalgia', 'song_goosebumps', \n",
    "         'song_overwhelmed', 'song_shivers', 'control_power', 'song_transcendence', 'song_sadness', 'song_joyfulactivation', \n",
    "         'song_peacefulness', 'song_power', 'personality_trusting', 'personality_artistic', 'personality_imagination', \n",
    "         'personality_reserved', 'personality_outgoing', 'personality_lazy', 'personality_stress', 'personality_nervous', \n",
    "         'personality_fault', 'personality_thorough', 'concentration']"
   ]
  },
  {
   "cell_type": "code",
   "execution_count": null,
   "metadata": {},
   "outputs": [
    {
     "data": {
      "text/html": [
       "<div>\n",
       "<style scoped>\n",
       "    .dataframe tbody tr th:only-of-type {\n",
       "        vertical-align: middle;\n",
       "    }\n",
       "\n",
       "    .dataframe tbody tr th {\n",
       "        vertical-align: top;\n",
       "    }\n",
       "\n",
       "    .dataframe thead th {\n",
       "        text-align: right;\n",
       "    }\n",
       "</style>\n",
       "<table border=\"1\" class=\"dataframe\">\n",
       "  <thead>\n",
       "    <tr style=\"text-align: right;\">\n",
       "      <th></th>\n",
       "      <th>_id</th>\n",
       "      <th>location</th>\n",
       "      <th>language</th>\n",
       "      <th>nationality</th>\n",
       "      <th>age</th>\n",
       "      <th>sex</th>\n",
       "      <th>hearing_impairments</th>\n",
       "      <th>personality_trusting</th>\n",
       "      <th>personality_artistic</th>\n",
       "      <th>personality_imagination</th>\n",
       "      <th>...</th>\n",
       "      <th>musicpref_traditional_irish</th>\n",
       "      <th>musicpref_hip_hop</th>\n",
       "      <th>musicpref_jazz</th>\n",
       "      <th>musicpref_pop</th>\n",
       "      <th>musicpref_hiphop</th>\n",
       "      <th>musicpref_world</th>\n",
       "      <th>musicpref_none</th>\n",
       "      <th>musicpref_classical</th>\n",
       "      <th>musicpref_folk</th>\n",
       "      <th>musicpref_dance</th>\n",
       "    </tr>\n",
       "  </thead>\n",
       "  <tbody>\n",
       "    <tr>\n",
       "      <th>0</th>\n",
       "      <td>570eb72383a73509d0e01cf8</td>\n",
       "      <td>taipei_city</td>\n",
       "      <td>en</td>\n",
       "      <td>taiwanese</td>\n",
       "      <td>11.0</td>\n",
       "      <td>male</td>\n",
       "      <td>0</td>\n",
       "      <td>1</td>\n",
       "      <td>5</td>\n",
       "      <td>5</td>\n",
       "      <td>...</td>\n",
       "      <td>0</td>\n",
       "      <td>0</td>\n",
       "      <td>0</td>\n",
       "      <td>0</td>\n",
       "      <td>0</td>\n",
       "      <td>0</td>\n",
       "      <td>0</td>\n",
       "      <td>0</td>\n",
       "      <td>0</td>\n",
       "      <td>0</td>\n",
       "    </tr>\n",
       "    <tr>\n",
       "      <th>1</th>\n",
       "      <td>570eb72b83a73509d0e01f76</td>\n",
       "      <td>taipei_city</td>\n",
       "      <td>en</td>\n",
       "      <td>indonesian</td>\n",
       "      <td>40.0</td>\n",
       "      <td>male</td>\n",
       "      <td>0</td>\n",
       "      <td>5</td>\n",
       "      <td>1</td>\n",
       "      <td>5</td>\n",
       "      <td>...</td>\n",
       "      <td>0</td>\n",
       "      <td>0</td>\n",
       "      <td>0</td>\n",
       "      <td>0</td>\n",
       "      <td>0</td>\n",
       "      <td>0</td>\n",
       "      <td>0</td>\n",
       "      <td>0</td>\n",
       "      <td>0</td>\n",
       "      <td>0</td>\n",
       "    </tr>\n",
       "    <tr>\n",
       "      <th>2</th>\n",
       "      <td>570eb72c83a73509d0e01ff0</td>\n",
       "      <td>taipei_city</td>\n",
       "      <td>zh_TW</td>\n",
       "      <td>taiwanese</td>\n",
       "      <td>8.0</td>\n",
       "      <td>male</td>\n",
       "      <td>0</td>\n",
       "      <td>5</td>\n",
       "      <td>4</td>\n",
       "      <td>4</td>\n",
       "      <td>...</td>\n",
       "      <td>0</td>\n",
       "      <td>0</td>\n",
       "      <td>0</td>\n",
       "      <td>1</td>\n",
       "      <td>0</td>\n",
       "      <td>0</td>\n",
       "      <td>0</td>\n",
       "      <td>0</td>\n",
       "      <td>0</td>\n",
       "      <td>0</td>\n",
       "    </tr>\n",
       "    <tr>\n",
       "      <th>3</th>\n",
       "      <td>570eb72f83a73509d0e02101</td>\n",
       "      <td>taichung_city</td>\n",
       "      <td>en</td>\n",
       "      <td>taiwanese</td>\n",
       "      <td>19.0</td>\n",
       "      <td>female</td>\n",
       "      <td>0</td>\n",
       "      <td>4</td>\n",
       "      <td>1</td>\n",
       "      <td>4</td>\n",
       "      <td>...</td>\n",
       "      <td>0</td>\n",
       "      <td>0</td>\n",
       "      <td>0</td>\n",
       "      <td>1</td>\n",
       "      <td>0</td>\n",
       "      <td>0</td>\n",
       "      <td>0</td>\n",
       "      <td>0</td>\n",
       "      <td>0</td>\n",
       "      <td>0</td>\n",
       "    </tr>\n",
       "    <tr>\n",
       "      <th>4</th>\n",
       "      <td>570eb73983a73509d0e02466</td>\n",
       "      <td>taichung_city</td>\n",
       "      <td>en</td>\n",
       "      <td>taiwanese</td>\n",
       "      <td>9.0</td>\n",
       "      <td>male</td>\n",
       "      <td>0</td>\n",
       "      <td>4</td>\n",
       "      <td>1</td>\n",
       "      <td>3</td>\n",
       "      <td>...</td>\n",
       "      <td>0</td>\n",
       "      <td>0</td>\n",
       "      <td>1</td>\n",
       "      <td>0</td>\n",
       "      <td>0</td>\n",
       "      <td>0</td>\n",
       "      <td>0</td>\n",
       "      <td>0</td>\n",
       "      <td>0</td>\n",
       "      <td>0</td>\n",
       "    </tr>\n",
       "  </tbody>\n",
       "</table>\n",
       "<p>5 rows × 62 columns</p>\n",
       "</div>"
      ],
      "text/plain": [
       "                        _id       location language nationality   age     sex  \\\n",
       "0  570eb72383a73509d0e01cf8    taipei_city       en   taiwanese  11.0    male   \n",
       "1  570eb72b83a73509d0e01f76    taipei_city       en  indonesian  40.0    male   \n",
       "2  570eb72c83a73509d0e01ff0    taipei_city    zh_TW   taiwanese   8.0    male   \n",
       "3  570eb72f83a73509d0e02101  taichung_city       en   taiwanese  19.0  female   \n",
       "4  570eb73983a73509d0e02466  taichung_city       en   taiwanese   9.0    male   \n",
       "\n",
       "   hearing_impairments  personality_trusting  personality_artistic  \\\n",
       "0                    0                     1                     5   \n",
       "1                    0                     5                     1   \n",
       "2                    0                     5                     4   \n",
       "3                    0                     4                     1   \n",
       "4                    0                     4                     1   \n",
       "\n",
       "   personality_imagination       ...         musicpref_traditional_irish  \\\n",
       "0                        5       ...                                   0   \n",
       "1                        5       ...                                   0   \n",
       "2                        4       ...                                   0   \n",
       "3                        4       ...                                   0   \n",
       "4                        3       ...                                   0   \n",
       "\n",
       "   musicpref_hip_hop  musicpref_jazz  musicpref_pop  musicpref_hiphop  \\\n",
       "0                  0               0              0                 0   \n",
       "1                  0               0              0                 0   \n",
       "2                  0               0              1                 0   \n",
       "3                  0               0              1                 0   \n",
       "4                  0               1              0                 0   \n",
       "\n",
       "   musicpref_world  musicpref_none  musicpref_classical  musicpref_folk  \\\n",
       "0                0               0                    0               0   \n",
       "1                0               0                    0               0   \n",
       "2                0               0                    0               0   \n",
       "3                0               0                    0               0   \n",
       "4                0               0                    0               0   \n",
       "\n",
       "   musicpref_dance  \n",
       "0                0  \n",
       "1                0  \n",
       "2                0  \n",
       "3                0  \n",
       "4                0  \n",
       "\n",
       "[5 rows x 62 columns]"
      ]
     },
     "execution_count": 8,
     "metadata": {},
     "output_type": "execute_result"
    }
   ],
   "source": [
    "train_df.head()"
   ]
  },
  {
   "cell_type": "code",
   "execution_count": null,
   "metadata": {},
   "outputs": [],
   "source": [
    "train_valid_test_df = pd.concat([train_df, valid_test_df],0)\n",
    "\n",
    "# Remove id, name, and item_description columns\n",
    "train_test_df = train_valid_test_df.drop(['_id'], axis=1)"
   ]
  },
  {
   "cell_type": "code",
   "execution_count": null,
   "metadata": {},
   "outputs": [],
   "source": [
    "train_valid_test_df.loc[train_valid_test_df.critical_reaction == False, 'critical_reaction'] = 0\n",
    "train_valid_test_df.loc[train_valid_test_df.critical_reaction == True, 'critical_reaction'] = 1"
   ]
  },
  {
   "cell_type": "code",
   "execution_count": null,
   "metadata": {},
   "outputs": [],
   "source": [
    "# Replace missing values and convert brand_name and category_name to categories\n",
    "train_valid_test_df = preprocess(train_valid_test_df, cats)"
   ]
  },
  {
   "cell_type": "code",
   "execution_count": null,
   "metadata": {},
   "outputs": [],
   "source": [
    "train_valid_test_df = train_valid_test_df.reset_index(drop=True)"
   ]
  },
  {
   "cell_type": "code",
   "execution_count": null,
   "metadata": {},
   "outputs": [],
   "source": [
    "# Convert values in categorical columns to 0, 1, 2, 3, ... from the top of the DataFrame down\n",
    "train_valid_test_df = EimDataPreprocess(train_valid_test_df, cats, inplace=True)"
   ]
  },
  {
   "cell_type": "code",
   "execution_count": null,
   "metadata": {},
   "outputs": [],
   "source": [
    "# Split combined DataFrame back out into train and test DataFrames\n",
    "train_df = train_valid_test_df.iloc[range(len(train_df))]\n",
    "valid_test_df = train_valid_test_df.iloc[range(len(train_df),len(train_valid_test_df))]"
   ]
  },
  {
   "cell_type": "code",
   "execution_count": null,
   "metadata": {},
   "outputs": [],
   "source": [
    "valid_pct, test_pct = .8, .2\n",
    "idxs = valid_test_df.index.values\n",
    "np.random.shuffle(idxs)\n",
    "split = int(np.floor(valid_pct * len(valid_test_df)))\n",
    "valid_idxs, test_idxs = idxs[:split], idxs[split:]"
   ]
  },
  {
   "cell_type": "code",
   "execution_count": null,
   "metadata": {},
   "outputs": [],
   "source": [
    "# train_valid_df = train_df.copy()\n",
    "valid_df = valid_test_df.loc[valid_idxs, :]\n",
    "test_df = valid_test_df.loc[test_idxs, :]"
   ]
  },
  {
   "cell_type": "code",
   "execution_count": null,
   "metadata": {},
   "outputs": [],
   "source": [
    "train_df.reset_index(drop=True, inplace=True)\n",
    "valid_df.reset_index(drop=True, inplace=True)\n",
    "test_df.reset_index(drop=True, inplace=True)"
   ]
  },
  {
   "cell_type": "code",
   "execution_count": null,
   "metadata": {},
   "outputs": [
    {
     "data": {
      "text/html": [
       "<div>\n",
       "<style scoped>\n",
       "    .dataframe tbody tr th:only-of-type {\n",
       "        vertical-align: middle;\n",
       "    }\n",
       "\n",
       "    .dataframe tbody tr th {\n",
       "        vertical-align: top;\n",
       "    }\n",
       "\n",
       "    .dataframe thead th {\n",
       "        text-align: right;\n",
       "    }\n",
       "</style>\n",
       "<table border=\"1\" class=\"dataframe\">\n",
       "  <thead>\n",
       "    <tr style=\"text-align: right;\">\n",
       "      <th></th>\n",
       "      <th>_id</th>\n",
       "      <th>location</th>\n",
       "      <th>language</th>\n",
       "      <th>nationality</th>\n",
       "      <th>age</th>\n",
       "      <th>sex</th>\n",
       "      <th>hearing_impairments</th>\n",
       "      <th>personality_trusting</th>\n",
       "      <th>personality_artistic</th>\n",
       "      <th>personality_imagination</th>\n",
       "      <th>...</th>\n",
       "      <th>musicpref_traditional_irish</th>\n",
       "      <th>musicpref_hip_hop</th>\n",
       "      <th>musicpref_jazz</th>\n",
       "      <th>musicpref_pop</th>\n",
       "      <th>musicpref_hiphop</th>\n",
       "      <th>musicpref_world</th>\n",
       "      <th>musicpref_none</th>\n",
       "      <th>musicpref_classical</th>\n",
       "      <th>musicpref_folk</th>\n",
       "      <th>musicpref_dance</th>\n",
       "    </tr>\n",
       "  </thead>\n",
       "  <tbody>\n",
       "    <tr>\n",
       "      <th>0</th>\n",
       "      <td>570eb72383a73509d0e01cf8</td>\n",
       "      <td>0</td>\n",
       "      <td>0</td>\n",
       "      <td>0</td>\n",
       "      <td>11.0</td>\n",
       "      <td>0</td>\n",
       "      <td>0</td>\n",
       "      <td>1</td>\n",
       "      <td>5</td>\n",
       "      <td>5</td>\n",
       "      <td>...</td>\n",
       "      <td>0</td>\n",
       "      <td>0</td>\n",
       "      <td>0</td>\n",
       "      <td>0</td>\n",
       "      <td>0</td>\n",
       "      <td>0</td>\n",
       "      <td>0</td>\n",
       "      <td>0</td>\n",
       "      <td>0</td>\n",
       "      <td>0</td>\n",
       "    </tr>\n",
       "    <tr>\n",
       "      <th>1</th>\n",
       "      <td>570eb72b83a73509d0e01f76</td>\n",
       "      <td>0</td>\n",
       "      <td>0</td>\n",
       "      <td>1</td>\n",
       "      <td>40.0</td>\n",
       "      <td>0</td>\n",
       "      <td>0</td>\n",
       "      <td>5</td>\n",
       "      <td>1</td>\n",
       "      <td>5</td>\n",
       "      <td>...</td>\n",
       "      <td>0</td>\n",
       "      <td>0</td>\n",
       "      <td>0</td>\n",
       "      <td>0</td>\n",
       "      <td>0</td>\n",
       "      <td>0</td>\n",
       "      <td>0</td>\n",
       "      <td>0</td>\n",
       "      <td>0</td>\n",
       "      <td>0</td>\n",
       "    </tr>\n",
       "    <tr>\n",
       "      <th>2</th>\n",
       "      <td>570eb72c83a73509d0e01ff0</td>\n",
       "      <td>0</td>\n",
       "      <td>1</td>\n",
       "      <td>0</td>\n",
       "      <td>8.0</td>\n",
       "      <td>0</td>\n",
       "      <td>0</td>\n",
       "      <td>5</td>\n",
       "      <td>4</td>\n",
       "      <td>4</td>\n",
       "      <td>...</td>\n",
       "      <td>0</td>\n",
       "      <td>0</td>\n",
       "      <td>0</td>\n",
       "      <td>1</td>\n",
       "      <td>0</td>\n",
       "      <td>0</td>\n",
       "      <td>0</td>\n",
       "      <td>0</td>\n",
       "      <td>0</td>\n",
       "      <td>0</td>\n",
       "    </tr>\n",
       "    <tr>\n",
       "      <th>3</th>\n",
       "      <td>570eb72f83a73509d0e02101</td>\n",
       "      <td>1</td>\n",
       "      <td>0</td>\n",
       "      <td>0</td>\n",
       "      <td>19.0</td>\n",
       "      <td>1</td>\n",
       "      <td>0</td>\n",
       "      <td>4</td>\n",
       "      <td>1</td>\n",
       "      <td>4</td>\n",
       "      <td>...</td>\n",
       "      <td>0</td>\n",
       "      <td>0</td>\n",
       "      <td>0</td>\n",
       "      <td>1</td>\n",
       "      <td>0</td>\n",
       "      <td>0</td>\n",
       "      <td>0</td>\n",
       "      <td>0</td>\n",
       "      <td>0</td>\n",
       "      <td>0</td>\n",
       "    </tr>\n",
       "    <tr>\n",
       "      <th>4</th>\n",
       "      <td>570eb73983a73509d0e02466</td>\n",
       "      <td>1</td>\n",
       "      <td>0</td>\n",
       "      <td>0</td>\n",
       "      <td>9.0</td>\n",
       "      <td>0</td>\n",
       "      <td>0</td>\n",
       "      <td>4</td>\n",
       "      <td>1</td>\n",
       "      <td>3</td>\n",
       "      <td>...</td>\n",
       "      <td>0</td>\n",
       "      <td>0</td>\n",
       "      <td>1</td>\n",
       "      <td>0</td>\n",
       "      <td>0</td>\n",
       "      <td>0</td>\n",
       "      <td>0</td>\n",
       "      <td>0</td>\n",
       "      <td>0</td>\n",
       "      <td>0</td>\n",
       "    </tr>\n",
       "  </tbody>\n",
       "</table>\n",
       "<p>5 rows × 62 columns</p>\n",
       "</div>"
      ],
      "text/plain": [
       "                        _id  location  language  nationality   age  sex  \\\n",
       "0  570eb72383a73509d0e01cf8         0         0            0  11.0    0   \n",
       "1  570eb72b83a73509d0e01f76         0         0            1  40.0    0   \n",
       "2  570eb72c83a73509d0e01ff0         0         1            0   8.0    0   \n",
       "3  570eb72f83a73509d0e02101         1         0            0  19.0    1   \n",
       "4  570eb73983a73509d0e02466         1         0            0   9.0    0   \n",
       "\n",
       "   hearing_impairments  personality_trusting  personality_artistic  \\\n",
       "0                    0                     1                     5   \n",
       "1                    0                     5                     1   \n",
       "2                    0                     5                     4   \n",
       "3                    0                     4                     1   \n",
       "4                    0                     4                     1   \n",
       "\n",
       "   personality_imagination       ...         musicpref_traditional_irish  \\\n",
       "0                        5       ...                                   0   \n",
       "1                        5       ...                                   0   \n",
       "2                        4       ...                                   0   \n",
       "3                        4       ...                                   0   \n",
       "4                        3       ...                                   0   \n",
       "\n",
       "   musicpref_hip_hop  musicpref_jazz  musicpref_pop  musicpref_hiphop  \\\n",
       "0                  0               0              0                 0   \n",
       "1                  0               0              0                 0   \n",
       "2                  0               0              1                 0   \n",
       "3                  0               0              1                 0   \n",
       "4                  0               1              0                 0   \n",
       "\n",
       "   musicpref_world  musicpref_none  musicpref_classical  musicpref_folk  \\\n",
       "0                0               0                    0               0   \n",
       "1                0               0                    0               0   \n",
       "2                0               0                    0               0   \n",
       "3                0               0                    0               0   \n",
       "4                0               0                    0               0   \n",
       "\n",
       "   musicpref_dance  \n",
       "0                0  \n",
       "1                0  \n",
       "2                0  \n",
       "3                0  \n",
       "4                0  \n",
       "\n",
       "[5 rows x 62 columns]"
      ]
     },
     "execution_count": 18,
     "metadata": {},
     "output_type": "execute_result"
    }
   ],
   "source": [
    "train_df.head()"
   ]
  },
  {
   "cell_type": "code",
   "execution_count": null,
   "metadata": {},
   "outputs": [],
   "source": [
    "# Segment train and test DataFrames into input and output DataFrames\n",
    "train_input, train_y = train_df.drop('critical_reaction', 1), train_df.critical_reaction\n",
    "valid_input, valid_y = valid_df.drop('critical_reaction', 1), valid_df.critical_reaction\n",
    "test_input, test_y = test_df.drop('critical_reaction', 1), test_df.critical_reaction"
   ]
  },
  {
   "cell_type": "code",
   "execution_count": null,
   "metadata": {},
   "outputs": [
    {
     "data": {
      "text/plain": [
       "(0, 1)"
      ]
     },
     "execution_count": 20,
     "metadata": {},
     "output_type": "execute_result"
    }
   ],
   "source": [
    "# Determine the range of output values\n",
    "y_range = (train_y.min(), train_y.max())\n",
    "y_range"
   ]
  },
  {
   "cell_type": "code",
   "execution_count": null,
   "metadata": {},
   "outputs": [
    {
     "data": {
      "text/plain": [
       "[(3, 3),\n",
       " (2, 2),\n",
       " (2, 2),\n",
       " (10, 6),\n",
       " (1, 2),\n",
       " (2, 2),\n",
       " (2, 2),\n",
       " (2, 2),\n",
       " (2, 2),\n",
       " (2, 2),\n",
       " (2, 2),\n",
       " (2, 2),\n",
       " (2, 2),\n",
       " (2, 2),\n",
       " (2, 2),\n",
       " (2, 2),\n",
       " (2, 2),\n",
       " (3, 3)]"
      ]
     },
     "execution_count": 21,
     "metadata": {},
     "output_type": "execute_result"
    }
   ],
   "source": [
    "# Get a list of tuples of embedding dimensions\n",
    "# Tuples are (category_size, embedding_size), where embedding_size is the smaller of 50 and half the number of unique values in that category\n",
    "emb_szs = get_embs_dims(train_test_df, cats)\n",
    "emb_szs"
   ]
  },
  {
   "cell_type": "code",
   "execution_count": null,
   "metadata": {},
   "outputs": [],
   "source": [
    "# Delete temporary DataFrames to free up memory\n",
    "del train_test_df"
   ]
  },
  {
   "cell_type": "markdown",
   "metadata": {},
   "source": [
    "# Initial model construction"
   ]
  },
  {
   "cell_type": "code",
   "execution_count": null,
   "metadata": {},
   "outputs": [
    {
     "data": {
      "text/plain": [
       "EimModel(\n",
       "  (embs): ModuleList(\n",
       "    (0): Embedding(3, 3)\n",
       "    (1): Embedding(2, 2)\n",
       "    (2): Embedding(2, 2)\n",
       "    (3): Embedding(10, 6)\n",
       "    (4): Embedding(1, 2)\n",
       "    (5): Embedding(2, 2)\n",
       "    (6): Embedding(2, 2)\n",
       "    (7): Embedding(2, 2)\n",
       "    (8): Embedding(2, 2)\n",
       "    (9): Embedding(2, 2)\n",
       "    (10): Embedding(2, 2)\n",
       "    (11): Embedding(2, 2)\n",
       "    (12): Embedding(2, 2)\n",
       "    (13): Embedding(2, 2)\n",
       "    (14): Embedding(2, 2)\n",
       "    (15): Embedding(2, 2)\n",
       "    (16): Embedding(2, 2)\n",
       "    (17): Embedding(3, 3)\n",
       "  )\n",
       "  (lins): ModuleList(\n",
       "    (0): Linear(in_features=83, out_features=1000, bias=True)\n",
       "    (1): Linear(in_features=1000, out_features=500, bias=True)\n",
       "  )\n",
       "  (bns): ModuleList(\n",
       "    (0): BatchNorm1d(1000, eps=1e-05, momentum=0.1, affine=True, track_running_stats=True)\n",
       "    (1): BatchNorm1d(500, eps=1e-05, momentum=0.1, affine=True, track_running_stats=True)\n",
       "  )\n",
       "  (outp): Linear(in_features=500, out_features=1, bias=True)\n",
       "  (emb_drop): Dropout(p=0.04)\n",
       "  (drops): ModuleList(\n",
       "    (0): Dropout(p=0.01)\n",
       "    (1): Dropout(p=0.01)\n",
       "  )\n",
       "  (bn): BatchNorm1d(41, eps=1e-05, momentum=0.1, affine=True, track_running_stats=True)\n",
       ")"
      ]
     },
     "execution_count": 23,
     "metadata": {},
     "output_type": "execute_result"
    }
   ],
   "source": [
    "model_data = EimModelData.from_data_frames('./tmp', train_input, valid_input, train_y, valid_y, \n",
    "                                           cats, conts, bs=len(train_input), test_df=test_input)\n",
    "emb_model = EimModel(emb_szs, len(conts), 0.04, 1, [1000, 500], 0.01, y_range=y_range, classify=True, use_bn=False)\n",
    "device = torch.device(\"cuda:0\" if torch.cuda.is_available() else \"cpu\")\n",
    "emb_model.to(device)\n",
    "emb_model"
   ]
  },
  {
   "cell_type": "code",
   "execution_count": null,
   "metadata": {},
   "outputs": [],
   "source": [
    "model_data_test = EimModelData.from_data_frames('./tmp', train_input, valid_input, train_y, valid_y, cats, conts, bs=len(train_input))"
   ]
  },
  {
   "cell_type": "markdown",
   "metadata": {},
   "source": [
    "# Training dry-run"
   ]
  },
  {
   "cell_type": "code",
   "execution_count": null,
   "metadata": {},
   "outputs": [
    {
     "name": "stdout",
     "output_type": "stream",
     "text": []
    },
    {
     "name": "stdout",
     "output_type": "stream",
     "text": []
    },
    {
     "name": "stdout",
     "output_type": "stream",
     "text": []
    },
    {
     "name": "stdout",
     "output_type": "stream",
     "text": []
    },
    {
     "name": "stdout",
     "output_type": "stream",
     "text": []
    },
    {
     "name": "stdout",
     "output_type": "stream",
     "text": []
    },
    {
     "name": "stdout",
     "output_type": "stream",
     "text": []
    },
    {
     "name": "stdout",
     "output_type": "stream",
     "text": []
    },
    {
     "name": "stdout",
     "output_type": "stream",
     "text": []
    },
    {
     "name": "stdout",
     "output_type": "stream",
     "text": []
    }
   ],
   "source": [
    "opt = torch.optim.SGD(emb_model.parameters(), lr = 1e-2, weight_decay=1e-4)\n",
    "crit = torch.nn.functional.binary_cross_entropy\n",
    "\n",
    "epochs = 10\n",
    "losses = eim_train(emb_model, model_data, opt, crit, epochs, patience=25)"
   ]
  },
  {
   "cell_type": "code",
   "execution_count": null,
   "metadata": {},
   "outputs": [
    {
     "data": {
      "image/png": "[encoded data removed]",
      "text/plain": [
       "<Figure size 432x288 with 1 Axes>"
      ]
     },
     "metadata": {
      "needs_background": "light"
     },
     "output_type": "display_data"
    }
   ],
   "source": [
    "plt.plot(losses['train'], label='Training Loss (Cross-Entropy)')\n",
    "plt.plot(losses['validation'], label='Validation Loss (Cross-Entropy)')\n",
    "plt.legend();"
   ]
  },
  {
   "cell_type": "markdown",
   "metadata": {},
   "source": [
    "# Hyperparameter optimization"
   ]
  },
  {
   "cell_type": "code",
   "execution_count": null,
   "metadata": {},
   "outputs": [],
   "source": [
    "from skopt.space import Real, Integer, Categorical\n",
    "\n",
    "param_order = [\n",
    "    'learning_rate',\n",
    "    'weight_decay',\n",
    "    'layers',\n",
    "    'dropouts',\n",
    "    'embedding_dropout'\n",
    "]\n",
    "\n",
    "dimensions = [\n",
    "    Real(1e-8, 0.5, name='learning_rate'),\n",
    "    Real(1e-5, 1e-1, name='weight_decay'),\n",
    "    Categorical([(60, 60), (60, 30), (60, 30, 15), (30, 15)], name='layers'),\n",
    "    Real(0., 0.75, name='dropouts'),\n",
    "    Real(0., 0.75, name='embedding_dropout')\n",
    "]\n",
    "\n",
    "@skopt.utils.use_named_args(dimensions=dimensions)\n",
    "def objective(learning_rate=1e-4, weight_decay=0.04, epochs=10, layers=[10, 10], dropouts=[0.2, 0.2], \n",
    "              embedding_dropout=0.2, use_batch_norm=True):\n",
    "    \n",
    "    # Reset as much as possible\n",
    "    torch.cuda.empty_cache()\n",
    "    seed_everything(random_seed)\n",
    "\n",
    "    layers = list(layers)\n",
    "    \n",
    "    # Build model\n",
    "    emb_model = EimModel(emb_szs, len(conts), embedding_dropout, 1, layers, dropouts, y_range=y_range, \n",
    "                         classify=True, use_bn=use_batch_norm)\n",
    "    emb_model.to(device)\n",
    "    \n",
    "    opt = torch.optim.SGD(emb_model.parameters(), lr=learning_rate, weight_decay=weight_decay)\n",
    "    crit = torch.nn.functional.binary_cross_entropy\n",
    "    losses = eim_train(emb_model, model_data, opt, crit, epochs, patience=25, print_output=False, save_best=False)\n",
    "    \n",
    "    return(min(losses['validation']))"
   ]
  },
  {
   "cell_type": "code",
   "execution_count": null,
   "metadata": {},
   "outputs": [],
   "source": [
    "import pathlib\n",
    "\n",
    "opt_checkpoint_path = Path('.', 'opt_checkpoint.pkl')\n",
    "\n",
    "resume_optimization = False\n",
    "previous_x0, previous_y0 = None, None\n",
    "n_calls, n_called = 100, 0\n",
    "\n",
    "if resume_optimization:\n",
    "    from skopt import load\n",
    "    \n",
    "    if opt_checkpoint_path.exists:\n",
    "        previous_res = load(opt_checkpoint_path)\n",
    "        previous_x0 = previous_res.x_iters\n",
    "        previous_y0 = previous_res.func_vals\n",
    "        n_called = len(previous_x0)"
   ]
  },
  {
   "cell_type": "code",
   "execution_count": null,
   "metadata": {},
   "outputs": [
    {
     "data": {
      "text/plain": [
       "0"
      ]
     },
     "execution_count": 29,
     "metadata": {},
     "output_type": "execute_result"
    }
   ],
   "source": [
    "n_called"
   ]
  },
  {
   "cell_type": "code",
   "execution_count": null,
   "metadata": {},
   "outputs": [
    {
     "data": {
      "text/plain": [
       "100"
      ]
     },
     "execution_count": 30,
     "metadata": {},
     "output_type": "execute_result"
    }
   ],
   "source": [
    "n_calls - n_called"
   ]
  },
  {
   "cell_type": "code",
   "execution_count": null,
   "metadata": {},
   "outputs": [],
   "source": [
    "checkpoint_callback = CheckpointSaver(opt_checkpoint_path)\n",
    "progress_callback = ProgressCallback(n_calls - n_called)"
   ]
  },
  {
   "cell_type": "code",
   "execution_count": null,
   "metadata": {},
   "outputs": [
    {
     "name": "stdout",
     "output_type": "stream",
     "text": [
      "Completed optimization trial 1/100. Best loss so far: 0.692928\n",
      "Completed optimization trial 2/100. Best loss so far: 0.692928\n",
      "Completed optimization trial 3/100. Best loss so far: 0.692928\n",
      "Completed optimization trial 4/100. Best loss so far: 0.692928\n",
      "Completed optimization trial 5/100. Best loss so far: 0.692928\n",
      "Completed optimization trial 6/100. Best loss so far: 0.692928\n",
      "Completed optimization trial 7/100. Best loss so far: 0.692928\n",
      "Completed optimization trial 8/100. Best loss so far: 0.692928\n",
      "Completed optimization trial 9/100. Best loss so far: 0.692928\n",
      "Completed optimization trial 10/100. Best loss so far: 0.692928\n",
      "Completed optimization trial 11/100. Best loss so far: 0.692928\n",
      "Completed optimization trial 12/100. Best loss so far: 0.686593\n",
      "Completed optimization trial 13/100. Best loss so far: 0.686593\n",
      "Completed optimization trial 14/100. Best loss so far: 0.686593\n",
      "Completed optimization trial 15/100. Best loss so far: 0.686593\n",
      "Completed optimization trial 16/100. Best loss so far: 0.686593\n",
      "Completed optimization trial 17/100. Best loss so far: 0.686593\n",
      "Completed optimization trial 18/100. Best loss so far: 0.686593\n",
      "Completed optimization trial 19/100. Best loss so far: 0.686593\n",
      "Completed optimization trial 20/100. Best loss so far: 0.686593\n",
      "Completed optimization trial 21/100. Best loss so far: 0.686593\n",
      "Completed optimization trial 22/100. Best loss so far: 0.686593\n",
      "Completed optimization trial 23/100. Best loss so far: 0.686593\n",
      "Completed optimization trial 24/100. Best loss so far: 0.686593\n",
      "Completed optimization trial 25/100. Best loss so far: 0.686593\n",
      "Completed optimization trial 26/100. Best loss so far: 0.686593\n",
      "Completed optimization trial 27/100. Best loss so far: 0.686593\n"
     ]
    }
   ],
   "source": [
    "opt_results = skopt.gp_minimize(objective,\n",
    "                                dimensions,\n",
    "                                n_calls=n_calls - n_called,\n",
    "                                random_state=random_seed,\n",
    "                                x0=previous_x0,\n",
    "                                y0=previous_y0,\n",
    "                                callback=[progress_callback, checkpoint_callback])"
   ]
  },
  {
   "cell_type": "markdown",
   "metadata": {},
   "source": [
    "## Save hyperparameter optimization results"
   ]
  },
  {
   "cell_type": "code",
   "execution_count": null,
   "metadata": {},
   "outputs": [],
   "source": [
    "from skopt import dump\n",
    "dump(opt_results, opt_checkpoint_path)"
   ]
  },
  {
   "cell_type": "markdown",
   "metadata": {},
   "source": [
    "# Train tuned model"
   ]
  },
  {
   "cell_type": "markdown",
   "metadata": {},
   "source": [
    "## Get best parameters"
   ]
  },
  {
   "cell_type": "code",
   "execution_count": null,
   "metadata": {},
   "outputs": [],
   "source": [
    "from skopt import load\n",
    "opt_results = load(opt_checkpoint_path)"
   ]
  },
  {
   "cell_type": "code",
   "execution_count": null,
   "metadata": {},
   "outputs": [],
   "source": [
    "print('Best loss: {}'.format(opt_results.fun))"
   ]
  },
  {
   "cell_type": "code",
   "execution_count": null,
   "metadata": {},
   "outputs": [],
   "source": [
    "print('Parameters:')\n",
    "opt_params = dict(zip(param_order, opt_results.x))\n",
    "opt_params"
   ]
  },
  {
   "cell_type": "markdown",
   "metadata": {},
   "source": [
    "Train model with these parameters until we start to diverge"
   ]
  },
  {
   "cell_type": "code",
   "execution_count": null,
   "metadata": {},
   "outputs": [],
   "source": [
    "seed_everything(random_seed)\n",
    "epochs = 5000\n",
    "emb_model = EimModel(emb_szs, len(conts), opt_params['embedding_dropout'], 1, list(opt_params['layers']), \n",
    "                     opt_params['dropouts'], y_range=y_range, classify=True, \n",
    "                     use_bn=True)\n",
    "emb_model.to(device)\n",
    "opt = torch.optim.SGD(emb_model.parameters(), lr=opt_params['learning_rate'], weight_decay=opt_params['weight_decay'])\n",
    "losses = eim_train(emb_model, model_data, opt, crit, epochs, save_best=True, print_output=False)"
   ]
  },
  {
   "cell_type": "markdown",
   "metadata": {},
   "source": [
    "## Plot training results"
   ]
  },
  {
   "cell_type": "code",
   "execution_count": null,
   "metadata": {},
   "outputs": [],
   "source": [
    "plt.plot(losses['train'], label='Training Loss (Cross-Entropy)')\n",
    "plt.plot(losses['validation'], label='Validation Loss (Cross-Entropy)')\n",
    "plt.legend();"
   ]
  },
  {
   "cell_type": "markdown",
   "metadata": {},
   "source": [
    "## Load best model"
   ]
  },
  {
   "cell_type": "code",
   "execution_count": null,
   "metadata": {},
   "outputs": [],
   "source": [
    "emb_model = EimModel(emb_szs, len(conts), opt_params['embedding_dropout'], 1, list(opt_params['layers']), \n",
    "                     opt_params['dropouts'], y_range=y_range, classify=True, \n",
    "                     use_bn=True)\n",
    "emb_model.to(device)\n",
    "emb_model.load_state_dict(torch.load(Path('.', 'best_model.pkl')))"
   ]
  },
  {
   "cell_type": "markdown",
   "metadata": {},
   "source": [
    "## Evaluate validation set against model"
   ]
  },
  {
   "cell_type": "code",
   "execution_count": null,
   "metadata": {},
   "outputs": [],
   "source": [
    "data = next(iter(model_data.val_dl))\n",
    "\n",
    "emb_model.eval()\n",
    "\n",
    "# get inputs\n",
    "x_cats, x_conts, y = data\n",
    "\n",
    "# wrap with variable\n",
    "x_cats = torch.LongTensor(x_cats).to(device)\n",
    "x_conts = torch.FloatTensor(x_conts).to(device)\n",
    "y = torch.FloatTensor(y).to(device)\n",
    "x_cats.requires_grad = False\n",
    "x_conts.requires_grad = False\n",
    "y.requires_grad = False\n",
    "\n",
    "val_outputs = emb_model(x_cats, x_conts).cpu().detach().numpy()\n",
    "val_y = y.cpu().detach().numpy()"
   ]
  },
  {
   "cell_type": "markdown",
   "metadata": {},
   "source": [
    "### Plot validation AUC-PR"
   ]
  },
  {
   "cell_type": "code",
   "execution_count": null,
   "metadata": {},
   "outputs": [],
   "source": [
    "from sklearn.metrics import average_precision_score\n",
    "from sklearn.metrics import precision_recall_curve\n",
    "import matplotlib.pyplot as plt\n",
    "from sklearn.utils.fixes import signature\n",
    "\n",
    "average_precision = average_precision_score(val_y, val_outputs)\n",
    "\n",
    "print('Average precision-recall score: {0:0.2f}'.format(\n",
    "      average_precision))\n",
    "\n",
    "precision, recall, thresholds = precision_recall_curve(val_y, val_outputs)\n",
    "\n",
    "# In matplotlib < 1.5, plt.fill_between does not have a 'step' argument\n",
    "step_kwargs = ({'step': 'post'}\n",
    "               if 'step' in signature(plt.fill_between).parameters\n",
    "               else {})\n",
    "plt.step(recall, precision, color='b', alpha=0.2,\n",
    "         where='post')\n",
    "plt.fill_between(recall, precision, alpha=0.2, color='b', **step_kwargs)\n",
    "\n",
    "plt.xlabel('Recall')\n",
    "plt.ylabel('Precision')\n",
    "plt.ylim([0.0, 1.05])\n",
    "plt.xlim([0.0, 1.0])\n",
    "plt.title('2-class Precision-Recall curve: AP={0:0.2f}'.format(\n",
    "          average_precision))"
   ]
  },
  {
   "cell_type": "markdown",
   "metadata": {},
   "source": [
    "### Determine threshold for optimum F-beta / Calculate F-beta score for validation set"
   ]
  },
  {
   "cell_type": "code",
   "execution_count": null,
   "metadata": {},
   "outputs": [],
   "source": [
    "def threshold_array(threshold, array):\n",
    "    array = array.copy()\n",
    "    array[array >= threshold] = 1.\n",
    "    array[array < threshold] = 0.\n",
    "    return array"
   ]
  },
  {
   "cell_type": "code",
   "execution_count": null,
   "metadata": {},
   "outputs": [],
   "source": [
    "from sklearn.metrics import confusion_matrix, fbeta_score"
   ]
  },
  {
   "cell_type": "code",
   "execution_count": null,
   "metadata": {},
   "outputs": [],
   "source": [
    "best_fbeta = 0.0\n",
    "best_fbeta_thresh = 0.0\n",
    "for thresh in thresholds:\n",
    "    val_outputs_thresh = threshold_array(thresh, val_outputs)\n",
    "    fb = fbeta_score(val_y, val_outputs_thresh, 0.5, average='weighted')\n",
    "    if fb >= best_fbeta:\n",
    "        best_fbeta = fb\n",
    "        best_fbeta_thresh = thresh\n",
    "\n",
    "print('Best F_0.5 {} (at threshold {})'.format(best_fbeta, best_fbeta_thresh))"
   ]
  },
  {
   "cell_type": "markdown",
   "metadata": {},
   "source": [
    "## Evaluate test set against model"
   ]
  },
  {
   "cell_type": "code",
   "execution_count": null,
   "metadata": {},
   "outputs": [],
   "source": [
    "test_outputs = None\n",
    "for data in iter(model_data.test_dl):\n",
    "\n",
    "    emb_model.eval()\n",
    "\n",
    "    # get inputs\n",
    "    x_cats, x_conts, y = data\n",
    "\n",
    "    # wrap with variable\n",
    "    x_cats = torch.LongTensor(x_cats).to(device)\n",
    "    x_conts = torch.FloatTensor(x_conts).to(device)\n",
    "    x_cats.requires_grad = False\n",
    "    x_conts.requires_grad = False\n",
    "\n",
    "    outputs = emb_model(x_cats, x_conts).cpu().detach().numpy()\n",
    "    if test_outputs is not None:\n",
    "        test_outputs = np.concatenate((test_outputs, outputs))\n",
    "    else:\n",
    "        test_outputs = outputs"
   ]
  },
  {
   "cell_type": "markdown",
   "metadata": {},
   "source": [
    "### Plot test AUC-PR"
   ]
  },
  {
   "cell_type": "code",
   "execution_count": null,
   "metadata": {},
   "outputs": [],
   "source": [
    "average_precision = average_precision_score(test_y, test_outputs)\n",
    "\n",
    "# print('Average precision-recall score: {0:0.2f}'.format(\n",
    "#       average_precision))\n",
    "\n",
    "precision, recall, thresholds = precision_recall_curve(test_y, test_outputs)\n",
    "\n",
    "# In matplotlib < 1.5, plt.fill_between does not have a 'step' argument\n",
    "step_kwargs = ({'step': 'post'}\n",
    "               if 'step' in signature(plt.fill_between).parameters\n",
    "               else {})\n",
    "plt.step(recall, precision, color='b', alpha=0.2,\n",
    "         where='post')\n",
    "plt.fill_between(recall, precision, alpha=0.2, color='b', **step_kwargs)\n",
    "\n",
    "plt.xlabel('Recall')\n",
    "plt.ylabel('Precision')\n",
    "plt.ylim([0.0, 1.05])\n",
    "plt.xlim([0.0, 1.0])\n",
    "plt.title('2-class Precision-Recall curve: AP={0:0.2f}'.format(\n",
    "          average_precision));"
   ]
  },
  {
   "cell_type": "markdown",
   "metadata": {},
   "source": [
    "### Determine threshold for optimum F-beta / Calculate F-beta score for test set"
   ]
  },
  {
   "cell_type": "code",
   "execution_count": null,
   "metadata": {},
   "outputs": [],
   "source": [
    "best_fbeta = 0.0\n",
    "best_fbeta_thresh = 0.0\n",
    "for thresh in thresholds:\n",
    "    test_outputs_thresh = threshold_array(thresh, test_outputs)\n",
    "    fb = fbeta_score(test_y, test_outputs_thresh, 0.5, average='weighted')\n",
    "    if fb >= best_fbeta:\n",
    "        best_fbeta = fb\n",
    "        best_fbeta_thresh = thresh\n",
    "\n",
    "print('Best F_0.5 {} (at threshold {})'.format(best_fbeta, best_fbeta_thresh))"
   ]
  },
  {
   "cell_type": "markdown",
   "metadata": {},
   "source": [
    "## Collect CV results from multiple runs against validation and test sets"
   ]
  },
  {
   "cell_type": "markdown",
   "metadata": {},
   "source": [
    "## Test results against baseline classifier"
   ]
  },
  {
   "cell_type": "code",
   "execution_count": null,
   "metadata": {},
   "outputs": [],
   "source": [
    "custom_estimator = CustomEstimator(cats, conts, emb_szs, opt_params['embedding_dropout'], \n",
    "                                   opt_params['layers'], opt_params['dropouts'], y_range, \n",
    "                                   True, opt_params['learning_rate'], opt_params['weight_decay'], \n",
    "                                   epochs=100, optimization_n=100, random_seed=random_seed)"
   ]
  },
  {
   "cell_type": "code",
   "execution_count": null,
   "metadata": {},
   "outputs": [],
   "source": [
    "baseline_estimator = BaselineEstimator()"
   ]
  },
  {
   "cell_type": "code",
   "execution_count": null,
   "metadata": {},
   "outputs": [],
   "source": [
    "cv_res = paired_ttest_5x2cv(custom_estimator, baseline_estimator, train_input, \n",
    "                            pd.concat([valid_input, test_input], ignore_index=True), \n",
    "                            train_y, pd.concat([valid_y, test_y], ignore_index=True))"
   ]
  },
  {
   "cell_type": "code",
   "execution_count": null,
   "metadata": {},
   "outputs": [],
   "source": [
    "cv_res"
   ]
  },
  {
   "cell_type": "code",
   "execution_count": null,
   "metadata": {},
   "outputs": [],
   "source": [
    "# One-tailed t-test p-value\n",
    "cv_res['pvalue'] / 2."
   ]
  },
  {
   "cell_type": "markdown",
   "metadata": {},
   "source": [
    "One-tailed t-test confirms significant difference between average $F_{0.5}$ scores of these two classifiers."
   ]
  },
  {
   "cell_type": "code",
   "execution_count": null,
   "metadata": {},
   "outputs": [],
   "source": []
  }
 ],
 "metadata": {
  "kernelspec": {
   "display_name": "Python 3",
   "language": "python",
   "name": "python3"
  },
  "language_info": {
   "codemirror_mode": {
    "name": "ipython",
    "version": 3
   },
   "file_extension": ".py",
   "mimetype": "text/x-python",
   "name": "python",
   "nbconvert_exporter": "python",
   "pygments_lexer": "ipython3",
   "version": "3.7.1"
  }
 },
 "nbformat": 4,
 "nbformat_minor": 2
}
