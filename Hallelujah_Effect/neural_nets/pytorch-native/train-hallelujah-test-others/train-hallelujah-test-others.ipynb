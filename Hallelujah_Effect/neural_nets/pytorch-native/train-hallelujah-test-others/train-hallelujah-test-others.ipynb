{
 "cells": [
  {
   "cell_type": "markdown",
   "metadata": {},
   "source": [
    "https://www.kaggle.com/keremt/pytorch-entity-embeddings was super helpful with this."
   ]
  },
  {
   "cell_type": "code",
   "execution_count": 2,
   "metadata": {},
   "outputs": [],
   "source": [
    "import gc\n",
    "import os\n",
    "import random\n",
    "from pathlib import Path\n",
    "from typing import Union, List, Tuple\n",
    "\n",
    "import torch\n",
    "import torch.nn as nn\n",
    "import torch.nn.functional as F\n",
    "from torch.utils.data import DataLoader, Dataset, SubsetRandomSampler\n",
    "from torch.optim import SGD\n",
    "\n",
    "import numpy as np\n",
    "import pandas as pd\n",
    "import skopt\n",
    "\n",
    "import matplotlib.pyplot as plt\n",
    "%matplotlib inline"
   ]
  },
  {
   "cell_type": "markdown",
   "metadata": {},
   "source": [
    "Seed random number generators for reproducibility."
   ]
  },
  {
   "cell_type": "code",
   "execution_count": 3,
   "metadata": {},
   "outputs": [],
   "source": [
    "def seed_everything(seed=42):\n",
    "    random.seed(seed)\n",
    "    torch.manual_seed(seed)\n",
    "    torch.cuda.manual_seed_all(seed)\n",
    "    np.random.seed(seed)\n",
    "    os.environ['PYTHONHASHSEED'] = str(seed)\n",
    "\n",
    "seed_everything()"
   ]
  },
  {
   "cell_type": "code",
   "execution_count": 4,
   "metadata": {},
   "outputs": [],
   "source": [
    "use_cuda = torch.cuda.is_available()\n",
    "device = torch.device(\"cuda:0\" if use_cuda else \"cpu\")"
   ]
  },
  {
   "cell_type": "markdown",
   "metadata": {},
   "source": [
    "# PyTorch Dataset"
   ]
  },
  {
   "cell_type": "code",
   "execution_count": 5,
   "metadata": {},
   "outputs": [],
   "source": [
    "class EimDataset(Dataset):\n",
    "    \"\"\"\n",
    "    Subclass of a PyTorch Dataset. Categorical and continuous variables are stored \n",
    "    as NumPy arrays, as is the output variable. If no categorical variables are \n",
    "    provided, an array of zeros as long as the number of continuous variables is \n",
    "    stored for each observation's categorical variables. This is similar for \n",
    "    continuous variables. If an output variable (y) is not provided, a zero is \n",
    "    stored for the output for each observation.\n",
    "    \n",
    "    When asked for an item a list like [categorical_vars, continuous_vars, output] \n",
    "    is returned for the item.\n",
    "    \"\"\"    \n",
    "    cats: np.ndarray\n",
    "    conts: np.ndarray\n",
    "    y: np.ndarray\n",
    "    \n",
    "    def __init__(self, cats: np.ndarray, conts: np.ndarray, y: np.ndarray) -> 'EimDataset':\n",
    "        n = len(cats[0]) if cats else len(conts[0])\n",
    "        self.cats = np.stack(cats, 1).astype(np.int64) if cats else np.zeros((n,1))\n",
    "        self.conts = np.stack(conts, 1).astype(np.float32) if conts else np.zeros((n,1))\n",
    "        self.y = np.zeros((n,1)) if y is None else y[:,None].astype(np.float32)\n",
    "        \n",
    "    def __len__(self) -> int: return len(self.y)\n",
    "\n",
    "    def __getitem__(self, idx) -> List[np.ndarray]:\n",
    "        return [self.cats[idx], self.conts[idx], self.y[idx]]\n",
    "    \n",
    "    @classmethod\n",
    "    def from_data_frames(cls, df_cat: pd.DataFrame, df_cont: pd.DataFrame, y: pd.Series=None):\n",
    "        cat_cols = [c.values for n,c in df_cat.items()]\n",
    "        cont_cols = [c.values for n,c in df_cont.items()]\n",
    "        return cls(cat_cols, cont_cols, y)\n",
    "\n",
    "    @classmethod\n",
    "    def from_data_frame(cls, df: pd.DataFrame, cat_flds: List[str], cont_flds: List[str], y=None):\n",
    "        return cls.from_data_frames(df[cat_flds], df[cont_flds], y)"
   ]
  },
  {
   "cell_type": "code",
   "execution_count": 6,
   "metadata": {},
   "outputs": [],
   "source": [
    "class EimModelData():\n",
    "    ### This class provides training and validation dataloaders\n",
    "    ### Which we will use in our model    \n",
    "    path: Path\n",
    "    trn_dl: DataLoader\n",
    "    val_dl: DataLoader\n",
    "    test_dl: DataLoader\n",
    "    \n",
    "    def __init__(self, path: Path, trn_ds: Dataset, val_ds: Dataset, bs: int, test_ds: Dataset=None) -> 'EimModelData': \n",
    "        self.path = path\n",
    "        self.trn_dl = DataLoader(trn_ds, batch_size=bs, shuffle=True, num_workers=1)\n",
    "        self.val_dl = DataLoader(val_ds, batch_size=bs, shuffle=True, num_workers=1)\n",
    "        self.test_dl = DataLoader(test_ds, bs, shuffle=False, num_workers=1) if test_ds is not None else None\n",
    "    \n",
    "    @classmethod\n",
    "    def from_data_frames(cls, path: Path, trn_df: pd.DataFrame, val_df: pd.DataFrame, trn_y: Union[pd.DataFrame, pd.Series], \n",
    "                         val_y: Union[pd.DataFrame, pd.Series], cat_flds: List[str], cont_flds: List[str], \n",
    "                         bs: int, test_df: pd.DataFrame=None) -> 'EimModelData':\n",
    "        test_ds = EimDataset.from_data_frame(test_df, cat_flds, cont_flds) if test_df is not None else None\n",
    "        return cls(path, EimDataset.from_data_frame(trn_df, cat_flds, cont_flds, trn_y),\n",
    "                   EimDataset.from_data_frame(val_df, cat_flds, cont_flds, val_y), bs, test_ds=test_ds)\n",
    "\n",
    "    @classmethod\n",
    "    def from_data_frame(cls, path: Path, val_idxs: Union[List[int], np.ndarray], trn_idxs: Union[List[int], np.ndarray], \n",
    "                        df: pd.DataFrame, y: Union[pd.DataFrame, pd.Series], cat_flds: List[str], cont_flds: List[str], \n",
    "                        bs: int, test_df: pd.DataFrame=None) -> 'EimModelData':\n",
    "        val_df, val_y = df.iloc[val_idxs], y[val_idxs]\n",
    "        trn_df, trn_y = df.iloc[trn_idxs], y[trn_idxs]\n",
    "        return cls.from_data_frames(path, trn_df, val_df, trn_y, val_y, cat_flds, cont_flds, bs, test_df)"
   ]
  },
  {
   "cell_type": "markdown",
   "metadata": {},
   "source": [
    "# Model"
   ]
  },
  {
   "cell_type": "code",
   "execution_count": 7,
   "metadata": {},
   "outputs": [],
   "source": [
    "class EimModel(nn.Module):\n",
    "    \"\"\"\n",
    "    EiM learning model that supports embedding layers for categorical features.\n",
    "    \"\"\"\n",
    "    \n",
    "    def __init__(self, emb_szs: List[Tuple[int, int]], n_cont: int, emb_drop: float, out_sz: int, szs: List[int], \n",
    "                 drops: List[float], y_range: List[float]=None, use_bn: bool=False, classify: bool=None) -> 'EimModel':\n",
    "        \"\"\"\n",
    "        Creates a neural network model that supports embedding layers for categorical features. Dropout and batch norm \n",
    "        layers can be used following embedding layers and fully connected layers. Can be used for regression or \n",
    "        classification.\n",
    "        \n",
    "        Parameters\n",
    "        ----------\n",
    "        emb_szs : list of (int, int) tuples\n",
    "            The list of embedding sizes to use. Order of tuples should correspond to the order in which\n",
    "            categorical features will be passed to the model in training. The first item in the tuple \n",
    "            should be the number of unique values for the category, and the second item should be the \n",
    "            number of embedding dimensions to use for the catgory.\n",
    "        n_cont : int\n",
    "            The number of continuous features that will be passed to the model.\n",
    "        emb_drop : float\n",
    "            The dropout probability that should be used for the embedding layers.\n",
    "        out_sz : int\n",
    "            The number of nodes in the output later.\n",
    "        szs : list of ints\n",
    "            The number of nodes in each hidden, fully connected layer.\n",
    "        drops : list of floats\n",
    "            The dropout probability for each fully connected layer.\n",
    "        y_range : list of (float, float)\n",
    "            For regression, the min (y_range[0]) and max (y_range[1]) values that the output can take.\n",
    "        use_bn : bool\n",
    "            If true, batch norm layers will be used following the embedding and fully connected layers.\n",
    "        classify : bool\n",
    "            If true, model will be configured for classification.\n",
    "        \n",
    "        Construction:\n",
    "        - Starts by creating an embedding layer (in self.embs) for each size given in emb_szs\n",
    "        - Initializes the weights of each embedding layer uniformly randomly (The width of this \n",
    "          distribution is inversely proportional to the size of the embedding dimension--see \n",
    "          `emb_init`)\n",
    "        - Adds up the size of all embedding dimensions\n",
    "        - Adds to this count the number of continuous variables\n",
    "        - Adds this total to the beginning of the szs list (in order to create the whole input layer in front of the first hidden layer)\n",
    "        - Creates a list of linear layers as specified by szs--these are stored in self.lins\n",
    "        - Creates a list of batch norm layers to follow each hidden layer--these are stored in self.bns\n",
    "        - Performs Kaiming initialization on each batch norm layer\n",
    "        - Creates a dropout layer after each hidden layer and after the embedding portion of the input layer\n",
    "        - Creates a batch norm layer to follow the continuous portion of the input layer\n",
    "        \"\"\"\n",
    "        super().__init__() ## inherit from nn.Module parent class\n",
    "        self.embs = nn.ModuleList([nn.Embedding(m, d) for m, d in emb_szs]) ## construct embeddings\n",
    "        for emb in self.embs: emb_init(emb) ## initialize embedding weights\n",
    "        n_emb = sum(e.embedding_dim for e in self.embs) ## get embedding dimension needed for 1st layer\n",
    "        szs = [n_emb+n_cont] + szs ## add input layer to szs\n",
    "        self.lins = nn.ModuleList([\n",
    "            nn.Linear(szs[i], szs[i+1]) for i in range(len(szs)-1)]) ## create linear layers input, l1 -> l1, l2 ...\n",
    "        \n",
    "        self.bns = nn.ModuleList([\n",
    "            nn.BatchNorm1d(sz) for sz in szs[1:]]) ## batchnormalization for hidden layers activations\n",
    "        for o in self.lins: nn.init.kaiming_normal_(o.weight.data) ## init weights with kaiming normalization\n",
    "        self.outp = nn.Linear(szs[-1], out_sz) ## create linear from last hidden layer to output\n",
    "        nn.init.kaiming_normal_(self.outp.weight.data) ## do kaiming initialization\n",
    "        \n",
    "        self.emb_drop = nn.Dropout(emb_drop) ## embedding dropout, will zero out weights of embeddings\n",
    "        self.drops = nn.ModuleList([nn.Dropout(drop) for drop in [drops] * len(self.lins)])\n",
    "#         self.drops = nn.ModuleList([nn.Dropout(drop) for drop in drops]) ## fc layer dropout\n",
    "        self.bn = nn.BatchNorm1d(n_cont) # batch norm for continous data\n",
    "        self.use_bn,self.y_range = use_bn,y_range \n",
    "        self.classify = classify\n",
    "        \n",
    "    def forward(self, x_cat: torch.Tensor, x_cont: torch.Tensor) -> torch.Tensor:\n",
    "        \"\"\"\n",
    "        Calculate a forward pass for the provided input data.\n",
    "        \n",
    "        Parameters\n",
    "        ----------\n",
    "        x_cat : PyTorch Tensor\n",
    "            The categorical inputs, with observations in the rows.\n",
    "        x_cont PyTorch Tensor\n",
    "            The categorical inputs, with observations in the rows. The ordering of the observations \n",
    "            should match the ordering of observations in `x_cat`.\n",
    "        \n",
    "        Forward pass:\n",
    "        - Passes each column of the categorical input through its corresponding embedding layer; \n",
    "          concatenates all these results into a matrix\n",
    "        - Applies dropout to output of embedding layers\n",
    "        - Applies batch norm to continuous inputs\n",
    "        - Concatenates output of embedding dropout and batch norm-ed continuous inputs\n",
    "        - Passes this matrix through each linear/batch norm/dropout layer\n",
    "        - If we are classifying, applies sigmoid activation\n",
    "        - If we are regressing, applies sigmoid activation and then scales to range of output values\n",
    "        \"\"\"        \n",
    "        x = [emb(x_cat[:, i]) for i, emb in enumerate(self.embs)] # takes necessary emb vectors \n",
    "        x = torch.cat(x, 1) ## concatenate along axis = 1 (columns - side by side) # this is our input from cats\n",
    "        x = self.emb_drop(x) ## apply dropout to elements of embedding tensor\n",
    "        x2 = self.bn(x_cont) ## apply batchnorm to continous variables        \n",
    "        x = torch.cat([x, x2], 1) ## concatenate cats and conts for final input\n",
    "        for l, d, b in zip(self.lins, self.drops, self.bns):\n",
    "            x = F.relu(l(x)) ## dotprod + non-linearity\n",
    "            if self.use_bn: x = b(x) ## apply batchnorm activations\n",
    "            x = d(x) ## apply dropout to activations\n",
    "        x = self.outp(x) # we defined this externally just not to apply dropout to output\n",
    "        if self.classify:\n",
    "            x = torch.sigmoid(x) # for classification\n",
    "        elif y_range:\n",
    "            x = torch.sigmoid(x) ## scales the output between 0,1\n",
    "            x = x*(self.y_range[1] - self.y_range[0]) ## scale output\n",
    "            x = x + self.y_range[0] ## shift output\n",
    "        return x"
   ]
  },
  {
   "cell_type": "code",
   "execution_count": 8,
   "metadata": {},
   "outputs": [],
   "source": [
    "def preprocess(data: pd.DataFrame, cats: List[str]) -> pd.DataFrame:\n",
    "    data.fillna('missing', inplace=True)\n",
    "    for c in cats:\n",
    "        data[c] = data[c].astype('category').cat.codes\n",
    "    return data\n",
    "\n",
    "def EimDataPreprocess(data, cats, inplace =True):\n",
    "    ### Each categorical column should have indices as values \n",
    "    ### Which will be looked up at embedding matrix and used in modeling\n",
    "    ### Make changes inplace\n",
    "    if inplace:\n",
    "        for c in cats:\n",
    "            data[c].replace({val:i  for i, val in enumerate(data[c].unique())}, inplace=True)\n",
    "        return data\n",
    "    else:\n",
    "        data_copy = data.copy()\n",
    "        for c in cats:\n",
    "            data_copy[c].replace({val:i  for i, val in enumerate(data_copy[c].unique())}, inplace=True)\n",
    "        return data_copy\n",
    "        \n",
    "def get_embs_dims(data, cats, minimum=2):\n",
    "    cat_sz = [len(data[c].unique()) for c in cats]\n",
    "    return [(c, max(min(50, (c+1)//2 + 1), minimum)) for c in cat_sz]\n",
    "    \n",
    "def emb_init(x):\n",
    "    x = x.weight.data\n",
    "    sc = 2/(x.size(1)+1)\n",
    "    x.uniform_(-sc,sc)"
   ]
  },
  {
   "cell_type": "markdown",
   "metadata": {},
   "source": [
    "# Data processing"
   ]
  },
  {
   "cell_type": "code",
   "execution_count": 9,
   "metadata": {},
   "outputs": [
    {
     "data": {
      "text/html": [
       "<div>\n",
       "<style scoped>\n",
       "    .dataframe tbody tr th:only-of-type {\n",
       "        vertical-align: middle;\n",
       "    }\n",
       "\n",
       "    .dataframe tbody tr th {\n",
       "        vertical-align: top;\n",
       "    }\n",
       "\n",
       "    .dataframe thead th {\n",
       "        text-align: right;\n",
       "    }\n",
       "</style>\n",
       "<table border=\"1\" class=\"dataframe\">\n",
       "  <thead>\n",
       "    <tr style=\"text-align: right;\">\n",
       "      <th></th>\n",
       "      <th>_id</th>\n",
       "      <th>location</th>\n",
       "      <th>sex</th>\n",
       "      <th>musical_background</th>\n",
       "      <th>nationality</th>\n",
       "      <th>visual_impairments</th>\n",
       "      <th>musical_expertise</th>\n",
       "      <th>hearing_impairments</th>\n",
       "      <th>age</th>\n",
       "      <th>critical_reaction</th>\n",
       "      <th>...</th>\n",
       "      <th>musicpref_jazz</th>\n",
       "      <th>musicpref_folk</th>\n",
       "      <th>musicpref_hiphop</th>\n",
       "      <th>musicpref_classical</th>\n",
       "      <th>musicpref_none</th>\n",
       "      <th>musicpref_rock</th>\n",
       "      <th>musicpref_hip_hop</th>\n",
       "      <th>musicpref_world</th>\n",
       "      <th>musicpref_pop</th>\n",
       "      <th>musicpref_dance</th>\n",
       "    </tr>\n",
       "  </thead>\n",
       "  <tbody>\n",
       "    <tr>\n",
       "      <th>0</th>\n",
       "      <td>5410f69308ad6ee3090e387a</td>\n",
       "      <td>dublin</td>\n",
       "      <td>female</td>\n",
       "      <td>0</td>\n",
       "      <td>other</td>\n",
       "      <td>0</td>\n",
       "      <td>0</td>\n",
       "      <td>0</td>\n",
       "      <td>41.0</td>\n",
       "      <td>False</td>\n",
       "      <td>...</td>\n",
       "      <td>1</td>\n",
       "      <td>0</td>\n",
       "      <td>0</td>\n",
       "      <td>0</td>\n",
       "      <td>0</td>\n",
       "      <td>0</td>\n",
       "      <td>0</td>\n",
       "      <td>0</td>\n",
       "      <td>0</td>\n",
       "      <td>0</td>\n",
       "    </tr>\n",
       "    <tr>\n",
       "      <th>1</th>\n",
       "      <td>5410f69508ad6ee3090e3892</td>\n",
       "      <td>dublin</td>\n",
       "      <td>male</td>\n",
       "      <td>0</td>\n",
       "      <td>irish</td>\n",
       "      <td>0</td>\n",
       "      <td>0</td>\n",
       "      <td>0</td>\n",
       "      <td>41.0</td>\n",
       "      <td>False</td>\n",
       "      <td>...</td>\n",
       "      <td>0</td>\n",
       "      <td>0</td>\n",
       "      <td>0</td>\n",
       "      <td>0</td>\n",
       "      <td>0</td>\n",
       "      <td>1</td>\n",
       "      <td>0</td>\n",
       "      <td>0</td>\n",
       "      <td>1</td>\n",
       "      <td>1</td>\n",
       "    </tr>\n",
       "    <tr>\n",
       "      <th>2</th>\n",
       "      <td>5410f6d008ad6ee3090e3994</td>\n",
       "      <td>dublin</td>\n",
       "      <td>male</td>\n",
       "      <td>0</td>\n",
       "      <td>other</td>\n",
       "      <td>0</td>\n",
       "      <td>0</td>\n",
       "      <td>0</td>\n",
       "      <td>25.0</td>\n",
       "      <td>False</td>\n",
       "      <td>...</td>\n",
       "      <td>0</td>\n",
       "      <td>0</td>\n",
       "      <td>0</td>\n",
       "      <td>0</td>\n",
       "      <td>0</td>\n",
       "      <td>1</td>\n",
       "      <td>0</td>\n",
       "      <td>1</td>\n",
       "      <td>1</td>\n",
       "      <td>0</td>\n",
       "    </tr>\n",
       "    <tr>\n",
       "      <th>3</th>\n",
       "      <td>5410f6d008ad6ee3090e3998</td>\n",
       "      <td>dublin</td>\n",
       "      <td>female</td>\n",
       "      <td>0</td>\n",
       "      <td>irish</td>\n",
       "      <td>0</td>\n",
       "      <td>0</td>\n",
       "      <td>0</td>\n",
       "      <td>21.0</td>\n",
       "      <td>True</td>\n",
       "      <td>...</td>\n",
       "      <td>0</td>\n",
       "      <td>0</td>\n",
       "      <td>0</td>\n",
       "      <td>0</td>\n",
       "      <td>0</td>\n",
       "      <td>1</td>\n",
       "      <td>0</td>\n",
       "      <td>0</td>\n",
       "      <td>1</td>\n",
       "      <td>1</td>\n",
       "    </tr>\n",
       "    <tr>\n",
       "      <th>4</th>\n",
       "      <td>5410f6d008ad6ee3090e399c</td>\n",
       "      <td>dublin</td>\n",
       "      <td>male</td>\n",
       "      <td>0</td>\n",
       "      <td>irish</td>\n",
       "      <td>0</td>\n",
       "      <td>0</td>\n",
       "      <td>0</td>\n",
       "      <td>20.0</td>\n",
       "      <td>False</td>\n",
       "      <td>...</td>\n",
       "      <td>1</td>\n",
       "      <td>0</td>\n",
       "      <td>0</td>\n",
       "      <td>0</td>\n",
       "      <td>0</td>\n",
       "      <td>1</td>\n",
       "      <td>0</td>\n",
       "      <td>0</td>\n",
       "      <td>1</td>\n",
       "      <td>1</td>\n",
       "    </tr>\n",
       "  </tbody>\n",
       "</table>\n",
       "<p>5 rows × 62 columns</p>\n",
       "</div>"
      ],
      "text/plain": [
       "                        _id location     sex  musical_background nationality  \\\n",
       "0  5410f69308ad6ee3090e387a   dublin  female                   0       other   \n",
       "1  5410f69508ad6ee3090e3892   dublin    male                   0       irish   \n",
       "2  5410f6d008ad6ee3090e3994   dublin    male                   0       other   \n",
       "3  5410f6d008ad6ee3090e3998   dublin  female                   0       irish   \n",
       "4  5410f6d008ad6ee3090e399c   dublin    male                   0       irish   \n",
       "\n",
       "   visual_impairments  musical_expertise  hearing_impairments   age  \\\n",
       "0                   0                  0                    0  41.0   \n",
       "1                   0                  0                    0  41.0   \n",
       "2                   0                  0                    0  25.0   \n",
       "3                   0                  0                    0  21.0   \n",
       "4                   0                  0                    0  20.0   \n",
       "\n",
       "   critical_reaction       ...         musicpref_jazz  musicpref_folk  \\\n",
       "0              False       ...                      1               0   \n",
       "1              False       ...                      0               0   \n",
       "2              False       ...                      0               0   \n",
       "3               True       ...                      0               0   \n",
       "4              False       ...                      1               0   \n",
       "\n",
       "   musicpref_hiphop  musicpref_classical  musicpref_none  musicpref_rock  \\\n",
       "0                 0                    0               0               0   \n",
       "1                 0                    0               0               1   \n",
       "2                 0                    0               0               1   \n",
       "3                 0                    0               0               1   \n",
       "4                 0                    0               0               1   \n",
       "\n",
       "   musicpref_hip_hop  musicpref_world  musicpref_pop  musicpref_dance  \n",
       "0                  0                0              0                0  \n",
       "1                  0                0              1                1  \n",
       "2                  0                1              1                0  \n",
       "3                  0                0              1                1  \n",
       "4                  0                0              1                1  \n",
       "\n",
       "[5 rows x 62 columns]"
      ]
     },
     "execution_count": 9,
     "metadata": {},
     "output_type": "execute_result"
    }
   ],
   "source": [
    "eim_csv = Path('..', '..', 'fastai', 'data', 'good_reaction_trials_categorified.csv')\n",
    "\n",
    "eim_df = pd.read_csv(eim_csv)\n",
    "train_df = eim_df[eim_df.song == 'hallelujah'].copy()\n",
    "test_df = eim_df[eim_df.song != 'hallelujah'].copy()\n",
    "\n",
    "del eim_df\n",
    "\n",
    "# train_df = train_df.iloc[0:128]\n",
    "train_df.head()"
   ]
  },
  {
   "cell_type": "code",
   "execution_count": 10,
   "metadata": {},
   "outputs": [],
   "source": [
    "cats = ['location', 'sex', 'musical_background', 'nationality', 'visual_impairments', 'hearing_impairments', \n",
    "        'musicpref_traditional_irish', 'musicpref_jazz', 'musicpref_folk', 'musicpref_hiphop', 'musicpref_classical', \n",
    "        'musicpref_none', 'musicpref_rock', 'musicpref_hip_hop', 'musicpref_world', 'musicpref_pop', 'musicpref_dance',\n",
    "        'language']\n",
    "\n",
    "conts = ['musical_expertise', 'age', 'control_activity', 'control_tension', 'control_engagement', \n",
    "         'control_positivity', 'control_like_dislike', 'song_chillsshiversthrills', 'song_activity', 'song_tension', \n",
    "         'song_familiarity', 'song_engagement', 'song_positivity', 'song_like_dislike', 'song_inspired', 'song_wonder', \n",
    "         'song_spirituality', 'song_thrills', 'song_chills', 'song_tenderness', 'song_nostalgia', 'song_goosebumps', \n",
    "         'song_overwhelmed', 'song_shivers', 'control_power', 'song_transcendence', 'song_sadness', 'song_joyfulactivation', \n",
    "         'song_peacefulness', 'song_power', 'personality_trusting', 'personality_artistic', 'personality_imagination', \n",
    "         'personality_reserved', 'personality_outgoing', 'personality_lazy', 'personality_stress', 'personality_nervous', \n",
    "         'personality_fault', 'personality_thorough', 'concentration']"
   ]
  },
  {
   "cell_type": "code",
   "execution_count": 11,
   "metadata": {},
   "outputs": [
    {
     "data": {
      "text/html": [
       "<div>\n",
       "<style scoped>\n",
       "    .dataframe tbody tr th:only-of-type {\n",
       "        vertical-align: middle;\n",
       "    }\n",
       "\n",
       "    .dataframe tbody tr th {\n",
       "        vertical-align: top;\n",
       "    }\n",
       "\n",
       "    .dataframe thead th {\n",
       "        text-align: right;\n",
       "    }\n",
       "</style>\n",
       "<table border=\"1\" class=\"dataframe\">\n",
       "  <thead>\n",
       "    <tr style=\"text-align: right;\">\n",
       "      <th></th>\n",
       "      <th>_id</th>\n",
       "      <th>location</th>\n",
       "      <th>sex</th>\n",
       "      <th>musical_background</th>\n",
       "      <th>nationality</th>\n",
       "      <th>visual_impairments</th>\n",
       "      <th>musical_expertise</th>\n",
       "      <th>hearing_impairments</th>\n",
       "      <th>age</th>\n",
       "      <th>critical_reaction</th>\n",
       "      <th>...</th>\n",
       "      <th>musicpref_jazz</th>\n",
       "      <th>musicpref_folk</th>\n",
       "      <th>musicpref_hiphop</th>\n",
       "      <th>musicpref_classical</th>\n",
       "      <th>musicpref_none</th>\n",
       "      <th>musicpref_rock</th>\n",
       "      <th>musicpref_hip_hop</th>\n",
       "      <th>musicpref_world</th>\n",
       "      <th>musicpref_pop</th>\n",
       "      <th>musicpref_dance</th>\n",
       "    </tr>\n",
       "  </thead>\n",
       "  <tbody>\n",
       "    <tr>\n",
       "      <th>0</th>\n",
       "      <td>5410f69308ad6ee3090e387a</td>\n",
       "      <td>dublin</td>\n",
       "      <td>female</td>\n",
       "      <td>0</td>\n",
       "      <td>other</td>\n",
       "      <td>0</td>\n",
       "      <td>0</td>\n",
       "      <td>0</td>\n",
       "      <td>41.0</td>\n",
       "      <td>False</td>\n",
       "      <td>...</td>\n",
       "      <td>1</td>\n",
       "      <td>0</td>\n",
       "      <td>0</td>\n",
       "      <td>0</td>\n",
       "      <td>0</td>\n",
       "      <td>0</td>\n",
       "      <td>0</td>\n",
       "      <td>0</td>\n",
       "      <td>0</td>\n",
       "      <td>0</td>\n",
       "    </tr>\n",
       "    <tr>\n",
       "      <th>1</th>\n",
       "      <td>5410f69508ad6ee3090e3892</td>\n",
       "      <td>dublin</td>\n",
       "      <td>male</td>\n",
       "      <td>0</td>\n",
       "      <td>irish</td>\n",
       "      <td>0</td>\n",
       "      <td>0</td>\n",
       "      <td>0</td>\n",
       "      <td>41.0</td>\n",
       "      <td>False</td>\n",
       "      <td>...</td>\n",
       "      <td>0</td>\n",
       "      <td>0</td>\n",
       "      <td>0</td>\n",
       "      <td>0</td>\n",
       "      <td>0</td>\n",
       "      <td>1</td>\n",
       "      <td>0</td>\n",
       "      <td>0</td>\n",
       "      <td>1</td>\n",
       "      <td>1</td>\n",
       "    </tr>\n",
       "    <tr>\n",
       "      <th>2</th>\n",
       "      <td>5410f6d008ad6ee3090e3994</td>\n",
       "      <td>dublin</td>\n",
       "      <td>male</td>\n",
       "      <td>0</td>\n",
       "      <td>other</td>\n",
       "      <td>0</td>\n",
       "      <td>0</td>\n",
       "      <td>0</td>\n",
       "      <td>25.0</td>\n",
       "      <td>False</td>\n",
       "      <td>...</td>\n",
       "      <td>0</td>\n",
       "      <td>0</td>\n",
       "      <td>0</td>\n",
       "      <td>0</td>\n",
       "      <td>0</td>\n",
       "      <td>1</td>\n",
       "      <td>0</td>\n",
       "      <td>1</td>\n",
       "      <td>1</td>\n",
       "      <td>0</td>\n",
       "    </tr>\n",
       "    <tr>\n",
       "      <th>3</th>\n",
       "      <td>5410f6d008ad6ee3090e3998</td>\n",
       "      <td>dublin</td>\n",
       "      <td>female</td>\n",
       "      <td>0</td>\n",
       "      <td>irish</td>\n",
       "      <td>0</td>\n",
       "      <td>0</td>\n",
       "      <td>0</td>\n",
       "      <td>21.0</td>\n",
       "      <td>True</td>\n",
       "      <td>...</td>\n",
       "      <td>0</td>\n",
       "      <td>0</td>\n",
       "      <td>0</td>\n",
       "      <td>0</td>\n",
       "      <td>0</td>\n",
       "      <td>1</td>\n",
       "      <td>0</td>\n",
       "      <td>0</td>\n",
       "      <td>1</td>\n",
       "      <td>1</td>\n",
       "    </tr>\n",
       "    <tr>\n",
       "      <th>4</th>\n",
       "      <td>5410f6d008ad6ee3090e399c</td>\n",
       "      <td>dublin</td>\n",
       "      <td>male</td>\n",
       "      <td>0</td>\n",
       "      <td>irish</td>\n",
       "      <td>0</td>\n",
       "      <td>0</td>\n",
       "      <td>0</td>\n",
       "      <td>20.0</td>\n",
       "      <td>False</td>\n",
       "      <td>...</td>\n",
       "      <td>1</td>\n",
       "      <td>0</td>\n",
       "      <td>0</td>\n",
       "      <td>0</td>\n",
       "      <td>0</td>\n",
       "      <td>1</td>\n",
       "      <td>0</td>\n",
       "      <td>0</td>\n",
       "      <td>1</td>\n",
       "      <td>1</td>\n",
       "    </tr>\n",
       "  </tbody>\n",
       "</table>\n",
       "<p>5 rows × 62 columns</p>\n",
       "</div>"
      ],
      "text/plain": [
       "                        _id location     sex  musical_background nationality  \\\n",
       "0  5410f69308ad6ee3090e387a   dublin  female                   0       other   \n",
       "1  5410f69508ad6ee3090e3892   dublin    male                   0       irish   \n",
       "2  5410f6d008ad6ee3090e3994   dublin    male                   0       other   \n",
       "3  5410f6d008ad6ee3090e3998   dublin  female                   0       irish   \n",
       "4  5410f6d008ad6ee3090e399c   dublin    male                   0       irish   \n",
       "\n",
       "   visual_impairments  musical_expertise  hearing_impairments   age  \\\n",
       "0                   0                  0                    0  41.0   \n",
       "1                   0                  0                    0  41.0   \n",
       "2                   0                  0                    0  25.0   \n",
       "3                   0                  0                    0  21.0   \n",
       "4                   0                  0                    0  20.0   \n",
       "\n",
       "   critical_reaction       ...         musicpref_jazz  musicpref_folk  \\\n",
       "0              False       ...                      1               0   \n",
       "1              False       ...                      0               0   \n",
       "2              False       ...                      0               0   \n",
       "3               True       ...                      0               0   \n",
       "4              False       ...                      1               0   \n",
       "\n",
       "   musicpref_hiphop  musicpref_classical  musicpref_none  musicpref_rock  \\\n",
       "0                 0                    0               0               0   \n",
       "1                 0                    0               0               1   \n",
       "2                 0                    0               0               1   \n",
       "3                 0                    0               0               1   \n",
       "4                 0                    0               0               1   \n",
       "\n",
       "   musicpref_hip_hop  musicpref_world  musicpref_pop  musicpref_dance  \n",
       "0                  0                0              0                0  \n",
       "1                  0                0              1                1  \n",
       "2                  0                1              1                0  \n",
       "3                  0                0              1                1  \n",
       "4                  0                0              1                1  \n",
       "\n",
       "[5 rows x 62 columns]"
      ]
     },
     "execution_count": 11,
     "metadata": {},
     "output_type": "execute_result"
    }
   ],
   "source": [
    "train_df.head()"
   ]
  },
  {
   "cell_type": "code",
   "execution_count": 12,
   "metadata": {},
   "outputs": [],
   "source": [
    "train_test_df = pd.concat([train_df, test_df],0)\n",
    "\n",
    "# Remove id, name, and item_description columns\n",
    "train_test_df = train_test_df.drop(['_id'], axis=1)"
   ]
  },
  {
   "cell_type": "code",
   "execution_count": 13,
   "metadata": {},
   "outputs": [],
   "source": [
    "train_test_df.loc[train_test_df.critical_reaction == False, 'critical_reaction'] = 0\n",
    "train_test_df.loc[train_test_df.critical_reaction == True, 'critical_reaction'] = 1"
   ]
  },
  {
   "cell_type": "code",
   "execution_count": 14,
   "metadata": {},
   "outputs": [],
   "source": [
    "# Replace missing values and convert brand_name and category_name to categories\n",
    "train_test_df = preprocess(train_test_df, cats)"
   ]
  },
  {
   "cell_type": "code",
   "execution_count": 15,
   "metadata": {},
   "outputs": [],
   "source": [
    "train_test_df = train_test_df.reset_index(drop=True)"
   ]
  },
  {
   "cell_type": "code",
   "execution_count": 16,
   "metadata": {},
   "outputs": [],
   "source": [
    "# Convert values in categorical columns to 0, 1, 2, 3, ... from the top of the DataFrame down\n",
    "train_test_df = EimDataPreprocess(train_test_df, cats, inplace=True)"
   ]
  },
  {
   "cell_type": "code",
   "execution_count": 17,
   "metadata": {},
   "outputs": [],
   "source": [
    "# Split combined DataFrame back out into train and test DataFrames\n",
    "train_df = train_test_df.iloc[range(len(train_df))]\n",
    "test_df = train_test_df.iloc[range(len(train_df),len(train_test_df))]"
   ]
  },
  {
   "cell_type": "code",
   "execution_count": 18,
   "metadata": {},
   "outputs": [],
   "source": [
    "train_pct, valid_pct = .8, .2\n",
    "idxs = train_df.index.values\n",
    "np.random.shuffle(idxs)\n",
    "split = int(np.floor(train_pct * len(train_df)))\n",
    "train_idxs, valid_idxs = idxs[:split], idxs[split:]"
   ]
  },
  {
   "cell_type": "code",
   "execution_count": 19,
   "metadata": {},
   "outputs": [],
   "source": [
    "train_valid_df = train_df.copy()\n",
    "train_df = train_valid_df.iloc[train_idxs, :]\n",
    "valid_df = train_valid_df.iloc[valid_idxs, :]"
   ]
  },
  {
   "cell_type": "code",
   "execution_count": 20,
   "metadata": {},
   "outputs": [],
   "source": [
    "train_df.reset_index(drop=True, inplace=True)\n",
    "valid_df.reset_index(drop=True, inplace=True)\n",
    "test_df.reset_index(drop=True, inplace=True)"
   ]
  },
  {
   "cell_type": "code",
   "execution_count": 23,
   "metadata": {},
   "outputs": [
    {
     "data": {
      "text/plain": [
       "False"
      ]
     },
     "execution_count": 23,
     "metadata": {},
     "output_type": "execute_result"
    }
   ],
   "source": [
    "np.all(test_df.song == 'hallelujah')"
   ]
  },
  {
   "cell_type": "code",
   "execution_count": 21,
   "metadata": {},
   "outputs": [
    {
     "data": {
      "text/html": [
       "<div>\n",
       "<style scoped>\n",
       "    .dataframe tbody tr th:only-of-type {\n",
       "        vertical-align: middle;\n",
       "    }\n",
       "\n",
       "    .dataframe tbody tr th {\n",
       "        vertical-align: top;\n",
       "    }\n",
       "\n",
       "    .dataframe thead th {\n",
       "        text-align: right;\n",
       "    }\n",
       "</style>\n",
       "<table border=\"1\" class=\"dataframe\">\n",
       "  <thead>\n",
       "    <tr style=\"text-align: right;\">\n",
       "      <th></th>\n",
       "      <th>location</th>\n",
       "      <th>sex</th>\n",
       "      <th>musical_background</th>\n",
       "      <th>nationality</th>\n",
       "      <th>visual_impairments</th>\n",
       "      <th>musical_expertise</th>\n",
       "      <th>hearing_impairments</th>\n",
       "      <th>age</th>\n",
       "      <th>critical_reaction</th>\n",
       "      <th>control_activity</th>\n",
       "      <th>...</th>\n",
       "      <th>musicpref_jazz</th>\n",
       "      <th>musicpref_folk</th>\n",
       "      <th>musicpref_hiphop</th>\n",
       "      <th>musicpref_classical</th>\n",
       "      <th>musicpref_none</th>\n",
       "      <th>musicpref_rock</th>\n",
       "      <th>musicpref_hip_hop</th>\n",
       "      <th>musicpref_world</th>\n",
       "      <th>musicpref_pop</th>\n",
       "      <th>musicpref_dance</th>\n",
       "    </tr>\n",
       "  </thead>\n",
       "  <tbody>\n",
       "    <tr>\n",
       "      <th>0</th>\n",
       "      <td>0</td>\n",
       "      <td>1</td>\n",
       "      <td>0</td>\n",
       "      <td>0</td>\n",
       "      <td>0</td>\n",
       "      <td>0</td>\n",
       "      <td>0</td>\n",
       "      <td>41.0</td>\n",
       "      <td>0</td>\n",
       "      <td>0</td>\n",
       "      <td>...</td>\n",
       "      <td>1</td>\n",
       "      <td>0</td>\n",
       "      <td>0</td>\n",
       "      <td>0</td>\n",
       "      <td>0</td>\n",
       "      <td>0</td>\n",
       "      <td>0</td>\n",
       "      <td>0</td>\n",
       "      <td>1</td>\n",
       "      <td>0</td>\n",
       "    </tr>\n",
       "    <tr>\n",
       "      <th>1</th>\n",
       "      <td>2</td>\n",
       "      <td>1</td>\n",
       "      <td>0</td>\n",
       "      <td>3</td>\n",
       "      <td>0</td>\n",
       "      <td>1</td>\n",
       "      <td>0</td>\n",
       "      <td>10.0</td>\n",
       "      <td>0</td>\n",
       "      <td>3</td>\n",
       "      <td>...</td>\n",
       "      <td>1</td>\n",
       "      <td>0</td>\n",
       "      <td>0</td>\n",
       "      <td>0</td>\n",
       "      <td>0</td>\n",
       "      <td>1</td>\n",
       "      <td>0</td>\n",
       "      <td>0</td>\n",
       "      <td>0</td>\n",
       "      <td>0</td>\n",
       "    </tr>\n",
       "    <tr>\n",
       "      <th>2</th>\n",
       "      <td>2</td>\n",
       "      <td>1</td>\n",
       "      <td>0</td>\n",
       "      <td>3</td>\n",
       "      <td>0</td>\n",
       "      <td>1</td>\n",
       "      <td>0</td>\n",
       "      <td>23.0</td>\n",
       "      <td>1</td>\n",
       "      <td>2</td>\n",
       "      <td>...</td>\n",
       "      <td>1</td>\n",
       "      <td>0</td>\n",
       "      <td>1</td>\n",
       "      <td>0</td>\n",
       "      <td>0</td>\n",
       "      <td>0</td>\n",
       "      <td>0</td>\n",
       "      <td>0</td>\n",
       "      <td>0</td>\n",
       "      <td>0</td>\n",
       "    </tr>\n",
       "    <tr>\n",
       "      <th>3</th>\n",
       "      <td>0</td>\n",
       "      <td>0</td>\n",
       "      <td>0</td>\n",
       "      <td>0</td>\n",
       "      <td>0</td>\n",
       "      <td>1</td>\n",
       "      <td>0</td>\n",
       "      <td>33.0</td>\n",
       "      <td>0</td>\n",
       "      <td>0</td>\n",
       "      <td>...</td>\n",
       "      <td>0</td>\n",
       "      <td>0</td>\n",
       "      <td>0</td>\n",
       "      <td>0</td>\n",
       "      <td>0</td>\n",
       "      <td>0</td>\n",
       "      <td>0</td>\n",
       "      <td>1</td>\n",
       "      <td>1</td>\n",
       "      <td>1</td>\n",
       "    </tr>\n",
       "    <tr>\n",
       "      <th>4</th>\n",
       "      <td>2</td>\n",
       "      <td>1</td>\n",
       "      <td>0</td>\n",
       "      <td>3</td>\n",
       "      <td>0</td>\n",
       "      <td>1</td>\n",
       "      <td>0</td>\n",
       "      <td>11.0</td>\n",
       "      <td>0</td>\n",
       "      <td>5</td>\n",
       "      <td>...</td>\n",
       "      <td>1</td>\n",
       "      <td>0</td>\n",
       "      <td>0</td>\n",
       "      <td>0</td>\n",
       "      <td>0</td>\n",
       "      <td>1</td>\n",
       "      <td>0</td>\n",
       "      <td>0</td>\n",
       "      <td>0</td>\n",
       "      <td>0</td>\n",
       "    </tr>\n",
       "  </tbody>\n",
       "</table>\n",
       "<p>5 rows × 61 columns</p>\n",
       "</div>"
      ],
      "text/plain": [
       "   location  sex  musical_background  nationality  visual_impairments  \\\n",
       "0         0    1                   0            0                   0   \n",
       "1         2    1                   0            3                   0   \n",
       "2         2    1                   0            3                   0   \n",
       "3         0    0                   0            0                   0   \n",
       "4         2    1                   0            3                   0   \n",
       "\n",
       "   musical_expertise  hearing_impairments   age  critical_reaction  \\\n",
       "0                  0                    0  41.0                  0   \n",
       "1                  1                    0  10.0                  0   \n",
       "2                  1                    0  23.0                  1   \n",
       "3                  1                    0  33.0                  0   \n",
       "4                  1                    0  11.0                  0   \n",
       "\n",
       "   control_activity       ...         musicpref_jazz  musicpref_folk  \\\n",
       "0                 0       ...                      1               0   \n",
       "1                 3       ...                      1               0   \n",
       "2                 2       ...                      1               0   \n",
       "3                 0       ...                      0               0   \n",
       "4                 5       ...                      1               0   \n",
       "\n",
       "   musicpref_hiphop  musicpref_classical  musicpref_none  musicpref_rock  \\\n",
       "0                 0                    0               0               0   \n",
       "1                 0                    0               0               1   \n",
       "2                 1                    0               0               0   \n",
       "3                 0                    0               0               0   \n",
       "4                 0                    0               0               1   \n",
       "\n",
       "   musicpref_hip_hop  musicpref_world  musicpref_pop  musicpref_dance  \n",
       "0                  0                0              1                0  \n",
       "1                  0                0              0                0  \n",
       "2                  0                0              0                0  \n",
       "3                  0                1              1                1  \n",
       "4                  0                0              0                0  \n",
       "\n",
       "[5 rows x 61 columns]"
      ]
     },
     "execution_count": 21,
     "metadata": {},
     "output_type": "execute_result"
    }
   ],
   "source": [
    "train_df.head()"
   ]
  },
  {
   "cell_type": "code",
   "execution_count": 22,
   "metadata": {},
   "outputs": [],
   "source": [
    "# Segment train and test DataFrames into input and output DataFrames\n",
    "train_input, train_y = train_df.drop('critical_reaction', 1), train_df.critical_reaction\n",
    "valid_input, valid_y = valid_df.drop('critical_reaction', 1), valid_df.critical_reaction\n",
    "test_input, test_y = test_df.drop('critical_reaction', 1), test_df.critical_reaction"
   ]
  },
  {
   "cell_type": "code",
   "execution_count": 23,
   "metadata": {},
   "outputs": [
    {
     "data": {
      "text/plain": [
       "(0, 1)"
      ]
     },
     "execution_count": 23,
     "metadata": {},
     "output_type": "execute_result"
    }
   ],
   "source": [
    "# Determine the range of output values\n",
    "y_range = (train_y.min(), train_y.max())\n",
    "y_range"
   ]
  },
  {
   "cell_type": "code",
   "execution_count": 24,
   "metadata": {},
   "outputs": [
    {
     "data": {
      "text/plain": [
       "[(7, 5),\n",
       " (2, 2),\n",
       " (2, 2),\n",
       " (16, 9),\n",
       " (2, 2),\n",
       " (2, 2),\n",
       " (2, 2),\n",
       " (2, 2),\n",
       " (2, 2),\n",
       " (2, 2),\n",
       " (2, 2),\n",
       " (2, 2),\n",
       " (2, 2),\n",
       " (2, 2),\n",
       " (2, 2),\n",
       " (2, 2),\n",
       " (2, 2),\n",
       " (4, 3)]"
      ]
     },
     "execution_count": 24,
     "metadata": {},
     "output_type": "execute_result"
    }
   ],
   "source": [
    "# Get a list of tuples of embedding dimensions\n",
    "# Tuples are (category_size, embedding_size), where embedding_size is the smaller of 50 and half the number of unique values in that category\n",
    "emb_szs = get_embs_dims(train_test_df, cats)\n",
    "emb_szs"
   ]
  },
  {
   "cell_type": "code",
   "execution_count": 25,
   "metadata": {},
   "outputs": [
    {
     "data": {
      "text/plain": [
       "11"
      ]
     },
     "execution_count": 25,
     "metadata": {},
     "output_type": "execute_result"
    }
   ],
   "source": [
    "# Delete temporary DataFrames to free up memory\n",
    "del train_test_df\n",
    "gc.collect()"
   ]
  },
  {
   "cell_type": "markdown",
   "metadata": {},
   "source": [
    "# Model construction"
   ]
  },
  {
   "cell_type": "code",
   "execution_count": 26,
   "metadata": {},
   "outputs": [
    {
     "name": "stdout",
     "output_type": "stream",
     "text": [
      "EimModel(\n",
      "  (embs): ModuleList(\n",
      "    (0): Embedding(7, 5)\n",
      "    (1): Embedding(2, 2)\n",
      "    (2): Embedding(2, 2)\n",
      "    (3): Embedding(16, 9)\n",
      "    (4): Embedding(2, 2)\n",
      "    (5): Embedding(2, 2)\n",
      "    (6): Embedding(2, 2)\n",
      "    (7): Embedding(2, 2)\n",
      "    (8): Embedding(2, 2)\n",
      "    (9): Embedding(2, 2)\n",
      "    (10): Embedding(2, 2)\n",
      "    (11): Embedding(2, 2)\n",
      "    (12): Embedding(2, 2)\n",
      "    (13): Embedding(2, 2)\n",
      "    (14): Embedding(2, 2)\n",
      "    (15): Embedding(2, 2)\n",
      "    (16): Embedding(2, 2)\n",
      "    (17): Embedding(4, 3)\n",
      "  )\n",
      "  (lins): ModuleList(\n",
      "    (0): Linear(in_features=88, out_features=1000, bias=True)\n",
      "    (1): Linear(in_features=1000, out_features=500, bias=True)\n",
      "  )\n",
      "  (bns): ModuleList(\n",
      "    (0): BatchNorm1d(1000, eps=1e-05, momentum=0.1, affine=True, track_running_stats=True)\n",
      "    (1): BatchNorm1d(500, eps=1e-05, momentum=0.1, affine=True, track_running_stats=True)\n",
      "  )\n",
      "  (outp): Linear(in_features=500, out_features=1, bias=True)\n",
      "  (emb_drop): Dropout(p=0.04)\n",
      "  (drops): ModuleList(\n",
      "    (0): Dropout(p=0.01)\n",
      "    (1): Dropout(p=0.01)\n",
      "  )\n",
      "  (bn): BatchNorm1d(41, eps=1e-05, momentum=0.1, affine=True, track_running_stats=True)\n",
      ")\n"
     ]
    }
   ],
   "source": [
    "# EmbeddingModelData exposes path, trn_dl, val_dl, and test_dl as attributes on the object. On creation, it:\n",
    "# - Takes the train_input, train_y, and cats and creates an EmbeddingDataset\n",
    "# - Takes the test_input, test_y, and cats and creates an EmbeddingDataset\n",
    "# - Wraps these EmbeddingDatasets in DataLoaders, passing on bs to the DataLoader\n",
    "# - Stories these DataLoaders and path as attributes on the created object\n",
    "\n",
    "# EmbeddingDataset:\n",
    "# - Used here, the entire input DataFrame, a list of categories, and an output DataFrame are provided\n",
    "# - The input DataFrame is split into a categorical and a continuous DataFrame\n",
    "# - The 'cats' DataFrame is converted to an int64 NumPy ndarray and stored on the EmbeddingDataset object as the cats attribute\n",
    "# - The 'conts' DataFrame is converted to a float32 NumPy ndarray and stored on the EmbeddingDataset object as the conts attribute\n",
    "# - The 'y' DataFrame is converted to a float32 NumPy array and stored on the EmbeddingDataset object as the y attribute\n",
    "# - If no cats are provided, the cats attribute is an array of zeros the length of the conts list, this is similar for conts\n",
    "# - When asked for an item, returns: [cats, conts, y] for that particular item\n",
    "\n",
    "model_data = EimModelData.from_data_frames('./tmp', train_input, valid_input, train_y, valid_y, \n",
    "                                           cats, conts, bs=len(train_input), test_df=test_input)\n",
    "emb_model = EimModel(emb_szs, len(conts), 0.04, 1, [1000, 500], 0.01, y_range=y_range, classify=True, use_bn=False)\n",
    "emb_model.to(device)\n",
    "print(emb_model)"
   ]
  },
  {
   "cell_type": "code",
   "execution_count": 27,
   "metadata": {},
   "outputs": [],
   "source": [
    "model_data_test = EimModelData.from_data_frames('./tmp', train_input, valid_input, train_y, valid_y, cats, conts, bs=len(train_input))"
   ]
  },
  {
   "cell_type": "markdown",
   "metadata": {},
   "source": [
    "# Training loop definition"
   ]
  },
  {
   "cell_type": "code",
   "execution_count": 28,
   "metadata": {},
   "outputs": [],
   "source": [
    "from torch import Tensor\n",
    "from IPython.display import clear_output, display\n",
    "\n",
    "# Validation\n",
    "def eim_validate(model, model_data, criterion, epochs):\n",
    "    model.eval()\n",
    "    running_loss = []\n",
    "    for data in iter(model_data.val_dl):\n",
    "        # get inputs\n",
    "        x_cats, x_conts, y = data\n",
    "\n",
    "        # wrap with variable\n",
    "        x_cats = torch.LongTensor(x_cats).to(device)\n",
    "        x_conts = torch.FloatTensor(x_conts).to(device)\n",
    "        y = torch.FloatTensor(y).to(device)\n",
    "        x_cats.requires_grad = False\n",
    "        x_conts.requires_grad = False\n",
    "        y.requires_grad = False\n",
    "        \n",
    "        outputs = model(x_cats, x_conts)\n",
    "        loss = criterion(outputs, y)\n",
    "        running_loss.append(loss.cpu().detach().data)    \n",
    "    return np.mean(running_loss)\n",
    "    \n",
    "\n",
    "# Training:\n",
    "# - Gets next batch from DataLoader\n",
    "# - Breaks batch into cats, conts, and output\n",
    "# - Converts these into tensors\n",
    "# - Specifies that gradients for cats and conts should not be computed\n",
    "# - Performs forward/backward pass\n",
    "\n",
    "def eim_train(model, model_data, optimizer, criterion, epochs, patience=50, print_output=True, save_best=False, save_path=Path('.', 'best_model.pkl')):\n",
    "    model.train()\n",
    "    \n",
    "    running_losses = {'train': [], 'validation': []}\n",
    "    \n",
    "    best_loss = float('inf')\n",
    "    es_patience = patience\n",
    "    es_counter = 0\n",
    "    \n",
    "    epoch_counter = 0\n",
    "    for epoch in range(epochs):\n",
    "        epoch_counter += 1\n",
    "        \n",
    "        for data in iter(model_data.trn_dl):            \n",
    "            \n",
    "            # Get inputs\n",
    "            x_cats, x_conts, y = data\n",
    "\n",
    "            # Wrap with variables\n",
    "            x_cats = torch.LongTensor(x_cats).to(device)\n",
    "            x_conts = torch.FloatTensor(x_conts).to(device)\n",
    "            y = torch.FloatTensor(y).to(device)\n",
    "            x_cats.requires_grad = False\n",
    "            x_conts.requires_grad = False\n",
    "            y.requires_grad = False\n",
    "\n",
    "            # Zero the parameter gradients\n",
    "            optimizer.zero_grad()\n",
    "            \n",
    "            # Forward pass + backward pass + optimization\n",
    "            outputs = model(x_cats, x_conts)\n",
    "            train_loss = criterion(outputs, y)\n",
    "            \n",
    "            running_losses['train'].append(train_loss.cpu().detach().numpy())\n",
    "            \n",
    "            train_loss.backward()\n",
    "            optimizer.step()\n",
    "        \n",
    "        # Validate after each epoch\n",
    "        validation_loss = eim_validate(model, model_data, criterion, epochs)\n",
    "        running_losses['validation'].append(validation_loss)\n",
    "        \n",
    "        # Track best loss\n",
    "        if validation_loss < best_loss:\n",
    "            best_loss = validation_loss\n",
    "            loss_improved = True\n",
    "            if save_best:\n",
    "                torch.save(model.state_dict(), save_path)\n",
    "        else:\n",
    "            loss_improved = False\n",
    "        \n",
    "        # Simple early stopping\n",
    "        if loss_improved:\n",
    "            es_counter = 0\n",
    "        else:\n",
    "            es_counter += 1\n",
    "            if es_counter >= patience:\n",
    "                print(\"Early stopping\")\n",
    "                break\n",
    "        \n",
    "        # Print progress\n",
    "        if print_output:\n",
    "            print(\"\\rEpoch: {}/{}, Train Loss: {}, Validation Loss: {}\\r\"\n",
    "                  .format(epoch_counter, epochs, train_loss, validation_loss))\n",
    "            \n",
    "    return running_losses"
   ]
  },
  {
   "cell_type": "markdown",
   "metadata": {},
   "source": [
    "# Training dry-run"
   ]
  },
  {
   "cell_type": "code",
   "execution_count": 29,
   "metadata": {},
   "outputs": [
    {
     "name": "stdout",
     "output_type": "stream",
     "text": [
      "Epoch: 1/10, Train Loss: 0.8922479152679443, Validation Loss: 0.8079087734222412\n",
      "Epoch: 2/10, Train Loss: 0.7826498746871948, Validation Loss: 0.6183573007583618\n",
      "Epoch: 3/10, Train Loss: 0.7155018448829651, Validation Loss: 0.6023526787757874\n",
      "Epoch: 4/10, Train Loss: 0.6387723684310913, Validation Loss: 0.5749489665031433\n",
      "Epoch: 5/10, Train Loss: 0.6268683075904846, Validation Loss: 0.5768886804580688\n",
      "Epoch: 6/10, Train Loss: 0.6177964806556702, Validation Loss: 0.564627468585968\n",
      "Epoch: 7/10, Train Loss: 0.6107187271118164, Validation Loss: 0.563755989074707\n",
      "Epoch: 8/10, Train Loss: 0.6049128770828247, Validation Loss: 0.5574837923049927\n",
      "Epoch: 9/10, Train Loss: 0.600024402141571, Validation Loss: 0.5560758113861084\n",
      "Epoch: 10/10, Train Loss: 0.5958564877510071, Validation Loss: 0.5524690747261047\n"
     ]
    }
   ],
   "source": [
    "opt = SGD(emb_model.parameters(), lr = 1e-2, weight_decay=1e-4)\n",
    "crit = F.binary_cross_entropy\n",
    "\n",
    "epochs = 10\n",
    "losses = eim_train(emb_model, model_data, opt, crit, epochs, patience=25)"
   ]
  },
  {
   "cell_type": "code",
   "execution_count": 29,
   "metadata": {},
   "outputs": [
    {
     "data": {
      "image/png": "[encoded data removed]",
      "text/plain": [
       "<Figure size 432x288 with 1 Axes>"
      ]
     },
     "metadata": {
      "needs_background": "light"
     },
     "output_type": "display_data"
    }
   ],
   "source": [
    "plt.plot(losses['train'], label='Training Loss (Cross-Entropy)')\n",
    "plt.plot(losses['validation'], label='Validation Loss (Cross-Entropy)')\n",
    "plt.legend();"
   ]
  },
  {
   "cell_type": "markdown",
   "metadata": {},
   "source": [
    "# Hyperparameter optimization"
   ]
  },
  {
   "cell_type": "code",
   "execution_count": 30,
   "metadata": {},
   "outputs": [],
   "source": [
    "from skopt.space import Real, Integer, Categorical\n",
    "from IPython.display import clear_output, display\n",
    "\n",
    "n_calls = 200\n",
    "\n",
    "param_order = [\n",
    "    'learning_rate',\n",
    "    'weight_decay',\n",
    "    'epochs',\n",
    "    'layers',\n",
    "    'dropouts',\n",
    "    'embedding_dropout',\n",
    "    'use_batch_norm'\n",
    "]\n",
    "\n",
    "dimensions = [\n",
    "    Real(1e-8, 1, name='learning_rate'),\n",
    "    Real(1e-5, 1e-1, name='weight_decay'),\n",
    "    Integer(5, 2500, name='epochs'),\n",
    "    Categorical([(60, 60), (60, 30, 15, 10, 5), (60, 30), (60, 30, 15), (30, 15)], name='layers'),\n",
    "    Real(0., 0.75, name='dropouts'),\n",
    "    Real(0., 0.75, name='embedding_dropout'),\n",
    "    Categorical([True, False], name='use_batch_norm')\n",
    "]\n",
    "\n",
    "@skopt.utils.use_named_args(dimensions=dimensions)\n",
    "def objective(learning_rate=1e-4, weight_decay=0.04, epochs=10, layers=[10, 10], dropouts=[0.2, 0.2], \n",
    "              embedding_dropout=0.2, use_batch_norm=True):\n",
    "    \n",
    "    torch.cuda.empty_cache()\n",
    "\n",
    "    layers = list(layers)\n",
    "    \n",
    "    # Build model\n",
    "    emb_model = EimModel(emb_szs, len(conts), embedding_dropout, 1, layers, dropouts, y_range=y_range, \n",
    "                         classify=True, use_bn=use_batch_norm)\n",
    "    emb_model.to(device)\n",
    "    \n",
    "    opt = SGD(emb_model.parameters(), lr=learning_rate, weight_decay=weight_decay)\n",
    "    crit = F.binary_cross_entropy\n",
    "    losses = eim_train(emb_model, model_data, opt, crit, epochs, patience=25, print_output=False, save_best=False)\n",
    "    \n",
    "    return(min(losses['validation']))"
   ]
  },
  {
   "cell_type": "code",
   "execution_count": 31,
   "metadata": {},
   "outputs": [],
   "source": [
    "class ProgressCallback():\n",
    "    def __init__(self):\n",
    "        pass\n",
    "\n",
    "    def __call__(self, res):\n",
    "        calls = len(res['func_vals'])\n",
    "        clear_output()\n",
    "        print('\\rCompleted trial {}/{}'.format(calls, n_calls))"
   ]
  },
  {
   "cell_type": "markdown",
   "metadata": {},
   "source": [
    "We do not need to retune hyperparameters, as this is the same training set we used for `train-hallelujah-test-hallelujah`."
   ]
  },
  {
   "cell_type": "code",
   "execution_count": 32,
   "metadata": {},
   "outputs": [],
   "source": [
    "# progress_callback = ProgressCallback()\n",
    "# opt_results = skopt.gp_minimize(objective, dimensions, n_calls=n_calls, callback=[progress_callback])"
   ]
  },
  {
   "cell_type": "markdown",
   "metadata": {},
   "source": [
    "## Save hyperparameter optimization results"
   ]
  },
  {
   "cell_type": "code",
   "execution_count": 33,
   "metadata": {},
   "outputs": [],
   "source": [
    "# from skopt import dump\n",
    "# dump(opt_results, Path('.', 'opt_results.pkl'))"
   ]
  },
  {
   "cell_type": "markdown",
   "metadata": {},
   "source": [
    "# Train tuned model"
   ]
  },
  {
   "cell_type": "markdown",
   "metadata": {},
   "source": [
    "## Get best parameters"
   ]
  },
  {
   "cell_type": "code",
   "execution_count": 34,
   "metadata": {},
   "outputs": [],
   "source": [
    "from skopt import load\n",
    "opt_results = load(Path('.', 'opt_results.pkl'))"
   ]
  },
  {
   "cell_type": "code",
   "execution_count": 35,
   "metadata": {},
   "outputs": [
    {
     "name": "stdout",
     "output_type": "stream",
     "text": [
      "Best loss: 0.47873204946517944\n"
     ]
    }
   ],
   "source": [
    "print('Best loss: {}'.format(opt_results.fun))"
   ]
  },
  {
   "cell_type": "code",
   "execution_count": 36,
   "metadata": {},
   "outputs": [
    {
     "name": "stdout",
     "output_type": "stream",
     "text": [
      "Parameters:\n"
     ]
    },
    {
     "data": {
      "text/plain": [
       "{'learning_rate': 1.0,\n",
       " 'weight_decay': 1e-05,\n",
       " 'epochs': 2500,\n",
       " 'layers': (60, 60),\n",
       " 'dropouts': 0.0,\n",
       " 'embedding_dropout': 0.046603922129730795,\n",
       " 'use_batch_norm': True}"
      ]
     },
     "execution_count": 36,
     "metadata": {},
     "output_type": "execute_result"
    }
   ],
   "source": [
    "print('Parameters:')\n",
    "opt_params = dict(zip(param_order, opt_results.x))\n",
    "opt_params"
   ]
  },
  {
   "cell_type": "markdown",
   "metadata": {},
   "source": [
    "Train model with these parameters until we start to diverge"
   ]
  },
  {
   "cell_type": "code",
   "execution_count": 37,
   "metadata": {},
   "outputs": [
    {
     "name": "stdout",
     "output_type": "stream",
     "text": [
      "Epoch: 1/5000, Train Loss: 0.7877293229103088, Validation Loss: 0.51755291223526\n",
      "Epoch: 2/5000, Train Loss: 0.5929368138313293, Validation Loss: 0.61619633436203\n",
      "Epoch: 3/5000, Train Loss: 0.6294800639152527, Validation Loss: 0.6048433184623718\n",
      "Epoch: 4/5000, Train Loss: 0.7731713056564331, Validation Loss: 0.6195194125175476\n",
      "Epoch: 5/5000, Train Loss: 0.6377551555633545, Validation Loss: 0.5290142893791199\n",
      "Epoch: 6/5000, Train Loss: 0.5978361964225769, Validation Loss: 0.5280300378799438\n",
      "Epoch: 7/5000, Train Loss: 0.5955086946487427, Validation Loss: 0.527060329914093\n",
      "Epoch: 8/5000, Train Loss: 0.5927603840827942, Validation Loss: 0.5248006582260132\n",
      "Epoch: 9/5000, Train Loss: 0.5898829102516174, Validation Loss: 0.524208664894104\n",
      "Epoch: 10/5000, Train Loss: 0.5875042080879211, Validation Loss: 0.5236077904701233\n",
      "Epoch: 11/5000, Train Loss: 0.5850934386253357, Validation Loss: 0.5233771204948425\n",
      "Epoch: 12/5000, Train Loss: 0.5827420353889465, Validation Loss: 0.5229513645172119\n",
      "Epoch: 13/5000, Train Loss: 0.5806779265403748, Validation Loss: 0.523600697517395\n",
      "Epoch: 14/5000, Train Loss: 0.5786553621292114, Validation Loss: 0.523781418800354\n",
      "Epoch: 15/5000, Train Loss: 0.5765855312347412, Validation Loss: 0.5239694118499756\n",
      "Epoch: 16/5000, Train Loss: 0.574686586856842, Validation Loss: 0.5226547122001648\n",
      "Epoch: 17/5000, Train Loss: 0.5728983283042908, Validation Loss: 0.5236229300498962\n",
      "Epoch: 18/5000, Train Loss: 0.5716395378112793, Validation Loss: 0.5241776704788208\n",
      "Epoch: 19/5000, Train Loss: 0.5713173747062683, Validation Loss: 0.5208510160446167\n",
      "Epoch: 20/5000, Train Loss: 0.5703805088996887, Validation Loss: 0.537581205368042\n",
      "Epoch: 21/5000, Train Loss: 0.5762512683868408, Validation Loss: 0.5140871405601501\n",
      "Epoch: 22/5000, Train Loss: 0.5769556760787964, Validation Loss: 0.5637096166610718\n",
      "Epoch: 23/5000, Train Loss: 0.5897437930107117, Validation Loss: 0.4979551434516907\n",
      "Epoch: 24/5000, Train Loss: 0.5767461657524109, Validation Loss: 0.5494139790534973\n",
      "Epoch: 25/5000, Train Loss: 0.5718541145324707, Validation Loss: 0.5119369626045227\n",
      "Epoch: 26/5000, Train Loss: 0.5708329677581787, Validation Loss: 0.553778350353241\n",
      "Epoch: 27/5000, Train Loss: 0.5785167813301086, Validation Loss: 0.4991903603076935\n",
      "Epoch: 28/5000, Train Loss: 0.5671733617782593, Validation Loss: 0.5516892671585083\n",
      "Epoch: 29/5000, Train Loss: 0.5653151273727417, Validation Loss: 0.5102375745773315\n",
      "Epoch: 30/5000, Train Loss: 0.5635982751846313, Validation Loss: 0.5618315935134888\n",
      "Epoch: 31/5000, Train Loss: 0.5767452120780945, Validation Loss: 0.49685701727867126\n",
      "Epoch: 32/5000, Train Loss: 0.5715121626853943, Validation Loss: 0.5811489224433899\n",
      "Epoch: 33/5000, Train Loss: 0.5775930881500244, Validation Loss: 0.5128016471862793\n",
      "Epoch: 34/5000, Train Loss: 0.5734748244285583, Validation Loss: 0.5749221444129944\n",
      "Epoch: 35/5000, Train Loss: 0.5808541774749756, Validation Loss: 0.492390900850296\n",
      "Epoch: 36/5000, Train Loss: 0.5682536959648132, Validation Loss: 0.5604183077812195\n",
      "Epoch: 37/5000, Train Loss: 0.5627732276916504, Validation Loss: 0.5153794288635254\n",
      "Epoch: 38/5000, Train Loss: 0.5547793507575989, Validation Loss: 0.5523894429206848\n",
      "Epoch: 39/5000, Train Loss: 0.5573031902313232, Validation Loss: 0.5056978464126587\n",
      "Epoch: 40/5000, Train Loss: 0.5557704567909241, Validation Loss: 0.5994837880134583\n",
      "Epoch: 41/5000, Train Loss: 0.5727395415306091, Validation Loss: 0.5168985724449158\n",
      "Epoch: 42/5000, Train Loss: 0.5814014673233032, Validation Loss: 0.6275079250335693\n",
      "Epoch: 43/5000, Train Loss: 0.6019425988197327, Validation Loss: 0.4914589822292328\n",
      "Epoch: 44/5000, Train Loss: 0.5752600431442261, Validation Loss: 0.5591385364532471\n",
      "Epoch: 45/5000, Train Loss: 0.5615651607513428, Validation Loss: 0.5213589072227478\n",
      "Epoch: 46/5000, Train Loss: 0.5451891422271729, Validation Loss: 0.5308284759521484\n",
      "Epoch: 47/5000, Train Loss: 0.5382841229438782, Validation Loss: 0.5252235531806946\n",
      "Epoch: 48/5000, Train Loss: 0.5325270295143127, Validation Loss: 0.5558335781097412\n",
      "Epoch: 49/5000, Train Loss: 0.5313342809677124, Validation Loss: 0.5239637494087219\n",
      "Epoch: 50/5000, Train Loss: 0.5429915189743042, Validation Loss: 0.6830148100852966\n",
      "Epoch: 51/5000, Train Loss: 0.6096683144569397, Validation Loss: 0.5151169300079346\n",
      "Epoch: 52/5000, Train Loss: 0.6201844811439514, Validation Loss: 0.6183597445487976\n",
      "Epoch: 53/5000, Train Loss: 0.5947386622428894, Validation Loss: 0.5210087299346924\n",
      "Epoch: 54/5000, Train Loss: 0.5714406967163086, Validation Loss: 0.5786625742912292\n",
      "Epoch: 55/5000, Train Loss: 0.5649420619010925, Validation Loss: 0.5193943381309509\n",
      "Epoch: 56/5000, Train Loss: 0.5534487366676331, Validation Loss: 0.5796026587486267\n",
      "Epoch: 57/5000, Train Loss: 0.5520495772361755, Validation Loss: 0.5238277316093445\n",
      "Epoch: 58/5000, Train Loss: 0.5518802404403687, Validation Loss: 0.6224875450134277\n",
      "Epoch: 59/5000, Train Loss: 0.5704083442687988, Validation Loss: 0.5164905190467834\n",
      "Epoch: 60/5000, Train Loss: 0.5739864706993103, Validation Loss: 0.6576414704322815\n",
      "Epoch: 61/5000, Train Loss: 0.5958459377288818, Validation Loss: 0.5095186829566956\n",
      "Epoch: 62/5000, Train Loss: 0.5536059737205505, Validation Loss: 0.5692141652107239\n",
      "Epoch: 63/5000, Train Loss: 0.5404788255691528, Validation Loss: 0.5272417068481445\n",
      "Epoch: 64/5000, Train Loss: 0.5368067622184753, Validation Loss: 0.6090735197067261\n",
      "Epoch: 65/5000, Train Loss: 0.5540003776550293, Validation Loss: 0.5215311050415039\n",
      "Epoch: 66/5000, Train Loss: 0.5485033392906189, Validation Loss: 0.6396176218986511\n",
      "Epoch: 67/5000, Train Loss: 0.5714682340621948, Validation Loss: 0.5163869857788086\n",
      "Epoch: 68/5000, Train Loss: 0.5453308820724487, Validation Loss: 0.6024549007415771\n",
      "Epoch: 69/5000, Train Loss: 0.5397569537162781, Validation Loss: 0.540314257144928\n",
      "Epoch: 70/5000, Train Loss: 0.5366250276565552, Validation Loss: 0.6398293375968933\n",
      "Epoch: 71/5000, Train Loss: 0.5610030293464661, Validation Loss: 0.5130553841590881\n",
      "Epoch: 72/5000, Train Loss: 0.552146315574646, Validation Loss: 0.632568359375\n",
      "Epoch: 73/5000, Train Loss: 0.5521104335784912, Validation Loss: 0.5495434999465942\n",
      "Epoch: 74/5000, Train Loss: 0.5422630310058594, Validation Loss: 0.63774573802948\n",
      "Epoch: 75/5000, Train Loss: 0.5549440383911133, Validation Loss: 0.5163283348083496\n",
      "Epoch: 76/5000, Train Loss: 0.5444098114967346, Validation Loss: 0.6329100131988525\n",
      "Epoch: 77/5000, Train Loss: 0.5445562601089478, Validation Loss: 0.5533280968666077\n",
      "Epoch: 78/5000, Train Loss: 0.5408305525779724, Validation Loss: 0.6696478724479675\n",
      "Epoch: 79/5000, Train Loss: 0.5661554336547852, Validation Loss: 0.5232311487197876\n",
      "Epoch: 80/5000, Train Loss: 0.553019106388092, Validation Loss: 0.6326942443847656\n",
      "Epoch: 81/5000, Train Loss: 0.5433516502380371, Validation Loss: 0.5594784617424011\n",
      "Epoch: 82/5000, Train Loss: 0.5268775224685669, Validation Loss: 0.6252596378326416\n",
      "Epoch: 83/5000, Train Loss: 0.5360692739486694, Validation Loss: 0.5294307470321655\n",
      "Epoch: 84/5000, Train Loss: 0.5218448638916016, Validation Loss: 0.6420354247093201\n",
      "Epoch: 85/5000, Train Loss: 0.5203413963317871, Validation Loss: 0.5867179036140442\n",
      "Epoch: 86/5000, Train Loss: 0.5397529006004333, Validation Loss: 0.7536996006965637\n",
      "Epoch: 87/5000, Train Loss: 0.6096017956733704, Validation Loss: 0.5183755159378052\n",
      "Epoch: 88/5000, Train Loss: 0.5819205045700073, Validation Loss: 0.5977522730827332\n",
      "Epoch: 89/5000, Train Loss: 0.5418633818626404, Validation Loss: 0.540593683719635\n",
      "Epoch: 90/5000, Train Loss: 0.5171255469322205, Validation Loss: 0.5716613531112671\n",
      "Epoch: 91/5000, Train Loss: 0.4991649091243744, Validation Loss: 0.5568639636039734\n",
      "Epoch: 92/5000, Train Loss: 0.49327704310417175, Validation Loss: 0.6149021983146667\n",
      "Early stopping\n"
     ]
    }
   ],
   "source": [
    "seed_everything()\n",
    "epochs = 5000\n",
    "emb_model = EimModel(emb_szs, len(conts), opt_params['embedding_dropout'], 1, list(opt_params['layers']), \n",
    "                     opt_params['dropouts'], y_range=y_range, classify=True, \n",
    "                     use_bn=opt_params['use_batch_norm'])\n",
    "emb_model.to(device)\n",
    "opt = SGD(emb_model.parameters(), lr=opt_params['learning_rate'], weight_decay=opt_params['weight_decay'])\n",
    "losses = eim_train(emb_model, model_data, opt, crit, epochs, save_best=True)"
   ]
  },
  {
   "cell_type": "markdown",
   "metadata": {},
   "source": [
    "## Plot training results"
   ]
  },
  {
   "cell_type": "code",
   "execution_count": 38,
   "metadata": {},
   "outputs": [
    {
     "data": {
      "image/png": "[encoded data removed]",
      "text/plain": [
       "<Figure size 432x288 with 1 Axes>"
      ]
     },
     "metadata": {
      "needs_background": "light"
     },
     "output_type": "display_data"
    }
   ],
   "source": [
    "plt.plot(losses['train'], label='Training Loss (Cross-Entropy)')\n",
    "plt.plot(losses['validation'], label='Validation Loss (Cross-Entropy)')\n",
    "plt.legend();"
   ]
  },
  {
   "cell_type": "markdown",
   "metadata": {},
   "source": [
    "## Load best model"
   ]
  },
  {
   "cell_type": "code",
   "execution_count": 39,
   "metadata": {},
   "outputs": [],
   "source": [
    "emb_model = EimModel(emb_szs, len(conts), opt_params['embedding_dropout'], 1, list(opt_params['layers']), \n",
    "                     opt_params['dropouts'], y_range=y_range, classify=True, \n",
    "                     use_bn=opt_params['use_batch_norm'])\n",
    "emb_model.to(device)\n",
    "emb_model.load_state_dict(torch.load(Path('.', 'best_model.pkl')))"
   ]
  },
  {
   "cell_type": "markdown",
   "metadata": {},
   "source": [
    "## Evaluate validation set against model"
   ]
  },
  {
   "cell_type": "code",
   "execution_count": 40,
   "metadata": {},
   "outputs": [],
   "source": [
    "data = next(iter(model_data.val_dl))\n",
    "\n",
    "emb_model.eval()\n",
    "\n",
    "# get inputs\n",
    "x_cats, x_conts, y = data\n",
    "\n",
    "# wrap with variable\n",
    "x_cats = torch.LongTensor(x_cats).to(device)\n",
    "x_conts = torch.FloatTensor(x_conts).to(device)\n",
    "y = torch.FloatTensor(y).to(device)\n",
    "x_cats.requires_grad = False\n",
    "x_conts.requires_grad = False\n",
    "y.requires_grad = False\n",
    "\n",
    "val_outputs = emb_model(x_cats, x_conts).cpu().detach().numpy()\n",
    "val_y = y.cpu().detach().numpy()"
   ]
  },
  {
   "cell_type": "markdown",
   "metadata": {},
   "source": [
    "### Plot validation AUC-PR"
   ]
  },
  {
   "cell_type": "code",
   "execution_count": 41,
   "metadata": {},
   "outputs": [
    {
     "name": "stdout",
     "output_type": "stream",
     "text": [
      "Average precision-recall score: 0.33\n"
     ]
    },
    {
     "data": {
      "text/plain": [
       "Text(0.5, 1.0, '2-class Precision-Recall curve: AP=0.33')"
      ]
     },
     "execution_count": 41,
     "metadata": {},
     "output_type": "execute_result"
    },
    {
     "data": {
      "image/png": "[encoded data removed]",
      "text/plain": [
       "<Figure size 432x288 with 1 Axes>"
      ]
     },
     "metadata": {
      "needs_background": "light"
     },
     "output_type": "display_data"
    }
   ],
   "source": [
    "from sklearn.metrics import average_precision_score\n",
    "from sklearn.metrics import precision_recall_curve\n",
    "import matplotlib.pyplot as plt\n",
    "from sklearn.utils.fixes import signature\n",
    "\n",
    "average_precision = average_precision_score(val_y, val_outputs)\n",
    "\n",
    "print('Average precision-recall score: {0:0.2f}'.format(\n",
    "      average_precision))\n",
    "\n",
    "precision, recall, thresholds = precision_recall_curve(val_y, val_outputs)\n",
    "\n",
    "# In matplotlib < 1.5, plt.fill_between does not have a 'step' argument\n",
    "step_kwargs = ({'step': 'post'}\n",
    "               if 'step' in signature(plt.fill_between).parameters\n",
    "               else {})\n",
    "plt.step(recall, precision, color='b', alpha=0.2,\n",
    "         where='post')\n",
    "plt.fill_between(recall, precision, alpha=0.2, color='b', **step_kwargs)\n",
    "\n",
    "plt.xlabel('Recall')\n",
    "plt.ylabel('Precision')\n",
    "plt.ylim([0.0, 1.05])\n",
    "plt.xlim([0.0, 1.0])\n",
    "plt.title('2-class Precision-Recall curve: AP={0:0.2f}'.format(\n",
    "          average_precision))"
   ]
  },
  {
   "cell_type": "markdown",
   "metadata": {},
   "source": [
    "### Determine threshold for optimum F-beta / Calculate F-beta score for validation set"
   ]
  },
  {
   "cell_type": "code",
   "execution_count": 42,
   "metadata": {},
   "outputs": [],
   "source": [
    "def threshold_array(threshold, array):\n",
    "    array = array.copy()\n",
    "    array[array >= threshold] = 1.\n",
    "    array[array < threshold] = 0.\n",
    "    return array"
   ]
  },
  {
   "cell_type": "code",
   "execution_count": 43,
   "metadata": {},
   "outputs": [],
   "source": [
    "from sklearn.metrics import confusion_matrix, fbeta_score"
   ]
  },
  {
   "cell_type": "code",
   "execution_count": 44,
   "metadata": {},
   "outputs": [
    {
     "name": "stdout",
     "output_type": "stream",
     "text": [
      "Best F_0.5 0.7727441552314317 (at threshold 0.2475583553314209)\n"
     ]
    },
    {
     "name": "stderr",
     "output_type": "stream",
     "text": [
      "/home/paperspace/anaconda3/envs/fastai/lib/python3.7/site-packages/sklearn/metrics/classification.py:1143: UndefinedMetricWarning: F-score is ill-defined and being set to 0.0 in labels with no predicted samples.\n",
      "  'precision', 'predicted', average, warn_for)\n"
     ]
    }
   ],
   "source": [
    "best_fbeta = 0.0\n",
    "best_fbeta_thresh = 0.0\n",
    "for thresh in thresholds:\n",
    "    val_outputs_thresh = threshold_array(thresh, val_outputs)\n",
    "    fb = fbeta_score(val_y, val_outputs_thresh, 0.5, average='weighted')\n",
    "    if fb >= best_fbeta:\n",
    "        best_fbeta = fb\n",
    "        best_fbeta_thresh = thresh\n",
    "\n",
    "print('Best F_0.5 {} (at threshold {})'.format(best_fbeta, best_fbeta_thresh))"
   ]
  },
  {
   "cell_type": "markdown",
   "metadata": {},
   "source": [
    "## Evaluate test set against model"
   ]
  },
  {
   "cell_type": "code",
   "execution_count": 45,
   "metadata": {},
   "outputs": [],
   "source": [
    "test_outputs = None\n",
    "for data in iter(model_data.test_dl):\n",
    "\n",
    "    emb_model.eval()\n",
    "\n",
    "    # get inputs\n",
    "    x_cats, x_conts, y = data\n",
    "\n",
    "    # wrap with variable\n",
    "    x_cats = torch.LongTensor(x_cats).to(device)\n",
    "    x_conts = torch.FloatTensor(x_conts).to(device)\n",
    "    x_cats.requires_grad = False\n",
    "    x_conts.requires_grad = False\n",
    "\n",
    "    outputs = emb_model(x_cats, x_conts).cpu().detach().numpy()\n",
    "    if test_outputs is not None:\n",
    "        test_outputs = np.concatenate((test_outputs, outputs))\n",
    "    else:\n",
    "        test_outputs = outputs"
   ]
  },
  {
   "cell_type": "markdown",
   "metadata": {},
   "source": [
    "### Plot test AUC-PR"
   ]
  },
  {
   "cell_type": "code",
   "execution_count": 46,
   "metadata": {},
   "outputs": [
    {
     "data": {
      "image/png": "[encoded data removed]",
      "text/plain": [
       "<Figure size 432x288 with 1 Axes>"
      ]
     },
     "metadata": {
      "needs_background": "light"
     },
     "output_type": "display_data"
    }
   ],
   "source": [
    "average_precision = average_precision_score(test_y, test_outputs)\n",
    "\n",
    "# print('Average precision-recall score: {0:0.2f}'.format(\n",
    "#       average_precision))\n",
    "\n",
    "precision, recall, thresholds = precision_recall_curve(test_y, test_outputs)\n",
    "\n",
    "# In matplotlib < 1.5, plt.fill_between does not have a 'step' argument\n",
    "step_kwargs = ({'step': 'post'}\n",
    "               if 'step' in signature(plt.fill_between).parameters\n",
    "               else {})\n",
    "plt.step(recall, precision, color='b', alpha=0.2,\n",
    "         where='post')\n",
    "plt.fill_between(recall, precision, alpha=0.2, color='b', **step_kwargs)\n",
    "\n",
    "plt.xlabel('Recall')\n",
    "plt.ylabel('Precision')\n",
    "plt.ylim([0.0, 1.05])\n",
    "plt.xlim([0.0, 1.0])\n",
    "plt.title('2-class Precision-Recall curve: AP={0:0.2f}'.format(\n",
    "          average_precision));"
   ]
  },
  {
   "cell_type": "markdown",
   "metadata": {},
   "source": [
    "### Determine threshold for optimum F-beta / Calculate F-beta score for test set"
   ]
  },
  {
   "cell_type": "code",
   "execution_count": 47,
   "metadata": {},
   "outputs": [
    {
     "name": "stdout",
     "output_type": "stream",
     "text": [
      "Best F_0.5 0.5949900534661536 (at threshold 0.22852295637130737)\n"
     ]
    }
   ],
   "source": [
    "best_fbeta = 0.0\n",
    "best_fbeta_thresh = 0.0\n",
    "for thresh in thresholds:\n",
    "    test_outputs_thresh = threshold_array(thresh, test_outputs)\n",
    "    fb = fbeta_score(test_y, test_outputs_thresh, 0.5, average='weighted')\n",
    "    if fb >= best_fbeta:\n",
    "        best_fbeta = fb\n",
    "        best_fbeta_thresh = thresh\n",
    "\n",
    "print('Best F_0.5 {} (at threshold {})'.format(best_fbeta, best_fbeta_thresh))"
   ]
  },
  {
   "cell_type": "markdown",
   "metadata": {},
   "source": [
    "## Collect CV results from multiple runs against validation and test sets"
   ]
  },
  {
   "cell_type": "markdown",
   "metadata": {},
   "source": [
    "## Test results against baseline classifier"
   ]
  },
  {
   "cell_type": "code",
   "execution_count": 48,
   "metadata": {},
   "outputs": [],
   "source": [
    "from sklearn.metrics import precision_recall_curve\n",
    "\n",
    "class CustomEstimator():\n",
    "    def __init__(self, cats, conts, emb_szs, embedding_dropout, layers, dropouts, y_range, use_batch_norm, lr, wd, epochs):\n",
    "        self.cats = cats\n",
    "        self.conts = conts\n",
    "        self.emb_szs = emb_szs\n",
    "        self.embedding_dropout = embedding_dropout\n",
    "        self.layers = list(layers)\n",
    "        self.dropouts = dropouts\n",
    "        self.y_range = y_range\n",
    "        self.use_batch_norm = use_batch_norm\n",
    "        self.lr = lr\n",
    "        self.wd = wd\n",
    "        \n",
    "    def fit(self, train_input, valid_input, train_y, valid_y):\n",
    "        self.model = EimModel(self.emb_szs, len(self.conts), self.embedding_dropout, 1, self.layers, \n",
    "                              self.dropouts, y_range=self.y_range, classify=True, use_bn=self.use_batch_norm)\n",
    "        self.model.to(device)\n",
    "        self.opt = SGD(self.model.parameters(), lr=self.lr, weight_decay=self.wd)\n",
    "        self.crit = F.binary_cross_entropy                \n",
    "        self.epochs = epochs\n",
    "        self.model_data = EimModelData.from_data_frames('./tmp', train_input, valid_input, \n",
    "                                                train_y, valid_y, cats, conts, bs=len(train_input))\n",
    "        self.model.train()\n",
    "        self.losses = eim_train(self.model, self.model_data, self.opt, self.crit, self.epochs, print_output=False, save_best=True, save_path='tmp_model.pkl')\n",
    "        self.model.load_state_dict(torch.load(Path('.', 'tmp_model.pkl')))\n",
    "    \n",
    "    def score(self):\n",
    "        self.model.eval()\n",
    "        y, y_hat = self._get_test_outputs()\n",
    "        precision, recall, thresholds = precision_recall_curve(y, y_hat)\n",
    "        fbeta = self._get_best_fbeta(precision, recall, thresholds, y, y_hat)\n",
    "        \n",
    "        return fbeta\n",
    "        \n",
    "    \n",
    "    def _get_test_outputs(self):\n",
    "        self.model.eval()\n",
    "        val_outputs = None\n",
    "        ys = None\n",
    "        for data in iter(self.model_data.val_dl):\n",
    "            \n",
    "            # get inputs\n",
    "            x_cats, x_conts, y = data\n",
    "\n",
    "            # wrap with variable\n",
    "            x_cats = torch.LongTensor(x_cats).to(device)\n",
    "            x_conts = torch.FloatTensor(x_conts).to(device)\n",
    "            y = torch.FloatTensor(y).to(device)\n",
    "            x_cats.requires_grad = False\n",
    "            x_conts.requires_grad = False\n",
    "            y.requires_grad = False\n",
    "\n",
    "            outputs = self.model(x_cats, x_conts).cpu().detach().numpy()\n",
    "            y = y.cpu().detach().numpy()\n",
    "\n",
    "            if val_outputs is not None:\n",
    "                val_outputs = np.concatenate((val_outputs, outputs))\n",
    "                ys = np.concatenate((ys, y))\n",
    "            else:\n",
    "                val_outputs = outputs\n",
    "                ys = y\n",
    "        return (ys, val_outputs)\n",
    "    \n",
    "    def _get_best_fbeta(self, precision, recall, thresholds, y, y_hat):\n",
    "        best_fbeta = 0.0\n",
    "        best_fbeta_thresh = 0.0\n",
    "        for thresh in thresholds:\n",
    "            y_hat_thresh = threshold_array(thresh, y_hat)\n",
    "            fb = fbeta_score(y, y_hat_thresh, 0.5, average='weighted')\n",
    "            if fb >= best_fbeta:\n",
    "                best_fbeta = fb\n",
    "                best_fbeta_thresh = thresh\n",
    "        return best_fbeta\n",
    "\n",
    "custom_estimator = CustomEstimator(cats, conts, emb_szs, opt_params['embedding_dropout'], \n",
    "                                   opt_params['layers'], opt_params['dropouts'], y_range, \n",
    "                                   opt_params['use_batch_norm'], opt_params['learning_rate'], \n",
    "                                   opt_params['weight_decay'], opt_params['epochs'])"
   ]
  },
  {
   "cell_type": "code",
   "execution_count": 49,
   "metadata": {},
   "outputs": [],
   "source": [
    "class BaselineEstimator():\n",
    "    def __init__(self):\n",
    "        pass\n",
    "    \n",
    "    def fit(self, train_input, valid_input, train_y, valid_y):\n",
    "        self.valid_y = np.array(valid_y)\n",
    "    \n",
    "    def score(self):\n",
    "        y = self.valid_y\n",
    "        y_hat = np.zeros(y.shape)\n",
    "        \n",
    "        precision, recall, thresholds = precision_recall_curve(y, y_hat)\n",
    "        fbeta = self._get_best_fbeta(precision, recall, [0.5], y, y_hat)\n",
    "        \n",
    "        return fbeta        \n",
    "    \n",
    "    def _get_best_fbeta(self, precision, recall, thresholds, y, y_hat):\n",
    "        best_fbeta = 0.0\n",
    "        best_fbeta_thresh = 0.0\n",
    "        for thresh in thresholds:\n",
    "            y_hat_thresh = threshold_array(thresh, y_hat)\n",
    "            fb = fbeta_score(y, y_hat_thresh, 0.5, average='weighted')\n",
    "            if fb >= best_fbeta:\n",
    "                best_fbeta = fb\n",
    "                best_fbeta_thresh = thresh\n",
    "        return best_fbeta\n",
    "    \n",
    "baseline_estimator = BaselineEstimator()"
   ]
  },
  {
   "cell_type": "code",
   "execution_count": 50,
   "metadata": {},
   "outputs": [],
   "source": [
    "def paired_ttest_5x2cv(estimator1, estimator2, X_train, \n",
    "                       X_valid,\n",
    "                       y_train,\n",
    "                       y_valid):\n",
    "    \"\"\"\n",
    "    Adapted from http://rasbt.github.io/mlxtend/user_guide/evaluate/paired_ttest_5x2cv/\n",
    "    \"\"\"\n",
    "    \n",
    "    from scipy import stats\n",
    "    \n",
    "    variance_sum = 0.\n",
    "    first_diff = None\n",
    "\n",
    "    def score_diff(X_1, X_2, y_1, y_2):\n",
    "\n",
    "        estimator1.fit(X_1, X_2, y_1, y_2)\n",
    "        estimator2.fit(X_1, X_2, y_1, y_2)\n",
    "        est1_score = estimator1.score()\n",
    "        est2_score = estimator2.score()\n",
    "        score_diff = est1_score - est2_score\n",
    "        return {\n",
    "            'custom': est1_score,\n",
    "            'baseline': est2_score,\n",
    "            'score_diff': score_diff\n",
    "        }\n",
    "    \n",
    "    scores = {\n",
    "        'custom': [],\n",
    "        'baseline': []\n",
    "    }\n",
    "\n",
    "    for i in range(5):\n",
    "        \n",
    "        train_idxs = np.random.choice(np.array(y_train.index), len(y_train.index)//2)\n",
    "        valid_idxs = np.random.choice(np.array(y_valid.index), len(y_valid.index)//2)\n",
    "        \n",
    "        X_1, X_2  = X_train.iloc[train_idxs], X_valid.iloc[valid_idxs]\n",
    "        y_1, y_2  = y_train.iloc[train_idxs], y_valid.iloc[valid_idxs]\n",
    "\n",
    "        print('Iteration {}'.format(i+1))\n",
    "\n",
    "        score_diff_1 = score_diff(X_1, X_2, y_1, y_2)\n",
    "        score_diff_2 = score_diff(X_2, X_1, y_2, y_1)\n",
    "        score_mean = (score_diff_1['score_diff'] + score_diff_2['score_diff']) / 2.\n",
    "        score_var = ((score_diff_1['score_diff'] - score_mean)**2 +\n",
    "                     (score_diff_2['score_diff'] - score_mean)**2)\n",
    "        variance_sum += score_var\n",
    "        if first_diff is None:\n",
    "            first_diff = score_diff_1['score_diff']\n",
    "        \n",
    "        scores['custom'].append(score_diff_1['custom'])\n",
    "        scores['custom'].append(score_diff_2['custom'])\n",
    "        scores['baseline'].append(score_diff_1['baseline'])\n",
    "        scores['baseline'].append(score_diff_2['baseline'])\n",
    "\n",
    "    scores['means'] = {\n",
    "       'custom': np.mean(scores['custom']),\n",
    "       'baseline': np.mean(scores['baseline'])\n",
    "    }\n",
    "    \n",
    "    numerator = first_diff\n",
    "    denominator = np.sqrt(1/5. * variance_sum)\n",
    "    t_stat = numerator / denominator\n",
    "\n",
    "    pvalue = stats.t.sf(np.abs(t_stat), 5)*2.\n",
    "    return {\n",
    "        't_stat': float(t_stat),\n",
    "        'pvalue': float(pvalue),\n",
    "        'scores': scores\n",
    "    }"
   ]
  },
  {
   "cell_type": "code",
   "execution_count": 52,
   "metadata": {},
   "outputs": [
    {
     "name": "stdout",
     "output_type": "stream",
     "text": [
      "Iteration 1\n",
      "Early stopping\n"
     ]
    },
    {
     "name": "stderr",
     "output_type": "stream",
     "text": [
      "/home/paperspace/anaconda3/envs/fastai/lib/python3.7/site-packages/sklearn/metrics/classification.py:1143: UndefinedMetricWarning: F-score is ill-defined and being set to 0.0 in labels with no predicted samples.\n",
      "  'precision', 'predicted', average, warn_for)\n"
     ]
    },
    {
     "name": "stdout",
     "output_type": "stream",
     "text": [
      "Early stopping\n",
      "Iteration 2\n",
      "Early stopping\n",
      "Early stopping\n",
      "Iteration 3\n",
      "Early stopping\n",
      "Early stopping\n",
      "Iteration 4\n",
      "Early stopping\n",
      "Early stopping\n",
      "Iteration 5\n",
      "Early stopping\n",
      "Early stopping\n"
     ]
    },
    {
     "data": {
      "text/plain": [
       "{'t_stat': 1.4363863448696215,\n",
       " 'pvalue': 0.2103843252496763,\n",
       " 'scores': {'custom': [0.7155254281691062,\n",
       "   0.5987094553901747,\n",
       "   0.7679357679357679,\n",
       "   0.6745210964008541,\n",
       "   0.6528009593103337,\n",
       "   0.6518128994975644,\n",
       "   0.8439126524232906,\n",
       "   0.6021872547709733,\n",
       "   0.7945701357466063,\n",
       "   0.6958905730479334],\n",
       "  'baseline': [0.6588509529686001,\n",
       "   0.5431581363072568,\n",
       "   0.6588509529686001,\n",
       "   0.5792454265807238,\n",
       "   0.620347394540943,\n",
       "   0.6313890072662737,\n",
       "   0.6983087834151664,\n",
       "   0.5792454265807238,\n",
       "   0.620347394540943,\n",
       "   0.5080537060232491],\n",
       "  'means': {'custom': 0.6997866222692604, 'baseline': 0.6097797181192479}}}"
      ]
     },
     "execution_count": 52,
     "metadata": {},
     "output_type": "execute_result"
    }
   ],
   "source": [
    "paired_ttest_5x2cv(custom_estimator, \n",
    "                   baseline_estimator, \n",
    "                   pd.concat([train_input, valid_input], ignore_index=True), \n",
    "                   test_input, \n",
    "                   pd.concat([train_y, valid_y], ignore_index=True), \n",
    "                   valid_y)"
   ]
  },
  {
   "cell_type": "code",
   "execution_count": null,
   "metadata": {},
   "outputs": [],
   "source": []
  }
 ],
 "metadata": {
  "kernelspec": {
   "display_name": "Python 3",
   "language": "python",
   "name": "python3"
  },
  "language_info": {
   "codemirror_mode": {
    "name": "ipython",
    "version": 3
   },
   "file_extension": ".py",
   "mimetype": "text/x-python",
   "name": "python",
   "nbconvert_exporter": "python",
   "pygments_lexer": "ipython3",
   "version": "3.7.1"
  }
 },
 "nbformat": 4,
 "nbformat_minor": 2
}
