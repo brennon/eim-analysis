{
 "cells": [
  {
   "cell_type": "markdown",
   "metadata": {
    "deletable": true,
    "editable": true
   },
   "source": [
    "This set of notebooks trains a deep classifier (`DNNClassifier`) on the following features:\n",
    "\n",
    "1. music_pref_none\n",
    "2. nationality_indicator\n",
    "3. thorough\n",
    "4. stress\n",
    "5. nervous\n",
    "6. music_pref_rock\n",
    "7. musical_expertise\n",
    "8. fault\n",
    "9. activity\n",
    "10. trusting\n",
    "11. lazy\n",
    "12. tension\n",
    "\n",
    "These are the top twelve most heavily weighted features identified by LASSO regression.\n",
    "\n",
    "The following values for configuring the `DNNClassifer` were used:\n",
    "\n",
    "    hidden_units=\"128 32 4\",\n",
    "    model_dir=None,\n",
    "    n_classes=2,\n",
    "    weight_column=None,\n",
    "    label_vocabulary=None,\n",
    "    optimizer='Adagrad',\n",
    "    activation_fn=tf.nn.relu,\n",
    "    dropout=None,\n",
    "    input_layer_partitioner=None,\n",
    "    loss_reduction=losses.Reduction.SUM\n",
    "\n",
    "Batch training was performed (n = 303) for 25,000 epochs. Evaluation results from this training were:\n",
    "\n",
    "- accuracy = 0.6721311\n",
    "- accuracy baseline = 0.6721312\n",
    "- auc = 0.5\n",
    "- auc precision recall = 0.6639344\n",
    "- average loss = 0.6451623\n",
    "- f1 score = 0.0\n",
    "- false negatives = 20.0\n",
    "- false positives = 0.0\n",
    "- global step = 25005\n",
    "- label/mean = 0.32786885\n",
    "- loss = 39.3549\n",
    "- precision = 0.0\n",
    "- prediction/mean = 0.25691664\n",
    "- recall = 0.0\n",
    "- true negatives = 41.0\n",
    "- true positives = 0.0\n",
    "\n",
    "The model is located at `gs://eim-muse/analysis/hallelujah-effect/models/basic_dnn_classifier_top_12`"
   ]
  },
  {
   "cell_type": "code",
   "execution_count": null,
   "metadata": {
    "collapsed": true,
    "deletable": true,
    "editable": true
   },
   "outputs": [],
   "source": []
  }
 ],
 "metadata": {
  "kernelspec": {
   "display_name": "Python 2",
   "language": "python",
   "name": "python2"
  },
  "language_info": {
   "codemirror_mode": {
    "name": "ipython",
    "version": 2
   },
   "file_extension": ".py",
   "mimetype": "text/x-python",
   "name": "python",
   "nbconvert_exporter": "python",
   "pygments_lexer": "ipython2",
   "version": "2.7.15"
  }
 },
 "nbformat": 4,
 "nbformat_minor": 2
}
