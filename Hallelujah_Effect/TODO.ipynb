{
 "cells": [
  {
   "cell_type": "markdown",
   "metadata": {},
   "source": [
    "# To Do\n",
    "\n",
    "- Plots of PCA data\n",
    "- Rerun PCA and exploratory visualization / tests with data that does not include imputed values\n",
    "- Classifier using principal components\n",
    "- Pair plots of variables used in classifiers\n",
    "- General plots of data / groups that are being considered in Hallelujah Effect work\n",
    "- Double-check that Dublin ratings are inverted properly\n",
    "- Show Ben plots of Hallelujah Effect signals (and look at them myself again)\n",
    "- Test significance between 4-feature model accuracy and baseline accuracy (and other models, as well)\n",
    "- Run PCA on Hallelujah Effect data\n",
    "- ~~LASSO to identify important features~~\n",
    "- Hyperparameter search\n",
    "- Include feature selection in hyperparameter search?\n",
    "- Add bucketized, crossed, and embedding columns\n",
    "- More plots and statistics from the dataset with which I'm working here\n",
    "- Bring in rows with missing values\n",
    "- Figure out how to add feature engineering (can do this further up the pipeline, but further down the pipeline may require doing away with `tensorflow-transform`)\n",
    "- Feature engineering (physiological signals, MIR, feature crosses, variable-width binning)\n",
    "- Include signals with good quality only in reaction range\n",
    "- Customize estimator to add additional metrics"
   ]
  },
  {
   "cell_type": "markdown",
   "metadata": {
    "collapsed": true
   },
   "source": [
    "# Include in Write-up\n",
    "\n",
    "- Notes about the dangers of spurious data in uncontrolled settings (e.g., extreme outliers for age)"
   ]
  },
  {
   "cell_type": "code",
   "execution_count": null,
   "metadata": {},
   "outputs": [],
   "source": []
  }
 ],
 "metadata": {
  "kernelspec": {
   "display_name": "Python 3",
   "language": "python",
   "name": "python3"
  },
  "language_info": {
   "codemirror_mode": {
    "name": "ipython",
    "version": 3
   },
   "file_extension": ".py",
   "mimetype": "text/x-python",
   "name": "python",
   "nbconvert_exporter": "python",
   "pygments_lexer": "ipython3",
   "version": "3.6.3"
  }
 },
 "nbformat": 4,
 "nbformat_minor": 2
}
