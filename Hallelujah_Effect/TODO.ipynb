{
 "cells": [
  {
   "cell_type": "markdown",
   "metadata": {
    "deletable": true,
    "editable": true
   },
   "source": [
    "# To Do\n",
    "\n",
    "- Double-check that Dublin ratings are inverted properly\n",
    "- Show Ben plots of Hallelujah Effect signals (and look at them myself again)\n",
    "- Test significance between 4-feature model accuracy and baseline accuracy (and other models, as well)\n",
    "- Run PCA on Hallelujah Effect data\n",
    "- ~~LASSO to identify important features~~\n",
    "- Hyperparameter search\n",
    "- Include feature selection in hyperparameter search?\n",
    "- Add bucketized, crossed, and embedding columns\n",
    "- More plots and statistics from the dataset with which I'm working here\n",
    "- Bring in rows with missing values\n",
    "- Figure out how to add feature engineering (can do this further up the pipeline, but further down the pipeline may require doing away with `tensorflow-transform`)\n",
    "- Feature engineering (physiological signals, MIR, feature crosses, variable-width binning)\n",
    "- Include signals with good quality only in reaction range\n",
    "- Customize estimator to add additional metrics"
   ]
  },
  {
   "cell_type": "code",
   "execution_count": null,
   "metadata": {
    "collapsed": true,
    "deletable": true,
    "editable": true
   },
   "outputs": [],
   "source": []
  }
 ],
 "metadata": {
  "kernelspec": {
   "display_name": "Python 2",
   "language": "python",
   "name": "python2"
  },
  "language_info": {
   "codemirror_mode": {
    "name": "ipython",
    "version": 2
   },
   "file_extension": ".py",
   "mimetype": "text/x-python",
   "name": "python",
   "nbconvert_exporter": "python",
   "pygments_lexer": "ipython2",
   "version": "2.7.15"
  }
 },
 "nbformat": 4,
 "nbformat_minor": 2
}
