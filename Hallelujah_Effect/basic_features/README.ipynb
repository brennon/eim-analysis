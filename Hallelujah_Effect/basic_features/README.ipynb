{
 "cells": [
  {
   "cell_type": "markdown",
   "metadata": {},
   "source": [
    "This set of notebooks trains a wide-and-deep classifier (`DNNLinearCombinedClassifier`) on the following features, using them all as \"deep\" columns:\n",
    "\n",
    "- activity\n",
    "- age\n",
    "- artistic\n",
    "- concentration\n",
    "- engagement\n",
    "- familiarity\n",
    "- fault\n",
    "- imagination\n",
    "- lazy\n",
    "- like_dislike\n",
    "- musical_expertise\n",
    "- nervous\n",
    "- outgoing\n",
    "- positivity\n",
    "- reserved\n",
    "- stress\n",
    "- tension\n",
    "- thorough\n",
    "- trusting\n",
    "- hallelujah_reaction\n",
    "- hearing_impairments\n",
    "- music_pref_classical\n",
    "- music_pref_dance\n",
    "- music_pref_folk\n",
    "- music_pref_hiphop\n",
    "- music_pref_jazz\n",
    "- music_pref_none\n",
    "- music_pref_pop\n",
    "- music_pref_rock\n",
    "- music_pref_traditional_irish\n",
    "- music_pref_world\n",
    "- language\n",
    "- location\n",
    "- nationality\n",
    "- sex\n",
    "\n",
    "The following values for configuring the `DNNLinearCombinedClassifer` were used:\n",
    "\n",
    "- linear_optimizer='Ftrl'\n",
    "- dnn_feature_columns=None\n",
    "- dnn_optimizer='Adagrad'\n",
    "- dnn_activation_fn=tf.nn.relu\n",
    "- dnn_dropout=None\n",
    "- n_classes=2\n",
    "- weight_column=None\n",
    "- loss_reduction=losses.Reduction.SUM\n",
    "\n",
    "Batch training was performed (n = 303) for 2,500,000 epochs. Evaluation results from this training were:\n",
    "\n",
    "- Accuracy = 0.5409836\n",
    "- Accuracy baseline = 0.6721312\n",
    "- AUC = 0.4115854\n",
    "- AUC-PR = 0.27206686\n",
    "- Average loss = 5.256439\n",
    "- Label/mean = 0.32786885\n",
    "- Loss = 320.6428\n",
    "- Precision = 0.16666667\n",
    "- Prediction/mean = 0.19745243\n",
    "- Recall = 0.1\n",
    "\n",
    "The model is located at `gs://eim-muse/analysis/hallelujah-effect/models/basic_features`"
   ]
  },
  {
   "cell_type": "code",
   "execution_count": null,
   "metadata": {
    "collapsed": true
   },
   "outputs": [],
   "source": []
  }
 ],
 "metadata": {
  "kernelspec": {
   "display_name": "Python 2",
   "language": "python",
   "name": "python2"
  },
  "language_info": {
   "codemirror_mode": {
    "name": "ipython",
    "version": 2
   },
   "file_extension": ".py",
   "mimetype": "text/x-python",
   "name": "python",
   "nbconvert_exporter": "python",
   "pygments_lexer": "ipython2",
   "version": "2.7.15"
  }
 },
 "nbformat": 4,
 "nbformat_minor": 2
}
