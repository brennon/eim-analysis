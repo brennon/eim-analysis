{
 "cells": [
  {
   "cell_type": "markdown",
   "metadata": {
    "deletable": true,
    "editable": true
   },
   "source": [
    "# \"Hallelujah Effect\" Analysis\n",
    "\n",
    "This notebook models the \"Hallelujah Effect\" in terms of all basic features available in the dataset for those subjects that listened to the song and had an EDA quality >80%."
   ]
  },
  {
   "cell_type": "code",
   "execution_count": null,
   "metadata": {
    "collapsed": false,
    "deletable": true,
    "editable": true
   },
   "outputs": [],
   "source": [
    "%bash\n",
    "pip uninstall -y google-cloud-dataflow\n",
    "pip install --upgrade --force tensorflow_transform==0.6.0 apache-beam[gcp]"
   ]
  },
  {
   "cell_type": "markdown",
   "metadata": {
    "deletable": true,
    "editable": true
   },
   "source": [
    "<b>Restart the kernel</b> after you do a pip install (click on the <b>Reset</b> button in Datalab)"
   ]
  },
  {
   "cell_type": "code",
   "execution_count": 1,
   "metadata": {
    "collapsed": false,
    "deletable": true,
    "editable": true
   },
   "outputs": [
    {
     "name": "stdout",
     "output_type": "stream",
     "text": [
      "apache-airflow==1.9.0\n",
      "apache-beam==2.5.0\n",
      "tensorflow==1.8.0\n",
      "tensorflow-transform==0.6.0\n"
     ]
    },
    {
     "name": "stderr",
     "output_type": "stream",
     "text": [
      "You are using pip version 9.0.3, however version 10.0.1 is available.\n",
      "You should consider upgrading via the 'pip install --upgrade pip' command.\n"
     ]
    }
   ],
   "source": [
    "%bash\n",
    "pip freeze | grep -e 'flow\\|beam'"
   ]
  },
  {
   "cell_type": "code",
   "execution_count": 2,
   "metadata": {
    "collapsed": false,
    "deletable": true,
    "editable": true
   },
   "outputs": [
    {
     "name": "stdout",
     "output_type": "stream",
     "text": [
      "1.8.0\n"
     ]
    },
    {
     "name": "stderr",
     "output_type": "stream",
     "text": [
      "/usr/local/envs/py2env/lib/python2.7/site-packages/h5py/__init__.py:36: FutureWarning: Conversion of the second argument of issubdtype from `float` to `np.floating` is deprecated. In future, it will be treated as `np.float64 == np.dtype(float).type`.\n",
      "  from ._conv import register_converters as _register_converters\n"
     ]
    }
   ],
   "source": [
    "import tensorflow as tf\n",
    "import tensorflow_transform as tft\n",
    "import shutil\n",
    "print(tf.__version__)"
   ]
  },
  {
   "cell_type": "code",
   "execution_count": 3,
   "metadata": {
    "collapsed": false,
    "deletable": true,
    "editable": true
   },
   "outputs": [],
   "source": [
    "# Set bucket, project, and region\n",
    "BUCKET = 'eim-muse'\n",
    "PROJECT = 'eim-muse'\n",
    "REGION = 'us-central1'"
   ]
  },
  {
   "cell_type": "code",
   "execution_count": 4,
   "metadata": {
    "collapsed": false,
    "deletable": true,
    "editable": true
   },
   "outputs": [],
   "source": [
    "import os\n",
    "os.environ['BUCKET'] = BUCKET\n",
    "os.environ['PROJECT'] = PROJECT\n",
    "os.environ['REGION'] = REGION"
   ]
  },
  {
   "cell_type": "code",
   "execution_count": 5,
   "metadata": {
    "collapsed": false,
    "deletable": true,
    "editable": true
   },
   "outputs": [
    {
     "name": "stderr",
     "output_type": "stream",
     "text": [
      "Updated property [core/project].\n",
      "Updated property [compute/region].\n"
     ]
    }
   ],
   "source": [
    "%bash\n",
    "gcloud config set project $PROJECT\n",
    "gcloud config set compute/region $REGION"
   ]
  },
  {
   "cell_type": "markdown",
   "metadata": {
    "deletable": true,
    "editable": true
   },
   "source": [
    "## Retrieve and Subset Datasource\n",
    "\n",
    "Get data from BigQuery but defer filtering, etc. to Beam. Data in BigQuery has been pre-processed with Dataprep."
   ]
  },
  {
   "cell_type": "code",
   "execution_count": 6,
   "metadata": {
    "collapsed": false,
    "deletable": true,
    "editable": true
   },
   "outputs": [],
   "source": [
    "import google.datalab.bigquery as bq\n",
    "def create_query(phase, EVERY_N):\n",
    "  \"\"\"\n",
    "  phase: 1=train 2=valid\n",
    "  \"\"\"\n",
    "  base_query = \"\"\"\n",
    "SELECT *\n",
    "FROM\n",
    "  `eim-muse.hallelujah_effect.full_hallelujah_trials_cleaned`\n",
    "  \"\"\"\n",
    "\n",
    "  if EVERY_N == None:\n",
    "    if phase < 2:\n",
    "      # Training\n",
    "      query = \"{0} WHERE MOD(FARM_FINGERPRINT(id), 10) < 7\".format(base_query)\n",
    "    else:\n",
    "      # Validation\n",
    "      query = \"{0} WHERE MOD(FARM_FINGERPRINT(id), 10) >= 7\".format(base_query)\n",
    "  else:\n",
    "      query = \"{0} WHERE MOD(FARM_FINGERPRINT(id), {1}) = {2}\".format(base_query, EVERY_N, phase)\n",
    "    \n",
    "  return query\n",
    "\n",
    "query = create_query(1, None)"
   ]
  },
  {
   "cell_type": "code",
   "execution_count": 7,
   "metadata": {
    "collapsed": false,
    "deletable": true,
    "editable": true
   },
   "outputs": [
    {
     "data": {
      "text/html": [
       "<div>\n",
       "<style scoped>\n",
       "    .dataframe tbody tr th:only-of-type {\n",
       "        vertical-align: middle;\n",
       "    }\n",
       "\n",
       "    .dataframe tbody tr th {\n",
       "        vertical-align: top;\n",
       "    }\n",
       "\n",
       "    .dataframe thead th {\n",
       "        text-align: right;\n",
       "    }\n",
       "</style>\n",
       "<table border=\"1\" class=\"dataframe\">\n",
       "  <thead>\n",
       "    <tr style=\"text-align: right;\">\n",
       "      <th></th>\n",
       "      <th>age</th>\n",
       "      <th>concentration</th>\n",
       "      <th>musical_expertise</th>\n",
       "      <th>artistic</th>\n",
       "      <th>fault</th>\n",
       "      <th>imagination</th>\n",
       "      <th>lazy</th>\n",
       "      <th>nervous</th>\n",
       "      <th>outgoing</th>\n",
       "      <th>reserved</th>\n",
       "      <th>...</th>\n",
       "      <th>music_pref_none</th>\n",
       "      <th>music_pref_hiphop</th>\n",
       "      <th>music_pref_dance</th>\n",
       "      <th>music_pref_world</th>\n",
       "      <th>music_pref_rock</th>\n",
       "      <th>music_pref_pop</th>\n",
       "      <th>music_pref_classical</th>\n",
       "      <th>music_pref_jazz</th>\n",
       "      <th>music_pref_folk</th>\n",
       "      <th>music_pref_traditional_irish</th>\n",
       "    </tr>\n",
       "  </thead>\n",
       "  <tbody>\n",
       "    <tr>\n",
       "      <th>count</th>\n",
       "      <td>303.000000</td>\n",
       "      <td>303.000000</td>\n",
       "      <td>303.000000</td>\n",
       "      <td>303.000000</td>\n",
       "      <td>303.000000</td>\n",
       "      <td>303.000000</td>\n",
       "      <td>303.000000</td>\n",
       "      <td>303.000000</td>\n",
       "      <td>303.000000</td>\n",
       "      <td>303.000000</td>\n",
       "      <td>...</td>\n",
       "      <td>303.000000</td>\n",
       "      <td>303.000000</td>\n",
       "      <td>303.000000</td>\n",
       "      <td>303.000000</td>\n",
       "      <td>303.000000</td>\n",
       "      <td>303.000000</td>\n",
       "      <td>303.000000</td>\n",
       "      <td>303.000000</td>\n",
       "      <td>303.000000</td>\n",
       "      <td>303.000000</td>\n",
       "    </tr>\n",
       "    <tr>\n",
       "      <th>mean</th>\n",
       "      <td>24.726073</td>\n",
       "      <td>3.993500</td>\n",
       "      <td>2.547224</td>\n",
       "      <td>2.344099</td>\n",
       "      <td>3.175612</td>\n",
       "      <td>3.852643</td>\n",
       "      <td>3.690403</td>\n",
       "      <td>3.629726</td>\n",
       "      <td>3.213016</td>\n",
       "      <td>3.145503</td>\n",
       "      <td>...</td>\n",
       "      <td>0.006601</td>\n",
       "      <td>0.138614</td>\n",
       "      <td>0.188119</td>\n",
       "      <td>0.132013</td>\n",
       "      <td>0.432343</td>\n",
       "      <td>0.673267</td>\n",
       "      <td>0.306931</td>\n",
       "      <td>0.171617</td>\n",
       "      <td>0.089109</td>\n",
       "      <td>0.059406</td>\n",
       "    </tr>\n",
       "    <tr>\n",
       "      <th>std</th>\n",
       "      <td>13.931034</td>\n",
       "      <td>0.795258</td>\n",
       "      <td>1.009324</td>\n",
       "      <td>0.988361</td>\n",
       "      <td>0.891464</td>\n",
       "      <td>0.821620</td>\n",
       "      <td>0.905895</td>\n",
       "      <td>0.875898</td>\n",
       "      <td>0.961299</td>\n",
       "      <td>0.891699</td>\n",
       "      <td>...</td>\n",
       "      <td>0.081110</td>\n",
       "      <td>0.346115</td>\n",
       "      <td>0.391454</td>\n",
       "      <td>0.339065</td>\n",
       "      <td>0.496221</td>\n",
       "      <td>0.469794</td>\n",
       "      <td>0.461983</td>\n",
       "      <td>0.377671</td>\n",
       "      <td>0.285372</td>\n",
       "      <td>0.236774</td>\n",
       "    </tr>\n",
       "    <tr>\n",
       "      <th>min</th>\n",
       "      <td>1.000000</td>\n",
       "      <td>1.000000</td>\n",
       "      <td>1.000000</td>\n",
       "      <td>1.000000</td>\n",
       "      <td>1.000000</td>\n",
       "      <td>1.000000</td>\n",
       "      <td>1.000000</td>\n",
       "      <td>1.000000</td>\n",
       "      <td>1.000000</td>\n",
       "      <td>1.000000</td>\n",
       "      <td>...</td>\n",
       "      <td>0.000000</td>\n",
       "      <td>0.000000</td>\n",
       "      <td>0.000000</td>\n",
       "      <td>0.000000</td>\n",
       "      <td>0.000000</td>\n",
       "      <td>0.000000</td>\n",
       "      <td>0.000000</td>\n",
       "      <td>0.000000</td>\n",
       "      <td>0.000000</td>\n",
       "      <td>0.000000</td>\n",
       "    </tr>\n",
       "    <tr>\n",
       "      <th>25%</th>\n",
       "      <td>16.000000</td>\n",
       "      <td>3.991266</td>\n",
       "      <td>2.000000</td>\n",
       "      <td>2.000000</td>\n",
       "      <td>3.000000</td>\n",
       "      <td>3.824561</td>\n",
       "      <td>3.659389</td>\n",
       "      <td>3.596491</td>\n",
       "      <td>3.000000</td>\n",
       "      <td>3.000000</td>\n",
       "      <td>...</td>\n",
       "      <td>0.000000</td>\n",
       "      <td>0.000000</td>\n",
       "      <td>0.000000</td>\n",
       "      <td>0.000000</td>\n",
       "      <td>0.000000</td>\n",
       "      <td>0.000000</td>\n",
       "      <td>0.000000</td>\n",
       "      <td>0.000000</td>\n",
       "      <td>0.000000</td>\n",
       "      <td>0.000000</td>\n",
       "    </tr>\n",
       "    <tr>\n",
       "      <th>50%</th>\n",
       "      <td>21.000000</td>\n",
       "      <td>3.991266</td>\n",
       "      <td>2.529880</td>\n",
       "      <td>2.353712</td>\n",
       "      <td>3.144737</td>\n",
       "      <td>3.824561</td>\n",
       "      <td>3.659389</td>\n",
       "      <td>3.596491</td>\n",
       "      <td>3.228070</td>\n",
       "      <td>3.117904</td>\n",
       "      <td>...</td>\n",
       "      <td>0.000000</td>\n",
       "      <td>0.000000</td>\n",
       "      <td>0.000000</td>\n",
       "      <td>0.000000</td>\n",
       "      <td>0.000000</td>\n",
       "      <td>1.000000</td>\n",
       "      <td>0.000000</td>\n",
       "      <td>0.000000</td>\n",
       "      <td>0.000000</td>\n",
       "      <td>0.000000</td>\n",
       "    </tr>\n",
       "    <tr>\n",
       "      <th>75%</th>\n",
       "      <td>31.000000</td>\n",
       "      <td>4.000000</td>\n",
       "      <td>3.000000</td>\n",
       "      <td>2.353712</td>\n",
       "      <td>4.000000</td>\n",
       "      <td>4.000000</td>\n",
       "      <td>4.000000</td>\n",
       "      <td>4.000000</td>\n",
       "      <td>4.000000</td>\n",
       "      <td>4.000000</td>\n",
       "      <td>...</td>\n",
       "      <td>0.000000</td>\n",
       "      <td>0.000000</td>\n",
       "      <td>0.000000</td>\n",
       "      <td>0.000000</td>\n",
       "      <td>1.000000</td>\n",
       "      <td>1.000000</td>\n",
       "      <td>1.000000</td>\n",
       "      <td>0.000000</td>\n",
       "      <td>0.000000</td>\n",
       "      <td>0.000000</td>\n",
       "    </tr>\n",
       "    <tr>\n",
       "      <th>max</th>\n",
       "      <td>121.000000</td>\n",
       "      <td>5.000000</td>\n",
       "      <td>5.000000</td>\n",
       "      <td>5.000000</td>\n",
       "      <td>5.000000</td>\n",
       "      <td>5.000000</td>\n",
       "      <td>5.000000</td>\n",
       "      <td>5.000000</td>\n",
       "      <td>5.000000</td>\n",
       "      <td>5.000000</td>\n",
       "      <td>...</td>\n",
       "      <td>1.000000</td>\n",
       "      <td>1.000000</td>\n",
       "      <td>1.000000</td>\n",
       "      <td>1.000000</td>\n",
       "      <td>1.000000</td>\n",
       "      <td>1.000000</td>\n",
       "      <td>1.000000</td>\n",
       "      <td>1.000000</td>\n",
       "      <td>1.000000</td>\n",
       "      <td>1.000000</td>\n",
       "    </tr>\n",
       "  </tbody>\n",
       "</table>\n",
       "<p>8 rows × 29 columns</p>\n",
       "</div>"
      ],
      "text/plain": [
       "              age  concentration  musical_expertise    artistic       fault  \\\n",
       "count  303.000000     303.000000         303.000000  303.000000  303.000000   \n",
       "mean    24.726073       3.993500           2.547224    2.344099    3.175612   \n",
       "std     13.931034       0.795258           1.009324    0.988361    0.891464   \n",
       "min      1.000000       1.000000           1.000000    1.000000    1.000000   \n",
       "25%     16.000000       3.991266           2.000000    2.000000    3.000000   \n",
       "50%     21.000000       3.991266           2.529880    2.353712    3.144737   \n",
       "75%     31.000000       4.000000           3.000000    2.353712    4.000000   \n",
       "max    121.000000       5.000000           5.000000    5.000000    5.000000   \n",
       "\n",
       "       imagination        lazy     nervous    outgoing    reserved  \\\n",
       "count   303.000000  303.000000  303.000000  303.000000  303.000000   \n",
       "mean      3.852643    3.690403    3.629726    3.213016    3.145503   \n",
       "std       0.821620    0.905895    0.875898    0.961299    0.891699   \n",
       "min       1.000000    1.000000    1.000000    1.000000    1.000000   \n",
       "25%       3.824561    3.659389    3.596491    3.000000    3.000000   \n",
       "50%       3.824561    3.659389    3.596491    3.228070    3.117904   \n",
       "75%       4.000000    4.000000    4.000000    4.000000    4.000000   \n",
       "max       5.000000    5.000000    5.000000    5.000000    5.000000   \n",
       "\n",
       "                   ...               music_pref_none  music_pref_hiphop  \\\n",
       "count              ...                    303.000000         303.000000   \n",
       "mean               ...                      0.006601           0.138614   \n",
       "std                ...                      0.081110           0.346115   \n",
       "min                ...                      0.000000           0.000000   \n",
       "25%                ...                      0.000000           0.000000   \n",
       "50%                ...                      0.000000           0.000000   \n",
       "75%                ...                      0.000000           0.000000   \n",
       "max                ...                      1.000000           1.000000   \n",
       "\n",
       "       music_pref_dance  music_pref_world  music_pref_rock  music_pref_pop  \\\n",
       "count        303.000000        303.000000       303.000000      303.000000   \n",
       "mean           0.188119          0.132013         0.432343        0.673267   \n",
       "std            0.391454          0.339065         0.496221        0.469794   \n",
       "min            0.000000          0.000000         0.000000        0.000000   \n",
       "25%            0.000000          0.000000         0.000000        0.000000   \n",
       "50%            0.000000          0.000000         0.000000        1.000000   \n",
       "75%            0.000000          0.000000         1.000000        1.000000   \n",
       "max            1.000000          1.000000         1.000000        1.000000   \n",
       "\n",
       "       music_pref_classical  music_pref_jazz  music_pref_folk  \\\n",
       "count            303.000000       303.000000       303.000000   \n",
       "mean               0.306931         0.171617         0.089109   \n",
       "std                0.461983         0.377671         0.285372   \n",
       "min                0.000000         0.000000         0.000000   \n",
       "25%                0.000000         0.000000         0.000000   \n",
       "50%                0.000000         0.000000         0.000000   \n",
       "75%                1.000000         0.000000         0.000000   \n",
       "max                1.000000         1.000000         1.000000   \n",
       "\n",
       "       music_pref_traditional_irish  \n",
       "count                    303.000000  \n",
       "mean                       0.059406  \n",
       "std                        0.236774  \n",
       "min                        0.000000  \n",
       "25%                        0.000000  \n",
       "50%                        0.000000  \n",
       "75%                        0.000000  \n",
       "max                        1.000000  \n",
       "\n",
       "[8 rows x 29 columns]"
      ]
     },
     "execution_count": 7,
     "metadata": {},
     "output_type": "execute_result"
    }
   ],
   "source": [
    "df_valid = bq.Query(query).execute().result().to_dataframe()\n",
    "df_valid.head()\n",
    "df_valid.describe()"
   ]
  },
  {
   "cell_type": "code",
   "execution_count": 8,
   "metadata": {
    "collapsed": false,
    "deletable": true,
    "editable": true
   },
   "outputs": [
    {
     "name": "stdout",
     "output_type": "stream",
     "text": [
      "303 training examples / 61 evaluation examples\n"
     ]
    }
   ],
   "source": [
    "train_query = create_query(1, None)\n",
    "train_n = len(list(bq.Query(train_query).execute().result()))\n",
    "\n",
    "eval_query = create_query(2, None)\n",
    "eval_n = len(list(bq.Query(eval_query).execute().result()))\n",
    "\n",
    "os.environ['TRAIN_N'] = str(train_n)\n",
    "os.environ['EVAL_N'] = str(eval_n)\n",
    "\n",
    "print('{} training examples / {} evaluation examples'.format(train_n, eval_n))"
   ]
  },
  {
   "cell_type": "code",
   "execution_count": 9,
   "metadata": {
    "collapsed": false,
    "deletable": true,
    "editable": true
   },
   "outputs": [
    {
     "data": {
      "text/plain": [
       "Index([u'id', u'age', u'concentration', u'hearing_impairments',\n",
       "       u'musical_expertise', u'nationality', u'artistic', u'fault',\n",
       "       u'imagination', u'lazy', u'nervous', u'outgoing', u'reserved',\n",
       "       u'stress', u'thorough', u'trusting', u'activity', u'engagement',\n",
       "       u'familiarity', u'like_dislike', u'positivity', u'tension', u'sex',\n",
       "       u'hallelujah_reaction', u'location', u'language', u'music_pref_none',\n",
       "       u'music_pref_hiphop', u'music_pref_dance', u'music_pref_world',\n",
       "       u'music_pref_rock', u'music_pref_pop', u'music_pref_classical',\n",
       "       u'music_pref_jazz', u'music_pref_folk',\n",
       "       u'music_pref_traditional_irish'],\n",
       "      dtype='object')"
      ]
     },
     "execution_count": 9,
     "metadata": {},
     "output_type": "execute_result"
    }
   ],
   "source": [
    "df_valid.columns"
   ]
  },
  {
   "cell_type": "markdown",
   "metadata": {
    "deletable": true,
    "editable": true
   },
   "source": [
    "## Create ML dataset using tf.transform and Dataflow\n",
    "\n",
    "Let's use Cloud Dataflow to read in the BigQuery data and write it out as CSV files. Along the way, let's use tf.transform to do scaling and transforming. Using tf.transform allows us to save the metadata to ensure that the appropriate transformations get carried out during prediction as well."
   ]
  },
  {
   "cell_type": "code",
   "execution_count": 10,
   "metadata": {
    "collapsed": false,
    "deletable": true,
    "editable": true
   },
   "outputs": [
    {
     "name": "stdout",
     "output_type": "stream",
     "text": [
      "Overwriting requirements.txt\n"
     ]
    }
   ],
   "source": [
    "%writefile requirements.txt\n",
    "tensorflow-transform==0.6.0"
   ]
  },
  {
   "cell_type": "code",
   "execution_count": 11,
   "metadata": {
    "collapsed": false,
    "deletable": true,
    "editable": true
   },
   "outputs": [
    {
     "name": "stdout",
     "output_type": "stream",
     "text": [
      "Launching local job ... hang on\n",
      "INFO:tensorflow:Assets added to graph.\n",
      "INFO:tensorflow:No assets to write.\n",
      "INFO:tensorflow:SavedModel written to: ./preproc_tft/tmp/tftransform_tmp/a7f52183a36f4e21818cab0531a27a8d/saved_model.pb\n",
      "INFO:tensorflow:Assets added to graph.\n",
      "INFO:tensorflow:No assets to write.\n",
      "INFO:tensorflow:SavedModel written to: ./preproc_tft/tmp/tftransform_tmp/302b8bc01a9f4d2d9f825924d8f24128/saved_model.pb\n"
     ]
    },
    {
     "name": "stderr",
     "output_type": "stream",
     "text": [
      "/usr/local/envs/py2env/lib/python2.7/site-packages/apache_beam/runners/direct/direct_runner.py:342: DeprecationWarning: options is deprecated since First stable release.. References to <pipeline>.options will not be supported\n",
      "  pipeline.replace_all(_get_transform_overrides(pipeline.options))\n",
      "WARNING:root:Dataset eim-muse:temp_dataset_f2e6e14095e447b09416b711c576d91a does not exist so we will create it as temporary with location=None\n",
      "WARNING:root:Dataset eim-muse:temp_dataset_e9b645f9bc4b42c4b34bde39becf74f7 does not exist so we will create it as temporary with location=None\n"
     ]
    },
    {
     "name": "stdout",
     "output_type": "stream",
     "text": [
      "INFO:tensorflow:Saver not created because there are no variables in the graph to restore\n"
     ]
    },
    {
     "name": "stderr",
     "output_type": "stream",
     "text": [
      "INFO:tensorflow:Saver not created because there are no variables in the graph to restore\n"
     ]
    },
    {
     "name": "stdout",
     "output_type": "stream",
     "text": [
      "INFO:tensorflow:Saver not created because there are no variables in the graph to restore\n"
     ]
    },
    {
     "name": "stderr",
     "output_type": "stream",
     "text": [
      "INFO:tensorflow:Saver not created because there are no variables in the graph to restore\n"
     ]
    },
    {
     "name": "stdout",
     "output_type": "stream",
     "text": [
      "INFO:tensorflow:Assets added to graph.\n"
     ]
    },
    {
     "name": "stderr",
     "output_type": "stream",
     "text": [
      "INFO:tensorflow:Assets added to graph.\n"
     ]
    },
    {
     "name": "stdout",
     "output_type": "stream",
     "text": [
      "INFO:tensorflow:No assets to write.\n"
     ]
    },
    {
     "name": "stderr",
     "output_type": "stream",
     "text": [
      "INFO:tensorflow:No assets to write.\n"
     ]
    },
    {
     "name": "stdout",
     "output_type": "stream",
     "text": [
      "INFO:tensorflow:SavedModel written to: ./preproc_tft/tmp/tftransform_tmp/ca55b53129a649c088246b976064ca1c/saved_model.pb\n"
     ]
    },
    {
     "name": "stderr",
     "output_type": "stream",
     "text": [
      "INFO:tensorflow:SavedModel written to: ./preproc_tft/tmp/tftransform_tmp/ca55b53129a649c088246b976064ca1c/saved_model.pb\n"
     ]
    },
    {
     "name": "stdout",
     "output_type": "stream",
     "text": [
      "INFO:tensorflow:Saver not created because there are no variables in the graph to restore\n"
     ]
    },
    {
     "name": "stderr",
     "output_type": "stream",
     "text": [
      "INFO:tensorflow:Saver not created because there are no variables in the graph to restore\n"
     ]
    },
    {
     "name": "stdout",
     "output_type": "stream",
     "text": [
      "INFO:tensorflow:Saver not created because there are no variables in the graph to restore\n"
     ]
    },
    {
     "name": "stderr",
     "output_type": "stream",
     "text": [
      "INFO:tensorflow:Saver not created because there are no variables in the graph to restore\n"
     ]
    },
    {
     "name": "stdout",
     "output_type": "stream",
     "text": [
      "INFO:tensorflow:Saver not created because there are no variables in the graph to restore\n"
     ]
    },
    {
     "name": "stderr",
     "output_type": "stream",
     "text": [
      "INFO:tensorflow:Saver not created because there are no variables in the graph to restore\n",
      "/usr/local/envs/py2env/lib/python2.7/site-packages/simplejson/encoder.py:286: DeprecationWarning: Interpreting naive datetime as local 2018-07-10 21:43:15.881214. Please add timezone info to timestamps.\n",
      "  chunks = self.iterencode(o, _one_shot=True)\n"
     ]
    }
   ],
   "source": [
    "import datetime\n",
    "import tensorflow as tf\n",
    "import apache_beam as beam\n",
    "import tensorflow_transform as tft\n",
    "from tensorflow_transform.beam import impl as beam_impl\n",
    "\n",
    "def is_valid(inputs):\n",
    "    try:\n",
    "        return True\n",
    "    except:\n",
    "        return False\n",
    "\n",
    "float_features = [\n",
    "    'activity',\n",
    "    'age',\n",
    "    'artistic',\n",
    "    'concentration',\n",
    "    'engagement',\n",
    "    'familiarity',\n",
    "    'fault',\n",
    "    'imagination',\n",
    "    'lazy',\n",
    "    'like_dislike',\n",
    "    'musical_expertise',\n",
    "    'nervous',\n",
    "    'outgoing',\n",
    "    'positivity',\n",
    "    'reserved',\n",
    "    'stress',\n",
    "    'tension',\n",
    "    'thorough',\n",
    "    'trusting'\n",
    "]\n",
    "\n",
    "boolean_features = [\n",
    "    'hallelujah_reaction',\n",
    "    'hearing_impairments',\n",
    "    'music_pref_classical',\n",
    "    'music_pref_dance',\n",
    "    'music_pref_folk',\n",
    "    'music_pref_hiphop',\n",
    "    'music_pref_jazz',\n",
    "    'music_pref_none',\n",
    "    'music_pref_pop',\n",
    "    'music_pref_rock',\n",
    "    'music_pref_traditional_irish',\n",
    "    'music_pref_world'\n",
    "]\n",
    "\n",
    "categorical_features = [\n",
    "    'language',\n",
    "    'location',\n",
    "    'nationality',\n",
    "    'sex'\n",
    "]\n",
    "\n",
    "def preprocess_tft(inputs):\n",
    "    import datetime\n",
    "    result = {}\n",
    "    \n",
    "    for feature in float_features:\n",
    "        result[feature] = tft.scale_to_0_1(inputs[feature])\n",
    "    \n",
    "    for feature in boolean_features:\n",
    "        result[feature] = tf.cast(inputs[feature], tf.int64)\n",
    "    \n",
    "    for feature in categorical_features:\n",
    "        result[feature] = tf.identity(inputs[feature])\n",
    "    \n",
    "    return result\n",
    "\n",
    "def preprocess(in_test_mode, EVERY_N=None):\n",
    "  import os\n",
    "  import os.path\n",
    "  import tempfile\n",
    "  from apache_beam.io import tfrecordio\n",
    "  from tensorflow_transform.coders import example_proto_coder\n",
    "  from tensorflow_transform.tf_metadata import dataset_metadata\n",
    "  from tensorflow_transform.tf_metadata import dataset_schema\n",
    "  from tensorflow_transform.beam import tft_beam_io\n",
    "  from tensorflow_transform.beam.tft_beam_io import transform_fn_io\n",
    "\n",
    "  job_name = 'hallelujah-effect-features' + '-' + datetime.datetime.now().strftime('%y%m%d-%H%M%S')    \n",
    "  if in_test_mode:\n",
    "    import shutil\n",
    "    print 'Launching local job ... hang on'\n",
    "    OUTPUT_DIR = './preproc_tft'\n",
    "    shutil.rmtree(OUTPUT_DIR, ignore_errors=True)\n",
    "    \n",
    "  else:\n",
    "    print 'Launching Dataflow job {} ... hang on'.format(job_name)\n",
    "    OUTPUT_DIR = 'gs://{0}/analysis/hallelujah-effect/preproc_tft/'.format(BUCKET)\n",
    "    import subprocess\n",
    "    subprocess.call('gsutil rm -r {}'.format(OUTPUT_DIR).split())\n",
    "  \n",
    "  # Configure Beam pipeline options\n",
    "  options = {\n",
    "    'staging_location': os.path.join(OUTPUT_DIR, 'tmp', 'staging'),\n",
    "    'temp_location': os.path.join(OUTPUT_DIR, 'tmp'),\n",
    "    'job_name': job_name,\n",
    "    'project': PROJECT,\n",
    "    'max_num_workers': 24,\n",
    "    'teardown_policy': 'TEARDOWN_ALWAYS',\n",
    "    'no_save_main_session': True,\n",
    "    'requirements_file': 'requirements.txt'\n",
    "  }\n",
    "  opts = beam.pipeline.PipelineOptions(flags=[], **options)\n",
    "  if in_test_mode:\n",
    "    RUNNER = 'DirectRunner'\n",
    "  else:\n",
    "    RUNNER = 'DataflowRunner'\n",
    "\n",
    "  # Setup metadata\n",
    "  raw_data_schema = {\n",
    "    colname : dataset_schema.ColumnSchema(tf.string, [], dataset_schema.FixedColumnRepresentation())\n",
    "                   for colname in categorical_features\n",
    "  }\n",
    "  raw_data_schema.update({\n",
    "      colname : dataset_schema.ColumnSchema(tf.float32, [], dataset_schema.FixedColumnRepresentation())\n",
    "                   for colname in float_features\n",
    "    })\n",
    "  raw_data_schema.update({\n",
    "      colname : dataset_schema.ColumnSchema(tf.int64, [], dataset_schema.FixedColumnRepresentation())\n",
    "                   for colname in boolean_features\n",
    "    })\n",
    "  raw_data_metadata = dataset_metadata.DatasetMetadata(dataset_schema.Schema(raw_data_schema))\n",
    "  \n",
    "  # run Beam  \n",
    "  with beam.Pipeline(RUNNER, options=opts) as p:\n",
    "    with beam_impl.Context(temp_dir=os.path.join(OUTPUT_DIR, 'tmp')):\n",
    "      \n",
    "      # Write the raw data metadata to disk\n",
    "      # Without the overloaded operators: p.apply(tft_beam_io.WriteMetadata(os.path.join(OUTPUT_DIR, 'metadata/rawdata_metadata'), raw_data_metadata)\n",
    "      _ = (raw_data_metadata\n",
    "        | 'WriteInputMetadata' >> tft_beam_io.WriteMetadata(\n",
    "            os.path.join(OUTPUT_DIR, 'metadata/rawdata_metadata'),\n",
    "            pipeline=p))\n",
    "           \n",
    "      # Analyze and transform training data\n",
    "      this_query = create_query(1, EVERY_N)\n",
    "      \n",
    "      # Read in training data from BigQuery table\n",
    "      raw_data = (p\n",
    "        # Get raw training data from BigQuery\n",
    "        | 'train_read' >> beam.io.Read(beam.io.BigQuerySource(query=this_query, use_standard_sql=True))\n",
    "        # Use our is_valid function to only retain valid examples from training data\n",
    "        | 'train_filter' >> beam.Filter(is_valid))\n",
    "\n",
    "      # Package raw training data and its metadata into a 'dataset'\n",
    "      raw_dataset = (raw_data, raw_data_metadata)\n",
    "      \n",
    "      # Using the preprocessing function `preprocess_tft`, preprocess the training data\n",
    "      # and produce a transformed training dataset and a function to transform other data later\n",
    "      transformed_dataset, transform_fn = (\n",
    "          raw_dataset | beam_impl.AnalyzeAndTransformDataset(preprocess_tft))\n",
    "      \n",
    "      # Break out the transformed training data and its metadata\n",
    "      transformed_data, transformed_metadata = transformed_dataset\n",
    "      \n",
    "      # Write the transformed training data to files\n",
    "      _ = transformed_data | 'WriteTrainData' >> tfrecordio.WriteToTFRecord(\n",
    "          os.path.join(OUTPUT_DIR, 'train'),\n",
    "          file_name_suffix='.gz',\n",
    "          coder=example_proto_coder.ExampleProtoCoder(\n",
    "              transformed_metadata.schema))\n",
    "      \n",
    "      # Read in test data from BigQuery table and filter as we did with training data\n",
    "      raw_test_data = (p \n",
    "        | 'eval_read' >> beam.io.Read(beam.io.BigQuerySource(query=create_query(2, EVERY_N), use_standard_sql=True))\n",
    "        | 'eval_filter' >> beam.Filter(is_valid))\n",
    "      \n",
    "      # Package test data and metadata into a dataset\n",
    "      raw_test_dataset = (raw_test_data, raw_data_metadata)\n",
    "      \n",
    "      # Using the same transformation function that was calculated above, transform the test dataset\n",
    "      transformed_test_dataset = (\n",
    "          (raw_test_dataset, transform_fn) | beam_impl.TransformDataset())\n",
    "      \n",
    "      # Write the transformed test data to files\n",
    "      transformed_test_data, _ = transformed_test_dataset\n",
    "      _ = transformed_test_data | 'WriteTestData' >> tfrecordio.WriteToTFRecord(\n",
    "          os.path.join(OUTPUT_DIR, 'eval'),\n",
    "          file_name_suffix='.gz',\n",
    "          coder=example_proto_coder.ExampleProtoCoder(\n",
    "              transformed_metadata.schema))\n",
    "      \n",
    "      # Write the transformation function to a file, as well\n",
    "      _ = (transform_fn\n",
    "           | 'WriteTransformFn' >>\n",
    "           transform_fn_io.WriteTransformFn(os.path.join(OUTPUT_DIR, 'metadata')))\n",
    "\n",
    "# Preprocess the training/test data\n",
    "preprocess(in_test_mode=True, EVERY_N=None)"
   ]
  },
  {
   "cell_type": "code",
   "execution_count": 12,
   "metadata": {
    "collapsed": false,
    "deletable": true,
    "editable": true
   },
   "outputs": [
    {
     "name": "stdout",
     "output_type": "stream",
     "text": [
      "total 24\n",
      " 4 -rw-r--r-- 1 root root  3074 Jul 10 21:43 eval-00000-of-00001.gz\n",
      " 4 drwxr-xr-x 5 root root  4096 Jul 10 21:43 metadata\n",
      " 4 drwxr-xr-x 3 root root  4096 Jul 10 21:43 tmp\n",
      "12 -rw-r--r-- 1 root root 11208 Jul 10 21:43 train-00000-of-00001.gz\n",
      "total 12\n",
      "4 drwxr-xr-x 3 root root 4096 Jul 10 21:43 rawdata_metadata\n",
      "4 drwxr-xr-x 3 root root 4096 Jul 10 21:43 transformed_metadata\n",
      "4 drwxr-xr-x 3 root root 4096 Jul 10 21:43 transform_fn\n"
     ]
    },
    {
     "name": "stderr",
     "output_type": "stream",
     "text": [
      "/usr/local/envs/py2env/lib/python2.7/site-packages/simplejson/encoder.py:286: DeprecationWarning: Interpreting naive datetime as local 2018-07-10 21:43:31.651928. Please add timezone info to timestamps.\n",
      "  chunks = self.iterencode(o, _one_shot=True)\n"
     ]
    }
   ],
   "source": [
    "%bash\n",
    "ls -ls preproc_tft\n",
    "ls -ls preproc_tft/metadata\n",
    "# gsutil ls -l gs://${BUCKET}/analysis/hallelujah-effect/preproc_tft/\n",
    "# gsutil ls -l gs://${BUCKET}/analysis/hallelujah-effect/preproc_tft/metadata"
   ]
  },
  {
   "cell_type": "markdown",
   "metadata": {
    "deletable": true,
    "editable": true
   },
   "source": [
    "<h2> Train off preprocessed data </h2>"
   ]
  },
  {
   "cell_type": "markdown",
   "metadata": {
    "deletable": true,
    "editable": true
   },
   "source": [
    "### Local Manual Training"
   ]
  },
  {
   "cell_type": "code",
   "execution_count": 13,
   "metadata": {
    "collapsed": false,
    "deletable": true,
    "editable": true
   },
   "outputs": [
    {
     "name": "stderr",
     "output_type": "stream",
     "text": [
      "/usr/local/envs/py2env/lib/python2.7/site-packages/simplejson/encoder.py:286: DeprecationWarning: Interpreting naive datetime as local 2018-07-10 21:43:35.706538. Please add timezone info to timestamps.\n",
      "  chunks = self.iterencode(o, _one_shot=True)\n"
     ]
    }
   ],
   "source": [
    "MODEL_NAME = 'basic_features_lasso'\n",
    "os.environ['MODEL_NAME'] = MODEL_NAME"
   ]
  },
  {
   "cell_type": "code",
   "execution_count": 32,
   "metadata": {
    "collapsed": false,
    "deletable": true,
    "editable": true,
    "hiddenCell": true
   },
   "outputs": [
    {
     "name": "stderr",
     "output_type": "stream",
     "text": [
      "/usr/local/envs/py2env/lib/python2.7/site-packages/h5py/__init__.py:36: FutureWarning: Conversion of the second argument of issubdtype from `float` to `np.floating` is deprecated. In future, it will be treated as `np.float64 == np.dtype(float).type`.\n",
      "  from ._conv import register_converters as _register_converters\n",
      "INFO:tensorflow:Using config: {'_save_checkpoints_secs': 60, '_session_config': None, '_keep_checkpoint_max': 10, '_task_type': 'worker', '_train_distribute': None, '_is_chief': True, '_cluster_spec': <tensorflow.python.training.server_lib.ClusterSpec object at 0x7f194e2a0a90>, '_evaluation_master': '', '_save_checkpoints_steps': None, '_keep_checkpoint_every_n_hours': 10000, '_service': None, '_num_ps_replicas': 0, '_tf_random_seed': None, '_master': '', '_num_worker_replicas': 1, '_task_id': 0, '_log_step_count_steps': 100, '_model_dir': '/content/datalab/notebooks/eim-analysis/Hallelujah_Effect/basic_features_lasso/../models/basic_features_lasso', '_global_id_in_cluster': 0, '_save_summary_steps': 100}\n",
      "INFO:tensorflow:Using config: {'_save_checkpoints_secs': 60, '_session_config': None, '_keep_checkpoint_max': 10, '_task_type': 'worker', '_train_distribute': None, '_is_chief': True, '_cluster_spec': <tensorflow.python.training.server_lib.ClusterSpec object at 0x7f194e2a0ad0>, '_evaluation_master': '', '_save_checkpoints_steps': None, '_keep_checkpoint_every_n_hours': 10000, '_service': None, '_num_ps_replicas': 0, '_tf_random_seed': None, '_master': '', '_num_worker_replicas': 1, '_task_id': 0, '_log_step_count_steps': 100, '_model_dir': '/content/datalab/notebooks/eim-analysis/Hallelujah_Effect/basic_features_lasso/../models/basic_features_lasso', '_global_id_in_cluster': 0, '_save_summary_steps': 100}\n",
      "INFO:tensorflow:Running training and evaluation locally (non-distributed).\n",
      "INFO:tensorflow:Start train and evaluate loop. The evaluate will happen after 5 secs (eval_spec.throttle_secs) or training is finished.\n",
      "WARNING:tensorflow:From /usr/local/envs/py2env/lib/python2.7/site-packages/tensorflow_transform/saved/input_fn_maker.py:557: read_batch_features (from tensorflow.contrib.learn.python.learn.learn_io.graph_io) is deprecated and will be removed in a future version.\n",
      "Instructions for updating:\n",
      "Use tf.data.\n",
      "WARNING:tensorflow:From /usr/local/envs/py2env/lib/python2.7/site-packages/tensorflow/contrib/learn/python/learn/learn_io/graph_io.py:833: read_keyed_batch_features (from tensorflow.contrib.learn.python.learn.learn_io.graph_io) is deprecated and will be removed in a future version.\n",
      "Instructions for updating:\n",
      "Use tf.data.\n",
      "WARNING:tensorflow:From /usr/local/envs/py2env/lib/python2.7/site-packages/tensorflow/contrib/learn/python/learn/learn_io/graph_io.py:542: read_keyed_batch_examples (from tensorflow.contrib.learn.python.learn.learn_io.graph_io) is deprecated and will be removed in a future version.\n",
      "Instructions for updating:\n",
      "Use tf.data.\n",
      "WARNING:tensorflow:From /usr/local/envs/py2env/lib/python2.7/site-packages/tensorflow/contrib/learn/python/learn/learn_io/graph_io.py:550: queue_parsed_features (from tensorflow.contrib.learn.python.learn.learn_io.graph_io) is deprecated and will be removed in a future version.\n",
      "Instructions for updating:\n",
      "Use tf.data.\n",
      "INFO:tensorflow:Calling model_fn.\n",
      "INFO:tensorflow:Calling model_fn.\n",
      "INFO:tensorflow:Done calling model_fn.\n",
      "INFO:tensorflow:Done calling model_fn.\n",
      "INFO:tensorflow:Create CheckpointSaverHook.\n",
      "INFO:tensorflow:Graph was finalized.\n",
      "2018-07-10 23:22:16.111681: I tensorflow/core/platform/cpu_feature_guard.cc:140] Your CPU supports instructions that this TensorFlow binary was not compiled to use: AVX2 FMA\n",
      "INFO:tensorflow:Running local_init_op.\n",
      "INFO:tensorflow:Done running local_init_op.\n",
      "INFO:tensorflow:Saving checkpoints for 1 into /content/datalab/notebooks/eim-analysis/Hallelujah_Effect/basic_features_lasso/../models/basic_features_lasso/model.ckpt.\n",
      "INFO:tensorflow:loss = 210.0237, step = 1\n",
      "INFO:tensorflow:Saving checkpoints for 25 into /content/datalab/notebooks/eim-analysis/Hallelujah_Effect/basic_features_lasso/../models/basic_features_lasso/model.ckpt.\n",
      "INFO:tensorflow:Loss for final step: 160.32396.\n",
      "INFO:tensorflow:Calling model_fn.\n",
      "INFO:tensorflow:Calling model_fn.\n",
      "WARNING:tensorflow:Trapezoidal rule is known to produce incorrect PR-AUCs; please switch to \"careful_interpolation\" instead.\n",
      "WARNING:tensorflow:Trapezoidal rule is known to produce incorrect PR-AUCs; please switch to \"careful_interpolation\" instead.\n",
      "INFO:tensorflow:Done calling model_fn.\n",
      "INFO:tensorflow:Done calling model_fn.\n",
      "INFO:tensorflow:Starting evaluation at 2018-07-10-23:22:22\n",
      "INFO:tensorflow:Graph was finalized.\n",
      "INFO:tensorflow:Restoring parameters from /content/datalab/notebooks/eim-analysis/Hallelujah_Effect/basic_features_lasso/../models/basic_features_lasso/model.ckpt-25\n",
      "INFO:tensorflow:Running local_init_op.\n",
      "INFO:tensorflow:Done running local_init_op.\n",
      "INFO:tensorflow:Evaluation [1/1]\n",
      "INFO:tensorflow:Finished evaluation at 2018-07-10-23:22:23\n",
      "INFO:tensorflow:Saving dict for global step 25: accuracy = 0.6721311, accuracy_baseline = 0.6721312, auc = 0.5006098, auc_precision_recall = 0.3116898, average_loss = 0.68294495, f1_score = 0.0, false_negatives = 20.0, false_positives = 0.0, global_step = 25, label/mean = 0.32786885, loss = 41.65964, precision = 0.0, prediction/mean = 0.24134481, recall = 0.0, true_negatives = 41.0, true_positives = 0.0\n",
      "INFO:tensorflow:Calling model_fn.\n",
      "INFO:tensorflow:Calling model_fn.\n",
      "INFO:tensorflow:Done calling model_fn.\n",
      "INFO:tensorflow:Done calling model_fn.\n",
      "INFO:tensorflow:Signatures INCLUDED in export for Classify: None\n",
      "INFO:tensorflow:Signatures INCLUDED in export for Regress: None\n",
      "INFO:tensorflow:Signatures INCLUDED in export for Predict: ['predict']\n",
      "INFO:tensorflow:Signatures EXCLUDED from export because they cannot be be served via TensorFlow Serving APIs:\n",
      "INFO:tensorflow:'serving_default' : Classification input must be a single string Tensor; got {'age': <tf.Tensor 'Placeholder:0' shape=(?,) dtype=float32>, 'activity': <tf.Tensor 'Placeholder_1:0' shape=(?,) dtype=float32>}\n",
      "INFO:tensorflow:'regression' : Regression input must be a single string Tensor; got {'age': <tf.Tensor 'Placeholder:0' shape=(?,) dtype=float32>, 'activity': <tf.Tensor 'Placeholder_1:0' shape=(?,) dtype=float32>}\n",
      "INFO:tensorflow:'classification' : Classification input must be a single string Tensor; got {'age': <tf.Tensor 'Placeholder:0' shape=(?,) dtype=float32>, 'activity': <tf.Tensor 'Placeholder_1:0' shape=(?,) dtype=float32>}\n",
      "WARNING:tensorflow:Export includes no default signature!\n",
      "INFO:tensorflow:Restoring parameters from /content/datalab/notebooks/eim-analysis/Hallelujah_Effect/basic_features_lasso/../models/basic_features_lasso/model.ckpt-25\n",
      "INFO:tensorflow:Assets added to graph.\n",
      "INFO:tensorflow:No assets to write.\n",
      "INFO:tensorflow:SavedModel written to: /content/datalab/notebooks/eim-analysis/Hallelujah_Effect/basic_features_lasso/../models/basic_features_lasso/export/exporter/temp-1531264944/saved_model.pb\n",
      "INFO:tensorflow:Variables values:\n",
      "INFO:tensorflow:global_step: 25;\n",
      "INFO:tensorflow:linear/linear_model/activity/weights: [[-0.19124591]];\n",
      "INFO:tensorflow:linear/linear_model/activity/weights/part_0/accum_name: [[3933.3179]];\n",
      "INFO:tensorflow:linear/linear_model/activity/weights/part_0/linear_name: [[119.95211]];\n",
      "INFO:tensorflow:linear/linear_model/age/weights: [[-0.09018944]];\n",
      "INFO:tensorflow:linear/linear_model/age/weights/part_0/accum_name: [[349.94458]];\n",
      "INFO:tensorflow:linear/linear_model/age/weights/part_0/linear_name: [[16.881563]];\n",
      "INFO:tensorflow:linear/linear_model/artistic/weights: [[-0.05324834]];\n",
      "INFO:tensorflow:linear/linear_model/artistic/weights/part_0/accum_name: [[1003.8041]];\n",
      "INFO:tensorflow:linear/linear_model/artistic/weights/part_0/linear_name: [[16.880602]];\n",
      "INFO:tensorflow:linear/linear_model/bias_weights: [-0.10417194];\n",
      "INFO:tensorflow:linear/linear_model/bias_weights/part_0/accum_name: [8794.017];\n",
      "INFO:tensorflow:linear/linear_model/bias_weights/part_0/linear_name: [97.69872];\n",
      "INFO:tensorflow:linear/linear_model/concentration/weights: [[-0.10451033]];\n",
      "INFO:tensorflow:linear/linear_model/concentration/weights/part_0/accum_name: [[5112.896]];\n",
      "INFO:tensorflow:linear/linear_model/concentration/weights/part_0/linear_name: [[74.73961]];\n",
      "INFO:tensorflow:linear/linear_model/engagement/weights: [[-0.04884667]];\n",
      "INFO:tensorflow:linear/linear_model/engagement/weights/part_0/accum_name: [[3305.3398]];\n",
      "INFO:tensorflow:linear/linear_model/engagement/weights/part_0/linear_name: [[28.092968]];\n",
      "INFO:tensorflow:linear/linear_model/familiarity/weights: [[-0.21630955]];\n",
      "INFO:tensorflow:linear/linear_model/familiarity/weights/part_0/accum_name: [[3083.2747]];\n",
      "INFO:tensorflow:linear/linear_model/familiarity/weights/part_0/linear_name: [[120.12073]];\n",
      "INFO:tensorflow:linear/linear_model/fault/weights: [[0.06434377]];\n",
      "INFO:tensorflow:linear/linear_model/fault/weights/part_0/accum_name: [[2351.4033]];\n",
      "INFO:tensorflow:linear/linear_model/fault/weights/part_0/linear_name: [[-31.211115]];\n",
      "INFO:tensorflow:linear/linear_model/hearing_impairments/weights: [[0.22708039]];\n",
      "INFO:tensorflow:linear/linear_model/hearing_impairments/weights/part_0/accum_name: [[138.31693]];\n",
      "INFO:tensorflow:linear/linear_model/hearing_impairments/weights/part_0/linear_name: [[-26.71652]];\n",
      "INFO:tensorflow:linear/linear_model/imagination/weights: [[-0.09150282]];\n",
      "INFO:tensorflow:linear/linear_model/imagination/weights/part_0/accum_name: [[4677.4575]];\n",
      "INFO:tensorflow:linear/linear_model/imagination/weights/part_0/linear_name: [[62.590546]];\n",
      "INFO:tensorflow:linear/linear_model/language_indicator/weights: [[ 0.        ]\n",
      " [-0.06156882]\n",
      " [ 0.3569795 ]];\n",
      "INFO:tensorflow:linear/linear_model/language_indicator/weights/part_0/accum_name: [[1.0000000e-01]\n",
      " [2.0638538e+03]\n",
      " [3.5553824e+02]];\n",
      "INFO:tensorflow:linear/linear_model/language_indicator/weights/part_0/linear_name: [[  0.      ]\n",
      " [ 27.980505]\n",
      " [-67.32106 ]];\n",
      "INFO:tensorflow:linear/linear_model/lazy/weights: [[0.01326692]];\n",
      "INFO:tensorflow:linear/linear_model/lazy/weights/part_0/accum_name: [[3599.7373]];\n",
      "INFO:tensorflow:linear/linear_model/lazy/weights/part_0/linear_name: [[-7.969863]];\n",
      "INFO:tensorflow:linear/linear_model/like_dislike/weights: [[-0.02957783]];\n",
      "INFO:tensorflow:linear/linear_model/like_dislike/weights/part_0/accum_name: [[2777.0085]];\n",
      "INFO:tensorflow:linear/linear_model/like_dislike/weights/part_0/linear_name: [[15.596725]];\n",
      "INFO:tensorflow:linear/linear_model/location_indicator/weights: [[-0.26532465]\n",
      " [ 0.05197825]\n",
      " [ 0.0206026 ]];\n",
      "INFO:tensorflow:linear/linear_model/location_indicator/weights/part_0/accum_name: [[2283.9802 ]\n",
      " [1935.5498 ]\n",
      " [ 408.77023]];\n",
      "INFO:tensorflow:linear/linear_model/location_indicator/weights/part_0/linear_name: [[126.81132  ]\n",
      " [-22.87777  ]\n",
      " [ -4.1754484]];\n",
      "INFO:tensorflow:linear/linear_model/music_pref_classical/weights: [[0.0182013]];\n",
      "INFO:tensorflow:linear/linear_model/music_pref_classical/weights/part_0/accum_name: [[809.64215]];\n",
      "INFO:tensorflow:linear/linear_model/music_pref_classical/weights/part_0/linear_name: [[-5.189036]];\n",
      "INFO:tensorflow:linear/linear_model/music_pref_dance/weights: [[0.14971402]];\n",
      "INFO:tensorflow:linear/linear_model/music_pref_dance/weights/part_0/accum_name: [[615.7956]];\n",
      "INFO:tensorflow:linear/linear_model/music_pref_dance/weights/part_0/linear_name: [[-37.161877]];\n",
      "INFO:tensorflow:linear/linear_model/music_pref_folk/weights: [[-0.01887333]];\n",
      "INFO:tensorflow:linear/linear_model/music_pref_folk/weights/part_0/accum_name: [[161.7278]];\n",
      "INFO:tensorflow:linear/linear_model/music_pref_folk/weights/part_0/linear_name: [[2.4101634]];\n",
      "INFO:tensorflow:linear/linear_model/music_pref_hiphop/weights: [[0.31992686]];\n",
      "INFO:tensorflow:linear/linear_model/music_pref_hiphop/weights/part_0/accum_name: [[607.3456]];\n",
      "INFO:tensorflow:linear/linear_model/music_pref_hiphop/weights/part_0/linear_name: [[-78.854]];\n",
      "INFO:tensorflow:linear/linear_model/music_pref_jazz/weights: [[-0.06833104]];\n",
      "INFO:tensorflow:linear/linear_model/music_pref_jazz/weights/part_0/accum_name: [[620.5332]];\n",
      "INFO:tensorflow:linear/linear_model/music_pref_jazz/weights/part_0/linear_name: [[17.031607]];\n",
      "INFO:tensorflow:linear/linear_model/music_pref_none/weights: [[-0.6249594]];\n",
      "INFO:tensorflow:linear/linear_model/music_pref_none/weights/part_0/accum_name: [[5.6241755]];\n",
      "INFO:tensorflow:linear/linear_model/music_pref_none/weights/part_0/linear_name: [[14.831127]];\n",
      "INFO:tensorflow:linear/linear_model/music_pref_pop/weights: [[-0.00809313]];\n",
      "INFO:tensorflow:linear/linear_model/music_pref_pop/weights/part_0/accum_name: [[4321.175]];\n",
      "INFO:tensorflow:linear/linear_model/music_pref_pop/weights/part_0/linear_name: [[5.3300676]];\n",
      "INFO:tensorflow:linear/linear_model/music_pref_rock/weights: [[0.2127338]];\n",
      "INFO:tensorflow:linear/linear_model/music_pref_rock/weights/part_0/accum_name: [[2634.3047]];\n",
      "INFO:tensorflow:linear/linear_model/music_pref_rock/weights/part_0/linear_name: [[-109.19664]];\n",
      "INFO:tensorflow:linear/linear_model/music_pref_traditional_irish/weights: [[0.10241598]];\n",
      "INFO:tensorflow:linear/linear_model/music_pref_traditional_irish/weights/part_0/accum_name: [[199.27211]];\n",
      "INFO:tensorflow:linear/linear_model/music_pref_traditional_irish/weights/part_0/linear_name: [[-14.467426]];\n",
      "INFO:tensorflow:linear/linear_model/music_pref_world/weights: [[-0.31018338]];\n",
      "INFO:tensorflow:linear/linear_model/music_pref_world/weights/part_0/accum_name: [[427.21732]];\n",
      "INFO:tensorflow:linear/linear_model/music_pref_world/weights/part_0/linear_name: [[64.122536]];\n",
      "INFO:tensorflow:linear/linear_model/musical_expertise/weights: [[-0.22388038]];\n",
      "INFO:tensorflow:linear/linear_model/musical_expertise/weights/part_0/accum_name: [[1999.3143]];\n",
      "INFO:tensorflow:linear/linear_model/musical_expertise/weights/part_0/linear_name: [[100.11518]];\n",
      "INFO:tensorflow:linear/linear_model/nationality_indicator/weights: [[-0.4001939 ]\n",
      " [-0.12112226]\n",
      " [-0.6342708 ]\n",
      " [ 0.00369731]\n",
      " [-0.58026767]\n",
      " [ 0.66909564]\n",
      " [ 0.29247227]\n",
      " [-0.42550814]\n",
      " [-0.69877744]\n",
      " [ 0.        ]\n",
      " [ 0.5909623 ]];\n",
      "INFO:tensorflow:linear/linear_model/nationality_indicator/weights/part_0/accum_name: [[3.2186160e+02]\n",
      " [1.0863597e+03]\n",
      " [3.9969776e+01]\n",
      " [2.6688501e+03]\n",
      " [2.5111833e+00]\n",
      " [4.6737099e+01]\n",
      " [3.0143736e+01]\n",
      " [3.5003376e+00]\n",
      " [1.2492709e+01]\n",
      " [1.0000000e-01]\n",
      " [1.9674662e+01]];\n",
      "INFO:tensorflow:linear/linear_model/nationality_indicator/weights/part_0/linear_name: [[ 71.80679  ]\n",
      " [ 39.93186  ]\n",
      " [ 40.109646 ]\n",
      " [ -1.9200635]\n",
      " [  9.205336 ]\n",
      " [-45.752407 ]\n",
      " [-16.067698 ]\n",
      " [  7.9709125]\n",
      " [ 24.70831  ]\n",
      " [  0.       ]\n",
      " [-26.222797 ]];\n",
      "INFO:tensorflow:linear/linear_model/nervous/weights: [[0.02091674]];\n",
      "INFO:tensorflow:linear/linear_model/nervous/weights/part_0/accum_name: [[3827.2793]];\n",
      "INFO:tensorflow:linear/linear_model/nervous/weights/part_0/linear_name: [[-12.950145]];\n",
      "INFO:tensorflow:linear/linear_model/outgoing/weights: [[-0.19560435]];\n",
      "INFO:tensorflow:linear/linear_model/outgoing/weights/part_0/accum_name: [[3444.3645]];\n",
      "INFO:tensorflow:linear/linear_model/outgoing/weights/part_0/linear_name: [[114.80767]];\n",
      "INFO:tensorflow:linear/linear_model/positivity/weights: [[-0.07022049]];\n",
      "INFO:tensorflow:linear/linear_model/positivity/weights/part_0/accum_name: [[3005.2898]];\n",
      "INFO:tensorflow:linear/linear_model/positivity/weights/part_0/linear_name: [[38.505234]];\n",
      "INFO:tensorflow:linear/linear_model/reserved/weights: [[0.01295953]];\n",
      "INFO:tensorflow:linear/linear_model/reserved/weights/part_0/accum_name: [[2352.8323]];\n",
      "INFO:tensorflow:linear/linear_model/reserved/weights/part_0/linear_name: [[-6.2961493]];\n",
      "INFO:tensorflow:linear/linear_model/sex_indicator/weights: [[-0.08759669]\n",
      " [-0.12272352]];\n",
      "INFO:tensorflow:linear/linear_model/sex_indicator/weights/part_0/accum_name: [[2895.5361]\n",
      " [2376.343 ]];\n",
      "INFO:tensorflow:linear/linear_model/sex_indicator/weights/part_0/linear_name: [[47.145935]\n",
      " [59.83495 ]];\n",
      "INFO:tensorflow:linear/linear_model/stress/weights: [[-0.22724378]];\n",
      "INFO:tensorflow:linear/linear_model/stress/weights/part_0/accum_name: [[3231.8577]];\n",
      "INFO:tensorflow:linear/linear_model/stress/weights/part_0/linear_name: [[129.19678]];\n",
      "INFO:tensorflow:linear/linear_model/tension/weights: [[-0.02425192]];\n",
      "INFO:tensorflow:linear/linear_model/tension/weights/part_0/accum_name: [[5212.5537]];\n",
      "INFO:tensorflow:linear/linear_model/tension/weights/part_0/linear_name: [[17.519407]];\n",
      "INFO:tensorflow:linear/linear_model/thorough/weights: [[0.00785202]];\n",
      "INFO:tensorflow:linear/linear_model/thorough/weights/part_0/accum_name: [[2752.8987]];\n",
      "INFO:tensorflow:linear/linear_model/thorough/weights/part_0/linear_name: [[-4.1298018]];\n",
      "INFO:tensorflow:linear/linear_model/trusting/weights: [[-0.16113618]];\n",
      "INFO:tensorflow:linear/linear_model/trusting/weights/part_0/accum_name: [[4520.0156]];\n",
      "INFO:tensorflow:linear/linear_model/trusting/weights/part_0/linear_name: [[108.34357]];\n",
      "/usr/local/envs/py2env/lib/python2.7/site-packages/simplejson/encoder.py:286: DeprecationWarning: Interpreting naive datetime as local 2018-07-10 23:22:10.331972. Please add timezone info to timestamps.\n",
      "  chunks = self.iterencode(o, _one_shot=True)\n"
     ]
    }
   ],
   "source": [
    "%%bash\n",
    "\n",
    "OUTPUT_DIR=${PWD}/../models/${MODEL_NAME}\n",
    "rm -rf ${OUTPUT_DIR}\n",
    "export PYTHONPATH=${PYTHONPATH}:${PWD}/trainer\n",
    "python -m trainer.task \\\n",
    "   --train_data_paths=\"${PWD}/preproc_tft/train*\" \\\n",
    "   --eval_data_paths=\"${PWD}/preproc_tft/eval*\" \\\n",
    "   --train_steps=25 \\\n",
    "   --train_batch_size=${TRAIN_N} \\\n",
    "   --eval_steps=1 \\\n",
    "   --output_dir=${OUTPUT_DIR} \\\n",
    "   --job-dir=/tmp \\\n",
    "   --metadata_path=\"${PWD}/preproc_tft/metadata\""
   ]
  },
  {
   "cell_type": "markdown",
   "metadata": {
    "deletable": true,
    "editable": true
   },
   "source": [
    "Results for 25 batches of 303 cases (25 training epochs using a `LinearClassifier` with all basic features):\n",
    "\n",
    "- Accuracy = 0.6721311\n",
    "- Accuracy baseline = 0.6721312\n",
    "- AUC = 0.5006098\n",
    "- AUC-PR = 0.3116898\n",
    "- Average loss = 0.68294495\n",
    "- F1 score = 0.0\n",
    "- False negatives = 20.0\n",
    "- False positives = 0.0\n",
    "- Label/mean = 0.32786885\n",
    "- Loss = 41.65964\n",
    "- Precision = 0.0\n",
    "- Prediction/mean = 0.24134481\n",
    "- Recall = 0.0\n",
    "- True negatives = 41.0\n",
    "- True positives = 0.0\n",
    "\n",
    "Historical results using a gradient descent optimizer with a learning rate of 0.1 (25 epochs):\n",
    "\n",
    "- Accuracy = 0.29508197\n",
    "- Accuracy baseline = 0.6721312\n",
    "- AUC = 0.48963422\n",
    "- AUC-PR = 0.6110678\n",
    "- Average loss = 21.6465\n",
    "- F1 score = 0.44155845\n",
    "- False negatives = 3.0\n",
    "- False positives = 40.0\n",
    "- Label/mean = 0.32786885\n",
    "- Loss = 1320.4365\n",
    "- Precision = 0.2982456\n",
    "- Prediction/mean = 0.92361933\n",
    "- Recall = 0.85\n",
    "- True negatives = 1.0\n",
    "- True positives = 17.0"
   ]
  },
  {
   "cell_type": "markdown",
   "metadata": {
    "collapsed": false,
    "deletable": true,
    "editable": true
   },
   "source": [
    "### Local ML Engine Training"
   ]
  },
  {
   "cell_type": "code",
   "execution_count": 33,
   "metadata": {
    "codeCollapsed": false,
    "collapsed": false,
    "deletable": true,
    "editable": true,
    "hiddenCell": true
   },
   "outputs": [
    {
     "name": "stderr",
     "output_type": "stream",
     "text": [
      "/usr/local/envs/py2env/lib/python2.7/site-packages/h5py/__init__.py:36: FutureWarning: Conversion of the second argument of issubdtype from `float` to `np.floating` is deprecated. In future, it will be treated as `np.float64 == np.dtype(float).type`.\n",
      "  from ._conv import register_converters as _register_converters\n",
      "INFO:tensorflow:TF_CONFIG environment variable: {u'environment': u'cloud', u'cluster': {}, u'job': {u'args': [u'--train_data_paths=/content/datalab/notebooks/eim-analysis/Hallelujah_Effect/basic_features_lasso/preproc_tft/train*', u'--eval_data_paths=/content/datalab/notebooks/eim-analysis/Hallelujah_Effect/basic_features_lasso/preproc_tft/eval*', u'--train_steps=250', u'--train_batch_size=303', u'--eval_steps=1', u'--output_dir=/content/datalab/notebooks/eim-analysis/Hallelujah_Effect/basic_features_lasso/../models/basic_features_lasso', u'--metadata_path=/content/datalab/notebooks/eim-analysis/Hallelujah_Effect/basic_features_lasso/preproc_tft/metadata/', u'--job-dir', u'/content/datalab/notebooks/eim-analysis/Hallelujah_Effect/basic_features_lasso/../models/basic_features_lasso'], u'job_name': u'trainer.task'}, u'task': {}}\n",
      "INFO:tensorflow:Using config: {'_save_checkpoints_secs': 60, '_session_config': None, '_keep_checkpoint_max': 10, '_task_type': 'worker', '_train_distribute': None, '_is_chief': True, '_cluster_spec': <tensorflow.python.training.server_lib.ClusterSpec object at 0x7fa6ccb55250>, '_evaluation_master': '', '_save_checkpoints_steps': None, '_keep_checkpoint_every_n_hours': 10000, '_service': None, '_num_ps_replicas': 0, '_tf_random_seed': None, '_master': '', '_num_worker_replicas': 1, '_task_id': 0, '_log_step_count_steps': 100, '_model_dir': '/content/datalab/notebooks/eim-analysis/Hallelujah_Effect/basic_features_lasso/../models/basic_features_lasso', '_global_id_in_cluster': 0, '_save_summary_steps': 100}\n",
      "INFO:tensorflow:Using config: {'_save_checkpoints_secs': 60, '_session_config': None, '_keep_checkpoint_max': 10, '_task_type': 'worker', '_train_distribute': None, '_is_chief': True, '_cluster_spec': <tensorflow.python.training.server_lib.ClusterSpec object at 0x7fa6ccb55290>, '_evaluation_master': '', '_save_checkpoints_steps': None, '_keep_checkpoint_every_n_hours': 10000, '_service': None, '_num_ps_replicas': 0, '_tf_random_seed': None, '_master': '', '_num_worker_replicas': 1, '_task_id': 0, '_log_step_count_steps': 100, '_model_dir': '/content/datalab/notebooks/eim-analysis/Hallelujah_Effect/basic_features_lasso/../models/basic_features_lasso', '_global_id_in_cluster': 0, '_save_summary_steps': 100}\n",
      "INFO:tensorflow:Running training and evaluation locally (non-distributed).\n",
      "INFO:tensorflow:Start train and evaluate loop. The evaluate will happen after 5 secs (eval_spec.throttle_secs) or training is finished.\n",
      "WARNING:tensorflow:From /usr/local/envs/py2env/lib/python2.7/site-packages/tensorflow_transform/saved/input_fn_maker.py:557: read_batch_features (from tensorflow.contrib.learn.python.learn.learn_io.graph_io) is deprecated and will be removed in a future version.\n",
      "Instructions for updating:\n",
      "Use tf.data.\n",
      "WARNING:tensorflow:From /usr/local/envs/py2env/lib/python2.7/site-packages/tensorflow/contrib/learn/python/learn/learn_io/graph_io.py:833: read_keyed_batch_features (from tensorflow.contrib.learn.python.learn.learn_io.graph_io) is deprecated and will be removed in a future version.\n",
      "Instructions for updating:\n",
      "Use tf.data.\n",
      "WARNING:tensorflow:From /usr/local/envs/py2env/lib/python2.7/site-packages/tensorflow/contrib/learn/python/learn/learn_io/graph_io.py:542: read_keyed_batch_examples (from tensorflow.contrib.learn.python.learn.learn_io.graph_io) is deprecated and will be removed in a future version.\n",
      "Instructions for updating:\n",
      "Use tf.data.\n",
      "WARNING:tensorflow:From /usr/local/envs/py2env/lib/python2.7/site-packages/tensorflow/contrib/learn/python/learn/learn_io/graph_io.py:550: queue_parsed_features (from tensorflow.contrib.learn.python.learn.learn_io.graph_io) is deprecated and will be removed in a future version.\n",
      "Instructions for updating:\n",
      "Use tf.data.\n",
      "INFO:tensorflow:Calling model_fn.\n",
      "INFO:tensorflow:Calling model_fn.\n",
      "INFO:tensorflow:Done calling model_fn.\n",
      "INFO:tensorflow:Done calling model_fn.\n",
      "INFO:tensorflow:Create CheckpointSaverHook.\n",
      "INFO:tensorflow:Graph was finalized.\n",
      "2018-07-10 23:26:13.354404: I tensorflow/core/platform/cpu_feature_guard.cc:140] Your CPU supports instructions that this TensorFlow binary was not compiled to use: AVX2 FMA\n",
      "INFO:tensorflow:Running local_init_op.\n",
      "INFO:tensorflow:Done running local_init_op.\n",
      "INFO:tensorflow:Saving checkpoints for 1 into /content/datalab/notebooks/eim-analysis/Hallelujah_Effect/basic_features_lasso/../models/basic_features_lasso/model.ckpt.\n",
      "INFO:tensorflow:loss = 210.0237, step = 1\n",
      "INFO:tensorflow:global_step/sec: 116.761\n",
      "INFO:tensorflow:loss = 161.60866, step = 101 (0.858 sec)\n",
      "INFO:tensorflow:Saving checkpoints for 182 into /content/datalab/notebooks/eim-analysis/Hallelujah_Effect/basic_features_lasso/../models/basic_features_lasso/model.ckpt.\n",
      "INFO:tensorflow:Loss for final step: 165.2891.\n",
      "INFO:tensorflow:Calling model_fn.\n",
      "INFO:tensorflow:Calling model_fn.\n",
      "WARNING:tensorflow:Trapezoidal rule is known to produce incorrect PR-AUCs; please switch to \"careful_interpolation\" instead.\n",
      "WARNING:tensorflow:Trapezoidal rule is known to produce incorrect PR-AUCs; please switch to \"careful_interpolation\" instead.\n",
      "INFO:tensorflow:Done calling model_fn.\n",
      "INFO:tensorflow:Done calling model_fn.\n",
      "INFO:tensorflow:Starting evaluation at 2018-07-10-23:26:20\n",
      "INFO:tensorflow:Graph was finalized.\n",
      "INFO:tensorflow:Restoring parameters from /content/datalab/notebooks/eim-analysis/Hallelujah_Effect/basic_features_lasso/../models/basic_features_lasso/model.ckpt-182\n",
      "INFO:tensorflow:Running local_init_op.\n",
      "INFO:tensorflow:Done running local_init_op.\n",
      "INFO:tensorflow:Evaluation [1/1]\n",
      "INFO:tensorflow:Finished evaluation at 2018-07-10-23:26:22\n",
      "INFO:tensorflow:Saving dict for global step 182: accuracy = 0.6721311, accuracy_baseline = 0.6721312, auc = 0.5018293, auc_precision_recall = 0.31092665, average_loss = 0.7868889, f1_score = 0.09090909, false_negatives = 19.0, false_positives = 1.0, global_step = 182, label/mean = 0.32786885, loss = 48.00022, precision = 0.5, prediction/mean = 0.22409715, recall = 0.05, true_negatives = 40.0, true_positives = 1.0\n",
      "INFO:tensorflow:Calling model_fn.\n",
      "INFO:tensorflow:Calling model_fn.\n",
      "INFO:tensorflow:Done calling model_fn.\n",
      "INFO:tensorflow:Done calling model_fn.\n",
      "INFO:tensorflow:Signatures INCLUDED in export for Classify: None\n",
      "INFO:tensorflow:Signatures INCLUDED in export for Regress: None\n",
      "INFO:tensorflow:Signatures INCLUDED in export for Predict: ['predict']\n",
      "INFO:tensorflow:Signatures EXCLUDED from export because they cannot be be served via TensorFlow Serving APIs:\n",
      "INFO:tensorflow:'serving_default' : Classification input must be a single string Tensor; got {'age': <tf.Tensor 'Placeholder:0' shape=(?,) dtype=float32>, 'activity': <tf.Tensor 'Placeholder_1:0' shape=(?,) dtype=float32>}\n",
      "INFO:tensorflow:'regression' : Regression input must be a single string Tensor; got {'age': <tf.Tensor 'Placeholder:0' shape=(?,) dtype=float32>, 'activity': <tf.Tensor 'Placeholder_1:0' shape=(?,) dtype=float32>}\n",
      "INFO:tensorflow:'classification' : Classification input must be a single string Tensor; got {'age': <tf.Tensor 'Placeholder:0' shape=(?,) dtype=float32>, 'activity': <tf.Tensor 'Placeholder_1:0' shape=(?,) dtype=float32>}\n",
      "WARNING:tensorflow:Export includes no default signature!\n",
      "INFO:tensorflow:Restoring parameters from /content/datalab/notebooks/eim-analysis/Hallelujah_Effect/basic_features_lasso/../models/basic_features_lasso/model.ckpt-182\n",
      "INFO:tensorflow:Assets added to graph.\n",
      "INFO:tensorflow:No assets to write.\n",
      "INFO:tensorflow:SavedModel written to: /content/datalab/notebooks/eim-analysis/Hallelujah_Effect/basic_features_lasso/../models/basic_features_lasso/export/exporter/temp-1531265183/saved_model.pb\n",
      "INFO:tensorflow:Calling model_fn.\n",
      "INFO:tensorflow:Calling model_fn.\n",
      "INFO:tensorflow:Done calling model_fn.\n",
      "INFO:tensorflow:Done calling model_fn.\n",
      "INFO:tensorflow:Create CheckpointSaverHook.\n",
      "INFO:tensorflow:Graph was finalized.\n",
      "INFO:tensorflow:Restoring parameters from /content/datalab/notebooks/eim-analysis/Hallelujah_Effect/basic_features_lasso/../models/basic_features_lasso/model.ckpt-182\n",
      "INFO:tensorflow:Running local_init_op.\n",
      "INFO:tensorflow:Done running local_init_op.\n",
      "INFO:tensorflow:Saving checkpoints for 183 into /content/datalab/notebooks/eim-analysis/Hallelujah_Effect/basic_features_lasso/../models/basic_features_lasso/model.ckpt.\n",
      "INFO:tensorflow:loss = 157.15096, step = 183\n",
      "INFO:tensorflow:Saving checkpoints for 250 into /content/datalab/notebooks/eim-analysis/Hallelujah_Effect/basic_features_lasso/../models/basic_features_lasso/model.ckpt.\n",
      "INFO:tensorflow:Loss for final step: 150.19531.\n",
      "INFO:tensorflow:Calling model_fn.\n",
      "INFO:tensorflow:Calling model_fn.\n",
      "WARNING:tensorflow:Trapezoidal rule is known to produce incorrect PR-AUCs; please switch to \"careful_interpolation\" instead.\n",
      "WARNING:tensorflow:Trapezoidal rule is known to produce incorrect PR-AUCs; please switch to \"careful_interpolation\" instead.\n",
      "INFO:tensorflow:Done calling model_fn.\n",
      "INFO:tensorflow:Done calling model_fn.\n",
      "INFO:tensorflow:Starting evaluation at 2018-07-10-23:26:33\n",
      "INFO:tensorflow:Graph was finalized.\n",
      "INFO:tensorflow:Restoring parameters from /content/datalab/notebooks/eim-analysis/Hallelujah_Effect/basic_features_lasso/../models/basic_features_lasso/model.ckpt-250\n",
      "INFO:tensorflow:Running local_init_op.\n",
      "INFO:tensorflow:Done running local_init_op.\n",
      "INFO:tensorflow:Evaluation [1/1]\n",
      "INFO:tensorflow:Finished evaluation at 2018-07-10-23:26:34\n",
      "INFO:tensorflow:Saving dict for global step 250: accuracy = 0.6557377, accuracy_baseline = 0.6721312, auc = 0.49512196, auc_precision_recall = 0.3073166, average_loss = 0.80649865, f1_score = 0.08695652, false_negatives = 19.0, false_positives = 2.0, global_step = 250, label/mean = 0.32786885, loss = 49.19642, precision = 0.33333334, prediction/mean = 0.22466655, recall = 0.05, true_negatives = 39.0, true_positives = 1.0\n",
      "INFO:tensorflow:Calling model_fn.\n",
      "INFO:tensorflow:Calling model_fn.\n",
      "INFO:tensorflow:Done calling model_fn.\n",
      "INFO:tensorflow:Done calling model_fn.\n",
      "INFO:tensorflow:Signatures INCLUDED in export for Classify: None\n",
      "INFO:tensorflow:Signatures INCLUDED in export for Regress: None\n",
      "INFO:tensorflow:Signatures INCLUDED in export for Predict: ['predict']\n",
      "INFO:tensorflow:Signatures EXCLUDED from export because they cannot be be served via TensorFlow Serving APIs:\n",
      "INFO:tensorflow:'serving_default' : Classification input must be a single string Tensor; got {'age': <tf.Tensor 'Placeholder:0' shape=(?,) dtype=float32>, 'activity': <tf.Tensor 'Placeholder_1:0' shape=(?,) dtype=float32>}\n",
      "INFO:tensorflow:'regression' : Regression input must be a single string Tensor; got {'age': <tf.Tensor 'Placeholder:0' shape=(?,) dtype=float32>, 'activity': <tf.Tensor 'Placeholder_1:0' shape=(?,) dtype=float32>}\n",
      "INFO:tensorflow:'classification' : Classification input must be a single string Tensor; got {'age': <tf.Tensor 'Placeholder:0' shape=(?,) dtype=float32>, 'activity': <tf.Tensor 'Placeholder_1:0' shape=(?,) dtype=float32>}\n",
      "WARNING:tensorflow:Export includes no default signature!\n",
      "INFO:tensorflow:Restoring parameters from /content/datalab/notebooks/eim-analysis/Hallelujah_Effect/basic_features_lasso/../models/basic_features_lasso/model.ckpt-250\n",
      "INFO:tensorflow:Assets added to graph.\n",
      "INFO:tensorflow:No assets to write.\n",
      "INFO:tensorflow:SavedModel written to: /content/datalab/notebooks/eim-analysis/Hallelujah_Effect/basic_features_lasso/../models/basic_features_lasso/export/exporter/temp-1531265195/saved_model.pb\n",
      "INFO:tensorflow:Variables values:\n",
      "INFO:tensorflow:global_step: 250;\n",
      "INFO:tensorflow:linear/linear_model/activity/weights: [[-0.55913633]];\n",
      "INFO:tensorflow:linear/linear_model/activity/weights/part_0/accum_name: [[8898.009]];\n",
      "INFO:tensorflow:linear/linear_model/activity/weights/part_0/linear_name: [[527.43915]];\n",
      "INFO:tensorflow:linear/linear_model/age/weights: [[-0.11640195]];\n",
      "INFO:tensorflow:linear/linear_model/age/weights/part_0/accum_name: [[1035.9556]];\n",
      "INFO:tensorflow:linear/linear_model/age/weights/part_0/linear_name: [[37.475437]];\n",
      "INFO:tensorflow:linear/linear_model/artistic/weights: [[0.06534865]];\n",
      "INFO:tensorflow:linear/linear_model/artistic/weights/part_0/accum_name: [[3491.1191]];\n",
      "INFO:tensorflow:linear/linear_model/artistic/weights/part_0/linear_name: [[-38.621704]];\n",
      "INFO:tensorflow:linear/linear_model/bias_weights: [-0.20287022];\n",
      "INFO:tensorflow:linear/linear_model/bias_weights/part_0/accum_name: [22373.277];\n",
      "INFO:tensorflow:linear/linear_model/bias_weights/part_0/linear_name: [303.45718];\n",
      "INFO:tensorflow:linear/linear_model/concentration/weights: [[-0.15670355]];\n",
      "INFO:tensorflow:linear/linear_model/concentration/weights/part_0/accum_name: [[12803.705]];\n",
      "INFO:tensorflow:linear/linear_model/concentration/weights/part_0/linear_name: [[177.32547]];\n",
      "INFO:tensorflow:linear/linear_model/engagement/weights: [[-0.0090801]];\n",
      "INFO:tensorflow:linear/linear_model/engagement/weights/part_0/accum_name: [[10169.181]];\n",
      "INFO:tensorflow:linear/linear_model/engagement/weights/part_0/linear_name: [[9.166586]];\n",
      "INFO:tensorflow:linear/linear_model/familiarity/weights: [[-0.49853936]];\n",
      "INFO:tensorflow:linear/linear_model/familiarity/weights/part_0/accum_name: [[7382.136]];\n",
      "INFO:tensorflow:linear/linear_model/familiarity/weights/part_0/linear_name: [[428.3518]];\n",
      "INFO:tensorflow:linear/linear_model/fault/weights: [[0.46326652]];\n",
      "INFO:tensorflow:linear/linear_model/fault/weights/part_0/accum_name: [[7858.163]];\n",
      "INFO:tensorflow:linear/linear_model/fault/weights/part_0/linear_name: [[-410.67853]];\n",
      "INFO:tensorflow:linear/linear_model/hearing_impairments/weights: [[0.5049826]];\n",
      "INFO:tensorflow:linear/linear_model/hearing_impairments/weights/part_0/accum_name: [[820.6333]];\n",
      "INFO:tensorflow:linear/linear_model/hearing_impairments/weights/part_0/linear_name: [[-144.67084]];\n",
      "INFO:tensorflow:linear/linear_model/imagination/weights: [[-0.18955828]];\n",
      "INFO:tensorflow:linear/linear_model/imagination/weights/part_0/accum_name: [[11711.654]];\n",
      "INFO:tensorflow:linear/linear_model/imagination/weights/part_0/linear_name: [[205.15073]];\n",
      "INFO:tensorflow:linear/linear_model/language_indicator/weights: [[ 0.        ]\n",
      " [-0.07339004]\n",
      " [ 0.32575962]];\n",
      "INFO:tensorflow:linear/linear_model/language_indicator/weights/part_0/accum_name: [[1.0000000e-01]\n",
      " [7.9427920e+03]\n",
      " [2.5206873e+03]];\n",
      "INFO:tensorflow:linear/linear_model/language_indicator/weights/part_0/linear_name: [[   0.     ]\n",
      " [  65.41693]\n",
      " [-163.56233]];\n",
      "INFO:tensorflow:linear/linear_model/lazy/weights: [[0.26053262]];\n",
      "INFO:tensorflow:linear/linear_model/lazy/weights/part_0/accum_name: [[10849.247]];\n",
      "INFO:tensorflow:linear/linear_model/lazy/weights/part_0/linear_name: [[-271.38004]];\n",
      "INFO:tensorflow:linear/linear_model/like_dislike/weights: [[-0.08938003]];\n",
      "INFO:tensorflow:linear/linear_model/like_dislike/weights/part_0/accum_name: [[9378.338]];\n",
      "INFO:tensorflow:linear/linear_model/like_dislike/weights/part_0/linear_name: [[86.567245]];\n",
      "INFO:tensorflow:linear/linear_model/location_indicator/weights: [[-0.5390618 ]\n",
      " [ 0.08017788]\n",
      " [-0.03218039]];\n",
      "INFO:tensorflow:linear/linear_model/location_indicator/weights/part_0/accum_name: [[5832.5474]\n",
      " [9257.164 ]\n",
      " [2040.7761]];\n",
      "INFO:tensorflow:linear/linear_model/location_indicator/weights/part_0/linear_name: [[411.69754 ]\n",
      " [-77.15247 ]\n",
      " [ 14.547478]];\n",
      "INFO:tensorflow:linear/linear_model/music_pref_classical/weights: [[0.10756101]];\n",
      "INFO:tensorflow:linear/linear_model/music_pref_classical/weights/part_0/accum_name: [[4956.657]];\n",
      "INFO:tensorflow:linear/linear_model/music_pref_classical/weights/part_0/linear_name: [[-75.736755]];\n",
      "INFO:tensorflow:linear/linear_model/music_pref_dance/weights: [[0.30065706]];\n",
      "INFO:tensorflow:linear/linear_model/music_pref_dance/weights/part_0/accum_name: [[3294.7832]];\n",
      "INFO:tensorflow:linear/linear_model/music_pref_dance/weights/part_0/linear_name: [[-172.58775]];\n",
      "INFO:tensorflow:linear/linear_model/music_pref_folk/weights: [[0.19833086]];\n",
      "INFO:tensorflow:linear/linear_model/music_pref_folk/weights/part_0/accum_name: [[1068.3849]];\n",
      "INFO:tensorflow:linear/linear_model/music_pref_folk/weights/part_0/linear_name: [[-64.83674]];\n",
      "INFO:tensorflow:linear/linear_model/music_pref_hiphop/weights: [[0.4862016]];\n",
      "INFO:tensorflow:linear/linear_model/music_pref_hiphop/weights/part_0/accum_name: [[2250.6135]];\n",
      "INFO:tensorflow:linear/linear_model/music_pref_hiphop/weights/part_0/linear_name: [[-230.66711]];\n",
      "INFO:tensorflow:linear/linear_model/music_pref_jazz/weights: [[-0.21320826]];\n",
      "INFO:tensorflow:linear/linear_model/music_pref_jazz/weights/part_0/accum_name: [[1879.8004]];\n",
      "INFO:tensorflow:linear/linear_model/music_pref_jazz/weights/part_0/linear_name: [[92.44999]];\n",
      "INFO:tensorflow:linear/linear_model/music_pref_none/weights: [[-1.6357034]];\n",
      "INFO:tensorflow:linear/linear_model/music_pref_none/weights/part_0/accum_name: [[16.13176]];\n",
      "INFO:tensorflow:linear/linear_model/music_pref_none/weights/part_0/linear_name: [[65.706985]];\n",
      "INFO:tensorflow:linear/linear_model/music_pref_pop/weights: [[0.14532293]];\n",
      "INFO:tensorflow:linear/linear_model/music_pref_pop/weights/part_0/accum_name: [[13783.194]];\n",
      "INFO:tensorflow:linear/linear_model/music_pref_pop/weights/part_0/linear_name: [[-170.6218]];\n",
      "INFO:tensorflow:linear/linear_model/music_pref_rock/weights: [[0.6429525]];\n",
      "INFO:tensorflow:linear/linear_model/music_pref_rock/weights/part_0/accum_name: [[8757.054]];\n",
      "INFO:tensorflow:linear/linear_model/music_pref_rock/weights/part_0/linear_name: [[-601.6794]];\n",
      "INFO:tensorflow:linear/linear_model/music_pref_traditional_irish/weights: [[0.34273165]];\n",
      "INFO:tensorflow:linear/linear_model/music_pref_traditional_irish/weights/part_0/accum_name: [[990.03546]];\n",
      "INFO:tensorflow:linear/linear_model/music_pref_traditional_irish/weights/part_0/linear_name: [[-107.84993]];\n",
      "INFO:tensorflow:linear/linear_model/music_pref_world/weights: [[-0.5329725]];\n",
      "INFO:tensorflow:linear/linear_model/music_pref_world/weights/part_0/accum_name: [[1646.9277]];\n",
      "INFO:tensorflow:linear/linear_model/music_pref_world/weights/part_0/linear_name: [[216.3028]];\n",
      "INFO:tensorflow:linear/linear_model/musical_expertise/weights: [[-0.595704]];\n",
      "INFO:tensorflow:linear/linear_model/musical_expertise/weights/part_0/accum_name: [[4136.446]];\n",
      "INFO:tensorflow:linear/linear_model/musical_expertise/weights/part_0/linear_name: [[383.1383]];\n",
      "INFO:tensorflow:linear/linear_model/nationality_indicator/weights: [[-0.5498497 ]\n",
      " [-0.14578886]\n",
      " [-1.8813852 ]\n",
      " [-0.11946081]\n",
      " [-1.3831385 ]\n",
      " [ 1.9039481 ]\n",
      " [ 0.56887895]\n",
      " [-1.3755528 ]\n",
      " [-1.7241769 ]\n",
      " [ 0.        ]\n",
      " [ 1.9790896 ]];\n",
      "INFO:tensorflow:linear/linear_model/nationality_indicator/weights/part_0/accum_name: [[1.42875146e+03]\n",
      " [3.19625391e+03]\n",
      " [8.96389465e+01]\n",
      " [1.17120830e+04]\n",
      " [8.82181644e+00]\n",
      " [1.54675476e+02]\n",
      " [1.57633377e+02]\n",
      " [1.31352215e+01]\n",
      " [6.77179642e+01]\n",
      " [1.00000001e-01]\n",
      " [1.73576401e+02]];\n",
      "INFO:tensorflow:linear/linear_model/nationality_indicator/weights/part_0/linear_name: [[ 207.84674 ]\n",
      " [  82.43236 ]\n",
      " [ 178.1355  ]\n",
      " [ 129.29332 ]\n",
      " [  41.091347]\n",
      " [-236.80133 ]\n",
      " [ -71.43397 ]\n",
      " [  49.863533]\n",
      " [ 141.8941  ]\n",
      " [   0.      ]\n",
      " [-260.7519  ]];\n",
      "INFO:tensorflow:linear/linear_model/nervous/weights: [[0.40121642]];\n",
      "INFO:tensorflow:linear/linear_model/nervous/weights/part_0/accum_name: [[10786.973]];\n",
      "INFO:tensorflow:linear/linear_model/nervous/weights/part_0/linear_name: [[-416.71478]];\n",
      "INFO:tensorflow:linear/linear_model/outgoing/weights: [[-0.48374787]];\n",
      "INFO:tensorflow:linear/linear_model/outgoing/weights/part_0/accum_name: [[7361.357]];\n",
      "INFO:tensorflow:linear/linear_model/outgoing/weights/part_0/linear_name: [[415.05768]];\n",
      "INFO:tensorflow:linear/linear_model/positivity/weights: [[-0.20158066]];\n",
      "INFO:tensorflow:linear/linear_model/positivity/weights/part_0/accum_name: [[9820.153]];\n",
      "INFO:tensorflow:linear/linear_model/positivity/weights/part_0/linear_name: [[199.76974]];\n",
      "INFO:tensorflow:linear/linear_model/reserved/weights: [[0.19788168]];\n",
      "INFO:tensorflow:linear/linear_model/reserved/weights/part_0/accum_name: [[7245.7446]];\n",
      "INFO:tensorflow:linear/linear_model/reserved/weights/part_0/linear_name: [[-168.45073]];\n",
      "INFO:tensorflow:linear/linear_model/sex_indicator/weights: [[-0.20231506]\n",
      " [-0.17114584]];\n",
      "INFO:tensorflow:linear/linear_model/sex_indicator/weights/part_0/accum_name: [[ 7816.656]\n",
      " [10061.513]];\n",
      "INFO:tensorflow:linear/linear_model/sex_indicator/weights/part_0/linear_name: [[178.88048]\n",
      " [171.68141]];\n",
      "INFO:tensorflow:linear/linear_model/stress/weights: [[-0.7363228]];\n",
      "INFO:tensorflow:linear/linear_model/stress/weights/part_0/accum_name: [[6747.118]];\n",
      "INFO:tensorflow:linear/linear_model/stress/weights/part_0/linear_name: [[604.8318]];\n",
      "INFO:tensorflow:linear/linear_model/tension/weights: [[0.21617967]];\n",
      "INFO:tensorflow:linear/linear_model/tension/weights/part_0/accum_name: [[14116.985]];\n",
      "INFO:tensorflow:linear/linear_model/tension/weights/part_0/linear_name: [[-256.8637]];\n",
      "INFO:tensorflow:linear/linear_model/thorough/weights: [[0.5148004]];\n",
      "INFO:tensorflow:linear/linear_model/thorough/weights/part_0/accum_name: [[7260.5215]];\n",
      "INFO:tensorflow:linear/linear_model/thorough/weights/part_0/linear_name: [[-438.66473]];\n",
      "INFO:tensorflow:linear/linear_model/trusting/weights: [[-0.36619142]];\n",
      "INFO:tensorflow:linear/linear_model/trusting/weights/part_0/accum_name: [[10696.281]];\n",
      "INFO:tensorflow:linear/linear_model/trusting/weights/part_0/linear_name: [[378.73553]];\n",
      "/usr/local/envs/py2env/lib/python2.7/site-packages/simplejson/encoder.py:286: DeprecationWarning: Interpreting naive datetime as local 2018-07-10 23:26:06.901050. Please add timezone info to timestamps.\n",
      "  chunks = self.iterencode(o, _one_shot=True)\n"
     ]
    }
   ],
   "source": [
    "%%bash\n",
    "\n",
    "OUTPUT_DIR=${PWD}/../models/${MODEL_NAME}\n",
    "rm -rf ${OUTPUT_DIR}\n",
    "gcloud ml-engine local train \\\n",
    "   --module-name=trainer.task \\\n",
    "   --package-path=${PWD}/trainer/trainer \\\n",
    "   --job-dir=${OUTPUT_DIR} \\\n",
    "   -- \\\n",
    "   --train_data_paths=\"${PWD}/preproc_tft/train*\" \\\n",
    "   --eval_data_paths=\"${PWD}/preproc_tft/eval*\" \\\n",
    "   --train_steps=250 \\\n",
    "   --train_batch_size=${TRAIN_N} \\\n",
    "   --eval_steps=1 \\\n",
    "   --output_dir=${OUTPUT_DIR} \\\n",
    "   --metadata_path=\"${PWD}/preproc_tft/metadata/\""
   ]
  },
  {
   "cell_type": "markdown",
   "metadata": {
    "deletable": true,
    "editable": true
   },
   "source": [
    "Results for 250 batches of 303 cases (250 training epochs using a `LinearClassifier` with all basic features):\n",
    "\n",
    "- Accuracy = 0.6557377\n",
    "- Accuracy baseline = 0.6721312\n",
    "- AUC = 0.49512196\n",
    "- AUC-PR = 0.3073166\n",
    "- Average loss = 0.80649865\n",
    "- F1 score = 0.08695652\n",
    "- False negatives = 19.0\n",
    "- False positives = 2.0\n",
    "- Label/mean = 0.32786885\n",
    "- Loss = 49.19642\n",
    "- Precision = 0.33333334\n",
    "- Prediction/mean = 0.22466655\n",
    "- Recall = 0.05\n",
    "- True negatives = 39.0\n",
    "- True positives = 1.0\n",
    "\n",
    "Historical results using a gradient descent optimizer with a learning rate of 0.1 (25 epochs):\n",
    "\n",
    "- Accuracy = 0.55737704\n",
    "- Accuracy baseline = 0.6721312\n",
    "- AUC = 0.48597562\n",
    "- AUC-PR= 0.40141803\n",
    "- Average loss = 9.414736\n",
    "- F1 score = 0.4\n",
    "- False negatives = 11.0\n",
    "- False positives = 16.0\n",
    "- Label/mean = 0.32786885\n",
    "- Loss = 574.2989\n",
    "- Precision = 0.36\n",
    "- Prediction/mean = 0.41126242\n",
    "- Recall = 0.45\n",
    "- True negatives = 25.0\n",
    "- True positives = 9.0"
   ]
  },
  {
   "cell_type": "markdown",
   "metadata": {
    "deletable": true,
    "editable": true
   },
   "source": [
    "### Cloud ML Engine Training"
   ]
  },
  {
   "cell_type": "code",
   "execution_count": 34,
   "metadata": {
    "collapsed": false,
    "deletable": true,
    "editable": true,
    "hiddenCell": true
   },
   "outputs": [
    {
     "name": "stdout",
     "output_type": "stream",
     "text": [
      "gs://eim-muse/analysis/hallelujah-effect/models/basic_features_lasso us-central1 hallelujah_effect180710_232706\n",
      "jobId: hallelujah_effect180710_232706\n",
      "state: QUEUED\n"
     ]
    },
    {
     "name": "stderr",
     "output_type": "stream",
     "text": [
      "Removing gs://eim-muse/analysis/hallelujah-effect/models/basic_features_lasso/#1531263567839444...\n",
      "Removing gs://eim-muse/analysis/hallelujah-effect/models/basic_features_lasso/checkpoint#1531263571967391...\n",
      "Removing gs://eim-muse/analysis/hallelujah-effect/models/basic_features_lasso/eval/#1531263302889687...\n",
      "Removing gs://eim-muse/analysis/hallelujah-effect/models/basic_features_lasso/eval/events.out.tfevents.1531263303.cmle-training-master-fb387dcb19-0-7mpw7#1531263577430170...\n",
      "Removing gs://eim-muse/analysis/hallelujah-effect/models/basic_features_lasso/events.out.tfevents.1531263252.cmle-training-master-fb387dcb19-0-7mpw7#1531263586410345...\n",
      "Removing gs://eim-muse/analysis/hallelujah-effect/models/basic_features_lasso/export/exporter/#1531263308679779...\n",
      "Removing gs://eim-muse/analysis/hallelujah-effect/models/basic_features_lasso/export/#1531263308412069...\n",
      "Removing gs://eim-muse/analysis/hallelujah-effect/models/basic_features_lasso/export/exporter/1531263306/#1531263315505211...\n",
      "Removing gs://eim-muse/analysis/hallelujah-effect/models/basic_features_lasso/export/exporter/1531263306/saved_model.pb#1531263315837808...\n",
      "Removing gs://eim-muse/analysis/hallelujah-effect/models/basic_features_lasso/export/exporter/1531263306/variables/#1531263316191017...\n",
      "Removing gs://eim-muse/analysis/hallelujah-effect/models/basic_features_lasso/export/exporter/1531263306/variables/variables.data-00000-of-00001#1531263316527655...\n",
      "Removing gs://eim-muse/analysis/hallelujah-effect/models/basic_features_lasso/export/exporter/1531263306/variables/variables.index#1531263316853349...\n",
      "Removing gs://eim-muse/analysis/hallelujah-effect/models/basic_features_lasso/export/exporter/1531263360/#1531263368704251...\n",
      "Removing gs://eim-muse/analysis/hallelujah-effect/models/basic_features_lasso/export/exporter/1531263360/saved_model.pb#1531263368991567...\n",
      "Removing gs://eim-muse/analysis/hallelujah-effect/models/basic_features_lasso/export/exporter/1531263360/variables/#1531263369289252...\n",
      "Removing gs://eim-muse/analysis/hallelujah-effect/models/basic_features_lasso/export/exporter/1531263360/variables/variables.data-00000-of-00001#1531263369672575...\n",
      "Removing gs://eim-muse/analysis/hallelujah-effect/models/basic_features_lasso/export/exporter/1531263360/variables/variables.index#1531263370000143...\n",
      "Removing gs://eim-muse/analysis/hallelujah-effect/models/basic_features_lasso/export/exporter/1531263419/#1531263426240944...\n",
      "Removing gs://eim-muse/analysis/hallelujah-effect/models/basic_features_lasso/export/exporter/1531263419/saved_model.pb#1531263426597987...\n",
      "Removing gs://eim-muse/analysis/hallelujah-effect/models/basic_features_lasso/export/exporter/1531263419/variables/#1531263426922796...\n",
      "Removing gs://eim-muse/analysis/hallelujah-effect/models/basic_features_lasso/export/exporter/1531263419/variables/variables.data-00000-of-00001#1531263427214197...\n",
      "Removing gs://eim-muse/analysis/hallelujah-effect/models/basic_features_lasso/export/exporter/1531263419/variables/variables.index#1531263427576582...\n",
      "Removing gs://eim-muse/analysis/hallelujah-effect/models/basic_features_lasso/export/exporter/1531263478/#1531263486151750...\n",
      "Removing gs://eim-muse/analysis/hallelujah-effect/models/basic_features_lasso/export/exporter/1531263478/saved_model.pb#1531263486497748...\n",
      "Removing gs://eim-muse/analysis/hallelujah-effect/models/basic_features_lasso/export/exporter/1531263478/variables/#1531263486821161...\n",
      "Removing gs://eim-muse/analysis/hallelujah-effect/models/basic_features_lasso/export/exporter/1531263478/variables/variables.data-00000-of-00001#1531263487137089...\n",
      "Removing gs://eim-muse/analysis/hallelujah-effect/models/basic_features_lasso/export/exporter/1531263478/variables/variables.index#1531263487425512...\n",
      "Removing gs://eim-muse/analysis/hallelujah-effect/models/basic_features_lasso/export/exporter/1531263538/#1531263545700537...\n",
      "Removing gs://eim-muse/analysis/hallelujah-effect/models/basic_features_lasso/export/exporter/1531263538/saved_model.pb#1531263546006062...\n",
      "Removing gs://eim-muse/analysis/hallelujah-effect/models/basic_features_lasso/export/exporter/1531263538/variables/variables.data-00000-of-00001#1531263546602817...\n",
      "Removing gs://eim-muse/analysis/hallelujah-effect/models/basic_features_lasso/export/exporter/1531263538/variables/#1531263546333295...\n",
      "Removing gs://eim-muse/analysis/hallelujah-effect/models/basic_features_lasso/export/exporter/1531263538/variables/variables.index#1531263546919497...\n",
      "Removing gs://eim-muse/analysis/hallelujah-effect/models/basic_features_lasso/export/exporter/1531263578/#1531263584699883...\n",
      "Removing gs://eim-muse/analysis/hallelujah-effect/models/basic_features_lasso/export/exporter/1531263578/saved_model.pb#1531263584995387...\n",
      "Removing gs://eim-muse/analysis/hallelujah-effect/models/basic_features_lasso/export/exporter/1531263578/variables/#1531263585288810...\n",
      "Removing gs://eim-muse/analysis/hallelujah-effect/models/basic_features_lasso/export/exporter/1531263578/variables/variables.index#1531263585833054...\n",
      "Removing gs://eim-muse/analysis/hallelujah-effect/models/basic_features_lasso/export/exporter/1531263578/variables/variables.data-00000-of-00001#1531263585560301...\n",
      "Removing gs://eim-muse/analysis/hallelujah-effect/models/basic_features_lasso/graph.pbtxt#1531263283802784...\n",
      "Removing gs://eim-muse/analysis/hallelujah-effect/models/basic_features_lasso/model.ckpt-103186.data-00000-of-00003#1531263410040643...\n",
      "Removing gs://eim-muse/analysis/hallelujah-effect/models/basic_features_lasso/model.ckpt-103186.data-00001-of-00003#1531263409533419...\n",
      "Removing gs://eim-muse/analysis/hallelujah-effect/models/basic_features_lasso/model.ckpt-103186.data-00002-of-00003#1531263409019038...\n",
      "Removing gs://eim-muse/analysis/hallelujah-effect/models/basic_features_lasso/model.ckpt-103186.index#1531263410531917...\n",
      "Removing gs://eim-muse/analysis/hallelujah-effect/models/basic_features_lasso/model.ckpt-103186.meta#1531263412907574...\n",
      "Removing gs://eim-muse/analysis/hallelujah-effect/models/basic_features_lasso/model.ckpt-158407.index#1531263469682947...\n",
      "Removing gs://eim-muse/analysis/hallelujah-effect/models/basic_features_lasso/model.ckpt-158407.data-00002-of-00003#1531263468344781...\n",
      "Removing gs://eim-muse/analysis/hallelujah-effect/models/basic_features_lasso/model.ckpt-158407.data-00000-of-00003#1531263469253449...\n",
      "Removing gs://eim-muse/analysis/hallelujah-effect/models/basic_features_lasso/model.ckpt-158407.data-00001-of-00003#1531263468790407...\n",
      "Removing gs://eim-muse/analysis/hallelujah-effect/models/basic_features_lasso/model.ckpt-158407.meta#1531263472248392...\n",
      "Removing gs://eim-muse/analysis/hallelujah-effect/models/basic_features_lasso/model.ckpt-213331.data-00000-of-00003#1531263529328397...\n",
      "Removing gs://eim-muse/analysis/hallelujah-effect/models/basic_features_lasso/model.ckpt-213331.data-00001-of-00003#1531263528875853...\n",
      "Removing gs://eim-muse/analysis/hallelujah-effect/models/basic_features_lasso/model.ckpt-213331.data-00002-of-00003#1531263528410164...\n",
      "Removing gs://eim-muse/analysis/hallelujah-effect/models/basic_features_lasso/model.ckpt-213331.meta#1531263532248672...\n",
      "Removing gs://eim-muse/analysis/hallelujah-effect/models/basic_features_lasso/model.ckpt-213331.index#1531263529845393...\n",
      "Removing gs://eim-muse/analysis/hallelujah-effect/models/basic_features_lasso/model.ckpt-250006.data-00000-of-00003#1531263570229131...\n",
      "Removing gs://eim-muse/analysis/hallelujah-effect/models/basic_features_lasso/model.ckpt-250006.data-00001-of-00003#1531263569835832...\n",
      "Removing gs://eim-muse/analysis/hallelujah-effect/models/basic_features_lasso/model.ckpt-250006.data-00002-of-00003#1531263569421413...\n",
      "Removing gs://eim-muse/analysis/hallelujah-effect/models/basic_features_lasso/model.ckpt-250006.index#1531263570611898...\n",
      "Removing gs://eim-muse/analysis/hallelujah-effect/models/basic_features_lasso/model.ckpt-48226.data-00000-of-00003#1531263351100221...\n",
      "Removing gs://eim-muse/analysis/hallelujah-effect/models/basic_features_lasso/model.ckpt-250006.meta#1531263573147233...\n",
      "Removing gs://eim-muse/analysis/hallelujah-effect/models/basic_features_lasso/model.ckpt-48226.data-00001-of-00003#1531263350608256...\n",
      "Removing gs://eim-muse/analysis/hallelujah-effect/models/basic_features_lasso/model.ckpt-48226.data-00002-of-00003#1531263350120367...\n",
      "Removing gs://eim-muse/analysis/hallelujah-effect/models/basic_features_lasso/model.ckpt-48226.index#1531263351557938...\n",
      "Removing gs://eim-muse/analysis/hallelujah-effect/models/basic_features_lasso/model.ckpt-48226.meta#1531263354099441...\n",
      "Removing gs://eim-muse/analysis/hallelujah-effect/models/basic_features_lasso/model.ckpt-551.data-00000-of-00003#1531263294640350...\n",
      "Removing gs://eim-muse/analysis/hallelujah-effect/models/basic_features_lasso/model.ckpt-551.data-00002-of-00003#1531263294155600...\n",
      "Removing gs://eim-muse/analysis/hallelujah-effect/models/basic_features_lasso/model.ckpt-551.data-00001-of-00003#1531263293674805...\n",
      "Removing gs://eim-muse/analysis/hallelujah-effect/models/basic_features_lasso/model.ckpt-551.index#1531263295080920...\n",
      "Removing gs://eim-muse/analysis/hallelujah-effect/models/basic_features_lasso/model.ckpt-551.meta#1531263297581563...\n",
      "Removing gs://eim-muse/analysis/hallelujah-effect/models/basic_features_lasso/packages/888d9d807e09cf7b8eb6ced501df47222ea2e00a15e509748971c7fbc533bc81/trainer-0.1.tar.gz#1531263017728638...\n",
      "/ [69/69 objects] 100% Done                                                     \n",
      "Operation completed over 69 objects.                                             \n",
      "Job [hallelujah_effect180710_232706] submitted successfully.\n",
      "Your job is still active. You may view the status of your job with the command\n",
      "\n",
      "  $ gcloud ml-engine jobs describe hallelujah_effect180710_232706\n",
      "\n",
      "or continue streaming the logs with the command\n",
      "\n",
      "  $ gcloud ml-engine jobs stream-logs hallelujah_effect180710_232706\n",
      "/usr/local/envs/py2env/lib/python2.7/site-packages/simplejson/encoder.py:286: DeprecationWarning: Interpreting naive datetime as local 2018-07-10 23:27:06.551624. Please add timezone info to timestamps.\n",
      "  chunks = self.iterencode(o, _one_shot=True)\n"
     ]
    }
   ],
   "source": [
    "%%bash\n",
    "\n",
    "OUTPUT_DIR=gs://${BUCKET}/analysis/hallelujah-effect/models/${MODEL_NAME}\n",
    "JOBNAME=hallelujah_effect$(date -u +%y%m%d_%H%M%S)\n",
    "echo ${OUTPUT_DIR} ${REGION} ${JOBNAME}\n",
    "gsutil -m rm -rf ${OUTPUT_DIR}\n",
    "gcloud ml-engine jobs submit training ${JOBNAME} \\\n",
    "   --region=${REGION} \\\n",
    "   --package-path=${PWD}/trainer/trainer \\\n",
    "   --module-name=trainer.task \\\n",
    "   --job-dir=${OUTPUT_DIR} \\\n",
    "   --scale-tier=STANDARD_1 \\\n",
    "   --runtime-version=1.8 \\\n",
    "   -- \\\n",
    "   --train_data_paths=\"gs://${BUCKET}/analysis/hallelujah-effect/preproc_tft/train*\" \\\n",
    "   --eval_data_paths=\"gs://${BUCKET}/analysis/hallelujah-effect/preproc_tft/eval*\" \\\n",
    "   --output_dir=${OUTPUT_DIR} \\\n",
    "   --train_steps=250000 \\\n",
    "   --train_batch_size=${TRAIN_N} \\\n",
    "   --eval_steps=1 \\\n",
    "   --metadata_path=gs://${BUCKET}/analysis/hallelujah-effect/preproc_tft/metadata/"
   ]
  },
  {
   "cell_type": "markdown",
   "metadata": {
    "deletable": true,
    "editable": true
   },
   "source": [
    "Results for 250000 batches of 303 cases (250000 training epochs using a LinearClassifier with all basic features):\n",
    "\n",
    "- Accuracy = 0.60655737\n",
    "- Accuracy baseline = 0.6721312\n",
    "- AUC = 0.44451225\n",
    "- AUC-PR = 0.27933937\n",
    "- Average loss = 1.2761109\n",
    "- F1 score = 0.07692308\n",
    "- False negatives = 19.0\n",
    "- False positives = 5.0\n",
    "- Label/mean = 0.32786885\n",
    "- Loss = 77.842766\n",
    "- Precision = 0.16666667\n",
    "- Prediction/mean = 0.21546403\n",
    "- Recall = 0.05\n",
    "- True negatives = 36.0\n",
    "- True positives = 1.0"
   ]
  },
  {
   "cell_type": "markdown",
   "metadata": {
    "deletable": true,
    "editable": true
   },
   "source": [
    "## View Results in TensorBoard"
   ]
  },
  {
   "cell_type": "code",
   "execution_count": 25,
   "metadata": {
    "collapsed": false,
    "deletable": true,
    "editable": true
   },
   "outputs": [
    {
     "data": {
      "text/html": [
       "<p>TensorBoard was started successfully with pid 11146. Click <a href=\"/_proxy/47467/\" target=\"_blank\">here</a> to access it.</p>"
      ]
     },
     "metadata": {},
     "output_type": "display_data"
    },
    {
     "data": {
      "text/plain": [
       "11146"
      ]
     },
     "execution_count": 25,
     "metadata": {},
     "output_type": "execute_result"
    },
    {
     "name": "stderr",
     "output_type": "stream",
     "text": [
      "/usr/local/envs/py2env/lib/python2.7/site-packages/simplejson/encoder.py:286: DeprecationWarning: Interpreting naive datetime as local 2018-07-10 22:28:50.332776. Please add timezone info to timestamps.\n",
      "  chunks = self.iterencode(o, _one_shot=True)\n"
     ]
    }
   ],
   "source": [
    "from google.datalab.ml import TensorBoard\n",
    "TensorBoard().start('gs://eim-muse/analysis/hallelujah-effect/models/')"
   ]
  },
  {
   "cell_type": "code",
   "execution_count": 26,
   "metadata": {
    "collapsed": false,
    "deletable": true,
    "editable": true
   },
   "outputs": [
    {
     "data": {
      "text/html": [
       "<p>TensorBoard was started successfully with pid 11169. Click <a href=\"/_proxy/57499/\" target=\"_blank\">here</a> to access it.</p>"
      ]
     },
     "metadata": {},
     "output_type": "display_data"
    },
    {
     "data": {
      "text/plain": [
       "11169"
      ]
     },
     "execution_count": 26,
     "metadata": {},
     "output_type": "execute_result"
    },
    {
     "name": "stderr",
     "output_type": "stream",
     "text": [
      "/usr/local/envs/py2env/lib/python2.7/site-packages/simplejson/encoder.py:286: DeprecationWarning: Interpreting naive datetime as local 2018-07-10 22:29:00.681191. Please add timezone info to timestamps.\n",
      "  chunks = self.iterencode(o, _one_shot=True)\n"
     ]
    }
   ],
   "source": [
    "# TensorBoard().start('gs://eim-muse/analysis/hallelujah-effect/models/')\n",
    "TensorBoard().start('../models/')"
   ]
  },
  {
   "cell_type": "code",
   "execution_count": 36,
   "metadata": {
    "collapsed": true,
    "deletable": true,
    "editable": true
   },
   "outputs": [],
   "source": [
    "TensorBoard.stop(20336)"
   ]
  },
  {
   "cell_type": "code",
   "execution_count": null,
   "metadata": {
    "collapsed": false,
    "deletable": true,
    "editable": true
   },
   "outputs": [],
   "source": [
    "%writefile /tmp/test.json\n",
    "{\"age\":\"29.0\",\"activity\":3.0}"
   ]
  },
  {
   "cell_type": "code",
   "execution_count": null,
   "metadata": {
    "collapsed": false,
    "deletable": true,
    "editable": true
   },
   "outputs": [],
   "source": [
    "%bash\n",
    "model_dir=$(ls $PWD/hallelujah-effect_trained/export/exporter/)\n",
    "gcloud ml-engine local predict \\\n",
    "    --model-dir=./hallelujah-effect_trained/export/exporter/${model_dir} \\\n",
    "    --json-instances=/tmp/test.json"
   ]
  },
  {
   "cell_type": "markdown",
   "metadata": {
    "collapsed": true,
    "deletable": true,
    "editable": true
   },
   "source": [
    "# To Do\n",
    "\n",
    "- Double-check that Dublin ratings are inverted properly\n",
    "- LASSO to identify important features\n",
    "- Hyperparameter search\n",
    "- More plots and statistics from the dataset with which I'm working here\n",
    "- Bring in rows with missing values\n",
    "- Feature engineering (physiological signals, MIR, feature crosses, variable-width binning)\n",
    "- Include signals with good quality only in reaction range\n",
    "- Customize estimator to add additional metrics"
   ]
  },
  {
   "cell_type": "code",
   "execution_count": 22,
   "metadata": {
    "collapsed": false,
    "deletable": true,
    "editable": true
   },
   "outputs": [
    {
     "name": "stdout",
     "output_type": "stream",
     "text": [
      "gs://eim-muse/analysis/hallelujah-effect/models/basic_features\n"
     ]
    },
    {
     "name": "stderr",
     "output_type": "stream",
     "text": [
      "/usr/local/envs/py2env/lib/python2.7/site-packages/simplejson/encoder.py:286: DeprecationWarning: Interpreting naive datetime as local 2018-07-01 20:34:08.418586. Please add timezone info to timestamps.\n",
      "  chunks = self.iterencode(o, _one_shot=True)\n"
     ]
    }
   ],
   "source": [
    "print('gs://{}/analysis/hallelujah-effect/models/{}'.format(BUCKET, MODEL_NAME))"
   ]
  },
  {
   "cell_type": "code",
   "execution_count": 17,
   "metadata": {
    "collapsed": false,
    "deletable": true,
    "editable": true
   },
   "outputs": [
    {
     "name": "stdout",
     "output_type": "stream",
     "text": [
      "======================================================================\n",
      "Processing event files... (this can take a few minutes)\n",
      "======================================================================\n",
      "\n",
      "Found event files in:\n",
      "gs://eim-muse/analysis/hallelujah-effect/models/basic_features\n",
      "gs://eim-muse/analysis/hallelujah-effect/models/basic_features/eval/\n",
      "\n",
      "These tags are in gs://eim-muse/analysis/hallelujah-effect/models/basic_features:\n",
      "audio -\n",
      "histograms\n",
      "   dnn/dnn/hiddenlayer_0/activation\n",
      "   dnn/dnn/hiddenlayer_1/activation\n",
      "   dnn/dnn/hiddenlayer_2/activation\n",
      "   dnn/dnn/logits/activation\n",
      "images -\n",
      "scalars\n",
      "   average_loss\n",
      "   dnn/dnn/hiddenlayer_0/fraction_of_zero_values\n",
      "   dnn/dnn/hiddenlayer_1/fraction_of_zero_values\n",
      "   dnn/dnn/hiddenlayer_2/fraction_of_zero_values\n",
      "   dnn/dnn/logits/fraction_of_zero_values\n",
      "   loss\n",
      "   read_batch_features/file_name_queue/fraction_of_32_full\n",
      "   read_batch_features/fraction_over_9970_of_30_full\n",
      "   read_batch_features/queue/parsed_features/read_batch_features/fifo_queue/fraction_of_100_full\n",
      "tensor -\n",
      "======================================================================\n",
      "\n",
      "Event statistics for gs://eim-muse/analysis/hallelujah-effect/models/basic_features:\n",
      "audio -\n",
      "graph\n",
      "   first_step           0\n",
      "   last_step            0\n",
      "   max_step             0\n",
      "   min_step             0\n",
      "   num_steps            1\n",
      "   outoforder_steps     []\n",
      "histograms\n",
      "   first_step           1\n",
      "   last_step            1\n",
      "   max_step             1\n",
      "   min_step             1\n",
      "   num_steps            1\n",
      "   outoforder_steps     []\n",
      "images -\n",
      "scalars\n",
      "   first_step           1\n",
      "   last_step            1\n",
      "   max_step             1\n",
      "   min_step             1\n",
      "   num_steps            1\n",
      "   outoforder_steps     []\n",
      "sessionlog:checkpoint\n",
      "   first_step           1\n",
      "   last_step            8\n",
      "   max_step             8\n",
      "   min_step             1\n",
      "   num_steps            8\n",
      "   outoforder_steps     []\n",
      "sessionlog:start\n",
      "   outoforder_steps     []\n",
      "   steps                [1L]\n",
      "sessionlog:stop -\n",
      "tensor -\n",
      "======================================================================\n",
      "\n",
      "These tags are in gs://eim-muse/analysis/hallelujah-effect/models/basic_features/eval/:\n",
      "audio -\n",
      "histograms -\n",
      "images -\n",
      "scalars\n",
      "   accuracy\n",
      "   accuracy_baseline\n",
      "   auc\n",
      "   auc_precision_recall\n",
      "   average_loss\n",
      "   label/mean\n",
      "   loss\n",
      "   prediction/mean\n",
      "tensor -\n",
      "======================================================================\n",
      "\n",
      "Event statistics for gs://eim-muse/analysis/hallelujah-effect/models/basic_features/eval/:\n",
      "audio -\n",
      "graph\n",
      "   first_step           0\n",
      "   last_step            0\n",
      "   max_step             0\n",
      "   min_step             0\n",
      "   num_steps            1\n",
      "   outoforder_steps     []\n",
      "histograms -\n",
      "images -\n",
      "scalars\n",
      "   first_step           1\n",
      "   last_step            14\n",
      "   max_step             14\n",
      "   min_step             1\n",
      "   num_steps            14\n",
      "   outoforder_steps     []\n",
      "sessionlog:checkpoint -\n",
      "sessionlog:start -\n",
      "sessionlog:stop -\n",
      "tensor -\n",
      "======================================================================\n",
      "\n"
     ]
    },
    {
     "name": "stderr",
     "output_type": "stream",
     "text": [
      "/usr/local/envs/py2env/lib/python2.7/site-packages/h5py/__init__.py:36: FutureWarning: Conversion of the second argument of issubdtype from `float` to `np.floating` is deprecated. In future, it will be treated as `np.float64 == np.dtype(float).type`.\n",
      "  from ._conv import register_converters as _register_converters\n"
     ]
    }
   ],
   "source": [
    "%%bash\n",
    "\n",
    "tensorboard --inspect --logdir gs://eim-muse/analysis/hallelujah-effect/models/basic_features"
   ]
  },
  {
   "cell_type": "code",
   "execution_count": 32,
   "metadata": {
    "collapsed": false,
    "deletable": true,
    "editable": true
   },
   "outputs": [
    {
     "name": "stderr",
     "output_type": "stream",
     "text": [
      "/usr/local/envs/py2env/lib/python2.7/site-packages/simplejson/encoder.py:286: DeprecationWarning: Interpreting naive datetime as local 2018-07-04 00:58:42.778246. Please add timezone info to timestamps.\n",
      "  chunks = self.iterencode(o, _one_shot=True)\n"
     ]
    }
   ],
   "source": [
    "ml = \"\"\"\n",
    "This is\n",
    "a\n",
    "multiline string.\n",
    "\"\"\"\n",
    "\n",
    "with open('./test.txt', 'w') as file:\n",
    "  file.write(ml)"
   ]
  },
  {
   "cell_type": "code",
   "execution_count": null,
   "metadata": {
    "collapsed": true,
    "deletable": true,
    "editable": true
   },
   "outputs": [],
   "source": []
  }
 ],
 "metadata": {
  "kernelspec": {
   "display_name": "Python 2",
   "language": "python",
   "name": "python2"
  },
  "language_info": {
   "codemirror_mode": {
    "name": "ipython",
    "version": 2
   },
   "file_extension": ".py",
   "mimetype": "text/x-python",
   "name": "python",
   "nbconvert_exporter": "python",
   "pygments_lexer": "ipython2",
   "version": "2.7.15"
  }
 },
 "nbformat": 4,
 "nbformat_minor": 0
}
